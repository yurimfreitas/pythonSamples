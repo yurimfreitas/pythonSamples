{
 "cells": [
  {
   "cell_type": "code",
   "execution_count": 1,
   "metadata": {},
   "outputs": [
    {
     "name": "stdout",
     "output_type": "stream",
     "text": [
      "Start Date: 17/09/2023\n",
      "End Date: 26/09/2024\n",
      "Value Start: 306756981\n",
      "Value End: 1411834831\n",
      "Difference in Days: 375\n",
      "Total Change: 1105077850\n",
      "Average per day: 2,946,874.27\n"
     ]
    }
   ],
   "source": [
    "import pandas as pd\n",
    "import os\n",
    "from datetime import datetime\n",
    "\n",
    "# Load the CSV file\n",
    "file_name = os.path.expanduser('~/Desktop/iLayerVolume.csv')\n",
    "data = pd.read_csv(file_name)\n",
    "\n",
    "# Ensure that the 'Date' column is in datetime format\n",
    "data['Date'] = pd.to_datetime(data['Date'], format='%d/%m/%Y')\n",
    "\n",
    "# Sort the data by date, just in case it isn't sorted\n",
    "data = data.sort_values(by='Date')\n",
    "\n",
    "# Extract the first and last date\n",
    "date1 = data['Date'].iloc[0]\n",
    "date2 = data['Date'].iloc[-1]\n",
    "\n",
    "# Extract the corresponding values for the first and last dates\n",
    "value_start = data['TOTAL_RECORDS'].iloc[0]\n",
    "value_end = data['TOTAL_RECORDS'].iloc[-1]\n",
    "\n",
    "# Calculate the difference in days\n",
    "difference_days = (date2 - date1).days\n",
    "\n",
    "# Calculate the total change in value\n",
    "total_change = value_end - value_start\n",
    "\n",
    "# Calculate the average change per day\n",
    "average_per_day = total_change / difference_days\n",
    "\n",
    "print(f'Start Date: {date1.strftime(\"%d/%m/%Y\")}')\n",
    "print(f'End Date: {date2.strftime(\"%d/%m/%Y\")}')\n",
    "print(f'Value Start: {value_start}')\n",
    "print(f'Value End: {value_end}')\n",
    "print(f'Difference in Days: {difference_days}')\n",
    "print(f'Total Change: {total_change}')\n",
    "print(f'Average per day: {average_per_day:,.2f}')"
   ]
  },
  {
   "cell_type": "code",
   "execution_count": null,
   "metadata": {},
   "outputs": [],
   "source": []
  }
 ],
 "metadata": {
  "kernelspec": {
   "display_name": "Python 3",
   "language": "python",
   "name": "python3"
  },
  "language_info": {
   "codemirror_mode": {
    "name": "ipython",
    "version": 3
   },
   "file_extension": ".py",
   "mimetype": "text/x-python",
   "name": "python",
   "nbconvert_exporter": "python",
   "pygments_lexer": "ipython3",
   "version": "3.9.5"
  }
 },
 "nbformat": 4,
 "nbformat_minor": 2
}
