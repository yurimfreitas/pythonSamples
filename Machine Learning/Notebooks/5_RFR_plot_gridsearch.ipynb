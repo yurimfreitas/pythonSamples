{
  "cells": [
    {
      "cell_type": "markdown",
      "metadata": {
        "id": "0anqVfaomEbf"
      },
      "source": [
        "# Vamos aplicar o que aprendemos sobre regressões lineares"
      ]
    },
    {
      "cell_type": "markdown",
      "metadata": {
        "id": "BUpPSnKRgp99"
      },
      "source": [
        "Corra a primeira célula de código para obter o dataframe com que vamos trabalhar"
      ]
    },
    {
      "cell_type": "code",
      "execution_count": 5,
      "metadata": {
        "id": "MQugf4NCasL-"
      },
      "outputs": [],
      "source": [
        "# faça o upload do ficheiro csv associado à atividade\n",
        "\n",
        "# vamos importar a biblioteca\n",
        "import pandas as pd\n",
        "import numpy as np\n",
        "\n",
        "# vamos importar o dataframe do ficheiro .csv\n",
        "df_real_estate = (pd\n",
        "                  .read_csv(\"C:/Users/yfreitas/Documents/pythonSamples/Machine Learning/Files/Real estate.csv\")\n",
        "                  .drop([\"No\",\n",
        "                         \"X1 transaction date\",\n",
        "                         \"X4 number of convenience stores\"], axis = 1))"
      ]
    },
    {
      "cell_type": "code",
      "execution_count": 6,
      "metadata": {},
      "outputs": [
        {
          "data": {
            "text/html": [
              "<div>\n",
              "<style scoped>\n",
              "    .dataframe tbody tr th:only-of-type {\n",
              "        vertical-align: middle;\n",
              "    }\n",
              "\n",
              "    .dataframe tbody tr th {\n",
              "        vertical-align: top;\n",
              "    }\n",
              "\n",
              "    .dataframe thead th {\n",
              "        text-align: right;\n",
              "    }\n",
              "</style>\n",
              "<table border=\"1\" class=\"dataframe\">\n",
              "  <thead>\n",
              "    <tr style=\"text-align: right;\">\n",
              "      <th></th>\n",
              "      <th>X2 house age</th>\n",
              "      <th>X3 distance to the nearest MRT station</th>\n",
              "      <th>X5 latitude</th>\n",
              "      <th>X6 longitude</th>\n",
              "      <th>Y house price of unit area</th>\n",
              "    </tr>\n",
              "  </thead>\n",
              "  <tbody>\n",
              "    <tr>\n",
              "      <th>0</th>\n",
              "      <td>32.0</td>\n",
              "      <td>84.87882</td>\n",
              "      <td>24.98298</td>\n",
              "      <td>121.54024</td>\n",
              "      <td>37.9</td>\n",
              "    </tr>\n",
              "    <tr>\n",
              "      <th>1</th>\n",
              "      <td>19.5</td>\n",
              "      <td>306.59470</td>\n",
              "      <td>24.98034</td>\n",
              "      <td>121.53951</td>\n",
              "      <td>42.2</td>\n",
              "    </tr>\n",
              "    <tr>\n",
              "      <th>2</th>\n",
              "      <td>13.3</td>\n",
              "      <td>561.98450</td>\n",
              "      <td>24.98746</td>\n",
              "      <td>121.54391</td>\n",
              "      <td>47.3</td>\n",
              "    </tr>\n",
              "    <tr>\n",
              "      <th>3</th>\n",
              "      <td>13.3</td>\n",
              "      <td>561.98450</td>\n",
              "      <td>24.98746</td>\n",
              "      <td>121.54391</td>\n",
              "      <td>54.8</td>\n",
              "    </tr>\n",
              "    <tr>\n",
              "      <th>4</th>\n",
              "      <td>5.0</td>\n",
              "      <td>390.56840</td>\n",
              "      <td>24.97937</td>\n",
              "      <td>121.54245</td>\n",
              "      <td>43.1</td>\n",
              "    </tr>\n",
              "  </tbody>\n",
              "</table>\n",
              "</div>"
            ],
            "text/plain": [
              "   X2 house age  X3 distance to the nearest MRT station  X5 latitude  \\\n",
              "0          32.0                                84.87882     24.98298   \n",
              "1          19.5                               306.59470     24.98034   \n",
              "2          13.3                               561.98450     24.98746   \n",
              "3          13.3                               561.98450     24.98746   \n",
              "4           5.0                               390.56840     24.97937   \n",
              "\n",
              "   X6 longitude  Y house price of unit area  \n",
              "0     121.54024                        37.9  \n",
              "1     121.53951                        42.2  \n",
              "2     121.54391                        47.3  \n",
              "3     121.54391                        54.8  \n",
              "4     121.54245                        43.1  "
            ]
          },
          "execution_count": 6,
          "metadata": {},
          "output_type": "execute_result"
        }
      ],
      "source": [
        "# veja as 5 primeiras linhas do dataframe\n",
        "df_real_estate.head()"
      ]
    },
    {
      "cell_type": "code",
      "execution_count": 7,
      "metadata": {
        "id": "4cBiXvTFkLu7"
      },
      "outputs": [
        {
          "name": "stdout",
          "output_type": "stream",
          "text": [
            "<class 'pandas.core.frame.DataFrame'>\n",
            "RangeIndex: 414 entries, 0 to 413\n",
            "Data columns (total 5 columns):\n",
            " #   Column                                  Non-Null Count  Dtype  \n",
            "---  ------                                  --------------  -----  \n",
            " 0   X2 house age                            414 non-null    float64\n",
            " 1   X3 distance to the nearest MRT station  414 non-null    float64\n",
            " 2   X5 latitude                             414 non-null    float64\n",
            " 3   X6 longitude                            414 non-null    float64\n",
            " 4   Y house price of unit area              414 non-null    float64\n",
            "dtypes: float64(5)\n",
            "memory usage: 16.3 KB\n"
          ]
        },
        {
          "data": {
            "text/html": [
              "<div>\n",
              "<style scoped>\n",
              "    .dataframe tbody tr th:only-of-type {\n",
              "        vertical-align: middle;\n",
              "    }\n",
              "\n",
              "    .dataframe tbody tr th {\n",
              "        vertical-align: top;\n",
              "    }\n",
              "\n",
              "    .dataframe thead th {\n",
              "        text-align: right;\n",
              "    }\n",
              "</style>\n",
              "<table border=\"1\" class=\"dataframe\">\n",
              "  <thead>\n",
              "    <tr style=\"text-align: right;\">\n",
              "      <th></th>\n",
              "      <th>X2 house age</th>\n",
              "      <th>X3 distance to the nearest MRT station</th>\n",
              "      <th>X5 latitude</th>\n",
              "      <th>X6 longitude</th>\n",
              "      <th>Y house price of unit area</th>\n",
              "    </tr>\n",
              "  </thead>\n",
              "  <tbody>\n",
              "    <tr>\n",
              "      <th>count</th>\n",
              "      <td>414.000000</td>\n",
              "      <td>414.000000</td>\n",
              "      <td>414.000000</td>\n",
              "      <td>414.000000</td>\n",
              "      <td>414.000000</td>\n",
              "    </tr>\n",
              "    <tr>\n",
              "      <th>mean</th>\n",
              "      <td>17.712560</td>\n",
              "      <td>1083.885689</td>\n",
              "      <td>24.969030</td>\n",
              "      <td>121.533361</td>\n",
              "      <td>37.980193</td>\n",
              "    </tr>\n",
              "    <tr>\n",
              "      <th>std</th>\n",
              "      <td>11.392485</td>\n",
              "      <td>1262.109595</td>\n",
              "      <td>0.012410</td>\n",
              "      <td>0.015347</td>\n",
              "      <td>13.606488</td>\n",
              "    </tr>\n",
              "    <tr>\n",
              "      <th>min</th>\n",
              "      <td>0.000000</td>\n",
              "      <td>23.382840</td>\n",
              "      <td>24.932070</td>\n",
              "      <td>121.473530</td>\n",
              "      <td>7.600000</td>\n",
              "    </tr>\n",
              "    <tr>\n",
              "      <th>25%</th>\n",
              "      <td>9.025000</td>\n",
              "      <td>289.324800</td>\n",
              "      <td>24.963000</td>\n",
              "      <td>121.528085</td>\n",
              "      <td>27.700000</td>\n",
              "    </tr>\n",
              "    <tr>\n",
              "      <th>50%</th>\n",
              "      <td>16.100000</td>\n",
              "      <td>492.231300</td>\n",
              "      <td>24.971100</td>\n",
              "      <td>121.538630</td>\n",
              "      <td>38.450000</td>\n",
              "    </tr>\n",
              "    <tr>\n",
              "      <th>75%</th>\n",
              "      <td>28.150000</td>\n",
              "      <td>1454.279000</td>\n",
              "      <td>24.977455</td>\n",
              "      <td>121.543305</td>\n",
              "      <td>46.600000</td>\n",
              "    </tr>\n",
              "    <tr>\n",
              "      <th>max</th>\n",
              "      <td>43.800000</td>\n",
              "      <td>6488.021000</td>\n",
              "      <td>25.014590</td>\n",
              "      <td>121.566270</td>\n",
              "      <td>117.500000</td>\n",
              "    </tr>\n",
              "  </tbody>\n",
              "</table>\n",
              "</div>"
            ],
            "text/plain": [
              "       X2 house age  X3 distance to the nearest MRT station  X5 latitude  \\\n",
              "count    414.000000                              414.000000   414.000000   \n",
              "mean      17.712560                             1083.885689    24.969030   \n",
              "std       11.392485                             1262.109595     0.012410   \n",
              "min        0.000000                               23.382840    24.932070   \n",
              "25%        9.025000                              289.324800    24.963000   \n",
              "50%       16.100000                              492.231300    24.971100   \n",
              "75%       28.150000                             1454.279000    24.977455   \n",
              "max       43.800000                             6488.021000    25.014590   \n",
              "\n",
              "       X6 longitude  Y house price of unit area  \n",
              "count    414.000000                  414.000000  \n",
              "mean     121.533361                   37.980193  \n",
              "std        0.015347                   13.606488  \n",
              "min      121.473530                    7.600000  \n",
              "25%      121.528085                   27.700000  \n",
              "50%      121.538630                   38.450000  \n",
              "75%      121.543305                   46.600000  \n",
              "max      121.566270                  117.500000  "
            ]
          },
          "execution_count": 7,
          "metadata": {},
          "output_type": "execute_result"
        }
      ],
      "source": [
        "# veja as 5 primeiras linhas do dataframe\n",
        "df_real_estate.head()\n",
        "# veja a forma do dataframe: quantas linhas, quantas colunas?\n",
        "df_real_estate.shape\n",
        "# veja a informação sobre o dataframe\n",
        "df_real_estate.info()\n",
        "# veja a descrição das variáveis numéricas\n",
        "df_real_estate.describe()"
      ]
    },
    {
      "cell_type": "code",
      "execution_count": 8,
      "metadata": {
        "id": "rvscwWMwtZUl"
      },
      "outputs": [],
      "source": [
        "# defina a variável alvo (\"Y house price of unit area\")\n",
        "target_variable = \"Y house price of unit area\"\n",
        "\n",
        "# train_test split usando a função train_test_split\n",
        "# train_test split usando a função train_test_split\n",
        "X = df_real_estate.drop([target_variable], axis = 1)\n",
        "y = df_real_estate[target_variable]\n",
        "\n",
        "from sklearn.model_selection import train_test_split\n",
        "X_train, X_test, y_train, y_test = train_test_split(X, y,\n",
        "                                                    test_size = 0.3,\n",
        "                                                    random_state = 12)"
      ]
    },
    {
      "cell_type": "code",
      "execution_count": 9,
      "metadata": {
        "id": "fdPOJwsOKy7i"
      },
      "outputs": [
        {
          "name": "stdout",
          "output_type": "stream",
          "text": [
            "Best Parameters for Random Forest Regressor: {'max_depth': None, 'min_samples_split': 2, 'n_estimators': 50}\n",
            "Best Cross-Validation RMSE Score for Random Forest Regressor: 7.963891869628898\n",
            "\n",
            "Random Forest Regressor Evaluation\n",
            "Root Mean Squared Error: 6.642878420704766\n",
            "R2 Score: 0.7340004253254164\n"
          ]
        }
      ],
      "source": [
        "from sklearn.model_selection import GridSearchCV, KFold\n",
        "from sklearn.ensemble import RandomForestRegressor\n",
        "from sklearn.metrics import mean_squared_error, r2_score\n",
        "\n",
        "# defina o cv com 10 folds\n",
        "kf = KFold(n_splits=10)\n",
        "\n",
        "# crie o modelo de random forest\n",
        "rf = RandomForestRegressor(random_state=42)\n",
        "\n",
        "# defina a grid dos hyperparameters considerando\n",
        "# n_estimators -> [50, 100, 200, 400]\n",
        "# max_depth -> [None, 10, 20, 30]\n",
        "# min_samples_split -> [2, 5, 10]\n",
        "\n",
        "param_grid_rf = {\n",
        "    'n_estimators': [50, 100, 200, 400],\n",
        "    'max_depth': [None, 10, 20, 30],\n",
        "    'min_samples_split': [2, 5, 10]\n",
        "}\n",
        "\n",
        "# crie o dict de métricas (rmse, r2)\n",
        "scoring = {\n",
        "    'rmse': 'neg_root_mean_squared_error',\n",
        "    'r2': 'r2'\n",
        "}\n",
        "\n",
        "# aplique a grid search ao modelo de Random Forest (faça fit para o rmse)\n",
        "grid_search_rf = GridSearchCV(estimator=rf, param_grid=param_grid_rf, cv=kf, scoring=scoring, refit='rmse')\n",
        "grid_search_rf.fit(X_train, y_train)\n",
        "\n",
        "# obtenha os melhores hyperparameters\n",
        "best_params_rf = grid_search_rf.best_params_\n",
        "print(\"Best Parameters for Random Forest Regressor:\", best_params_rf)\n",
        "\n",
        "# obtenha o melhor score\n",
        "best_score_rf = grid_search_rf.best_score_\n",
        "print(\"Best Cross-Validation RMSE Score for Random Forest Regressor:\", -best_score_rf)\n",
        "\n",
        "# avalie os resultados para os diferentes k_folds\n",
        "pd.DataFrame(grid_search_rf.cv_results_)\n",
        "\n",
        "# obtenha o melhor modelo\n",
        "best_rf = grid_search_rf.best_estimator_\n",
        "\n",
        "# faça as previsões\n",
        "y_pred_rf = best_rf.predict(X_test)\n",
        "\n",
        "# avalie as métricas finais\n",
        "print(\"\\nRandom Forest Regressor Evaluation\")\n",
        "print(\"Root Mean Squared Error:\", mean_squared_error(y_test, y_pred_rf)**(1/2))\n",
        "print(\"R2 Score:\", r2_score(y_test, y_pred_rf))"
      ]
    },
    {
      "cell_type": "code",
      "execution_count": 22,
      "metadata": {},
      "outputs": [
        {
          "data": {
            "image/png": "[encoded data removed]",
            "text/plain": [
              "<Figure size 720x432 with 1 Axes>"
            ]
          },
          "metadata": {
            "needs_background": "light"
          },
          "output_type": "display_data"
        }
      ],
      "source": [
        "import matplotlib.pyplot as plt\n",
        "import seaborn as sns\n",
        "\n",
        "# Plot: Actual vs Predicted Values\n",
        "plt.figure(figsize=(10, 6))\n",
        "#plt.scatter(y_test, y_test, alpha=0.5, label='Actual Values', color='blue')\n",
        "plt.scatter(y_test, y_pred_rf, alpha=0.5, label='Predicted Values', color='red')\n",
        "plt.plot([min(y_test), max(y_test)], [min(y_test), max(y_test)], color='green', lw=2, linestyle='--')\n",
        "\n",
        "# Plot details\n",
        "plt.title('Actual vs Predicted Values for Random Forest Regressor')\n",
        "plt.xlabel('Actual Values')\n",
        "plt.ylabel('Predicted Values')\n",
        "plt.legend()\n",
        "plt.grid(True)\n",
        "plt.show()"
      ]
    },
    {
      "cell_type": "code",
      "execution_count": 27,
      "metadata": {},
      "outputs": [
        {
          "name": "stdout",
          "output_type": "stream",
          "text": [
            "\n",
            "Comparison of Actual and Predicted Values:\n",
            "   Actual  Predicted\n",
            "0    11.2  16.584000\n",
            "1    12.8  18.382533\n",
            "2    13.8  14.498000\n",
            "3    14.7  17.570000\n",
            "4    15.4  17.251867\n"
          ]
        }
      ],
      "source": [
        "\n",
        "# Create a DataFrame to compare actual and predicted values\n",
        "comparison_df = pd.DataFrame({\n",
        "    'Actual': y_test,\n",
        "    'Predicted': y_pred_rf\n",
        "})\n",
        "\n",
        "comparison_df_sorted = comparison_df.sort_values(by='Actual').reset_index(drop=True)\n",
        "\n",
        "# Display the first few rows of the comparison DataFrame\n",
        "print(\"\\nComparison of Actual and Predicted Values:\")\n",
        "print(comparison_df_sorted.head())"
      ]
    },
    {
      "cell_type": "code",
      "execution_count": 28,
      "metadata": {},
      "outputs": [
        {
          "data": {
            "text/html": [
              "<div>\n",
              "<style scoped>\n",
              "    .dataframe tbody tr th:only-of-type {\n",
              "        vertical-align: middle;\n",
              "    }\n",
              "\n",
              "    .dataframe tbody tr th {\n",
              "        vertical-align: top;\n",
              "    }\n",
              "\n",
              "    .dataframe thead th {\n",
              "        text-align: right;\n",
              "    }\n",
              "</style>\n",
              "<table border=\"1\" class=\"dataframe\">\n",
              "  <thead>\n",
              "    <tr style=\"text-align: right;\">\n",
              "      <th></th>\n",
              "      <th>Actual</th>\n",
              "      <th>Predicted</th>\n",
              "    </tr>\n",
              "  </thead>\n",
              "  <tbody>\n",
              "    <tr>\n",
              "      <th>0</th>\n",
              "      <td>11.2</td>\n",
              "      <td>16.584000</td>\n",
              "    </tr>\n",
              "    <tr>\n",
              "      <th>1</th>\n",
              "      <td>12.8</td>\n",
              "      <td>18.382533</td>\n",
              "    </tr>\n",
              "    <tr>\n",
              "      <th>2</th>\n",
              "      <td>13.8</td>\n",
              "      <td>14.498000</td>\n",
              "    </tr>\n",
              "    <tr>\n",
              "      <th>3</th>\n",
              "      <td>14.7</td>\n",
              "      <td>17.570000</td>\n",
              "    </tr>\n",
              "    <tr>\n",
              "      <th>4</th>\n",
              "      <td>15.4</td>\n",
              "      <td>17.251867</td>\n",
              "    </tr>\n",
              "    <tr>\n",
              "      <th>...</th>\n",
              "      <td>...</td>\n",
              "      <td>...</td>\n",
              "    </tr>\n",
              "    <tr>\n",
              "      <th>120</th>\n",
              "      <td>60.7</td>\n",
              "      <td>56.854000</td>\n",
              "    </tr>\n",
              "    <tr>\n",
              "      <th>121</th>\n",
              "      <td>60.7</td>\n",
              "      <td>49.480000</td>\n",
              "    </tr>\n",
              "    <tr>\n",
              "      <th>122</th>\n",
              "      <td>63.9</td>\n",
              "      <td>60.482700</td>\n",
              "    </tr>\n",
              "    <tr>\n",
              "      <th>123</th>\n",
              "      <td>70.1</td>\n",
              "      <td>68.304456</td>\n",
              "    </tr>\n",
              "    <tr>\n",
              "      <th>124</th>\n",
              "      <td>78.3</td>\n",
              "      <td>46.226000</td>\n",
              "    </tr>\n",
              "  </tbody>\n",
              "</table>\n",
              "<p>125 rows × 2 columns</p>\n",
              "</div>"
            ],
            "text/plain": [
              "     Actual  Predicted\n",
              "0      11.2  16.584000\n",
              "1      12.8  18.382533\n",
              "2      13.8  14.498000\n",
              "3      14.7  17.570000\n",
              "4      15.4  17.251867\n",
              "..      ...        ...\n",
              "120    60.7  56.854000\n",
              "121    60.7  49.480000\n",
              "122    63.9  60.482700\n",
              "123    70.1  68.304456\n",
              "124    78.3  46.226000\n",
              "\n",
              "[125 rows x 2 columns]"
            ]
          },
          "execution_count": 28,
          "metadata": {},
          "output_type": "execute_result"
        }
      ],
      "source": [
        "comparison_df_sorted"
      ]
    }
  ],
  "metadata": {
    "colab": {
      "provenance": []
    },
    "kernelspec": {
      "display_name": "Python 3",
      "name": "python3"
    },
    "language_info": {
      "codemirror_mode": {
        "name": "ipython",
        "version": 3
      },
      "file_extension": ".py",
      "mimetype": "text/x-python",
      "name": "python",
      "nbconvert_exporter": "python",
      "pygments_lexer": "ipython3",
      "version": "3.9.5"
    }
  },
  "nbformat": 4,
  "nbformat_minor": 0
}
