{
  "nbformat": 4,
  "nbformat_minor": 0,
  "metadata": {
    "colab": {
      "provenance": []
    },
    "kernelspec": {
      "name": "python3",
      "display_name": "Python 3"
    },
    "language_info": {
      "name": "python"
    }
  },
  "cells": [
    {
      "cell_type": "markdown",
      "source": [
        "#Introdução ao pandas"
      ],
      "metadata": {
        "id": "Z2Ur5SspUJlO"
      }
    },
    {
      "cell_type": "markdown",
      "source": [
        "\n",
        "---\n",
        "\n",
        "\n",
        "[documentação](https://pandas.pydata.org/docs/index.html) <br>\n",
        "dataset: [fonte](https://www.kaggle.com/datasets/aungpyaeap/supermarket-sales?select=supermarket_sales+-+Sheet1.csv)\n",
        "\n",
        "---\n",
        "\n"
      ],
      "metadata": {
        "id": "U_oZuYBpzBwy"
      }
    },
    {
      "cell_type": "markdown",
      "source": [
        ">[Introdução ao pandas](#scrollTo=Z2Ur5SspUJlO)\n",
        "\n",
        ">>[1. Vamos começar por importar a biblioteca e o dataset](#scrollTo=ZxiRWYNLgXq-)\n",
        "\n",
        ">>[2. Vamos explorar o dataframe](#scrollTo=Ydxw6tPwf-TF)\n",
        "\n",
        ">>[3. Vamos sumarizar os dados numéricos](#scrollTo=_o03LNFpg4li)\n",
        "\n",
        ">>[4. Contar](#scrollTo=lUulh_Fl0T9B)\n",
        "\n",
        ">>[5. Agrupar](#scrollTo=w1de_2_1pcdj)\n",
        "\n",
        ">>[6. Tabelas Pivot](#scrollTo=cfZmo-fOrQ6R)\n",
        "\n"
      ],
      "metadata": {
        "colab_type": "toc",
        "id": "75aJlH4t3tgm"
      }
    },
    {
      "cell_type": "markdown",
      "source": [
        "## 1.&nbsp;Vamos começar por importar a biblioteca e o dataset"
      ],
      "metadata": {
        "id": "ZxiRWYNLgXq-"
      }
    },
    {
      "cell_type": "code",
      "source": [
        "# importar a biblioteca\n",
        "import pandas as pd\n",
        "\n",
        "# importar o dataset que está em csv\n",
        "df_sales = pd.read_csv('supermarket_sales.csv')\n",
        "print(df_sales)"
      ],
      "metadata": {
        "id": "pod4QBVAUU1G"
      },
      "execution_count": null,
      "outputs": []
    },
    {
      "cell_type": "markdown",
      "source": [
        "## 2.&nbsp;Vamos explorar o dataframe"
      ],
      "metadata": {
        "id": "Ydxw6tPwf-TF"
      }
    },
    {
      "cell_type": "code",
      "source": [
        "# vamos ver as primeiras 5 linhas do dataframe\n",
        "df_sales.head()\n",
        "\n",
        "# vamos ver a \"ficha\" do dataframe\n",
        "df_sales.info() #method\n",
        "\n",
        "# vamos ver a forma do dataframe\n",
        "df_sales.shape #atribute\n",
        "\n",
        "# podemos sempre ver estatísticas gerais\n",
        "df_sales.describe()"
      ],
      "metadata": {
        "id": "qp6mUr9Ef8vm"
      },
      "execution_count": null,
      "outputs": []
    },
    {
      "cell_type": "markdown",
      "source": [
        "## 3.&nbsp;Vamos sumarizar os dados numéricos"
      ],
      "metadata": {
        "id": "_o03LNFpg4li"
      }
    },
    {
      "cell_type": "code",
      "source": [
        "# calcular a média do Total\n",
        "df_sales[\"Total\"].mean() # .min(); .max(); .std()\n",
        "\n",
        "# calcular a soma do Total\n",
        "df_sales[\"Total\"].sum()\n",
        "\n",
        "# calcular a transação mais recente\n",
        "df_sales[\"Date\"].max()\n",
        "\n",
        "# para criar estatísticas personalizadas -> .agg()\n",
        "# vamos definir uma função\n",
        "def my_median(column):\n",
        "  return column.median()\n",
        "\n",
        "# vamos aplicar a nossa função a uma coluna\n",
        "df_sales[\"Quantity\"].agg(my_median)\n",
        "\n",
        "# posso aplicar a mais do que uma coluna\n",
        "df_sales[[\"Quantity\", \"Total\"]].agg(my_median)\n",
        "\n",
        "# posso aplicar várias funções à mesma coluna\n",
        "def my_mean(column):\n",
        "  return column.mean()\n",
        "df_sales[[\"Quantity\", \"Total\"]].agg([my_median, my_mean])"
      ],
      "metadata": {
        "id": "uyJpF9JHmKa1"
      },
      "execution_count": null,
      "outputs": []
    },
    {
      "cell_type": "markdown",
      "source": [
        "## 4.&nbsp;Contar"
      ],
      "metadata": {
        "id": "lUulh_Fl0T9B"
      }
    },
    {
      "cell_type": "code",
      "source": [
        "# vamos eliminar duplicados considerando apenas a coluna branch\n",
        "df_sales_unique = df_sales.drop_duplicates(subset = [\"Branch\"])\n",
        "\n",
        "# vamos contar quantas linhas temos por \"Branch\"\n",
        "df_sales[\"Branch\"].value_counts()\n",
        "\n",
        "# vamos contar quantas linhas temos por invoice\n",
        "df_sales[\"Invoice ID\"].value_counts()\n",
        "\n",
        "# vamos ordenar as contagens de linha de produtos\n",
        "df_sales[\"Product line\"].value_counts(sort = True) # descendente por default\n",
        "\n",
        "# podemos ver este valor por frequencia relativa\n",
        "df_sales[\"Product line\"].value_counts(normalize = True)"
      ],
      "metadata": {
        "id": "d3s73GWL0Qwm"
      },
      "execution_count": null,
      "outputs": []
    },
    {
      "cell_type": "markdown",
      "source": [
        "## 5.&nbsp;Agrupar"
      ],
      "metadata": {
        "id": "w1de_2_1pcdj"
      }
    },
    {
      "cell_type": "code",
      "source": [
        "# vamos ver a média de vendas por cidade\n",
        "df_sales.groupby(\"City\")[\"Total\"].mean()\n",
        "\n",
        "# vamos ver o máximo de quantidade vendida por linha de produto\n",
        "df_sales.groupby(\"Product line\")[\"Quantity\"].sum()\n",
        "\n",
        "# podemos ter mais do que uma função e variável\n",
        "df_sales.groupby(\"Product line\")[[\"Quantity\", \"Total\"]].agg([\"min\", \"max\"])\n",
        "\n",
        "# podemos ter mais do que um elemento em cada uma das opções\n",
        "df_sales.groupby([\"City\", \"Product line\"])[[\"Quantity\", \"Total\"]].agg([\"min\", \"max\"])"
      ],
      "metadata": {
        "id": "-C1B9eZORTEZ"
      },
      "execution_count": null,
      "outputs": []
    },
    {
      "cell_type": "markdown",
      "source": [
        "## 6.&nbsp;Tabelas Pivot"
      ],
      "metadata": {
        "id": "cfZmo-fOrQ6R"
      }
    },
    {
      "cell_type": "code",
      "source": [
        "# vamos ver como fazer uma tabela pivô\n",
        "df_sales.pivot_table(values = \"Total\", index = \"City\")\n",
        "\n",
        "# agora queremos a soma e não a média\n",
        "df_sales.pivot_table(values = \"Total\", index = \"City\", aggfunc = \"sum\")\n",
        "\n",
        "# podemos usar funções do numpy\n",
        "import numpy as np\n",
        "df_sales.pivot_table(values = \"Total\", index = \"City\", aggfunc = np.sum)\n",
        "\n",
        "# podemos ter mais do que uma função\n",
        "df_sales.pivot_table(values = \"Total\", index = \"City\", aggfunc = [np.sum, np.mean])\n",
        "\n",
        "# vamos agora ver a informação, mas por cidade e linha de produto\n",
        "df_sales.pivot_table(values = \"Total\",\n",
        "                     index = \"City\",\n",
        "                     columns = \"Product line\",\n",
        "                     aggfunc = [np.sum])\n",
        "\n",
        "# vamos agora adicionar os totais\n",
        "df_sales.pivot_table(values = \"Total\",\n",
        "                     index = \"City\",\n",
        "                     columns = \"Product line\",\n",
        "                     aggfunc = [np.sum],\n",
        "                     margins = True)"
      ],
      "metadata": {
        "id": "nfFc2GDJrQik"
      },
      "execution_count": null,
      "outputs": []
    }
  ]
}