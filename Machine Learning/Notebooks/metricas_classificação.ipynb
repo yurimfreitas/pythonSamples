{
  "cells": [
    {
      "cell_type": "markdown",
      "metadata": {
        "id": "QoBv84MIUa-h"
      },
      "source": [
        "# Métricas de modelos de classificação"
      ]
    },
    {
      "cell_type": "markdown",
      "metadata": {
        "id": "DqMh54wYK1UQ"
      },
      "source": [
        "\n",
        "---\n",
        "\n",
        "\n",
        "[documentação](https://scikit-learn.org/stable/index.html) <br>\n",
        "dataset: [fonte](https://www.kaggle.com/datasets/dinhanhx/studentgradepassorfailprediction)\n",
        "\n",
        "---"
      ]
    },
    {
      "cell_type": "markdown",
      "metadata": {
        "colab_type": "toc",
        "id": "paQmYZQhKvOP"
      },
      "source": [
        ">[Métricas de modelos de classificação](#scrollTo=QoBv84MIUa-h)\n",
        "\n",
        ">>[1. Vamos começar por importar os packages e o dataset](#scrollTo=HO6jdFDmldaU)\n",
        "\n",
        ">>[2. Vamos explorar o dataset](#scrollTo=2S0UrVDEf8E-)\n",
        "\n",
        ">>[3. Vamos dividir em treino e teste com a ajuda do scikit-learn](#scrollTo=VlyljBsUgD8D)\n",
        "\n",
        ">>[4. Vamos aplicar o modelo KNN](#scrollTo=rBbqqMS5hXRe)\n",
        "\n",
        ">>[5. Vamos aplicar o modelo de regressão logística](#scrollTo=Z-_Mfy5StNhM)\n",
        "\n",
        ">>[6. Vamos obter as métricas de classificação](#scrollTo=q1AhrqhK6Aea)\n",
        "\n",
        ">>>[6.1. matriz de confusão](#scrollTo=bt4CbYHc7h3U)\n",
        "\n",
        ">>>[6.2. curva ROC e métrica AUC](#scrollTo=kRans4wO7fTR)\n",
        "\n"
      ]
    },
    {
      "cell_type": "markdown",
      "metadata": {
        "id": "HO6jdFDmldaU"
      },
      "source": [
        "## 1.&nbsp;Vamos começar por importar os packages e o dataset"
      ]
    },
    {
      "cell_type": "code",
      "execution_count": 3,
      "metadata": {
        "id": "-Mm7LY69WFMV"
      },
      "outputs": [],
      "source": [
        "# packages gerais\n",
        "import pandas as pd\n",
        "import numpy as np\n",
        "\n",
        "# dataset\n",
        "df_students = pd.read_csv(\"C:/Users/yfreitas/Documents/pythonSamples/Machine Learning/Files/student-mat-pass-or-fail.csv\")"
      ]
    },
    {
      "cell_type": "markdown",
      "metadata": {
        "id": "2S0UrVDEf8E-"
      },
      "source": [
        "## 2.&nbsp;Vamos explorar o dataset"
      ]
    },
    {
      "cell_type": "code",
      "execution_count": 4,
      "metadata": {
        "id": "Sn3aUBF9p0_2"
      },
      "outputs": [
        {
          "data": {
            "text/html": [
              "<div>\n",
              "<style scoped>\n",
              "    .dataframe tbody tr th:only-of-type {\n",
              "        vertical-align: middle;\n",
              "    }\n",
              "\n",
              "    .dataframe tbody tr th {\n",
              "        vertical-align: top;\n",
              "    }\n",
              "\n",
              "    .dataframe thead th {\n",
              "        text-align: right;\n",
              "    }\n",
              "</style>\n",
              "<table border=\"1\" class=\"dataframe\">\n",
              "  <thead>\n",
              "    <tr style=\"text-align: right;\">\n",
              "      <th></th>\n",
              "      <th>school</th>\n",
              "      <th>sex</th>\n",
              "      <th>age</th>\n",
              "      <th>address</th>\n",
              "      <th>famsize</th>\n",
              "      <th>Pstatus</th>\n",
              "      <th>Medu</th>\n",
              "      <th>Fedu</th>\n",
              "      <th>traveltime</th>\n",
              "      <th>studytime</th>\n",
              "      <th>...</th>\n",
              "      <th>freetime</th>\n",
              "      <th>goout</th>\n",
              "      <th>Dalc</th>\n",
              "      <th>Walc</th>\n",
              "      <th>health</th>\n",
              "      <th>absences</th>\n",
              "      <th>G1</th>\n",
              "      <th>G2</th>\n",
              "      <th>G3</th>\n",
              "      <th>pass</th>\n",
              "    </tr>\n",
              "  </thead>\n",
              "  <tbody>\n",
              "    <tr>\n",
              "      <th>0</th>\n",
              "      <td>1</td>\n",
              "      <td>1</td>\n",
              "      <td>18</td>\n",
              "      <td>1</td>\n",
              "      <td>0</td>\n",
              "      <td>0</td>\n",
              "      <td>4</td>\n",
              "      <td>4</td>\n",
              "      <td>2</td>\n",
              "      <td>2</td>\n",
              "      <td>...</td>\n",
              "      <td>3</td>\n",
              "      <td>4</td>\n",
              "      <td>1</td>\n",
              "      <td>1</td>\n",
              "      <td>3</td>\n",
              "      <td>6</td>\n",
              "      <td>5</td>\n",
              "      <td>6</td>\n",
              "      <td>6</td>\n",
              "      <td>0</td>\n",
              "    </tr>\n",
              "    <tr>\n",
              "      <th>1</th>\n",
              "      <td>1</td>\n",
              "      <td>1</td>\n",
              "      <td>17</td>\n",
              "      <td>1</td>\n",
              "      <td>0</td>\n",
              "      <td>1</td>\n",
              "      <td>1</td>\n",
              "      <td>1</td>\n",
              "      <td>1</td>\n",
              "      <td>2</td>\n",
              "      <td>...</td>\n",
              "      <td>3</td>\n",
              "      <td>3</td>\n",
              "      <td>1</td>\n",
              "      <td>1</td>\n",
              "      <td>3</td>\n",
              "      <td>4</td>\n",
              "      <td>5</td>\n",
              "      <td>5</td>\n",
              "      <td>6</td>\n",
              "      <td>0</td>\n",
              "    </tr>\n",
              "    <tr>\n",
              "      <th>2</th>\n",
              "      <td>1</td>\n",
              "      <td>1</td>\n",
              "      <td>15</td>\n",
              "      <td>1</td>\n",
              "      <td>1</td>\n",
              "      <td>1</td>\n",
              "      <td>1</td>\n",
              "      <td>1</td>\n",
              "      <td>1</td>\n",
              "      <td>2</td>\n",
              "      <td>...</td>\n",
              "      <td>3</td>\n",
              "      <td>2</td>\n",
              "      <td>2</td>\n",
              "      <td>3</td>\n",
              "      <td>3</td>\n",
              "      <td>10</td>\n",
              "      <td>7</td>\n",
              "      <td>8</td>\n",
              "      <td>10</td>\n",
              "      <td>1</td>\n",
              "    </tr>\n",
              "    <tr>\n",
              "      <th>3</th>\n",
              "      <td>1</td>\n",
              "      <td>1</td>\n",
              "      <td>15</td>\n",
              "      <td>1</td>\n",
              "      <td>0</td>\n",
              "      <td>1</td>\n",
              "      <td>4</td>\n",
              "      <td>2</td>\n",
              "      <td>1</td>\n",
              "      <td>3</td>\n",
              "      <td>...</td>\n",
              "      <td>2</td>\n",
              "      <td>2</td>\n",
              "      <td>1</td>\n",
              "      <td>1</td>\n",
              "      <td>5</td>\n",
              "      <td>2</td>\n",
              "      <td>15</td>\n",
              "      <td>14</td>\n",
              "      <td>15</td>\n",
              "      <td>1</td>\n",
              "    </tr>\n",
              "    <tr>\n",
              "      <th>4</th>\n",
              "      <td>1</td>\n",
              "      <td>1</td>\n",
              "      <td>16</td>\n",
              "      <td>1</td>\n",
              "      <td>0</td>\n",
              "      <td>1</td>\n",
              "      <td>3</td>\n",
              "      <td>3</td>\n",
              "      <td>1</td>\n",
              "      <td>2</td>\n",
              "      <td>...</td>\n",
              "      <td>3</td>\n",
              "      <td>2</td>\n",
              "      <td>1</td>\n",
              "      <td>2</td>\n",
              "      <td>5</td>\n",
              "      <td>4</td>\n",
              "      <td>6</td>\n",
              "      <td>10</td>\n",
              "      <td>10</td>\n",
              "      <td>1</td>\n",
              "    </tr>\n",
              "  </tbody>\n",
              "</table>\n",
              "<p>5 rows × 30 columns</p>\n",
              "</div>"
            ],
            "text/plain": [
              "   school  sex  age  address  famsize  Pstatus  Medu  Fedu  traveltime  \\\n",
              "0       1    1   18        1        0        0     4     4           2   \n",
              "1       1    1   17        1        0        1     1     1           1   \n",
              "2       1    1   15        1        1        1     1     1           1   \n",
              "3       1    1   15        1        0        1     4     2           1   \n",
              "4       1    1   16        1        0        1     3     3           1   \n",
              "\n",
              "   studytime  ...  freetime  goout  Dalc  Walc  health  absences  G1  G2  G3  \\\n",
              "0          2  ...         3      4     1     1       3         6   5   6   6   \n",
              "1          2  ...         3      3     1     1       3         4   5   5   6   \n",
              "2          2  ...         3      2     2     3       3        10   7   8  10   \n",
              "3          3  ...         2      2     1     1       5         2  15  14  15   \n",
              "4          2  ...         3      2     1     2       5         4   6  10  10   \n",
              "\n",
              "   pass  \n",
              "0     0  \n",
              "1     0  \n",
              "2     1  \n",
              "3     1  \n",
              "4     1  \n",
              "\n",
              "[5 rows x 30 columns]"
            ]
          },
          "execution_count": 4,
          "metadata": {},
          "output_type": "execute_result"
        }
      ],
      "source": [
        "# exploração inicial\n",
        "df_students.head()\n",
        "# df_students.info()\n",
        "# df_students.shape\n",
        "# df_students.describe()"
      ]
    },
    {
      "cell_type": "markdown",
      "metadata": {
        "id": "VlyljBsUgD8D"
      },
      "source": [
        "## 3.&nbsp;Vamos dividir em treino e teste com a ajuda do scikit-learn"
      ]
    },
    {
      "cell_type": "code",
      "execution_count": 5,
      "metadata": {
        "id": "CwLZP2Zbp-Hz"
      },
      "outputs": [],
      "source": [
        "# definimos a variável alvo\n",
        "target_variable = \"pass\"\n",
        "\n",
        "# train_test split usando a função train_test_split\n",
        "X = df_students.drop([\"G3\", target_variable], axis = 1)\n",
        "y = df_students[target_variable]\n",
        "y.sum()/len(y)\n",
        "\n",
        "from sklearn.model_selection import train_test_split\n",
        "X_train, X_test, y_train, y_test = train_test_split(X, y,\n",
        "                                                    test_size = 0.3,\n",
        "                                                    random_state = 12,\n",
        "                                                    stratify = y)\n"
      ]
    },
    {
      "cell_type": "markdown",
      "metadata": {
        "id": "rBbqqMS5hXRe"
      },
      "source": [
        "## 4.&nbsp;Vamos aplicar o modelo KNN"
      ]
    },
    {
      "cell_type": "code",
      "execution_count": 6,
      "metadata": {
        "id": "FPasARnkp-AE"
      },
      "outputs": [
        {
          "data": {
            "text/plain": [
              "0.8991596638655462"
            ]
          },
          "execution_count": 6,
          "metadata": {},
          "output_type": "execute_result"
        }
      ],
      "source": [
        "# importamos o modelo\n",
        "from sklearn.neighbors import KNeighborsClassifier\n",
        "knn = KNeighborsClassifier(n_neighbors = 7)\n",
        "knn.fit(X_train, y_train)\n",
        "y_pred_knn = knn.predict(X_test)\n",
        "\n",
        "# para verificar a accuracy do modelo aplicamos a função .score\n",
        "knn.score(X_test, y_test)"
      ]
    },
    {
      "cell_type": "markdown",
      "metadata": {
        "id": "Z-_Mfy5StNhM"
      },
      "source": [
        "## 5.&nbsp;Vamos aplicar o modelo de regressão logística"
      ]
    },
    {
      "cell_type": "code",
      "execution_count": 7,
      "metadata": {
        "id": "yrL2tgxztiP_"
      },
      "outputs": [
        {
          "data": {
            "text/plain": [
              "0.9663865546218487"
            ]
          },
          "execution_count": 7,
          "metadata": {},
          "output_type": "execute_result"
        }
      ],
      "source": [
        "# importamos o modelo\n",
        "from sklearn.linear_model import LogisticRegression\n",
        "log_reg = LogisticRegression( max_iter = 250)\n",
        "log_reg.fit(X_train, y_train)\n",
        "y_pred_log_reg = log_reg.predict(X_test)\n",
        "\n",
        "# para verificar a accuracy do modelo aplicamos a função .score\n",
        "log_reg.score(X_test, y_test)"
      ]
    },
    {
      "cell_type": "markdown",
      "metadata": {
        "id": "q1AhrqhK6Aea"
      },
      "source": [
        "## 6.&nbsp;Vamos obter as métricas de classificação\n",
        "\n"
      ]
    },
    {
      "cell_type": "markdown",
      "metadata": {
        "id": "bt4CbYHc7h3U"
      },
      "source": [
        "### 6.1.&nbsp;matriz de confusão\n",
        "\n",
        "Para relembrar: <br>\n",
        "[TP FN <br>\n",
        " FP TN]\n",
        "\n",
        "Accuracy -> (𝑇𝑃+𝑇𝑁)/(𝑃+𝑁)<br>\n",
        "Precision -> 𝑇𝑃/(𝑇𝑃+𝐹𝑃)<br>\n",
        "Recall, Hit rate ou TPR -> 𝑇𝑃/(𝑇𝑃+𝐹𝑁)<br>\n",
        "Fall-out ou FPR -> 𝐹𝑃/(𝐹𝑃+𝑇𝑁)<br>"
      ]
    },
    {
      "cell_type": "code",
      "execution_count": 8,
      "metadata": {
        "id": "TvPyWvB25-Ie"
      },
      "outputs": [
        {
          "name": "stdout",
          "output_type": "stream",
          "text": [
            "[[32  7]\n",
            " [ 5 75]]\n",
            "              precision    recall  f1-score   support\n",
            "\n",
            "     chumbou       0.86      0.82      0.84        39\n",
            "      passou       0.91      0.94      0.93        80\n",
            "\n",
            "    accuracy                           0.90       119\n",
            "   macro avg       0.89      0.88      0.88       119\n",
            "weighted avg       0.90      0.90      0.90       119\n",
            "\n",
            "[[36  3]\n",
            " [ 1 79]]\n",
            "              precision    recall  f1-score   support\n",
            "\n",
            "     chumbou       0.97      0.92      0.95        39\n",
            "      passou       0.96      0.99      0.98        80\n",
            "\n",
            "    accuracy                           0.97       119\n",
            "   macro avg       0.97      0.96      0.96       119\n",
            "weighted avg       0.97      0.97      0.97       119\n",
            "\n"
          ]
        }
      ],
      "source": [
        "# importamos os módulos que precisamos\n",
        "from sklearn.metrics import classification_report\n",
        "from sklearn.metrics import confusion_matrix\n",
        "\n",
        "# vamos ver as métricas para o KNN\n",
        "rótulos = ['chumbou', 'passou']\n",
        "print(confusion_matrix(y_test, y_pred_knn))\n",
        "print(classification_report(y_test, y_pred_knn, target_names = rótulos))\n",
        "# vamos ver as métricas para a regressão logística\n",
        "print(confusion_matrix(y_test, y_pred_log_reg))\n",
        "print(classification_report(y_test, y_pred_log_reg, target_names = rótulos))"
      ]
    },
    {
      "cell_type": "code",
      "execution_count": 9,
      "metadata": {
        "id": "nUf4ScYFA8uN"
      },
      "outputs": [
        {
          "name": "stdout",
          "output_type": "stream",
          "text": [
            "80 39\n"
          ]
        }
      ],
      "source": [
        "# vamos analisar melhor os resultados\n",
        "n_positives = y_test.sum()\n",
        "n_negatives = len(y_test) - y_test.sum()\n",
        "print(n_positives, n_negatives)"
      ]
    },
    {
      "cell_type": "markdown",
      "metadata": {
        "id": "kRans4wO7fTR"
      },
      "source": [
        "### 6.2.&nbsp;curva ROC e métrica AUC"
      ]
    },
    {
      "cell_type": "code",
      "execution_count": 10,
      "metadata": {
        "id": "X6Xot6Jx72eM"
      },
      "outputs": [
        {
          "data": {
            "image/png": "[encoded data removed]",
            "text/plain": [
              "<Figure size 432x288 with 1 Axes>"
            ]
          },
          "metadata": {
            "needs_background": "light"
          },
          "output_type": "display_data"
        },
        {
          "data": {
            "image/png": "[encoded data removed]",
            "text/plain": [
              "<Figure size 432x288 with 1 Axes>"
            ]
          },
          "metadata": {
            "needs_background": "light"
          },
          "output_type": "display_data"
        }
      ],
      "source": [
        "# importamos a curva roc\n",
        "from sklearn.metrics import roc_curve\n",
        "\n",
        "# Calculamos as probabilidades previstas (.predict_proba)\n",
        "log_reg.predict_proba(X_test)\n",
        "y_pred_log_reg_prob = log_reg.predict_proba(X_test)[:,1] # escolhemos a segunda coluna\n",
        "\n",
        "# Vamos gerar a curva ROC\n",
        "FPR, TPR, thresholds = roc_curve(y_test, y_pred_log_reg_prob)\n",
        "\n",
        "# Vamos visualizar a curva\n",
        "import matplotlib.pyplot as plt\n",
        "plt.plot([0, 1], [0, 1], 'k--')\n",
        "plt.plot(FPR, TPR)\n",
        "plt.xlabel('FPR')\n",
        "plt.ylabel('TPR')\n",
        "plt.title('Curva ROC')\n",
        "plt.show()\n",
        "\n",
        "# vamos visualisar a influência do threshold\n",
        "plt.xlim(0,1.1)\n",
        "plt.ylim(0,1.1)\n",
        "plt.plot(thresholds[1:], TPR[1:])\n",
        "plt.plot(thresholds[1:], FPR[1:])\n",
        "plt.plot([0.5, 0.5], [0, 1.1], 'k--')\n",
        "plt.xlabel('threshold')\n",
        "plt.ylabel('rates')\n",
        "plt.legend(['TPR', 'FPR'])\n",
        "plt.title('Curva ROC')\n",
        "plt.show()"
      ]
    },
    {
      "cell_type": "code",
      "execution_count": 13,
      "metadata": {},
      "outputs": [
        {
          "data": {
            "text/plain": [
              "array([0, 0, 1, 1, 0, 0, 1, 1, 1, 1, 0, 1, 1, 1, 1, 1, 1, 0, 0, 1, 0, 1,\n",
              "       1, 1, 0, 0, 1, 0, 1, 0, 1, 0, 1, 1, 0, 1, 0, 1, 1, 1, 0, 1, 1, 1,\n",
              "       1, 0, 1, 1, 0, 1, 1, 1, 1, 1, 0, 0, 1, 1, 0, 1, 1, 0, 0, 1, 0, 1,\n",
              "       1, 0, 1, 0, 1, 1, 1, 1, 1, 1, 1, 0, 0, 1, 1, 1, 1, 1, 1, 1, 0, 0,\n",
              "       1, 1, 0, 1, 1, 1, 0, 1, 1, 0, 1, 1, 1, 1, 0, 1, 1, 1, 1, 1, 0, 1,\n",
              "       1, 1, 1, 0, 1, 1, 1, 0, 1], dtype=int64)"
            ]
          },
          "execution_count": 13,
          "metadata": {},
          "output_type": "execute_result"
        }
      ],
      "source": [
        "log_reg.predict(X_test)"
      ]
    },
    {
      "cell_type": "code",
      "execution_count": 15,
      "metadata": {},
      "outputs": [
        {
          "data": {
            "text/plain": [
              "array([[6.65505760e-01, 3.34494240e-01],\n",
              "       [9.25986416e-01, 7.40135841e-02],\n",
              "       [7.69610921e-02, 9.23038908e-01],\n",
              "       [2.02139281e-02, 9.79786072e-01],\n",
              "       [7.43072222e-01, 2.56927778e-01],\n",
              "       [9.99999975e-01, 2.45647887e-08],\n",
              "       [1.69949204e-03, 9.98300508e-01],\n",
              "       [4.60566667e-02, 9.53943333e-01],\n",
              "       [2.50084910e-05, 9.99974992e-01],\n",
              "       [1.66799630e-01, 8.33200370e-01],\n",
              "       [5.78575901e-01, 4.21424099e-01],\n",
              "       [3.76963638e-01, 6.23036362e-01],\n",
              "       [9.15527633e-03, 9.90844724e-01],\n",
              "       [1.99094476e-01, 8.00905524e-01],\n",
              "       [2.89310838e-02, 9.71068916e-01],\n",
              "       [7.43314691e-07, 9.99999257e-01],\n",
              "       [6.93537928e-03, 9.93064621e-01],\n",
              "       [9.99977729e-01, 2.22705434e-05],\n",
              "       [9.99999842e-01, 1.57814331e-07],\n",
              "       [8.02303757e-04, 9.99197696e-01],\n",
              "       [9.99967183e-01, 3.28171786e-05],\n",
              "       [4.75214589e-01, 5.24785411e-01],\n",
              "       [1.99158528e-01, 8.00841472e-01],\n",
              "       [4.15731261e-01, 5.84268739e-01],\n",
              "       [9.99679983e-01, 3.20016611e-04],\n",
              "       [9.84967308e-01, 1.50326918e-02],\n",
              "       [3.30086856e-08, 9.99999967e-01],\n",
              "       [8.73907744e-01, 1.26092256e-01],\n",
              "       [6.35873822e-03, 9.93641262e-01],\n",
              "       [8.62384737e-01, 1.37615263e-01],\n",
              "       [4.29709985e-04, 9.99570290e-01],\n",
              "       [9.62009591e-01, 3.79904087e-02],\n",
              "       [1.12193238e-07, 9.99999888e-01],\n",
              "       [5.89766137e-05, 9.99941023e-01],\n",
              "       [9.78113445e-01, 2.18865548e-02],\n",
              "       [1.17821685e-08, 9.99999988e-01],\n",
              "       [9.91206734e-01, 8.79326637e-03],\n",
              "       [2.27143147e-05, 9.99977286e-01],\n",
              "       [6.39654427e-02, 9.36034557e-01],\n",
              "       [8.65108902e-05, 9.99913489e-01],\n",
              "       [9.95238252e-01, 4.76174799e-03],\n",
              "       [4.78349726e-03, 9.95216503e-01],\n",
              "       [1.33391126e-03, 9.98666089e-01],\n",
              "       [1.25382466e-02, 9.87461753e-01],\n",
              "       [2.32171627e-01, 7.67828373e-01],\n",
              "       [9.99717074e-01, 2.82926103e-04],\n",
              "       [6.21804263e-04, 9.99378196e-01],\n",
              "       [3.62313065e-04, 9.99637687e-01],\n",
              "       [9.99999669e-01, 3.30947869e-07],\n",
              "       [4.31019642e-09, 9.99999996e-01],\n",
              "       [1.09286198e-01, 8.90713802e-01],\n",
              "       [2.37746428e-06, 9.99997623e-01],\n",
              "       [9.51681564e-03, 9.90483184e-01],\n",
              "       [1.02774903e-03, 9.98972251e-01],\n",
              "       [9.99998820e-01, 1.17974325e-06],\n",
              "       [9.99254150e-01, 7.45850328e-04],\n",
              "       [3.98257764e-02, 9.60174224e-01],\n",
              "       [2.32752436e-06, 9.99997672e-01],\n",
              "       [9.98982377e-01, 1.01762298e-03],\n",
              "       [8.08492370e-07, 9.99999192e-01],\n",
              "       [8.74304788e-02, 9.12569521e-01],\n",
              "       [9.99999995e-01, 5.16098537e-09],\n",
              "       [5.56664448e-01, 4.43335552e-01],\n",
              "       [7.16801025e-03, 9.92831990e-01],\n",
              "       [9.19190800e-01, 8.08092003e-02],\n",
              "       [8.23177498e-04, 9.99176823e-01],\n",
              "       [3.02844591e-02, 9.69715541e-01],\n",
              "       [8.17010784e-01, 1.82989216e-01],\n",
              "       [9.73044720e-02, 9.02695528e-01],\n",
              "       [9.99988083e-01, 1.19165694e-05],\n",
              "       [2.60424549e-05, 9.99973958e-01],\n",
              "       [5.33816714e-05, 9.99946618e-01],\n",
              "       [6.74961508e-04, 9.99325038e-01],\n",
              "       [8.51262543e-03, 9.91487375e-01],\n",
              "       [2.74479062e-02, 9.72552094e-01],\n",
              "       [1.20274693e-01, 8.79725307e-01],\n",
              "       [2.56192203e-06, 9.99997438e-01],\n",
              "       [6.22644665e-01, 3.77355335e-01],\n",
              "       [9.99968886e-01, 3.11137158e-05],\n",
              "       [4.33518754e-09, 9.99999996e-01],\n",
              "       [2.28277551e-01, 7.71722449e-01],\n",
              "       [1.75393400e-01, 8.24606600e-01],\n",
              "       [1.08165061e-02, 9.89183494e-01],\n",
              "       [1.22493064e-06, 9.99998775e-01],\n",
              "       [3.56062753e-01, 6.43937247e-01],\n",
              "       [7.17482828e-06, 9.99992825e-01],\n",
              "       [7.81978262e-01, 2.18021738e-01],\n",
              "       [7.08338393e-01, 2.91661607e-01],\n",
              "       [2.24389607e-06, 9.99997756e-01],\n",
              "       [9.02921860e-02, 9.09707814e-01],\n",
              "       [6.26975498e-01, 3.73024502e-01],\n",
              "       [1.09034740e-02, 9.89096526e-01],\n",
              "       [4.25446439e-01, 5.74553561e-01],\n",
              "       [1.49335633e-09, 9.99999999e-01],\n",
              "       [9.37792605e-01, 6.22073952e-02],\n",
              "       [4.40062418e-03, 9.95599376e-01],\n",
              "       [1.13915770e-04, 9.99886084e-01],\n",
              "       [9.91091632e-01, 8.90836828e-03],\n",
              "       [9.84478274e-04, 9.99015522e-01],\n",
              "       [1.21225741e-02, 9.87877426e-01],\n",
              "       [2.24307407e-05, 9.99977569e-01],\n",
              "       [4.14179215e-05, 9.99958582e-01],\n",
              "       [9.53500965e-01, 4.64990346e-02],\n",
              "       [4.13767432e-03, 9.95862326e-01],\n",
              "       [4.15407758e-01, 5.84592242e-01],\n",
              "       [2.02403821e-01, 7.97596179e-01],\n",
              "       [1.08381626e-03, 9.98916184e-01],\n",
              "       [2.52079610e-02, 9.74792039e-01],\n",
              "       [9.99999935e-01, 6.49786223e-08],\n",
              "       [7.48171520e-04, 9.99251828e-01],\n",
              "       [1.68273262e-07, 9.99999832e-01],\n",
              "       [3.72531402e-05, 9.99962747e-01],\n",
              "       [3.97217718e-01, 6.02782282e-01],\n",
              "       [6.66460162e-01, 3.33539838e-01],\n",
              "       [1.64085436e-05, 9.99983591e-01],\n",
              "       [6.24457751e-02, 9.37554225e-01],\n",
              "       [2.33745429e-02, 9.76625457e-01],\n",
              "       [9.94445824e-01, 5.55417609e-03],\n",
              "       [9.35043429e-02, 9.06495657e-01]])"
            ]
          },
          "execution_count": 15,
          "metadata": {},
          "output_type": "execute_result"
        }
      ],
      "source": [
        "log_reg.predict_proba(X_test)"
      ]
    },
    {
      "cell_type": "code",
      "execution_count": 11,
      "metadata": {
        "id": "22Msh71bFiC1"
      },
      "outputs": [
        {
          "name": "stdout",
          "output_type": "stream",
          "text": [
            "AUC: 0.9951923076923077\n"
          ]
        }
      ],
      "source": [
        "# vamos calcular a AUC\n",
        "from sklearn.metrics import roc_auc_score\n",
        "print(\"AUC: {}\".format(roc_auc_score(y_test, y_pred_log_reg_prob)))"
      ]
    }
  ],
  "metadata": {
    "colab": {
      "provenance": []
    },
    "kernelspec": {
      "display_name": "Python 3",
      "name": "python3"
    },
    "language_info": {
      "codemirror_mode": {
        "name": "ipython",
        "version": 3
      },
      "file_extension": ".py",
      "mimetype": "text/x-python",
      "name": "python",
      "nbconvert_exporter": "python",
      "pygments_lexer": "ipython3",
      "version": "3.9.5"
    }
  },
  "nbformat": 4,
  "nbformat_minor": 0
}
