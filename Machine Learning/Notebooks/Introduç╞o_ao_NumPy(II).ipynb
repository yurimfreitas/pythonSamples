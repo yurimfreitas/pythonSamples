{
  "cells": [
    {
      "cell_type": "markdown",
      "metadata": {
        "id": "Z2Ur5SspUJlO"
      },
      "source": [
        "#Introdução ao NumPy (parte 2)"
      ]
    },
    {
      "cell_type": "markdown",
      "metadata": {
        "id": "U_oZuYBpzBwy"
      },
      "source": [
        "\n",
        "---\n",
        "\n",
        "\n",
        "[documentação](https://numpy.org/doc/stable/index.html)\n",
        "\n",
        "\n",
        "\n",
        "---\n",
        "\n"
      ]
    },
    {
      "cell_type": "markdown",
      "metadata": {
        "colab_type": "toc",
        "id": "75aJlH4t3tgm"
      },
      "source": [
        ">[Introdução ao NumPy](#scrollTo=Z2Ur5SspUJlO)\n",
        "\n",
        ">>[1. Vamos começar por importar a biblioteca](#scrollTo=ZxiRWYNLgXq-)\n",
        "\n",
        ">>[2. Vamos indexar](#scrollTo=_o03LNFpg4li)\n",
        "\n",
        ">>[3. Vamos agora retirar fatias de informação](#scrollTo=P7m2ZOp7aSw-)\n",
        "\n",
        ">>[4. Vamos ordenar arrays](#scrollTo=Kl0iWS26TuOG)\n",
        "\n",
        ">>[5. Vamos filtrar arrays](#scrollTo=2y0F4sUjeOf5)\n",
        "\n",
        ">>[6. Concatenar](#scrollTo=1YbQb5yumXAg)\n",
        "\n",
        ">>[7. Delete](#scrollTo=MwhNwbyfi0B4)\n",
        "\n"
      ]
    },
    {
      "cell_type": "markdown",
      "metadata": {
        "id": "ZxiRWYNLgXq-"
      },
      "source": [
        "## 1.&nbsp;Vamos começar por importar a biblioteca"
      ]
    },
    {
      "cell_type": "code",
      "execution_count": 2,
      "metadata": {
        "id": "pod4QBVAUU1G"
      },
      "outputs": [],
      "source": [
        "import numpy as np"
      ]
    },
    {
      "cell_type": "markdown",
      "metadata": {
        "id": "_o03LNFpg4li"
      },
      "source": [
        "## 2.&nbsp;Vamos indexar"
      ]
    },
    {
      "cell_type": "code",
      "execution_count": 3,
      "metadata": {
        "id": "G62A3vlVQuPp"
      },
      "outputs": [
        {
          "data": {
            "text/plain": [
              "array([[ 0,  1,  2,  3],\n",
              "       [ 4,  5,  6,  7],\n",
              "       [ 8,  9, 10, 11],\n",
              "       [12, 13, 14, 15],\n",
              "       [16, 17, 18, 19],\n",
              "       [20, 21, 22, 23]])"
            ]
          },
          "execution_count": 3,
          "metadata": {},
          "output_type": "execute_result"
        }
      ],
      "source": [
        "# indexar um array 1D\n",
        "array_1D = np.array([0, 1, 2, 3, 4, 5, 6, 7])\n",
        "array_1D\n",
        "array_1D[0]\n",
        "\n",
        "#indexar um array 2D\n",
        "array_2D = np.arange(24).reshape(6,4)\n",
        "array_2D\n",
        "array_2D[1, 1]\n",
        "array_2D[0]\n",
        "array_2D[:,0]\n",
        "array_2D"
      ]
    },
    {
      "cell_type": "markdown",
      "metadata": {
        "id": "P7m2ZOp7aSw-"
      },
      "source": [
        "## 3.&nbsp;Vamos agora retirar fatias de informação <br>\n",
        "(slice)"
      ]
    },
    {
      "cell_type": "code",
      "execution_count": 12,
      "metadata": {
        "id": "krkN0_LiRvTa"
      },
      "outputs": [
        {
          "data": {
            "text/plain": [
              "array([[ 0,  3],\n",
              "       [20, 23]])"
            ]
          },
          "execution_count": 12,
          "metadata": {},
          "output_type": "execute_result"
        }
      ],
      "source": [
        "# queremos os primeiros 3 números do array 1D\n",
        "array_1D[0:3]\n",
        "\n",
        "# queremos apenas os números ímpares do array 1D\n",
        "array_1D[1::2]\n",
        "\n",
        "# queremos apenas o quadrado interno do array 2D\n",
        "array_2D[1:5, 1:3]\n",
        "\n",
        "# queremos os quatro cantos do array 2D\n",
        "array_2D[0::5,0::3]"
      ]
    },
    {
      "cell_type": "code",
      "execution_count": 15,
      "metadata": {},
      "outputs": [
        {
          "data": {
            "text/plain": [
              "array([[ 5,  6],\n",
              "       [ 9, 10],\n",
              "       [13, 14],\n",
              "       [17, 18]])"
            ]
          },
          "execution_count": 15,
          "metadata": {},
          "output_type": "execute_result"
        }
      ],
      "source": [
        "array_2D[1:5, 1:3]"
      ]
    },
    {
      "cell_type": "markdown",
      "metadata": {
        "id": "Kl0iWS26TuOG"
      },
      "source": [
        "##4.&nbsp;Vamos ordenar arrays"
      ]
    },
    {
      "cell_type": "code",
      "execution_count": 16,
      "metadata": {
        "id": "zgWVxO7ZTtgN"
      },
      "outputs": [
        {
          "name": "stdout",
          "output_type": "stream",
          "text": [
            "[1 1 2 3 3 4 5 5 7 8]\n"
          ]
        }
      ],
      "source": [
        "# queremos ordenar um array 1D\n",
        "new_array_1D = [1, 4, 2, 5, 7, 3, 5, 1, 8, 3]\n",
        "new_array_1D_sort = np.sort(new_array_1D)\n",
        "print(new_array_1D_sort)"
      ]
    },
    {
      "cell_type": "code",
      "execution_count": 17,
      "metadata": {
        "id": "Jyq5TJ5WUMNR"
      },
      "outputs": [
        {
          "data": {
            "text/plain": [
              "array([[1, 4, 1],\n",
              "       [6, 5, 2]])"
            ]
          },
          "execution_count": 17,
          "metadata": {},
          "output_type": "execute_result"
        }
      ],
      "source": [
        "# queremos agora fazer o mesmo para um array 2D\n",
        "new_array_2D = [[1, 4, 2], [6, 5, 1]]\n",
        "new_array_2D_sort = np.sort(new_array_2D)\n",
        "new_array_2D_sort\n",
        "new_array_2D_sort = np.sort(new_array_2D, axis = 0)\n",
        "new_array_2D_sort"
      ]
    },
    {
      "cell_type": "markdown",
      "metadata": {
        "id": "2y0F4sUjeOf5"
      },
      "source": [
        "##5.&nbsp;Vamos filtrar arrays\n",
        "*   Masks -> entrega o valor\n",
        "*   np.where() -> entrega o índice\n",
        "\n"
      ]
    },
    {
      "cell_type": "code",
      "execution_count": 21,
      "metadata": {
        "id": "YMiIsKIgXgpo"
      },
      "outputs": [
        {
          "data": {
            "text/plain": [
              "array([[1, 0],\n",
              "       [2, 0],\n",
              "       [3, 0],\n",
              "       [0, 0],\n",
              "       [0, 0]])"
            ]
          },
          "execution_count": 21,
          "metadata": {},
          "output_type": "execute_result"
        }
      ],
      "source": [
        "# criar um array 1D\n",
        "odd_numbers = np.arange(1,10,2)\n",
        "odd_numbers\n",
        "\n",
        "# vamos criar uma máscara de booleanos\n",
        "odd_numbers >= 5\n",
        "mask = odd_numbers >= 5\n",
        "\n",
        "#filtramos o array 1D de acordo com a condição\n",
        "odd_numbers[mask]\n",
        "\n",
        "# situação com array 2D\n",
        "# exemplo de um array com o número das salas e a sua dimensão\n",
        "room_ids_and_sizes = np.array([[1, 12],\n",
        "                               [2, 15],\n",
        "                               [3, 17],\n",
        "                               [4, 11],\n",
        "                               [5, 25]])\n",
        "\n",
        "# quais as salas com pelo menos 15 m2?\n",
        "# vamos criar uma máscara de booleanos\n",
        "room_ids_and_sizes [:,1] >= 15\n",
        "mask_id = room_ids_and_sizes [:,1] >= 15\n",
        "\n",
        "# filtramos o array 2D de acordo com a condição\n",
        "room_ids_and_sizes[mask_id,0]\n",
        "\n",
        "# usemos agora o np.where\n",
        "np.where(room_ids_and_sizes[:,1] >= 15)\n",
        "\n",
        "# podemos sempre querer as posições das linhas e das colunas\n",
        "np.where(room_ids_and_sizes >3)\n",
        "rows_id, cols_id = np.where(room_ids_and_sizes >3)\n",
        "rows_id\n",
        "cols_id\n",
        "\n",
        "# podemos usar np.where para substituir dados no array\n",
        "np.where(room_ids_and_sizes > 3, 0, room_ids_and_sizes)"
      ]
    },
    {
      "cell_type": "markdown",
      "metadata": {
        "id": "1YbQb5yumXAg"
      },
      "source": [
        "##6.&nbsp;Concatenar"
      ]
    },
    {
      "cell_type": "code",
      "execution_count": 36,
      "metadata": {
        "id": "cJdf3TommbIK"
      },
      "outputs": [
        {
          "data": {
            "text/plain": [
              "array([[ 1.        , 12.        ,  6.        ,  2.        ],\n",
              "       [ 2.        , 15.        ,  5.        ,  3.        ],\n",
              "       [ 3.        , 17.        ,  4.        ,  4.25      ],\n",
              "       [ 4.        , 11.        ,  3.        ,  3.66666667],\n",
              "       [ 5.        , 25.        ,  5.        ,  5.        ]])"
            ]
          },
          "execution_count": 36,
          "metadata": {},
          "output_type": "execute_result"
        }
      ],
      "source": [
        "# temos mais duas salas para juntar ao array\n",
        "new_ids_and_sizes = np.array([[6, 30],[7, 12]])\n",
        "new_ids_and_sizes\n",
        "\n",
        "# vamos então concatenar\n",
        "np.concatenate((room_ids_and_sizes,new_ids_and_sizes)) # axis = 0\n",
        "\n",
        "# mas e se agora tivermos os valores para o comprimento e a largura das salas?\n",
        "new_room_characteristics = np.array([[6, 2],[5, 3], [4, 17/4], [3, 11/3], [5, 5]])\n",
        "new_room_characteristics\n",
        "\n",
        "#vamos concatenar\n",
        "np.concatenate((room_ids_and_sizes, new_room_characteristics))\n",
        "\n",
        "# temos de definir o eixo (por default, np.concatenate considera axis = 0)\n",
        "np.concatenate((room_ids_and_sizes, new_room_characteristics), axis = 1)"
      ]
    },
    {
      "cell_type": "code",
      "execution_count": 41,
      "metadata": {},
      "outputs": [
        {
          "data": {
            "text/plain": [
              "array([[ 1.        , 12.        ,  6.        ,  2.        ],\n",
              "       [ 2.        , 15.        ,  5.        ,  3.        ],\n",
              "       [ 3.        , 17.        ,  4.        ,  4.25      ],\n",
              "       [ 4.        , 11.        ,  3.        ,  3.66666667],\n",
              "       [ 5.        , 25.        ,  5.        ,  5.        ]])"
            ]
          },
          "execution_count": 41,
          "metadata": {},
          "output_type": "execute_result"
        }
      ],
      "source": [
        "#vamos concatenar\n",
        "np.concatenate((room_ids_and_sizes, new_room_characteristics), axis = 1)"
      ]
    },
    {
      "cell_type": "markdown",
      "metadata": {
        "id": "MwhNwbyfi0B4"
      },
      "source": [
        "##7.&nbsp;Delete"
      ]
    },
    {
      "cell_type": "code",
      "execution_count": 42,
      "metadata": {
        "id": "cBnObwMcp1g9"
      },
      "outputs": [
        {
          "data": {
            "text/plain": [
              "array([ 1.        , 12.        ,  6.        ,  2.        , 15.        ,\n",
              "        5.        ,  3.        ,  3.        , 17.        ,  4.        ,\n",
              "        4.25      ,  4.        , 11.        ,  3.        ,  3.66666667,\n",
              "        5.        , 25.        ,  5.        ,  5.        ])"
            ]
          },
          "execution_count": 42,
          "metadata": {},
          "output_type": "execute_result"
        }
      ],
      "source": [
        "# vamos adicionar as dimensões às salas\n",
        "room_ids_sizes_characteristics = np.concatenate((room_ids_and_sizes,\n",
        "                                                 new_room_characteristics),\n",
        "                                                axis = 1)\n",
        "room_ids_sizes_characteristics\n",
        "\n",
        "# vamos remover a coluna da largura (a área e o comprimento são suficientes)\n",
        "np.delete(room_ids_sizes_characteristics, 3, axis = 1)\n",
        "\n",
        "# vamos remover a sala de 11 m2\n",
        "np.delete(room_ids_sizes_characteristics, 3, axis = 0)\n",
        "\n",
        "# e se faltar o axis?\n",
        "np.delete(room_ids_sizes_characteristics, 3)\n",
        "# remove o elemento na quarta posição, considerando o array flatten!\n",
        "\n"
      ]
    }
  ],
  "metadata": {
    "colab": {
      "provenance": [],
      "toc_visible": true
    },
    "kernelspec": {
      "display_name": "Python 3",
      "name": "python3"
    },
    "language_info": {
      "codemirror_mode": {
        "name": "ipython",
        "version": 3
      },
      "file_extension": ".py",
      "mimetype": "text/x-python",
      "name": "python",
      "nbconvert_exporter": "python",
      "pygments_lexer": "ipython3",
      "version": "3.9.5"
    }
  },
  "nbformat": 4,
  "nbformat_minor": 0
}
