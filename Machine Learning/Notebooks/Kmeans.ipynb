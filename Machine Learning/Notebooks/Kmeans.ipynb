{
  "cells": [
    {
      "cell_type": "markdown",
      "metadata": {
        "id": "QoBv84MIUa-h"
      },
      "source": [
        "# Modelo de KMeans"
      ]
    },
    {
      "cell_type": "markdown",
      "metadata": {
        "id": "DqMh54wYK1UQ"
      },
      "source": [
        "\n",
        "---\n",
        "\n",
        "\n",
        "[documentação](https://scikit-learn.org/stable/index.html) <br>\n",
        "---"
      ]
    },
    {
      "cell_type": "markdown",
      "metadata": {
        "colab_type": "toc",
        "id": "paQmYZQhKvOP"
      },
      "source": [
        ">[Modelo de KMeans](#scrollTo=QoBv84MIUa-h)\n",
        "\n",
        ">>[documentação](#scrollTo=DqMh54wYK1UQ)\n",
        "\n",
        ">>[1. Vamos começar por importar os packages e o dataset](#scrollTo=HO6jdFDmldaU)\n",
        "\n",
        ">>[2. Vamos explorar o dataset](#scrollTo=2S0UrVDEf8E-)\n",
        "\n",
        ">>[3. Vamos aplicar o modelo de Kmeans](#scrollTo=BKzodGb8R7t9)\n",
        "\n",
        ">>[4. Vamos calcular as inércias e aplicar o elbow method](#scrollTo=fUSKDMyr_7R_)\n",
        "\n",
        ">>[5. Vamos avaliar o Silhouette score](#scrollTo=sHAG-N7uAsFi)\n",
        "\n"
      ]
    },
    {
      "cell_type": "markdown",
      "metadata": {
        "id": "HO6jdFDmldaU"
      },
      "source": [
        "## 1.&nbsp;Vamos começar por importar os packages e o dataset"
      ]
    },
    {
      "cell_type": "code",
      "execution_count": 1,
      "metadata": {
        "id": "-Mm7LY69WFMV"
      },
      "outputs": [],
      "source": [
        "# packages gerais\n",
        "import pandas as pd\n",
        "import numpy as np\n",
        "from sklearn.datasets import load_wine\n",
        "\n",
        "# vamos importar o dataset das iris\n",
        "wine = load_wine()\n",
        "X = pd.DataFrame(wine.data, columns = wine.feature_names)"
      ]
    },
    {
      "cell_type": "markdown",
      "metadata": {
        "id": "2S0UrVDEf8E-"
      },
      "source": [
        "## 2.&nbsp;Vamos explorar o dataset"
      ]
    },
    {
      "cell_type": "code",
      "execution_count": 2,
      "metadata": {
        "id": "Sn3aUBF9p0_2"
      },
      "outputs": [
        {
          "data": {
            "text/html": [
              "<div>\n",
              "<style scoped>\n",
              "    .dataframe tbody tr th:only-of-type {\n",
              "        vertical-align: middle;\n",
              "    }\n",
              "\n",
              "    .dataframe tbody tr th {\n",
              "        vertical-align: top;\n",
              "    }\n",
              "\n",
              "    .dataframe thead th {\n",
              "        text-align: right;\n",
              "    }\n",
              "</style>\n",
              "<table border=\"1\" class=\"dataframe\">\n",
              "  <thead>\n",
              "    <tr style=\"text-align: right;\">\n",
              "      <th></th>\n",
              "      <th>alcohol</th>\n",
              "      <th>malic_acid</th>\n",
              "      <th>ash</th>\n",
              "      <th>alcalinity_of_ash</th>\n",
              "      <th>magnesium</th>\n",
              "      <th>total_phenols</th>\n",
              "      <th>flavanoids</th>\n",
              "      <th>nonflavanoid_phenols</th>\n",
              "      <th>proanthocyanins</th>\n",
              "      <th>color_intensity</th>\n",
              "      <th>hue</th>\n",
              "      <th>od280/od315_of_diluted_wines</th>\n",
              "      <th>proline</th>\n",
              "    </tr>\n",
              "  </thead>\n",
              "  <tbody>\n",
              "    <tr>\n",
              "      <th>0</th>\n",
              "      <td>14.23</td>\n",
              "      <td>1.71</td>\n",
              "      <td>2.43</td>\n",
              "      <td>15.6</td>\n",
              "      <td>127.0</td>\n",
              "      <td>2.80</td>\n",
              "      <td>3.06</td>\n",
              "      <td>0.28</td>\n",
              "      <td>2.29</td>\n",
              "      <td>5.64</td>\n",
              "      <td>1.04</td>\n",
              "      <td>3.92</td>\n",
              "      <td>1065.0</td>\n",
              "    </tr>\n",
              "    <tr>\n",
              "      <th>1</th>\n",
              "      <td>13.20</td>\n",
              "      <td>1.78</td>\n",
              "      <td>2.14</td>\n",
              "      <td>11.2</td>\n",
              "      <td>100.0</td>\n",
              "      <td>2.65</td>\n",
              "      <td>2.76</td>\n",
              "      <td>0.26</td>\n",
              "      <td>1.28</td>\n",
              "      <td>4.38</td>\n",
              "      <td>1.05</td>\n",
              "      <td>3.40</td>\n",
              "      <td>1050.0</td>\n",
              "    </tr>\n",
              "    <tr>\n",
              "      <th>2</th>\n",
              "      <td>13.16</td>\n",
              "      <td>2.36</td>\n",
              "      <td>2.67</td>\n",
              "      <td>18.6</td>\n",
              "      <td>101.0</td>\n",
              "      <td>2.80</td>\n",
              "      <td>3.24</td>\n",
              "      <td>0.30</td>\n",
              "      <td>2.81</td>\n",
              "      <td>5.68</td>\n",
              "      <td>1.03</td>\n",
              "      <td>3.17</td>\n",
              "      <td>1185.0</td>\n",
              "    </tr>\n",
              "    <tr>\n",
              "      <th>3</th>\n",
              "      <td>14.37</td>\n",
              "      <td>1.95</td>\n",
              "      <td>2.50</td>\n",
              "      <td>16.8</td>\n",
              "      <td>113.0</td>\n",
              "      <td>3.85</td>\n",
              "      <td>3.49</td>\n",
              "      <td>0.24</td>\n",
              "      <td>2.18</td>\n",
              "      <td>7.80</td>\n",
              "      <td>0.86</td>\n",
              "      <td>3.45</td>\n",
              "      <td>1480.0</td>\n",
              "    </tr>\n",
              "    <tr>\n",
              "      <th>4</th>\n",
              "      <td>13.24</td>\n",
              "      <td>2.59</td>\n",
              "      <td>2.87</td>\n",
              "      <td>21.0</td>\n",
              "      <td>118.0</td>\n",
              "      <td>2.80</td>\n",
              "      <td>2.69</td>\n",
              "      <td>0.39</td>\n",
              "      <td>1.82</td>\n",
              "      <td>4.32</td>\n",
              "      <td>1.04</td>\n",
              "      <td>2.93</td>\n",
              "      <td>735.0</td>\n",
              "    </tr>\n",
              "  </tbody>\n",
              "</table>\n",
              "</div>"
            ],
            "text/plain": [
              "   alcohol  malic_acid   ash  alcalinity_of_ash  magnesium  total_phenols  \\\n",
              "0    14.23        1.71  2.43               15.6      127.0           2.80   \n",
              "1    13.20        1.78  2.14               11.2      100.0           2.65   \n",
              "2    13.16        2.36  2.67               18.6      101.0           2.80   \n",
              "3    14.37        1.95  2.50               16.8      113.0           3.85   \n",
              "4    13.24        2.59  2.87               21.0      118.0           2.80   \n",
              "\n",
              "   flavanoids  nonflavanoid_phenols  proanthocyanins  color_intensity   hue  \\\n",
              "0        3.06                  0.28             2.29             5.64  1.04   \n",
              "1        2.76                  0.26             1.28             4.38  1.05   \n",
              "2        3.24                  0.30             2.81             5.68  1.03   \n",
              "3        3.49                  0.24             2.18             7.80  0.86   \n",
              "4        2.69                  0.39             1.82             4.32  1.04   \n",
              "\n",
              "   od280/od315_of_diluted_wines  proline  \n",
              "0                          3.92   1065.0  \n",
              "1                          3.40   1050.0  \n",
              "2                          3.17   1185.0  \n",
              "3                          3.45   1480.0  \n",
              "4                          2.93    735.0  "
            ]
          },
          "execution_count": 2,
          "metadata": {},
          "output_type": "execute_result"
        }
      ],
      "source": [
        "# exploração inicial\n",
        "X.head()\n",
        "# X.info()\n",
        "# X.shape\n",
        "# X.describe()"
      ]
    },
    {
      "cell_type": "markdown",
      "metadata": {
        "id": "BKzodGb8R7t9"
      },
      "source": [
        "## 3.&nbsp;Vamos aplicar o modelo de Kmeans"
      ]
    },
    {
      "cell_type": "code",
      "execution_count": 3,
      "metadata": {
        "id": "Vp1PJ_Nn_n0-"
      },
      "outputs": [],
      "source": [
        "# importamos o modelo\n",
        "from sklearn.cluster import KMeans\n",
        "kmeans = KMeans(n_clusters = 5, n_init = 10, random_state=42)\n",
        "kmeans.fit(X)\n",
        "labels = kmeans.labels_"
      ]
    },
    {
      "cell_type": "code",
      "execution_count": 4,
      "metadata": {},
      "outputs": [
        {
          "data": {
            "text/plain": [
              "array([4, 4, 4, 0, 2, 0, 0, 0, 4, 4, 0, 0, 0, 4, 0, 0, 0, 4, 0, 2, 2, 2,\n",
              "       4, 4, 2, 2, 4, 0, 2, 4, 0, 0, 4, 0, 4, 2, 2, 4, 4, 2, 2, 4, 4, 1,\n",
              "       2, 4, 4, 4, 4, 0, 4, 0, 4, 0, 4, 4, 4, 0, 0, 3, 1, 3, 1, 3, 3, 1,\n",
              "       3, 3, 2, 1, 2, 3, 3, 4, 2, 3, 3, 3, 2, 3, 3, 1, 1, 3, 3, 3, 3, 1,\n",
              "       1, 1, 3, 3, 3, 3, 3, 2, 1, 3, 1, 3, 1, 1, 3, 3, 1, 3, 3, 3, 3, 1,\n",
              "       1, 3, 1, 3, 3, 3, 3, 3, 3, 1, 1, 3, 3, 3, 3, 3, 3, 3, 3, 1, 1, 3,\n",
              "       1, 1, 1, 1, 1, 3, 1, 1, 1, 2, 3, 1, 2, 2, 3, 1, 1, 1, 3, 3, 3, 1,\n",
              "       1, 1, 3, 2, 1, 1, 3, 1, 1, 1, 1, 3, 1, 1, 2, 1, 3, 3, 1, 2, 2, 2,\n",
              "       2, 1])"
            ]
          },
          "execution_count": 4,
          "metadata": {},
          "output_type": "execute_result"
        }
      ],
      "source": [
        "labels"
      ]
    },
    {
      "cell_type": "markdown",
      "metadata": {
        "id": "fUSKDMyr_7R_"
      },
      "source": [
        "## 4.&nbsp;Vamos calcular as inércias e aplicar o elbow method"
      ]
    },
    {
      "cell_type": "code",
      "execution_count": 5,
      "metadata": {
        "id": "gQKJTeb-Ebjl"
      },
      "outputs": [
        {
          "data": {
            "image/png": "[encoded data removed]",
            "text/plain": [
              "<Figure size 720x432 with 1 Axes>"
            ]
          },
          "metadata": {
            "needs_background": "light"
          },
          "output_type": "display_data"
        }
      ],
      "source": [
        "# vamos aplicar o elbow method\n",
        "inertias = []\n",
        "K = range(1, 11)\n",
        "\n",
        "for k in K:\n",
        "    kmeans = KMeans(n_clusters=k, random_state=42, n_init = 10)\n",
        "    kmeans.fit(X)\n",
        "    inertias.append(kmeans.inertia_)\n",
        "\n",
        "# vamos visualizar os resultados\n",
        "import matplotlib.pyplot as plt\n",
        "\n",
        "plt.figure(figsize=(10, 6))\n",
        "plt.plot(K, inertias, 'bo-')\n",
        "plt.xlabel('Number of clusters')\n",
        "plt.ylabel('Inertia')\n",
        "plt.title('Elbow Method for Optimal K')\n",
        "plt.grid(True)\n",
        "plt.show()"
      ]
    },
    {
      "cell_type": "markdown",
      "metadata": {
        "id": "sHAG-N7uAsFi"
      },
      "source": [
        "## 5.&nbsp;Vamos avaliar o Silhouette score"
      ]
    },
    {
      "cell_type": "code",
      "execution_count": 6,
      "metadata": {
        "id": "_WjXfs7MAsYa"
      },
      "outputs": [
        {
          "name": "stdout",
          "output_type": "stream",
          "text": [
            "Silhouette Score for K=3: 0.5711381937868838\n"
          ]
        },
        {
          "data": {
            "image/png": "[encoded data removed]",
            "text/plain": [
              "<Figure size 720x432 with 1 Axes>"
            ]
          },
          "metadata": {
            "needs_background": "light"
          },
          "output_type": "display_data"
        }
      ],
      "source": [
        "from sklearn.metrics import silhouette_score, silhouette_samples\n",
        "\n",
        "# Vamos escolher o número óptimo de clusters\n",
        "optimal_k = 3\n",
        "kmeans = KMeans(n_clusters=optimal_k, random_state=42, n_init = 10)\n",
        "y_kmeans = kmeans.fit_predict(X)\n",
        "\n",
        "# vamos avaliar o silhouette score\n",
        "silhouette_avg = silhouette_score(X, y_kmeans)\n",
        "print(f'Silhouette Score for K={optimal_k}: {silhouette_avg}')\n",
        "\n",
        "# vamos visualizar os resultados\n",
        "silhouette_vals = silhouette_samples(X, y_kmeans)\n",
        "\n",
        "plt.figure(figsize=(10, 6))\n",
        "y_lower, y_upper = 0, 0\n",
        "yticks = []\n",
        "\n",
        "for i in range(optimal_k):\n",
        "    cluster_silhouette_vals = silhouette_vals[y_kmeans == i]\n",
        "    cluster_silhouette_vals.sort()\n",
        "    y_upper += len(cluster_silhouette_vals)\n",
        "    plt.barh(range(y_lower, y_upper), cluster_silhouette_vals, height=1.0)\n",
        "    yticks.append((y_lower + y_upper) / 2)\n",
        "    y_lower += len(cluster_silhouette_vals)\n",
        "\n",
        "plt.axvline(silhouette_avg, color='red', linestyle='--')\n",
        "plt.yticks(yticks, [f'Cluster {i+1}' for i in range(optimal_k)])\n",
        "plt.ylabel('Cluster')\n",
        "plt.xlabel('Silhouette Coefficient')\n",
        "plt.title(f'Silhouette Plot for K={optimal_k}')\n",
        "plt.grid(True)\n",
        "plt.show()"
      ]
    }
  ],
  "metadata": {
    "colab": {
      "provenance": []
    },
    "kernelspec": {
      "display_name": "Python 3",
      "name": "python3"
    },
    "language_info": {
      "codemirror_mode": {
        "name": "ipython",
        "version": 3
      },
      "file_extension": ".py",
      "mimetype": "text/x-python",
      "name": "python",
      "nbconvert_exporter": "python",
      "pygments_lexer": "ipython3",
      "version": "3.9.5"
    }
  },
  "nbformat": 4,
  "nbformat_minor": 0
}
