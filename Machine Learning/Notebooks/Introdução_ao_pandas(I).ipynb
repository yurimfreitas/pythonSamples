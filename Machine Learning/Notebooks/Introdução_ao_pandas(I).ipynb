{
  "nbformat": 4,
  "nbformat_minor": 0,
  "metadata": {
    "colab": {
      "provenance": []
    },
    "kernelspec": {
      "name": "python3",
      "display_name": "Python 3"
    },
    "language_info": {
      "name": "python"
    }
  },
  "cells": [
    {
      "cell_type": "markdown",
      "source": [
        "#Introdução ao pandas"
      ],
      "metadata": {
        "id": "Z2Ur5SspUJlO"
      }
    },
    {
      "cell_type": "markdown",
      "source": [
        "\n",
        "---\n",
        "\n",
        "\n",
        "[documentação](https://pandas.pydata.org/docs/index.html) <br>\n",
        "dataset: [fonte](https://www.kaggle.com/datasets/crawford/80-cereals)\n",
        "\n",
        "---\n",
        "\n"
      ],
      "metadata": {
        "id": "U_oZuYBpzBwy"
      }
    },
    {
      "cell_type": "markdown",
      "source": [
        ">[Introdução ao pandas](#scrollTo=Z2Ur5SspUJlO)\n",
        "\n",
        ">>[1. Vamos começar por importar a biblioteca e o dataset](#scrollTo=ZxiRWYNLgXq-)\n",
        "\n",
        ">>[2. Vamos explorar o dataframe](#scrollTo=Ydxw6tPwf-TF)\n",
        "\n",
        ">>[3. Vamos ordenar e criar subconjuntos](#scrollTo=_o03LNFpg4li)\n",
        "\n",
        ">>[4. Criar novas colunas](#scrollTo=lUulh_Fl0T9B)\n",
        "\n"
      ],
      "metadata": {
        "colab_type": "toc",
        "id": "75aJlH4t3tgm"
      }
    },
    {
      "cell_type": "markdown",
      "source": [
        "## 1.&nbsp;Vamos começar por importar a biblioteca e o dataset"
      ],
      "metadata": {
        "id": "ZxiRWYNLgXq-"
      }
    },
    {
      "cell_type": "code",
      "source": [
        "# importar a biblioteca\n",
        "import pandas as pd\n",
        "\n",
        "# importar o dataset que está em csv\n",
        "df_cereals = pd.read_csv('cereal.csv')\n",
        "print(df_cereals)"
      ],
      "metadata": {
        "id": "pod4QBVAUU1G"
      },
      "execution_count": null,
      "outputs": []
    },
    {
      "cell_type": "markdown",
      "source": [
        "## 2.&nbsp;Vamos explorar o dataframe"
      ],
      "metadata": {
        "id": "Ydxw6tPwf-TF"
      }
    },
    {
      "cell_type": "code",
      "source": [
        "# vamos ver as primeiras 5 linhas do dataframe\n",
        "df_cereals.head()\n",
        "# vamos ver as primeiras 10 linhas do dataframe\n",
        "df_cereals.head(10)\n",
        "\n",
        "# vamos ver as últimas 5 linhas do dataframe\n",
        "df_cereals.tail()\n",
        "\n",
        "# vamos ver a \"ficha\" do dataframe\n",
        "df_cereals.info() #method\n",
        "\n",
        "# vamos ver a forma do dataframe\n",
        "df_cereals.shape #atribute\n",
        "\n",
        "# podemos sempre ver estatísticas gerais\n",
        "df_cereals.describe()\n",
        "\n",
        "# um dataframe é composto por (index, columns e values)\n",
        "df_cereals.index\n",
        "df_cereals.columns\n",
        "df_cereals.values"
      ],
      "metadata": {
        "id": "qp6mUr9Ef8vm"
      },
      "execution_count": null,
      "outputs": []
    },
    {
      "cell_type": "markdown",
      "source": [
        "## 3.&nbsp;Vamos ordenar e criar subconjuntos"
      ],
      "metadata": {
        "id": "_o03LNFpg4li"
      }
    },
    {
      "cell_type": "code",
      "source": [
        "# para ordenar o dataframe usamos a função sort_values()\n",
        "# vamos ordenar pela coluna de rating\n",
        "df_cereals.sort_values(\"rating\")\n",
        "\n",
        "# vamos agora ordenar em sentido descencente\n",
        "df_cereals.sort_values(\"rating\", ascending = False)\n",
        "\n",
        "# agora vamos querer ordenar pelos ratings e pelo açucar\n",
        "df_cereals.sort_values([\"rating\", \"sugars\"])\n",
        "\n",
        "# o que queremos é ter o rating e sentido descendente e o açucar no ascendente\n",
        "df_cereals.sort_values([\"rating\", \"sugars\"], ascending = [False, True])\n",
        "\n",
        "# vamos ver como extrair uma das colunas\n",
        "df_cereals[\"rating\"]\n",
        "df_cereals[\"rating\"].columns\n",
        "# df_cereals[[\"rating\"]]\n",
        "# df_cereals[[\"rating\"]].columns\n",
        "\n",
        "# agora queremos obter o subconjunto com as colunas do açucar e do rating\n",
        "df_cereals[[\"sugars\", \"rating\"]]\n",
        "\n",
        "# para obter o subconjunto de linhas, podemos usar uma condição\n",
        "rating_condition_series = df_cereals[\"rating\"] > 60\n",
        "df_cereals[rating_condition_series]\n",
        "\n",
        "# rating_condition_df = df_cereals[[\"rating\"]] > 60\n",
        "# df_cereals[rating_condition_df]\n",
        "\n",
        "# podemos usar mais do que uma condição\n",
        "df_cereals[(df_cereals[\"rating\"] > 60) & (df_cereals[\"mfr\"] == \"N\")]\n",
        "\n",
        "# ou\n",
        "condition_1 = df_cereals[\"rating\"] > 60\n",
        "condition_2 = df_cereals[\"mfr\"] == \"N\"\n",
        "df_cereals[condition_1 & condition_2]"
      ],
      "metadata": {
        "id": "uyJpF9JHmKa1"
      },
      "execution_count": null,
      "outputs": []
    },
    {
      "cell_type": "markdown",
      "source": [
        "## 4.&nbsp;Criar novas colunas"
      ],
      "metadata": {
        "id": "lUulh_Fl0T9B"
      }
    },
    {
      "cell_type": "code",
      "source": [
        "# a coluna peso (weight) está em ounces; vamos alterá-la para gramas\n",
        "# 1 ounce = 28.3495231 g\n",
        "df_cereals[\"weight_g\"] = df_cereals[\"weight\"] * 28.3495231\n",
        "df_cereals.sort_values(\"weight\", ascending = False)\n",
        "\n",
        "# vamos agora criar o rácio do peso/chávena\n",
        "df_cereals[\"ratio\"] = df_cereals[\"weight_g\"] / df_cereals[\"cups\"]\n",
        "df_cereals.sort_values(\"ratio\", ascending = False)\n",
        "\n",
        "# podemos agora começar a juntar o que aprendemos e a explorar o df\n",
        "# vamos ver os cereais que:\n",
        "# têm um ratio < 50\n",
        "# são da marca K\n",
        "# por ordem descendente em termos de açucar\n",
        "# só queremos as colunas do nome e do açucar\n",
        "\n",
        "final_condition_1 = df_cereals[\"ratio\"] < 50\n",
        "final_condition_2 = df_cereals[\"mfr\"] == \"K\"\n",
        "df_cereals_subset = df_cereals[final_condition_1 & final_condition_2]\n",
        "df_cereals_subset_sort = df_cereals_subset.sort_values(\"sugars\",\n",
        "                                                       ascending = False)\n",
        "df_cereals_subset_sort\n",
        "\n",
        "df_cereals_final = df_cereals_subset_sort[[\"name\", \"sugars\"]]\n",
        "df_cereals_final"
      ],
      "metadata": {
        "id": "d3s73GWL0Qwm"
      },
      "execution_count": null,
      "outputs": []
    }
  ]
}