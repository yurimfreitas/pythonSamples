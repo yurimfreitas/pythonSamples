{
  "cells": [
    {
      "cell_type": "markdown",
      "metadata": {
        "id": "QoBv84MIUa-h"
      },
      "source": [
        "# Cross-Validation"
      ]
    },
    {
      "cell_type": "markdown",
      "metadata": {
        "id": "DqMh54wYK1UQ"
      },
      "source": [
        "\n",
        "---\n",
        "\n",
        "\n",
        "[documentação](https://scikit-learn.org/stable/index.html) <br>\n",
        "dataset: [fonte](https://www.kaggle.com/datasets/dinhanhx/studentgradepassorfailprediction)\n",
        "\n",
        "---"
      ]
    },
    {
      "cell_type": "markdown",
      "metadata": {
        "colab_type": "toc",
        "id": "paQmYZQhKvOP"
      },
      "source": [
        ">[Cross-Validation](#scrollTo=QoBv84MIUa-h)\n",
        "\n",
        ">>[1. Vamos começar por importar os packages e o dataset](#scrollTo=HO6jdFDmldaU)\n",
        "\n",
        ">>[3. Vamos dividir em treino e teste com a ajuda do scikit-learn](#scrollTo=VlyljBsUgD8D)\n",
        "\n",
        ">>[4. Vamos aplicar o modelo KNN](#scrollTo=rBbqqMS5hXRe)\n",
        "\n",
        ">>[5. Vamos aplicar o modelo de regressão logística](#scrollTo=Z-_Mfy5StNhM)\n",
        "\n",
        ">>[6. Vamos aplicar o Cross-Validation](#scrollTo=VvyvAnaJqBo9)\n",
        "\n",
        ">>>[6.1 K-Fold](#scrollTo=J-PpbmBgs3Rt)\n",
        "\n",
        ">>>[6.2 Stratified K-Fold](#scrollTo=rNRDHTcGvuD1)\n",
        "\n",
        ">>>[6.3 Vamos simplificar usando funções do scikit-learn](#scrollTo=t2nxybAP0SSP)\n",
        "\n"
      ]
    },
    {
      "cell_type": "markdown",
      "metadata": {
        "id": "HO6jdFDmldaU"
      },
      "source": [
        "## 1.&nbsp;Vamos começar por importar os packages e o dataset"
      ]
    },
    {
      "cell_type": "code",
      "execution_count": 2,
      "metadata": {
        "id": "-Mm7LY69WFMV"
      },
      "outputs": [],
      "source": [
        "# packages gerais\n",
        "import pandas as pd\n",
        "import numpy as np\n",
        "\n",
        "# dataset\n",
        "df_students = pd.read_csv(\"C:/Users/yfreitas/Documents/pythonSamples/Machine Learning/Files/student-mat-pass-or-fail.csv\")"
      ]
    },
    {
      "cell_type": "markdown",
      "metadata": {
        "id": "VlyljBsUgD8D"
      },
      "source": [
        "## 3.&nbsp;Vamos dividir em treino e teste com a ajuda do scikit-learn"
      ]
    },
    {
      "cell_type": "code",
      "execution_count": 3,
      "metadata": {
        "id": "CwLZP2Zbp-Hz"
      },
      "outputs": [],
      "source": [
        "# definimos a variável alvo\n",
        "target_variable = \"pass\"\n",
        "\n",
        "# train_test split usando a função train_test_split\n",
        "X = df_students.drop([\"G3\", target_variable], axis = 1)\n",
        "y = df_students[target_variable]\n",
        "y.sum()/len(y)\n",
        "\n",
        "from sklearn.model_selection import train_test_split\n",
        "X_train, X_test, y_train, y_test = train_test_split(X, y,\n",
        "                                                    test_size = 0.3,\n",
        "                                                    random_state = 12,\n",
        "                                                    stratify = y)\n"
      ]
    },
    {
      "cell_type": "markdown",
      "metadata": {
        "id": "rBbqqMS5hXRe"
      },
      "source": [
        "## 4.&nbsp;Vamos aplicar o modelo KNN"
      ]
    },
    {
      "cell_type": "code",
      "execution_count": 4,
      "metadata": {
        "id": "FPasARnkp-AE"
      },
      "outputs": [
        {
          "data": {
            "text/plain": [
              "0.8991596638655462"
            ]
          },
          "execution_count": 4,
          "metadata": {},
          "output_type": "execute_result"
        }
      ],
      "source": [
        "# importamos o modelo\n",
        "from sklearn.neighbors import KNeighborsClassifier\n",
        "knn = KNeighborsClassifier(n_neighbors = 7)\n",
        "knn.fit(X_train, y_train)\n",
        "y_pred_knn = knn.predict(X_test)\n",
        "\n",
        "# para verificar a accuracy do modelo aplicamos a função .score\n",
        "knn.score(X_test, y_test)"
      ]
    },
    {
      "cell_type": "markdown",
      "metadata": {
        "id": "Z-_Mfy5StNhM"
      },
      "source": [
        "## 5.&nbsp;Vamos aplicar o modelo de regressão logística"
      ]
    },
    {
      "cell_type": "code",
      "execution_count": 5,
      "metadata": {
        "id": "yrL2tgxztiP_"
      },
      "outputs": [
        {
          "data": {
            "text/plain": [
              "0.9663865546218487"
            ]
          },
          "execution_count": 5,
          "metadata": {},
          "output_type": "execute_result"
        }
      ],
      "source": [
        "# importamos o modelo\n",
        "from sklearn.linear_model import LogisticRegression\n",
        "log_reg = LogisticRegression( max_iter = 250)\n",
        "log_reg.fit(X_train, y_train)\n",
        "y_pred_log_reg = log_reg.predict(X_test)\n",
        "\n",
        "# para verificar a accuracy do modelo aplicamos a função .score\n",
        "log_reg.score(X_test, y_test)"
      ]
    },
    {
      "cell_type": "markdown",
      "metadata": {
        "id": "VvyvAnaJqBo9"
      },
      "source": [
        "## 6.&nbsp;Vamos aplicar o Cross-Validation"
      ]
    },
    {
      "cell_type": "code",
      "execution_count": 6,
      "metadata": {
        "id": "NaiaB9-ts_a1"
      },
      "outputs": [],
      "source": [
        "# importamos os modelos de CV e as métricas\n",
        "from sklearn.model_selection import (\n",
        "    KFold,\n",
        "    StratifiedKFold,\n",
        "    ShuffleSplit,\n",
        "    StratifiedShuffleSplit,\n",
        "    RepeatedKFold\n",
        ")\n",
        "from sklearn.metrics import precision_score, recall_score"
      ]
    },
    {
      "cell_type": "markdown",
      "metadata": {
        "id": "J-PpbmBgs3Rt"
      },
      "source": [
        "### 6.1&nbsp;K-Fold"
      ]
    },
    {
      "cell_type": "code",
      "execution_count": 7,
      "metadata": {
        "id": "N4BJFY-nqBHq"
      },
      "outputs": [
        {
          "name": "stdout",
          "output_type": "stream",
          "text": [
            "Precision scores for KNN: 0.9\n",
            "Precision scores for Logistic Regression: 0.93\n",
            "Recall scores for KNN: 0.91\n",
            "Recall scores for Logistic Regression: 0.93\n"
          ]
        }
      ],
      "source": [
        "#importamos o modelo\n",
        "kfold = KFold(n_splits=5)\n",
        "\n",
        "precision_scores_knn = []\n",
        "recall_scores_knn = []\n",
        "precision_scores_log_reg = []\n",
        "recall_scores_log_reg = []\n",
        "\n",
        "for train_index, val_index in kfold.split(X_train):\n",
        "\n",
        "    X_train_fold, X_val_fold = X_train.iloc[train_index], X_train.iloc[val_index]\n",
        "    y_train_fold, y_val_fold = y_train.iloc[train_index], y_train.iloc[val_index]\n",
        "\n",
        "    knn.fit(X_train_fold, y_train_fold)\n",
        "    y_pred_knn = knn.predict(X_val_fold)\n",
        "    precision_knn = precision_score(y_val_fold, y_pred_knn)\n",
        "    recall_knn = recall_score(y_val_fold, y_pred_knn)\n",
        "    precision_scores_knn.append(precision_knn)\n",
        "    recall_scores_knn.append(recall_knn)\n",
        "\n",
        "    log_reg.fit(X_train_fold, y_train_fold)\n",
        "    y_pred_log_reg = log_reg.predict(X_val_fold)\n",
        "    precision_log_reg = precision_score(y_val_fold, y_pred_log_reg)\n",
        "    recall_log_reg = recall_score(y_val_fold, y_pred_log_reg)\n",
        "    precision_scores_log_reg.append(precision_log_reg)\n",
        "    recall_scores_log_reg.append(recall_log_reg)\n",
        "\n",
        "# vemos os resultados\n",
        "print(\"Precision scores for KNN:\", np.mean(precision_scores_knn).round(2))\n",
        "print(\"Precision scores for Logistic Regression:\", np.mean(precision_scores_log_reg).round(2))\n",
        "print(\"Recall scores for KNN:\", np.mean(recall_scores_knn).round(2))\n",
        "print(\"Recall scores for Logistic Regression:\", np.mean(recall_scores_log_reg).round(2))"
      ]
    },
    {
      "cell_type": "markdown",
      "metadata": {
        "id": "rNRDHTcGvuD1"
      },
      "source": [
        "### 6.2&nbsp;Stratified K-Fold"
      ]
    },
    {
      "cell_type": "code",
      "execution_count": 8,
      "metadata": {
        "id": "FQQsbCJ6vpus"
      },
      "outputs": [
        {
          "name": "stdout",
          "output_type": "stream",
          "text": [
            "Precision scores for KNN: 0.9\n",
            "Precision scores for Logistic Regression: 0.93\n",
            "Recall scores for KNN: 0.92\n",
            "Recall scores for Logistic Regression: 0.93\n"
          ]
        }
      ],
      "source": [
        "#importamos o modelo\n",
        "stratified_kfold = StratifiedKFold(n_splits=5)\n",
        "\n",
        "precision_scores_knn = []\n",
        "recall_scores_knn = []\n",
        "precision_scores_log_reg = []\n",
        "recall_scores_log_reg = []\n",
        "\n",
        "for train_index, val_index in stratified_kfold.split(X_train, y_train):\n",
        "\n",
        "    X_train_fold, X_val_fold = X_train.iloc[train_index], X_train.iloc[val_index]\n",
        "    y_train_fold, y_val_fold = y_train.iloc[train_index], y_train.iloc[val_index]\n",
        "\n",
        "    knn.fit(X_train_fold, y_train_fold)\n",
        "    y_pred_knn = knn.predict(X_val_fold)\n",
        "    precision_knn = precision_score(y_val_fold, y_pred_knn)\n",
        "    recall_knn = recall_score(y_val_fold, y_pred_knn)\n",
        "    precision_scores_knn.append(precision_knn)\n",
        "    recall_scores_knn.append(recall_knn)\n",
        "\n",
        "    log_reg.fit(X_train_fold, y_train_fold)\n",
        "    y_pred_log_reg = log_reg.predict(X_val_fold)\n",
        "    precision_log_reg = precision_score(y_val_fold, y_pred_log_reg)\n",
        "    recall_log_reg = recall_score(y_val_fold, y_pred_log_reg)\n",
        "    precision_scores_log_reg.append(precision_log_reg)\n",
        "    recall_scores_log_reg.append(recall_log_reg)\n",
        "\n",
        "# vemos os resultados\n",
        "print(\"Precision scores for KNN:\", np.mean(precision_scores_knn).round(2))\n",
        "print(\"Precision scores for Logistic Regression:\", np.mean(precision_scores_log_reg).round(2))\n",
        "print(\"Recall scores for KNN:\", np.mean(recall_scores_knn).round(2))\n",
        "print(\"Recall scores for Logistic Regression:\", np.mean(recall_scores_log_reg).round(2))"
      ]
    },
    {
      "cell_type": "markdown",
      "metadata": {
        "id": "t2nxybAP0SSP"
      },
      "source": [
        "### 6.3&nbsp;Vamos simplificar usando funções do scikit-learn"
      ]
    },
    {
      "cell_type": "code",
      "execution_count": 9,
      "metadata": {
        "id": "ovd-y8956ywr"
      },
      "outputs": [
        {
          "data": {
            "text/plain": [
              "['accuracy',\n",
              " 'adjusted_mutual_info_score',\n",
              " 'adjusted_rand_score',\n",
              " 'average_precision',\n",
              " 'balanced_accuracy',\n",
              " 'completeness_score',\n",
              " 'explained_variance',\n",
              " 'f1',\n",
              " 'f1_macro',\n",
              " 'f1_micro',\n",
              " 'f1_samples',\n",
              " 'f1_weighted',\n",
              " 'fowlkes_mallows_score',\n",
              " 'homogeneity_score',\n",
              " 'jaccard',\n",
              " 'jaccard_macro',\n",
              " 'jaccard_micro',\n",
              " 'jaccard_samples',\n",
              " 'jaccard_weighted',\n",
              " 'matthews_corrcoef',\n",
              " 'max_error',\n",
              " 'mutual_info_score',\n",
              " 'neg_brier_score',\n",
              " 'neg_log_loss',\n",
              " 'neg_mean_absolute_error',\n",
              " 'neg_mean_absolute_percentage_error',\n",
              " 'neg_mean_gamma_deviance',\n",
              " 'neg_mean_poisson_deviance',\n",
              " 'neg_mean_squared_error',\n",
              " 'neg_mean_squared_log_error',\n",
              " 'neg_median_absolute_error',\n",
              " 'neg_negative_likelihood_ratio',\n",
              " 'neg_root_mean_squared_error',\n",
              " 'neg_root_mean_squared_log_error',\n",
              " 'normalized_mutual_info_score',\n",
              " 'positive_likelihood_ratio',\n",
              " 'precision',\n",
              " 'precision_macro',\n",
              " 'precision_micro',\n",
              " 'precision_samples',\n",
              " 'precision_weighted',\n",
              " 'r2',\n",
              " 'rand_score',\n",
              " 'recall',\n",
              " 'recall_macro',\n",
              " 'recall_micro',\n",
              " 'recall_samples',\n",
              " 'recall_weighted',\n",
              " 'roc_auc',\n",
              " 'roc_auc_ovo',\n",
              " 'roc_auc_ovo_weighted',\n",
              " 'roc_auc_ovr',\n",
              " 'roc_auc_ovr_weighted',\n",
              " 'top_k_accuracy',\n",
              " 'v_measure_score']"
            ]
          },
          "execution_count": 9,
          "metadata": {},
          "output_type": "execute_result"
        }
      ],
      "source": [
        "from sklearn.metrics import get_scorer_names\n",
        "get_scorer_names()"
      ]
    },
    {
      "cell_type": "code",
      "execution_count": 10,
      "metadata": {
        "id": "5TdLnMSvzaRp"
      },
      "outputs": [
        {
          "name": "stdout",
          "output_type": "stream",
          "text": [
            "Precision scores for KNN: 0.9\n",
            "Recall scores for KNN: 0.9\n",
            "Precision scores for Logistic Regression: 0.93\n",
            "Recall scores for Logistic Regression: 0.91\n"
          ]
        }
      ],
      "source": [
        "# importamos o modelo\n",
        "from sklearn.model_selection import cross_val_score\n",
        "\n",
        "kfold = KFold(n_splits=5, shuffle=True, random_state=42)\n",
        "precision_scores_knn = cross_val_score(knn, X_train, y_train, cv=kfold, scoring='precision')\n",
        "recall_scores_knn = cross_val_score(knn, X_train, y_train, cv=kfold, scoring='recall')\n",
        "precision_scores_log_reg = cross_val_score(log_reg, X_train, y_train, cv=kfold, scoring='precision')\n",
        "recall_scores_log_reg = cross_val_score(log_reg, X_train, y_train, cv=kfold, scoring='recall')\n",
        "\n",
        "# vemos os resultados\n",
        "print(\"Precision scores for KNN:\", np.mean(precision_scores_knn).round(2))\n",
        "print(\"Recall scores for KNN:\", np.mean(recall_scores_knn).round(2))\n",
        "print(\"Precision scores for Logistic Regression:\", np.mean(precision_scores_log_reg).round(2))\n",
        "print(\"Recall scores for Logistic Regression:\", np.mean(recall_scores_log_reg).round(2))"
      ]
    },
    {
      "cell_type": "code",
      "execution_count": 11,
      "metadata": {
        "id": "rZZfAjdP2kgT"
      },
      "outputs": [
        {
          "name": "stdout",
          "output_type": "stream",
          "text": [
            "Precision scores for KNN: 0.89\n",
            "Recall scores for KNN: 0.91\n"
          ]
        }
      ],
      "source": [
        "# importamos o modelo\n",
        "from sklearn.model_selection import cross_validate\n",
        "\n",
        "scoring = ['precision', 'recall', 'neg_log_loss']\n",
        "kfold = StratifiedKFold(n_splits=5, shuffle=True, random_state=42)\n",
        "cv_results_knn = cross_validate(knn, X_train, y_train, cv=kfold, scoring=scoring)\n",
        "\n",
        "# vemos os resultados\n",
        "print(\"Precision scores for KNN:\", np.mean(cv_results_knn['test_precision']).round(2))\n",
        "print(\"Recall scores for KNN:\", np.mean(cv_results_knn['test_recall']).round(2))"
      ]
    },
    {
      "cell_type": "code",
      "execution_count": null,
      "metadata": {
        "id": "8tp9AqVF7V-d"
      },
      "outputs": [],
      "source": [
        "scoring = ['precision', 'recall', 'neg_log_loss']\n",
        "kfold = StratifiedKFold(n_splits=5, shuffle=True, random_state=42)\n",
        "cv_results_log_reg = cross_validate(log_reg, X_train, y_train, cv=kfold, scoring=scoring)\n",
        "\n",
        "print(\"Precision scores for Logistic Regression:\", np.mean(cv_results_log_reg['test_precision']).round(2))\n",
        "print(\"Recall scores for Logistic Regression:\", np.mean(cv_results_log_reg['test_recall']).round(2))\n",
        "print(\"Log loss for Logistic Regression:\", - np.mean(cv_results_log_reg['test_neg_log_loss']).round(2))"
      ]
    }
  ],
  "metadata": {
    "colab": {
      "provenance": []
    },
    "kernelspec": {
      "display_name": "Python 3",
      "name": "python3"
    },
    "language_info": {
      "codemirror_mode": {
        "name": "ipython",
        "version": 3
      },
      "file_extension": ".py",
      "mimetype": "text/x-python",
      "name": "python",
      "nbconvert_exporter": "python",
      "pygments_lexer": "ipython3",
      "version": "3.9.5"
    }
  },
  "nbformat": 4,
  "nbformat_minor": 0
}
