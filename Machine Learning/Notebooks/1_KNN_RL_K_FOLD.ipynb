{
 "cells": [
  {
   "cell_type": "markdown",
   "metadata": {},
   "source": [
    "# Vamos importar o ficheiro e aplicar KNN, Regressao Logistica com Cross-Validation"
   ]
  },
  {
   "cell_type": "code",
   "execution_count": 1,
   "metadata": {},
   "outputs": [],
   "source": [
    "# faça o upload do ficheiro csv associado à atividade\n",
    "\n",
    "# vamos importar a biblioteca\n",
    "import pandas as pd\n",
    "import numpy as np\n",
    "# vamos importar o dataframe do ficheiro .csv\n",
    "df_contract_renewal = pd.read_csv(\"C:/Users/yfreitas/Documents/pythonSamples/Machine Learning/Files/South_China.csv\")"
   ]
  },
  {
   "cell_type": "markdown",
   "metadata": {},
   "source": [
    "# Exploracao inicial"
   ]
  },
  {
   "cell_type": "code",
   "execution_count": 2,
   "metadata": {},
   "outputs": [
    {
     "data": {
      "text/html": [
       "<div>\n",
       "<style scoped>\n",
       "    .dataframe tbody tr th:only-of-type {\n",
       "        vertical-align: middle;\n",
       "    }\n",
       "\n",
       "    .dataframe tbody tr th {\n",
       "        vertical-align: top;\n",
       "    }\n",
       "\n",
       "    .dataframe thead th {\n",
       "        text-align: right;\n",
       "    }\n",
       "</style>\n",
       "<table border=\"1\" class=\"dataframe\">\n",
       "  <thead>\n",
       "    <tr style=\"text-align: right;\">\n",
       "      <th></th>\n",
       "      <th>ID</th>\n",
       "      <th>Registration_Duration</th>\n",
       "      <th>Revenue</th>\n",
       "      <th>Cost</th>\n",
       "      <th>Renewal</th>\n",
       "    </tr>\n",
       "  </thead>\n",
       "  <tbody>\n",
       "    <tr>\n",
       "      <th>0</th>\n",
       "      <td>10001</td>\n",
       "      <td>29</td>\n",
       "      <td>46</td>\n",
       "      <td>8.33316</td>\n",
       "      <td>True</td>\n",
       "    </tr>\n",
       "    <tr>\n",
       "      <th>1</th>\n",
       "      <td>10002</td>\n",
       "      <td>58</td>\n",
       "      <td>105</td>\n",
       "      <td>18.24564</td>\n",
       "      <td>True</td>\n",
       "    </tr>\n",
       "    <tr>\n",
       "      <th>2</th>\n",
       "      <td>10003</td>\n",
       "      <td>36</td>\n",
       "      <td>55</td>\n",
       "      <td>3.13296</td>\n",
       "      <td>True</td>\n",
       "    </tr>\n",
       "    <tr>\n",
       "      <th>3</th>\n",
       "      <td>10004</td>\n",
       "      <td>32</td>\n",
       "      <td>28</td>\n",
       "      <td>9.96705</td>\n",
       "      <td>True</td>\n",
       "    </tr>\n",
       "    <tr>\n",
       "      <th>4</th>\n",
       "      <td>10005</td>\n",
       "      <td>26</td>\n",
       "      <td>32</td>\n",
       "      <td>7.19040</td>\n",
       "      <td>False</td>\n",
       "    </tr>\n",
       "  </tbody>\n",
       "</table>\n",
       "</div>"
      ],
      "text/plain": [
       "      ID  Registration_Duration  Revenue      Cost  Renewal\n",
       "0  10001                     29       46   8.33316     True\n",
       "1  10002                     58      105  18.24564     True\n",
       "2  10003                     36       55   3.13296     True\n",
       "3  10004                     32       28   9.96705     True\n",
       "4  10005                     26       32   7.19040    False"
      ]
     },
     "execution_count": 2,
     "metadata": {},
     "output_type": "execute_result"
    }
   ],
   "source": [
    "# exploração inicial\n",
    "df_contract_renewal.head()"
   ]
  },
  {
   "cell_type": "code",
   "execution_count": 3,
   "metadata": {},
   "outputs": [
    {
     "name": "stdout",
     "output_type": "stream",
     "text": [
      "<class 'pandas.core.frame.DataFrame'>\n",
      "RangeIndex: 1500 entries, 0 to 1499\n",
      "Data columns (total 5 columns):\n",
      " #   Column                 Non-Null Count  Dtype  \n",
      "---  ------                 --------------  -----  \n",
      " 0   ID                     1500 non-null   int64  \n",
      " 1   Registration_Duration  1500 non-null   int64  \n",
      " 2   Revenue                1500 non-null   int64  \n",
      " 3   Cost                   1500 non-null   float64\n",
      " 4   Renewal                1500 non-null   bool   \n",
      "dtypes: bool(1), float64(1), int64(3)\n",
      "memory usage: 48.5 KB\n"
     ]
    }
   ],
   "source": [
    "df_contract_renewal.info()"
   ]
  },
  {
   "cell_type": "code",
   "execution_count": 4,
   "metadata": {},
   "outputs": [
    {
     "data": {
      "text/plain": [
       "(1500, 5)"
      ]
     },
     "execution_count": 4,
     "metadata": {},
     "output_type": "execute_result"
    }
   ],
   "source": [
    "df_contract_renewal.shape"
   ]
  },
  {
   "cell_type": "code",
   "execution_count": 5,
   "metadata": {},
   "outputs": [
    {
     "data": {
      "text/html": [
       "<div>\n",
       "<style scoped>\n",
       "    .dataframe tbody tr th:only-of-type {\n",
       "        vertical-align: middle;\n",
       "    }\n",
       "\n",
       "    .dataframe tbody tr th {\n",
       "        vertical-align: top;\n",
       "    }\n",
       "\n",
       "    .dataframe thead th {\n",
       "        text-align: right;\n",
       "    }\n",
       "</style>\n",
       "<table border=\"1\" class=\"dataframe\">\n",
       "  <thead>\n",
       "    <tr style=\"text-align: right;\">\n",
       "      <th></th>\n",
       "      <th>ID</th>\n",
       "      <th>Registration_Duration</th>\n",
       "      <th>Revenue</th>\n",
       "      <th>Cost</th>\n",
       "    </tr>\n",
       "  </thead>\n",
       "  <tbody>\n",
       "    <tr>\n",
       "      <th>count</th>\n",
       "      <td>1500.000000</td>\n",
       "      <td>1500.000000</td>\n",
       "      <td>1500.000000</td>\n",
       "      <td>1500.000000</td>\n",
       "    </tr>\n",
       "    <tr>\n",
       "      <th>mean</th>\n",
       "      <td>10750.500000</td>\n",
       "      <td>33.756000</td>\n",
       "      <td>58.387333</td>\n",
       "      <td>6.191050</td>\n",
       "    </tr>\n",
       "    <tr>\n",
       "      <th>std</th>\n",
       "      <td>433.157015</td>\n",
       "      <td>10.928133</td>\n",
       "      <td>61.862056</td>\n",
       "      <td>8.206847</td>\n",
       "    </tr>\n",
       "    <tr>\n",
       "      <th>min</th>\n",
       "      <td>10001.000000</td>\n",
       "      <td>19.000000</td>\n",
       "      <td>13.000000</td>\n",
       "      <td>0.513600</td>\n",
       "    </tr>\n",
       "    <tr>\n",
       "      <th>25%</th>\n",
       "      <td>10375.750000</td>\n",
       "      <td>25.000000</td>\n",
       "      <td>28.000000</td>\n",
       "      <td>1.821140</td>\n",
       "    </tr>\n",
       "    <tr>\n",
       "      <th>50%</th>\n",
       "      <td>10750.500000</td>\n",
       "      <td>33.000000</td>\n",
       "      <td>40.000000</td>\n",
       "      <td>3.735905</td>\n",
       "    </tr>\n",
       "    <tr>\n",
       "      <th>75%</th>\n",
       "      <td>11125.250000</td>\n",
       "      <td>40.000000</td>\n",
       "      <td>64.000000</td>\n",
       "      <td>7.245237</td>\n",
       "    </tr>\n",
       "    <tr>\n",
       "      <th>max</th>\n",
       "      <td>11500.000000</td>\n",
       "      <td>72.000000</td>\n",
       "      <td>981.000000</td>\n",
       "      <td>96.471200</td>\n",
       "    </tr>\n",
       "  </tbody>\n",
       "</table>\n",
       "</div>"
      ],
      "text/plain": [
       "                 ID  Registration_Duration      Revenue         Cost\n",
       "count   1500.000000            1500.000000  1500.000000  1500.000000\n",
       "mean   10750.500000              33.756000    58.387333     6.191050\n",
       "std      433.157015              10.928133    61.862056     8.206847\n",
       "min    10001.000000              19.000000    13.000000     0.513600\n",
       "25%    10375.750000              25.000000    28.000000     1.821140\n",
       "50%    10750.500000              33.000000    40.000000     3.735905\n",
       "75%    11125.250000              40.000000    64.000000     7.245237\n",
       "max    11500.000000              72.000000   981.000000    96.471200"
      ]
     },
     "execution_count": 5,
     "metadata": {},
     "output_type": "execute_result"
    }
   ],
   "source": [
    "df_contract_renewal.describe()"
   ]
  },
  {
   "cell_type": "code",
   "execution_count": 6,
   "metadata": {},
   "outputs": [
    {
     "name": "stdout",
     "output_type": "stream",
     "text": [
      "Counts of each unique value in the 'Renewal' column:\n",
      "Renewal\n",
      "True     952\n",
      "False    548\n",
      "Name: count, dtype: int64\n"
     ]
    }
   ],
   "source": [
    "# Get the counts of each unique value in the 'Renewal' column\n",
    "renewal_counts = df_contract_renewal['Renewal'].value_counts()\n",
    "\n",
    "# Print the counts\n",
    "print(\"Counts of each unique value in the 'Renewal' column:\")\n",
    "print(renewal_counts)"
   ]
  },
  {
   "cell_type": "markdown",
   "metadata": {},
   "source": [
    "# Vamos dividir em treino e test com ajuda do scikit-learn"
   ]
  },
  {
   "cell_type": "code",
   "execution_count": 7,
   "metadata": {},
   "outputs": [
    {
     "name": "stdout",
     "output_type": "stream",
     "text": [
      "Class labels: [ True False]\n"
     ]
    }
   ],
   "source": [
    "# definimos a variável alvo\n",
    "target_variable = \"Renewal\"\n",
    "\n",
    "# train_test split usando a função train_test_split\n",
    "X = df_contract_renewal.drop([\"ID\", target_variable], axis = 1)\n",
    "y = df_contract_renewal[target_variable]\n",
    "y.sum()/len(y)\n",
    "\n",
    "# Check unique class labels\n",
    "print(\"Class labels:\", y.unique())\n",
    "\n",
    "from sklearn.model_selection import train_test_split\n",
    "X_train, X_test, y_train, y_test = train_test_split(X, y,\n",
    "                                                    test_size = 0.3,\n",
    "                                                    random_state = 12,\n",
    "                                                    stratify = y)"
   ]
  },
  {
   "cell_type": "markdown",
   "metadata": {},
   "source": [
    "# Vamos aplicar o modelo KNN"
   ]
  },
  {
   "cell_type": "code",
   "execution_count": 8,
   "metadata": {},
   "outputs": [
    {
     "data": {
      "text/plain": [
       "0.6755555555555556"
      ]
     },
     "execution_count": 8,
     "metadata": {},
     "output_type": "execute_result"
    }
   ],
   "source": [
    "# importamos o modelo\n",
    "from sklearn.neighbors import KNeighborsClassifier\n",
    "knn = KNeighborsClassifier(n_neighbors = 7)\n",
    "knn.fit(X_train, y_train)\n",
    "y_pred_knn = knn.predict(X_test)\n",
    "\n",
    "# para verificar a accuracy do modelo aplicamos a função .score\n",
    "knn.score(X_test, y_test)"
   ]
  },
  {
   "cell_type": "markdown",
   "metadata": {},
   "source": [
    "# Vamos aplicar o modelo de regressão logística"
   ]
  },
  {
   "cell_type": "code",
   "execution_count": 9,
   "metadata": {},
   "outputs": [
    {
     "data": {
      "text/plain": [
       "0.7177777777777777"
      ]
     },
     "execution_count": 9,
     "metadata": {},
     "output_type": "execute_result"
    }
   ],
   "source": [
    "# importamos o modelo\n",
    "from sklearn.linear_model import LogisticRegression\n",
    "log_reg = LogisticRegression( max_iter = 250)\n",
    "log_reg.fit(X_train, y_train)\n",
    "y_pred_log_reg = log_reg.predict(X_test)\n",
    "\n",
    "# para verificar a accuracy do modelo aplicamos a função .score\n",
    "log_reg.score(X_test, y_test)"
   ]
  },
  {
   "cell_type": "markdown",
   "metadata": {},
   "source": [
    "## &nbsp;Vamos aplicar o Cross-Validation"
   ]
  },
  {
   "cell_type": "code",
   "execution_count": 10,
   "metadata": {},
   "outputs": [
    {
     "data": {
      "text/plain": [
       "['accuracy',\n",
       " 'adjusted_mutual_info_score',\n",
       " 'adjusted_rand_score',\n",
       " 'average_precision',\n",
       " 'balanced_accuracy',\n",
       " 'completeness_score',\n",
       " 'explained_variance',\n",
       " 'f1',\n",
       " 'f1_macro',\n",
       " 'f1_micro',\n",
       " 'f1_samples',\n",
       " 'f1_weighted',\n",
       " 'fowlkes_mallows_score',\n",
       " 'homogeneity_score',\n",
       " 'jaccard',\n",
       " 'jaccard_macro',\n",
       " 'jaccard_micro',\n",
       " 'jaccard_samples',\n",
       " 'jaccard_weighted',\n",
       " 'matthews_corrcoef',\n",
       " 'max_error',\n",
       " 'mutual_info_score',\n",
       " 'neg_brier_score',\n",
       " 'neg_log_loss',\n",
       " 'neg_mean_absolute_error',\n",
       " 'neg_mean_absolute_percentage_error',\n",
       " 'neg_mean_gamma_deviance',\n",
       " 'neg_mean_poisson_deviance',\n",
       " 'neg_mean_squared_error',\n",
       " 'neg_mean_squared_log_error',\n",
       " 'neg_median_absolute_error',\n",
       " 'neg_negative_likelihood_ratio',\n",
       " 'neg_root_mean_squared_error',\n",
       " 'neg_root_mean_squared_log_error',\n",
       " 'normalized_mutual_info_score',\n",
       " 'positive_likelihood_ratio',\n",
       " 'precision',\n",
       " 'precision_macro',\n",
       " 'precision_micro',\n",
       " 'precision_samples',\n",
       " 'precision_weighted',\n",
       " 'r2',\n",
       " 'rand_score',\n",
       " 'recall',\n",
       " 'recall_macro',\n",
       " 'recall_micro',\n",
       " 'recall_samples',\n",
       " 'recall_weighted',\n",
       " 'roc_auc',\n",
       " 'roc_auc_ovo',\n",
       " 'roc_auc_ovo_weighted',\n",
       " 'roc_auc_ovr',\n",
       " 'roc_auc_ovr_weighted',\n",
       " 'top_k_accuracy',\n",
       " 'v_measure_score']"
      ]
     },
     "execution_count": 10,
     "metadata": {},
     "output_type": "execute_result"
    }
   ],
   "source": [
    "from sklearn.metrics import get_scorer_names\n",
    "get_scorer_names()"
   ]
  },
  {
   "cell_type": "markdown",
   "metadata": {},
   "source": [
    "# Cross Validation with KNN"
   ]
  },
  {
   "cell_type": "code",
   "execution_count": 11,
   "metadata": {},
   "outputs": [
    {
     "name": "stdout",
     "output_type": "stream",
     "text": [
      "Accuracy scores for KNN: 0.69\n",
      "Precision scores for KNN: 0.72\n",
      "Recall scores for KNN: 0.83\n"
     ]
    }
   ],
   "source": [
    "# importamos o modelo\n",
    "from sklearn.model_selection import cross_validate\n",
    "# importamos os modelos de CV e as métricas\n",
    "from sklearn.model_selection import (KFold, StratifiedKFold, ShuffleSplit, StratifiedShuffleSplit, RepeatedKFold)\n",
    "\n",
    "scoring = ['precision', 'recall', 'neg_log_loss', 'accuracy']\n",
    "kfold = StratifiedKFold(n_splits=5, shuffle=True, random_state=42)\n",
    "cv_results_knn = cross_validate(knn, X_train, y_train, cv=kfold, scoring=scoring)\n",
    "\n",
    "# vemos os resultados\n",
    "print(\"Accuracy scores for KNN:\", np.mean(cv_results_knn['test_accuracy']).round(2))\n",
    "print(\"Precision scores for KNN:\", np.mean(cv_results_knn['test_precision']).round(2))\n",
    "print(\"Recall scores for KNN:\", np.mean(cv_results_knn['test_recall']).round(2))"
   ]
  },
  {
   "cell_type": "code",
   "execution_count": 12,
   "metadata": {},
   "outputs": [
    {
     "data": {
      "text/plain": [
       "{'fit_time': array([0.00198698, 0.        , 0.00101042, 0.01299214, 0.00133944]),\n",
       " 'score_time': array([0.02002358, 0.02328444, 0.00543952, 0.01668644, 0.01719999]),\n",
       " 'test_precision': array([0.75816993, 0.75182482, 0.6875    , 0.7114094 , 0.71428571]),\n",
       " 'test_recall': array([0.86567164, 0.77443609, 0.82706767, 0.79699248, 0.86466165]),\n",
       " 'test_neg_log_loss': array([-1.00957108, -1.2201491 , -1.40169702, -1.40897114, -1.23581787]),\n",
       " 'test_accuracy': array([0.73809524, 0.6952381 , 0.65238095, 0.66666667, 0.6952381 ])}"
      ]
     },
     "execution_count": 12,
     "metadata": {},
     "output_type": "execute_result"
    }
   ],
   "source": [
    "cv_results_knn"
   ]
  },
  {
   "cell_type": "markdown",
   "metadata": {},
   "source": [
    "# Cross Validation with Logist Regression"
   ]
  },
  {
   "cell_type": "code",
   "execution_count": 13,
   "metadata": {},
   "outputs": [
    {
     "name": "stdout",
     "output_type": "stream",
     "text": [
      "Accuracy scores for Logistic Regression: 0.69\n",
      "Precision scores for Logistic Regression: 0.77\n",
      "Recall scores for Logistic Regression: 0.83\n",
      "Log loss for Logistic Regression: 0.54\n"
     ]
    }
   ],
   "source": [
    "scoring = ['precision', 'recall', 'neg_log_loss', 'accuracy']\n",
    "kfold = StratifiedKFold(n_splits=5, shuffle=True, random_state=42)\n",
    "cv_results_log_reg = cross_validate(log_reg, X_train, y_train, cv=kfold, scoring=scoring)\n",
    "\n",
    "print(\"Accuracy scores for Logistic Regression:\", np.mean(cv_results_knn['test_accuracy']).round(2))\n",
    "print(\"Precision scores for Logistic Regression:\", np.mean(cv_results_log_reg['test_precision']).round(2))\n",
    "print(\"Recall scores for Logistic Regression:\", np.mean(cv_results_log_reg['test_recall']).round(2))\n",
    "print(\"Log loss for Logistic Regression:\", - np.mean(cv_results_log_reg['test_neg_log_loss']).round(2))"
   ]
  },
  {
   "cell_type": "markdown",
   "metadata": {},
   "source": [
    "# Matrix de confusao e classification report"
   ]
  },
  {
   "cell_type": "code",
   "execution_count": 14,
   "metadata": {},
   "outputs": [
    {
     "name": "stdout",
     "output_type": "stream",
     "text": [
      "[[ 78  86]\n",
      " [ 60 226]]\n",
      "              precision    recall  f1-score   support\n",
      "\n",
      "  nao renova       0.57      0.48      0.52       164\n",
      "      renova       0.72      0.79      0.76       286\n",
      "\n",
      "    accuracy                           0.68       450\n",
      "   macro avg       0.64      0.63      0.64       450\n",
      "weighted avg       0.67      0.68      0.67       450\n",
      "\n",
      "[[ 93  71]\n",
      " [ 56 230]]\n",
      "              precision    recall  f1-score   support\n",
      "\n",
      "  nao renova       0.62      0.57      0.59       164\n",
      "      renova       0.76      0.80      0.78       286\n",
      "\n",
      "    accuracy                           0.72       450\n",
      "   macro avg       0.69      0.69      0.69       450\n",
      "weighted avg       0.71      0.72      0.71       450\n",
      "\n"
     ]
    }
   ],
   "source": [
    "# importamos os módulos que precisamos\n",
    "from sklearn.metrics import classification_report\n",
    "from sklearn.metrics import confusion_matrix\n",
    "\n",
    "# vamos ver as métricas para o KNN\n",
    "rótulos = [ 'nao renova','renova']\n",
    "print(confusion_matrix(y_test, y_pred_knn))\n",
    "print(classification_report(y_test, y_pred_knn, target_names = rótulos))\n",
    "# vamos ver as métricas para a regressão logística\n",
    "print(confusion_matrix(y_test, y_pred_log_reg))\n",
    "print(classification_report(y_test, y_pred_log_reg, target_names = rótulos))"
   ]
  },
  {
   "cell_type": "code",
   "execution_count": 15,
   "metadata": {},
   "outputs": [
    {
     "data": {
      "text/plain": [
       "0.6755555555555556"
      ]
     },
     "execution_count": 15,
     "metadata": {},
     "output_type": "execute_result"
    }
   ],
   "source": [
    "# para verificar a accuracy do modelo aplicamos a função .score\n",
    "knn.score(X_test, y_test)"
   ]
  },
  {
   "cell_type": "code",
   "execution_count": 16,
   "metadata": {},
   "outputs": [
    {
     "data": {
      "text/plain": [
       "0.7177777777777777"
      ]
     },
     "execution_count": 16,
     "metadata": {},
     "output_type": "execute_result"
    }
   ],
   "source": [
    "# para verificar a accuracy do modelo aplicamos a função .score\n",
    "log_reg.score(X_test, y_test)"
   ]
  },
  {
   "cell_type": "code",
   "execution_count": 17,
   "metadata": {},
   "outputs": [
    {
     "data": {
      "image/png": "[encoded data removed]",
      "text/plain": [
       "<Figure size 432x288 with 1 Axes>"
      ]
     },
     "metadata": {
      "needs_background": "light"
     },
     "output_type": "display_data"
    },
    {
     "data": {
      "image/png": "[encoded data removed]",
      "text/plain": [
       "<Figure size 432x288 with 1 Axes>"
      ]
     },
     "metadata": {
      "needs_background": "light"
     },
     "output_type": "display_data"
    }
   ],
   "source": [
    "# importamos a curva roc\n",
    "from sklearn.metrics import roc_curve\n",
    "\n",
    "# Calculamos as probabilidades previstas (.predict_proba)\n",
    "log_reg.predict_proba(X_test)\n",
    "y_pred_log_reg_prob = log_reg.predict_proba(X_test)[:,1] # escolhemos a segunda coluna\n",
    "\n",
    "# Vamos gerar a curva ROC\n",
    "FPR, TPR, thresholds = roc_curve(y_test, y_pred_log_reg_prob)\n",
    "\n",
    "# Vamos visualizar a curva\n",
    "import matplotlib.pyplot as plt\n",
    "plt.plot([0, 1], [0, 1], 'k--')\n",
    "plt.plot(FPR, TPR)\n",
    "plt.xlabel('FPR')\n",
    "plt.ylabel('TPR')\n",
    "plt.title('Curva ROC')\n",
    "plt.show()\n",
    "\n",
    "# vamos visualisar a influência do threshold\n",
    "plt.xlim(0,1.1)\n",
    "plt.ylim(0,1.1)\n",
    "plt.plot(thresholds[1:], TPR[1:])\n",
    "plt.plot(thresholds[1:], FPR[1:])\n",
    "plt.plot([0.5, 0.5], [0, 1.1], 'k--')\n",
    "plt.xlabel('threshold')\n",
    "plt.ylabel('rates')\n",
    "plt.legend(['TPR', 'FPR'])\n",
    "plt.title('Curva ROC')\n",
    "plt.show()"
   ]
  },
  {
   "cell_type": "code",
   "execution_count": 18,
   "metadata": {},
   "outputs": [
    {
     "data": {
      "text/plain": [
       "array([ True,  True,  True, False,  True,  True,  True,  True, False,\n",
       "       False, False,  True,  True,  True,  True,  True,  True,  True,\n",
       "        True, False,  True,  True,  True, False, False,  True,  True,\n",
       "        True, False,  True,  True,  True,  True,  True,  True,  True,\n",
       "        True, False,  True,  True,  True,  True,  True,  True,  True,\n",
       "       False,  True, False, False, False,  True, False, False,  True,\n",
       "        True, False,  True, False, False, False,  True,  True, False,\n",
       "        True,  True,  True,  True,  True, False, False,  True,  True,\n",
       "        True,  True,  True,  True,  True,  True,  True,  True,  True,\n",
       "        True,  True,  True,  True, False, False,  True, False, False,\n",
       "       False,  True,  True,  True, False,  True, False,  True,  True,\n",
       "        True,  True,  True,  True,  True, False,  True,  True, False,\n",
       "        True, False,  True, False, False,  True, False,  True,  True,\n",
       "        True, False, False,  True,  True,  True,  True,  True, False,\n",
       "        True,  True,  True,  True,  True, False, False,  True,  True,\n",
       "       False, False,  True, False,  True,  True,  True,  True,  True,\n",
       "        True, False,  True,  True, False,  True,  True,  True, False,\n",
       "        True,  True,  True, False,  True,  True,  True, False, False,\n",
       "       False, False, False,  True, False,  True,  True,  True,  True,\n",
       "        True,  True,  True,  True,  True,  True,  True, False, False,\n",
       "        True,  True,  True,  True, False,  True,  True,  True, False,\n",
       "        True, False,  True,  True, False, False,  True,  True,  True,\n",
       "       False,  True, False,  True,  True,  True,  True,  True, False,\n",
       "       False, False,  True,  True,  True,  True,  True,  True, False,\n",
       "       False, False, False, False,  True, False,  True,  True, False,\n",
       "       False, False, False,  True,  True,  True, False,  True,  True,\n",
       "        True, False, False,  True,  True,  True, False,  True,  True,\n",
       "       False,  True,  True, False,  True,  True,  True,  True,  True,\n",
       "        True,  True,  True, False,  True, False,  True,  True,  True,\n",
       "        True,  True, False,  True,  True,  True,  True,  True,  True,\n",
       "        True,  True,  True,  True,  True,  True,  True, False,  True,\n",
       "        True, False,  True, False,  True,  True, False,  True, False,\n",
       "        True,  True, False, False,  True, False, False, False, False,\n",
       "       False,  True,  True,  True, False,  True, False,  True, False,\n",
       "       False, False, False, False,  True, False,  True, False,  True,\n",
       "        True, False,  True,  True,  True,  True,  True,  True, False,\n",
       "       False, False, False,  True, False,  True,  True,  True, False,\n",
       "        True,  True, False,  True, False, False,  True,  True,  True,\n",
       "       False,  True, False, False, False,  True,  True,  True,  True,\n",
       "        True,  True, False,  True,  True, False,  True, False,  True,\n",
       "        True,  True,  True,  True,  True,  True,  True,  True,  True,\n",
       "        True,  True, False,  True,  True,  True, False,  True,  True,\n",
       "       False,  True,  True, False,  True,  True, False,  True,  True,\n",
       "       False,  True, False, False,  True,  True,  True,  True,  True,\n",
       "        True,  True,  True,  True, False,  True,  True,  True,  True,\n",
       "       False, False,  True,  True,  True, False,  True,  True,  True,\n",
       "       False,  True,  True, False, False, False,  True,  True,  True,\n",
       "        True,  True, False,  True, False,  True, False,  True, False,\n",
       "       False,  True,  True,  True, False,  True, False, False, False,\n",
       "        True,  True, False,  True,  True,  True, False,  True,  True])"
      ]
     },
     "execution_count": 18,
     "metadata": {},
     "output_type": "execute_result"
    }
   ],
   "source": [
    "log_reg.predict(X_test)"
   ]
  },
  {
   "cell_type": "code",
   "execution_count": 19,
   "metadata": {},
   "outputs": [
    {
     "data": {
      "text/plain": [
       "array([[4.87433264e-01, 5.12566736e-01],\n",
       "       [2.87512179e-01, 7.12487821e-01],\n",
       "       [3.53570456e-01, 6.46429544e-01],\n",
       "       [6.49395684e-01, 3.50604316e-01],\n",
       "       [4.41568861e-01, 5.58431139e-01],\n",
       "       [1.30281961e-02, 9.86971804e-01],\n",
       "       [4.91649968e-01, 5.08350032e-01],\n",
       "       [2.46144176e-02, 9.75385582e-01],\n",
       "       [8.16878551e-01, 1.83121449e-01],\n",
       "       [5.46934069e-01, 4.53065931e-01],\n",
       "       [6.88161490e-01, 3.11838510e-01],\n",
       "       [1.05719124e-01, 8.94280876e-01],\n",
       "       [1.93054548e-02, 9.80694545e-01],\n",
       "       [3.79844655e-01, 6.20155345e-01],\n",
       "       [3.51987842e-02, 9.64801216e-01],\n",
       "       [3.77995601e-01, 6.22004399e-01],\n",
       "       [3.31749825e-01, 6.68250175e-01],\n",
       "       [1.55111855e-01, 8.44888145e-01],\n",
       "       [2.46774625e-01, 7.53225375e-01],\n",
       "       [6.11244840e-01, 3.88755160e-01],\n",
       "       [3.68771416e-01, 6.31228584e-01],\n",
       "       [4.48347574e-01, 5.51652426e-01],\n",
       "       [3.36792393e-01, 6.63207607e-01],\n",
       "       [5.51493523e-01, 4.48506477e-01],\n",
       "       [5.91548892e-01, 4.08451108e-01],\n",
       "       [1.24714297e-01, 8.75285703e-01],\n",
       "       [3.75414960e-01, 6.24585040e-01],\n",
       "       [4.82274788e-01, 5.17725212e-01],\n",
       "       [5.39195582e-01, 4.60804418e-01],\n",
       "       [4.35000256e-01, 5.64999744e-01],\n",
       "       [2.73415884e-01, 7.26584116e-01],\n",
       "       [3.94054378e-01, 6.05945622e-01],\n",
       "       [1.19664542e-01, 8.80335458e-01],\n",
       "       [3.32660015e-01, 6.67339985e-01],\n",
       "       [2.04742018e-01, 7.95257982e-01],\n",
       "       [1.93532119e-01, 8.06467881e-01],\n",
       "       [3.52160200e-01, 6.47839800e-01],\n",
       "       [5.20594574e-01, 4.79405426e-01],\n",
       "       [1.39187125e-01, 8.60812875e-01],\n",
       "       [3.58039299e-01, 6.41960701e-01],\n",
       "       [4.62174654e-01, 5.37825346e-01],\n",
       "       [4.95694277e-01, 5.04305723e-01],\n",
       "       [2.27795120e-01, 7.72204880e-01],\n",
       "       [2.94819367e-01, 7.05180633e-01],\n",
       "       [3.55688922e-01, 6.44311078e-01],\n",
       "       [6.17856659e-01, 3.82143341e-01],\n",
       "       [2.59852309e-01, 7.40147691e-01],\n",
       "       [5.62712479e-01, 4.37287521e-01],\n",
       "       [6.28419345e-01, 3.71580655e-01],\n",
       "       [6.13136509e-01, 3.86863491e-01],\n",
       "       [2.38712696e-01, 7.61287304e-01],\n",
       "       [5.05098179e-01, 4.94901821e-01],\n",
       "       [5.99435355e-01, 4.00564645e-01],\n",
       "       [2.48849549e-01, 7.51150451e-01],\n",
       "       [4.50672586e-01, 5.49327414e-01],\n",
       "       [5.50881553e-01, 4.49118447e-01],\n",
       "       [3.78182161e-01, 6.21817839e-01],\n",
       "       [5.29120559e-01, 4.70879441e-01],\n",
       "       [7.06605764e-01, 2.93394236e-01],\n",
       "       [6.11311472e-01, 3.88688528e-01],\n",
       "       [1.69973509e-01, 8.30026491e-01],\n",
       "       [4.16284172e-01, 5.83715828e-01],\n",
       "       [6.15078475e-01, 3.84921525e-01],\n",
       "       [8.34623864e-02, 9.16537614e-01],\n",
       "       [2.31706232e-02, 9.76829377e-01],\n",
       "       [3.74969350e-01, 6.25030650e-01],\n",
       "       [3.51752500e-01, 6.48247500e-01],\n",
       "       [4.57023262e-01, 5.42976738e-01],\n",
       "       [7.33546559e-01, 2.66453441e-01],\n",
       "       [6.43575682e-01, 3.56424318e-01],\n",
       "       [1.27773024e-01, 8.72226976e-01],\n",
       "       [3.37026947e-01, 6.62973053e-01],\n",
       "       [3.12107730e-01, 6.87892270e-01],\n",
       "       [4.83693023e-01, 5.16306977e-01],\n",
       "       [2.22333123e-01, 7.77666877e-01],\n",
       "       [3.60252457e-01, 6.39747543e-01],\n",
       "       [2.43488189e-02, 9.75651181e-01],\n",
       "       [3.46798316e-01, 6.53201684e-01],\n",
       "       [4.68006927e-01, 5.31993073e-01],\n",
       "       [2.47387281e-01, 7.52612719e-01],\n",
       "       [4.22242105e-01, 5.77757895e-01],\n",
       "       [1.16764879e-01, 8.83235121e-01],\n",
       "       [5.44604626e-02, 9.45539537e-01],\n",
       "       [3.11058583e-02, 9.68894142e-01],\n",
       "       [4.93079149e-01, 5.06920851e-01],\n",
       "       [6.00403804e-01, 3.99596196e-01],\n",
       "       [5.81543660e-01, 4.18456340e-01],\n",
       "       [2.73349536e-01, 7.26650464e-01],\n",
       "       [7.07182731e-01, 2.92817269e-01],\n",
       "       [6.44218879e-01, 3.55781121e-01],\n",
       "       [8.18489931e-01, 1.81510069e-01],\n",
       "       [4.23494998e-01, 5.76505002e-01],\n",
       "       [2.07789552e-01, 7.92210448e-01],\n",
       "       [1.38667603e-01, 8.61332397e-01],\n",
       "       [6.21357708e-01, 3.78642292e-01],\n",
       "       [3.85478699e-01, 6.14521301e-01],\n",
       "       [6.55239080e-01, 3.44760920e-01],\n",
       "       [4.57967213e-01, 5.42032787e-01],\n",
       "       [4.92982027e-01, 5.07017973e-01],\n",
       "       [4.83380962e-01, 5.16619038e-01],\n",
       "       [2.12618138e-01, 7.87381862e-01],\n",
       "       [1.87602337e-01, 8.12397663e-01],\n",
       "       [3.35871864e-01, 6.64128136e-01],\n",
       "       [2.13545452e-01, 7.86454548e-01],\n",
       "       [5.63176455e-01, 4.36823545e-01],\n",
       "       [4.15966209e-02, 9.58403379e-01],\n",
       "       [3.66239010e-01, 6.33760990e-01],\n",
       "       [9.78899045e-01, 2.11009553e-02],\n",
       "       [5.80380335e-02, 9.41961967e-01],\n",
       "       [5.37128734e-01, 4.62871266e-01],\n",
       "       [3.84845168e-01, 6.15154832e-01],\n",
       "       [6.71962975e-01, 3.28037025e-01],\n",
       "       [6.03399042e-01, 3.96600958e-01],\n",
       "       [4.04252519e-01, 5.95747481e-01],\n",
       "       [5.97936877e-01, 4.02063123e-01],\n",
       "       [3.74200638e-01, 6.25799362e-01],\n",
       "       [3.20109591e-01, 6.79890409e-01],\n",
       "       [1.77985807e-01, 8.22014193e-01],\n",
       "       [5.39652048e-01, 4.60347952e-01],\n",
       "       [6.19815426e-01, 3.80184574e-01],\n",
       "       [3.72841439e-01, 6.27158561e-01],\n",
       "       [6.73582366e-02, 9.32641763e-01],\n",
       "       [1.96970662e-01, 8.03029338e-01],\n",
       "       [3.71139973e-02, 9.62886003e-01],\n",
       "       [3.05156686e-01, 6.94843314e-01],\n",
       "       [5.67387416e-01, 4.32612584e-01],\n",
       "       [2.11672848e-01, 7.88327152e-01],\n",
       "       [2.31991123e-02, 9.76800888e-01],\n",
       "       [4.28075429e-01, 5.71924571e-01],\n",
       "       [2.20018212e-01, 7.79981788e-01],\n",
       "       [1.04255777e-02, 9.89574422e-01],\n",
       "       [6.92626869e-01, 3.07373131e-01],\n",
       "       [5.00077719e-01, 4.99922281e-01],\n",
       "       [1.53466928e-01, 8.46533072e-01],\n",
       "       [4.17737012e-01, 5.82262988e-01],\n",
       "       [5.19741238e-01, 4.80258762e-01],\n",
       "       [6.50435660e-01, 3.49564340e-01],\n",
       "       [4.15473037e-02, 9.58452696e-01],\n",
       "       [6.26809317e-01, 3.73190683e-01],\n",
       "       [1.23424312e-01, 8.76575688e-01],\n",
       "       [1.54816185e-01, 8.45183815e-01],\n",
       "       [3.78853306e-01, 6.21146694e-01],\n",
       "       [1.04285414e-01, 8.95714586e-01],\n",
       "       [3.65983146e-02, 9.63401685e-01],\n",
       "       [2.49130207e-02, 9.75086979e-01],\n",
       "       [5.57916567e-01, 4.42083433e-01],\n",
       "       [1.32553885e-01, 8.67446115e-01],\n",
       "       [3.89720761e-01, 6.10279239e-01],\n",
       "       [8.94334601e-01, 1.05665399e-01],\n",
       "       [1.24193646e-01, 8.75806354e-01],\n",
       "       [1.46408096e-01, 8.53591904e-01],\n",
       "       [4.20981929e-01, 5.79018071e-01],\n",
       "       [5.04703856e-01, 4.95296144e-01],\n",
       "       [2.37784958e-01, 7.62215042e-01],\n",
       "       [1.19583710e-01, 8.80416290e-01],\n",
       "       [4.83581858e-01, 5.16418142e-01],\n",
       "       [5.05693632e-01, 4.94306368e-01],\n",
       "       [4.48958682e-01, 5.51041318e-01],\n",
       "       [1.85704834e-02, 9.81429517e-01],\n",
       "       [3.79870596e-01, 6.20129404e-01],\n",
       "       [6.29455731e-01, 3.70544269e-01],\n",
       "       [6.71961313e-01, 3.28038687e-01],\n",
       "       [5.98051267e-01, 4.01948733e-01],\n",
       "       [5.90738335e-01, 4.09261665e-01],\n",
       "       [5.38121237e-01, 4.61878763e-01],\n",
       "       [1.62984548e-01, 8.37015452e-01],\n",
       "       [5.78426572e-01, 4.21573428e-01],\n",
       "       [1.31793107e-01, 8.68206893e-01],\n",
       "       [3.88022828e-01, 6.11977172e-01],\n",
       "       [8.30684589e-02, 9.16931541e-01],\n",
       "       [2.16180386e-01, 7.83819614e-01],\n",
       "       [2.79673703e-01, 7.20326297e-01],\n",
       "       [8.52806369e-02, 9.14719363e-01],\n",
       "       [2.93193903e-01, 7.06806097e-01],\n",
       "       [1.54108122e-02, 9.84589188e-01],\n",
       "       [2.44916411e-01, 7.55083589e-01],\n",
       "       [4.62007777e-01, 5.37992223e-01],\n",
       "       [4.61133468e-01, 5.38866532e-01],\n",
       "       [7.59500283e-01, 2.40499717e-01],\n",
       "       [5.32737923e-01, 4.67262077e-01],\n",
       "       [2.55529522e-02, 9.74447048e-01],\n",
       "       [4.99158202e-01, 5.00841798e-01],\n",
       "       [4.12687854e-01, 5.87312146e-01],\n",
       "       [1.87592770e-01, 8.12407230e-01],\n",
       "       [5.06975125e-01, 4.93024875e-01],\n",
       "       [3.63450700e-01, 6.36549300e-01],\n",
       "       [3.16457247e-01, 6.83542753e-01],\n",
       "       [1.11488867e-01, 8.88511133e-01],\n",
       "       [5.04596492e-01, 4.95403508e-01],\n",
       "       [7.08523158e-02, 9.29147684e-01],\n",
       "       [6.14811190e-01, 3.85188810e-01],\n",
       "       [7.26235608e-02, 9.27376439e-01],\n",
       "       [3.45323909e-01, 6.54676091e-01],\n",
       "       [5.47507634e-01, 4.52492366e-01],\n",
       "       [6.46911522e-01, 3.53088478e-01],\n",
       "       [1.49847535e-01, 8.50152465e-01],\n",
       "       [2.67265196e-01, 7.32734804e-01],\n",
       "       [1.27308861e-01, 8.72691139e-01],\n",
       "       [5.18273507e-01, 4.81726493e-01],\n",
       "       [4.16989376e-01, 5.83010624e-01],\n",
       "       [5.86060168e-01, 4.13939832e-01],\n",
       "       [2.33895512e-01, 7.66104488e-01],\n",
       "       [1.84019986e-01, 8.15980014e-01],\n",
       "       [2.68729676e-01, 7.31270324e-01],\n",
       "       [2.59402740e-01, 7.40597260e-01],\n",
       "       [1.57214129e-01, 8.42785871e-01],\n",
       "       [5.93616510e-01, 4.06383490e-01],\n",
       "       [7.23534399e-01, 2.76465601e-01],\n",
       "       [5.63616496e-01, 4.36383504e-01],\n",
       "       [6.87114028e-03, 9.93128860e-01],\n",
       "       [1.01294630e-01, 8.98705370e-01],\n",
       "       [5.86679456e-02, 9.41332054e-01],\n",
       "       [1.70211338e-01, 8.29788662e-01],\n",
       "       [9.90420605e-03, 9.90095794e-01],\n",
       "       [1.33731352e-01, 8.66268648e-01],\n",
       "       [6.53034247e-01, 3.46965753e-01],\n",
       "       [8.24111882e-01, 1.75888118e-01],\n",
       "       [6.33071595e-01, 3.66928405e-01],\n",
       "       [5.00104243e-01, 4.99895757e-01],\n",
       "       [5.40730259e-01, 4.59269741e-01],\n",
       "       [4.20126913e-01, 5.79873087e-01],\n",
       "       [5.03718140e-01, 4.96281860e-01],\n",
       "       [1.08670612e-02, 9.89132939e-01],\n",
       "       [4.86104419e-01, 5.13895581e-01],\n",
       "       [5.63662208e-01, 4.36337792e-01],\n",
       "       [5.07493387e-01, 4.92506613e-01],\n",
       "       [7.46094317e-01, 2.53905683e-01],\n",
       "       [5.23655158e-01, 4.76344842e-01],\n",
       "       [4.66877556e-01, 5.33122444e-01],\n",
       "       [3.37578949e-01, 6.62421051e-01],\n",
       "       [4.53768211e-01, 5.46231789e-01],\n",
       "       [6.72046192e-01, 3.27953808e-01],\n",
       "       [3.14571876e-01, 6.85428124e-01],\n",
       "       [6.84655754e-02, 9.31534425e-01],\n",
       "       [3.05537260e-02, 9.69446274e-01],\n",
       "       [5.11308071e-01, 4.88691929e-01],\n",
       "       [5.74691555e-01, 4.25308445e-01],\n",
       "       [1.95319882e-01, 8.04680118e-01],\n",
       "       [9.07505569e-02, 9.09249443e-01],\n",
       "       [4.41181634e-01, 5.58818366e-01],\n",
       "       [6.02536775e-01, 3.97463225e-01],\n",
       "       [3.12264199e-01, 6.87735801e-01],\n",
       "       [2.55496078e-01, 7.44503922e-01],\n",
       "       [6.03646759e-01, 3.96353241e-01],\n",
       "       [3.37089531e-02, 9.66291047e-01],\n",
       "       [6.95573479e-02, 9.30442652e-01],\n",
       "       [5.38788699e-01, 4.61211301e-01],\n",
       "       [4.51410880e-01, 5.48589120e-01],\n",
       "       [1.03182544e-01, 8.96817456e-01],\n",
       "       [3.61766601e-01, 6.38233399e-01],\n",
       "       [4.23942798e-01, 5.76057202e-01],\n",
       "       [1.48178542e-01, 8.51821458e-01],\n",
       "       [6.78998931e-02, 9.32100107e-01],\n",
       "       [5.65348463e-02, 9.43465154e-01],\n",
       "       [3.57581495e-01, 6.42418505e-01],\n",
       "       [5.00851046e-01, 4.99148954e-01],\n",
       "       [1.53725405e-02, 9.84627459e-01],\n",
       "       [5.88302967e-01, 4.11697033e-01],\n",
       "       [3.18111966e-01, 6.81888034e-01],\n",
       "       [3.13695865e-01, 6.86304135e-01],\n",
       "       [3.23983721e-01, 6.76016279e-01],\n",
       "       [3.71837469e-01, 6.28162531e-01],\n",
       "       [2.10542051e-01, 7.89457949e-01],\n",
       "       [5.10137870e-01, 4.89862130e-01],\n",
       "       [3.27790266e-01, 6.72209734e-01],\n",
       "       [2.11298416e-01, 7.88701584e-01],\n",
       "       [3.86448121e-01, 6.13551879e-01],\n",
       "       [2.70564912e-02, 9.72943509e-01],\n",
       "       [4.10081773e-01, 5.89918227e-01],\n",
       "       [3.10505136e-01, 6.89494864e-01],\n",
       "       [1.30146878e-01, 8.69853122e-01],\n",
       "       [3.43881513e-01, 6.56118487e-01],\n",
       "       [4.78261789e-02, 9.52173821e-01],\n",
       "       [2.72987106e-01, 7.27012894e-01],\n",
       "       [8.29639636e-03, 9.91703604e-01],\n",
       "       [4.75635794e-02, 9.52436421e-01],\n",
       "       [3.02668171e-02, 9.69733183e-01],\n",
       "       [7.01858780e-01, 2.98141220e-01],\n",
       "       [1.65751529e-02, 9.83424847e-01],\n",
       "       [2.58278687e-02, 9.74172131e-01],\n",
       "       [5.19826566e-01, 4.80173434e-01],\n",
       "       [2.80968777e-01, 7.19031223e-01],\n",
       "       [5.61690072e-01, 4.38309928e-01],\n",
       "       [2.28304740e-01, 7.71695260e-01],\n",
       "       [2.50756861e-01, 7.49243139e-01],\n",
       "       [6.39067693e-01, 3.60932307e-01],\n",
       "       [3.48982597e-01, 6.51017403e-01],\n",
       "       [5.84170543e-01, 4.15829457e-01],\n",
       "       [4.66249973e-01, 5.33750027e-01],\n",
       "       [3.71391444e-01, 6.28608556e-01],\n",
       "       [7.31251915e-01, 2.68748085e-01],\n",
       "       [9.78359713e-01, 2.16402870e-02],\n",
       "       [1.09740718e-01, 8.90259282e-01],\n",
       "       [7.38766850e-01, 2.61233150e-01],\n",
       "       [6.11909176e-01, 3.88090824e-01],\n",
       "       [6.34246689e-01, 3.65753311e-01],\n",
       "       [5.31549744e-01, 4.68450256e-01],\n",
       "       [6.28181778e-01, 3.71818222e-01],\n",
       "       [1.87177539e-02, 9.81282246e-01],\n",
       "       [4.76544781e-01, 5.23455219e-01],\n",
       "       [2.51218837e-01, 7.48781163e-01],\n",
       "       [6.42892487e-01, 3.57107513e-01],\n",
       "       [4.11872477e-02, 9.58812752e-01],\n",
       "       [5.52320540e-01, 4.47679460e-01],\n",
       "       [1.64507237e-01, 8.35492763e-01],\n",
       "       [6.04014966e-01, 3.95985034e-01],\n",
       "       [8.99531766e-01, 1.00468234e-01],\n",
       "       [7.93311435e-01, 2.06688565e-01],\n",
       "       [7.66450396e-01, 2.33549604e-01],\n",
       "       [6.33055347e-01, 3.66944653e-01],\n",
       "       [8.63960129e-02, 9.13603987e-01],\n",
       "       [5.61066126e-01, 4.38933874e-01],\n",
       "       [3.35269406e-01, 6.64730594e-01],\n",
       "       [6.63612459e-01, 3.36387541e-01],\n",
       "       [1.97422172e-01, 8.02577828e-01],\n",
       "       [4.25095643e-01, 5.74904357e-01],\n",
       "       [5.47533992e-01, 4.52466008e-01],\n",
       "       [4.23884158e-01, 5.76115842e-01],\n",
       "       [4.97236801e-01, 5.02763199e-01],\n",
       "       [3.41715056e-01, 6.58284944e-01],\n",
       "       [1.95317775e-01, 8.04682225e-01],\n",
       "       [4.11194746e-01, 5.88805254e-01],\n",
       "       [4.91747931e-01, 5.08252069e-01],\n",
       "       [5.18763403e-01, 4.81236597e-01],\n",
       "       [5.51059274e-01, 4.48940726e-01],\n",
       "       [5.36404929e-01, 4.63595071e-01],\n",
       "       [5.01828749e-01, 4.98171251e-01],\n",
       "       [3.81558500e-01, 6.18441500e-01],\n",
       "       [6.13661602e-01, 3.86338398e-01],\n",
       "       [1.32494155e-01, 8.67505845e-01],\n",
       "       [4.55847428e-01, 5.44152572e-01],\n",
       "       [9.86033247e-02, 9.01396675e-01],\n",
       "       [5.47336398e-01, 4.52663602e-01],\n",
       "       [3.31876056e-01, 6.68123944e-01],\n",
       "       [1.90486673e-01, 8.09513327e-01],\n",
       "       [5.21356848e-01, 4.78643152e-01],\n",
       "       [3.25569136e-01, 6.74430864e-01],\n",
       "       [8.26007706e-01, 1.73992294e-01],\n",
       "       [5.63160102e-01, 4.36839898e-01],\n",
       "       [4.93480243e-01, 5.06519757e-01],\n",
       "       [1.84553914e-01, 8.15446086e-01],\n",
       "       [1.70737591e-01, 8.29262409e-01],\n",
       "       [5.49295319e-01, 4.50704681e-01],\n",
       "       [4.19900960e-01, 5.80099040e-01],\n",
       "       [6.06237168e-01, 3.93762832e-01],\n",
       "       [6.71045074e-01, 3.28954926e-01],\n",
       "       [5.87712845e-01, 4.12287155e-01],\n",
       "       [4.64272294e-01, 5.35727706e-01],\n",
       "       [3.33053993e-01, 6.66946007e-01],\n",
       "       [2.82561089e-02, 9.71743891e-01],\n",
       "       [2.48372247e-01, 7.51627753e-01],\n",
       "       [3.56829117e-01, 6.43170883e-01],\n",
       "       [1.23778169e-02, 9.87622183e-01],\n",
       "       [5.72441358e-01, 4.27558642e-01],\n",
       "       [4.30462372e-01, 5.69537628e-01],\n",
       "       [1.13409639e-01, 8.86590361e-01],\n",
       "       [6.64355970e-01, 3.35644030e-01],\n",
       "       [1.42413190e-01, 8.57586810e-01],\n",
       "       [8.99306208e-01, 1.00693792e-01],\n",
       "       [4.01509897e-01, 5.98490103e-01],\n",
       "       [1.25701723e-01, 8.74298277e-01],\n",
       "       [1.33277094e-01, 8.66722906e-01],\n",
       "       [1.28008000e-01, 8.71992000e-01],\n",
       "       [3.74839264e-02, 9.62516074e-01],\n",
       "       [9.43481974e-02, 9.05651803e-01],\n",
       "       [9.32564318e-02, 9.06743568e-01],\n",
       "       [1.96554098e-01, 8.03445902e-01],\n",
       "       [1.69662132e-01, 8.30337868e-01],\n",
       "       [4.95268153e-01, 5.04731847e-01],\n",
       "       [1.78065667e-01, 8.21934333e-01],\n",
       "       [2.11308598e-01, 7.88691402e-01],\n",
       "       [6.02175238e-01, 3.97824762e-01],\n",
       "       [2.64491957e-01, 7.35508043e-01],\n",
       "       [3.58303187e-01, 6.41696813e-01],\n",
       "       [2.69548821e-01, 7.30451179e-01],\n",
       "       [5.90335060e-01, 4.09664940e-01],\n",
       "       [3.62244297e-01, 6.37755703e-01],\n",
       "       [8.20719851e-02, 9.17928015e-01],\n",
       "       [5.58876796e-01, 4.41123204e-01],\n",
       "       [4.98969224e-01, 5.01030776e-01],\n",
       "       [2.25916225e-01, 7.74083775e-01],\n",
       "       [6.53276525e-01, 3.46723475e-01],\n",
       "       [1.62532771e-01, 8.37467229e-01],\n",
       "       [2.16153101e-01, 7.83846899e-01],\n",
       "       [5.08794700e-01, 4.91205300e-01],\n",
       "       [1.07094200e-01, 8.92905800e-01],\n",
       "       [3.78155386e-01, 6.21844614e-01],\n",
       "       [7.25803651e-01, 2.74196349e-01],\n",
       "       [1.40371072e-01, 8.59628928e-01],\n",
       "       [8.36929411e-01, 1.63070589e-01],\n",
       "       [5.76731175e-01, 4.23268825e-01],\n",
       "       [7.94520383e-07, 9.99999205e-01],\n",
       "       [4.28180655e-01, 5.71819345e-01],\n",
       "       [3.88817230e-01, 6.11182770e-01],\n",
       "       [3.03697045e-01, 6.96302955e-01],\n",
       "       [7.07032978e-02, 9.29296702e-01],\n",
       "       [8.01805346e-02, 9.19819465e-01],\n",
       "       [4.33840581e-01, 5.66159419e-01],\n",
       "       [4.99337629e-01, 5.00662371e-01],\n",
       "       [3.34219993e-01, 6.65780007e-01],\n",
       "       [6.40754178e-01, 3.59245822e-01],\n",
       "       [4.52314759e-02, 9.54768524e-01],\n",
       "       [2.89466833e-01, 7.10533167e-01],\n",
       "       [3.16535784e-01, 6.83464216e-01],\n",
       "       [1.47384845e-02, 9.85261516e-01],\n",
       "       [5.53487903e-01, 4.46512097e-01],\n",
       "       [5.90353863e-01, 4.09646137e-01],\n",
       "       [5.46207396e-02, 9.45379260e-01],\n",
       "       [2.81291550e-01, 7.18708450e-01],\n",
       "       [2.70507217e-01, 7.29492783e-01],\n",
       "       [5.91886372e-01, 4.08113628e-01],\n",
       "       [1.79936766e-01, 8.20063234e-01],\n",
       "       [8.89931533e-02, 9.11006847e-01],\n",
       "       [3.86776558e-01, 6.13223442e-01],\n",
       "       [5.90028957e-01, 4.09971043e-01],\n",
       "       [4.96071285e-01, 5.03928715e-01],\n",
       "       [2.99849336e-01, 7.00150664e-01],\n",
       "       [5.53248709e-01, 4.46751291e-01],\n",
       "       [5.65564977e-01, 4.34435023e-01],\n",
       "       [6.34786292e-01, 3.65213708e-01],\n",
       "       [2.30039914e-01, 7.69960086e-01],\n",
       "       [2.73585220e-01, 7.26414780e-01],\n",
       "       [4.25281386e-01, 5.74718614e-01],\n",
       "       [4.58198592e-01, 5.41801408e-01],\n",
       "       [3.60532497e-01, 6.39467503e-01],\n",
       "       [8.11130072e-01, 1.88869928e-01],\n",
       "       [3.16536868e-01, 6.83463132e-01],\n",
       "       [5.59974274e-01, 4.40025726e-01],\n",
       "       [2.74828778e-01, 7.25171222e-01],\n",
       "       [5.42719683e-01, 4.57280317e-01],\n",
       "       [1.49480732e-01, 8.50519268e-01],\n",
       "       [6.49611260e-01, 3.50388740e-01],\n",
       "       [5.11746303e-01, 4.88253697e-01],\n",
       "       [4.75996968e-01, 5.24003032e-01],\n",
       "       [2.18657568e-01, 7.81342432e-01],\n",
       "       [5.02608989e-02, 9.49739101e-01],\n",
       "       [5.16978492e-01, 4.83021508e-01],\n",
       "       [4.95883065e-01, 5.04116935e-01],\n",
       "       [5.62046119e-01, 4.37953881e-01],\n",
       "       [9.33435996e-01, 6.65640042e-02],\n",
       "       [6.53730022e-01, 3.46269978e-01],\n",
       "       [1.59579896e-01, 8.40420104e-01],\n",
       "       [8.60690998e-02, 9.13930900e-01],\n",
       "       [6.44501866e-01, 3.55498134e-01],\n",
       "       [1.63380011e-01, 8.36619989e-01],\n",
       "       [3.26641179e-01, 6.73358821e-01],\n",
       "       [1.94086187e-01, 8.05913813e-01],\n",
       "       [5.22128731e-01, 4.77871269e-01],\n",
       "       [3.64165337e-01, 6.35834663e-01],\n",
       "       [1.95487583e-01, 8.04512417e-01]])"
      ]
     },
     "execution_count": 19,
     "metadata": {},
     "output_type": "execute_result"
    }
   ],
   "source": [
    "log_reg.predict_proba(X_test)"
   ]
  },
  {
   "cell_type": "code",
   "execution_count": 20,
   "metadata": {},
   "outputs": [
    {
     "name": "stdout",
     "output_type": "stream",
     "text": [
      "Previsões: [ True  True  True False False  True  True  True False False  True  True\n",
      "  True  True  True  True  True  True  True False False  True  True False\n",
      "  True  True  True  True  True  True  True False  True  True  True  True\n",
      " False False  True  True  True False  True  True  True False  True False\n",
      " False False  True False False  True  True False False  True False  True\n",
      "  True False False  True  True False  True False False False  True  True\n",
      " False  True  True  True  True False  True  True  True  True  True  True\n",
      "  True  True False  True False False False  True  True  True False False\n",
      "  True  True False  True False  True  True  True False  True  True False\n",
      "  True  True  True False  True  True False  True  True  True False False\n",
      "  True  True False  True  True False  True  True  True  True  True False\n",
      "  True  True  True False  True  True  True  True  True  True  True  True\n",
      "  True False  True  True False  True  True  True  True  True  True  True\n",
      "  True False  True  True False False False  True False  True False  True\n",
      "  True  True  True  True  True  True  True  True False  True False False\n",
      "  True False  True  True False  True  True  True  True  True False  True\n",
      "  True  True False  True  True  True  True  True False  True  True  True\n",
      "  True  True  True  True False  True  True  True  True  True  True False\n",
      " False False False  True False  True  True  True  True False False  True\n",
      "  True  True  True False False  True  True False False  True  True  True\n",
      " False  True  True False  True  True  True  True  True  True  True  True\n",
      "  True  True False  True  True False  True  True  True  True  True False\n",
      "  True  True  True  True  True  True  True  True  True False  True  True\n",
      "  True False  True  True False  True  True  True False False  True  True\n",
      "  True False False  True  True  True  True False False  True  True False\n",
      "  True False  True  True  True  True False False False  True  True False\n",
      "  True False  True False  True False False  True  True  True  True False\n",
      " False False False  True False  True  True  True False  True  True  True\n",
      "  True  True False False  True  True  True  True False False False  True\n",
      "  True  True  True  True  True False False  True False  True False  True\n",
      "  True  True  True  True  True  True  True  True False  True  True False\n",
      "  True  True  True False  True  True  True False  True  True  True  True\n",
      "  True  True  True False  True False  True  True  True  True  True  True\n",
      "  True  True  True  True False  True  True  True  True False False  True\n",
      " False False False  True  True  True  True  True  True False  True False\n",
      "  True  True  True False False  True False  True  True False  True False\n",
      "  True False  True  True False  True False False False  True  True False\n",
      "  True  True  True  True  True  True]\n",
      "Reais:     [False  True False False  True  True False  True False  True False  True\n",
      "  True  True  True False  True False False False  True  True  True  True\n",
      " False  True  True  True  True  True  True False  True  True  True  True\n",
      "  True False  True  True  True  True False  True False  True False False\n",
      "  True False False  True False  True  True False False False False  True\n",
      "  True  True False  True  True False  True  True False False  True  True\n",
      "  True  True False False  True  True  True  True  True  True  True  True\n",
      " False False  True False False False False  True False  True False  True\n",
      "  True  True  True False  True  True  True  True  True False  True False\n",
      "  True  True False False False  True False False False  True False False\n",
      "  True  True  True  True False  True  True  True  True  True  True  True\n",
      " False False  True  True False  True False  True  True False  True  True\n",
      " False False  True False False  True  True  True False  True  True  True\n",
      "  True False  True  True False False False  True  True  True False  True\n",
      "  True  True False  True  True False  True  True  True False False False\n",
      "  True  True  True False False  True  True  True False  True False  True\n",
      "  True  True False  True  True  True  True  True  True False  True  True\n",
      "  True  True False  True  True  True  True  True  True  True  True False\n",
      " False False  True False False  True  True False  True False False  True\n",
      "  True  True False False  True  True  True False False False  True False\n",
      "  True  True  True  True  True  True  True  True False  True  True  True\n",
      "  True  True False False  True  True  True False  True  True False  True\n",
      "  True False  True  True  True  True  True  True  True  True  True  True\n",
      " False False  True  True False  True False False  True False  True False\n",
      "  True  True False False  True False  True False False False  True False\n",
      "  True False  True False  True False False False False  True False  True\n",
      "  True  True False  True  True False  True  True False  True False False\n",
      "  True  True  True  True  True  True  True  True  True  True  True False\n",
      " False False False False  True  True False  True False False False  True\n",
      "  True  True  True  True  True  True False  True False False False  True\n",
      "  True  True  True  True  True  True  True  True  True  True  True  True\n",
      "  True  True  True False  True  True False False  True False  True False\n",
      "  True  True  True False False False  True  True False False  True  True\n",
      "  True  True  True False False  True False  True  True  True False False\n",
      " False  True  True  True  True  True False False  True  True False  True\n",
      "  True  True  True False False False False False  True  True False  True\n",
      " False False  True  True  True  True  True  True  True  True  True  True\n",
      "  True  True  True False  True  True]\n"
     ]
    }
   ],
   "source": [
    "# Vamos aplicar o modelo e prever para os dados de teste (método .predict())\n",
    "y_pred = knn.predict(X_test)\n",
    "\n",
    "#Vamos ver os resultados\n",
    "print('Previsões: {}'.format(y_pred))\n",
    "print('Reais:     {}'.format(y_test.values))"
   ]
  },
  {
   "cell_type": "code",
   "execution_count": 21,
   "metadata": {},
   "outputs": [
    {
     "name": "stdout",
     "output_type": "stream",
     "text": [
      "Counts of True and False values in y_pred:\n",
      "True: 312\n",
      "False: 138\n"
     ]
    }
   ],
   "source": [
    "# Count the number of True values\n",
    "true_count = np.count_nonzero(y_pred)\n",
    "\n",
    "# Count the number of False values\n",
    "false_count = y_pred.size - true_count\n",
    "\n",
    "# Print the counts\n",
    "print(\"Counts of True and False values in y_pred:\")\n",
    "print(f\"True: {true_count}\")\n",
    "print(f\"False: {false_count}\")"
   ]
  }
 ],
 "metadata": {
  "kernelspec": {
   "display_name": "Python 3",
   "language": "python",
   "name": "python3"
  },
  "language_info": {
   "codemirror_mode": {
    "name": "ipython",
    "version": 3
   },
   "file_extension": ".py",
   "mimetype": "text/x-python",
   "name": "python",
   "nbconvert_exporter": "python",
   "pygments_lexer": "ipython3",
   "version": "3.9.5"
  }
 },
 "nbformat": 4,
 "nbformat_minor": 2
}
