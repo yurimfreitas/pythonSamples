{
  "cells": [
    {
      "cell_type": "markdown",
      "metadata": {
        "id": "Z2Ur5SspUJlO"
      },
      "source": [
        "#Introdução ao NumPy"
      ]
    },
    {
      "cell_type": "markdown",
      "metadata": {
        "id": "U_oZuYBpzBwy"
      },
      "source": [
        "\n",
        "---\n",
        "\n",
        "\n",
        "[documentação](https://numpy.org/doc/stable/index.html)\n",
        "\n",
        "\n",
        "\n",
        "---\n",
        "\n"
      ]
    },
    {
      "cell_type": "markdown",
      "metadata": {
        "colab_type": "toc",
        "id": "75aJlH4t3tgm"
      },
      "source": [
        ">[Introdução ao NumPy](#scrollTo=Z2Ur5SspUJlO)\n",
        "\n",
        ">>[1. vamos começar por importar a biblioteca](#scrollTo=ZxiRWYNLgXq-)\n",
        "\n",
        ">>[2. vamos criar um array de uma dimensão (1D) usando uma lista](#scrollTo=_o03LNFpg4li)\n",
        "\n",
        ">>[3. vamos agora criar um array 2D](#scrollTo=WCMytX22iGbd)\n",
        "\n",
        ">>[4. Qual a razão de utilizar NumPy arrays, quando podíamos usar listas?](#scrollTo=_4BWcPvKj3Sg)\n",
        "\n",
        ">>[5.  Vamos ver outras funções da biblioteca](#scrollTo=4DVNUOAW8nNk)\n",
        "\n",
        ">>[6. Vamos agora criar um array 3D](#scrollTo=0KNxsZldV1Vv)\n",
        "\n",
        ">>[7. Vamos agora utilizar as funções](#scrollTo=jLwnrNFEV_-X)\n",
        "\n"
      ]
    },
    {
      "cell_type": "markdown",
      "metadata": {
        "id": "ZxiRWYNLgXq-"
      },
      "source": [
        "## 1.&nbsp;vamos começar por importar a biblioteca"
      ]
    },
    {
      "cell_type": "code",
      "execution_count": 2,
      "metadata": {
        "id": "pod4QBVAUU1G"
      },
      "outputs": [],
      "source": [
        "import numpy as np"
      ]
    },
    {
      "cell_type": "markdown",
      "metadata": {
        "id": "_o03LNFpg4li"
      },
      "source": [
        "## 2.&nbsp;vamos criar um array de uma dimensão (1D) usando uma lista"
      ]
    },
    {
      "cell_type": "code",
      "execution_count": 3,
      "metadata": {
        "colab": {
          "base_uri": "https://localhost:8080/"
        },
        "id": "q4qwDGnngskT",
        "outputId": "cc784f3e-e36b-42dc-d269-1ff36951d414"
      },
      "outputs": [
        {
          "name": "stdout",
          "output_type": "stream",
          "text": [
            "[0, 1, 2, 3, 4, 5, 6, 7, 8, 9]\n",
            "[0 1 2 3 4 5 6 7 8 9]\n",
            "<class 'list'>\n",
            "<class 'numpy.ndarray'>\n",
            "(10,)\n"
          ]
        }
      ],
      "source": [
        "# elemento lista do python\n",
        "python_list = [0, 1, 2, 3, 4, 5, 6, 7, 8, 9]\n",
        "\n",
        "# elemento array 1D\n",
        "array_1D = np.array(python_list)\n",
        "\n",
        "# vamos ver as duas variáveis\n",
        "print(python_list)\n",
        "print(array_1D)\n",
        "\n",
        "# vamos ver os tipos das variáveis\n",
        "print(type(python_list))\n",
        "print(type(array_1D))\n",
        "print(array_1D.shape)"
      ]
    },
    {
      "cell_type": "markdown",
      "metadata": {
        "id": "WCMytX22iGbd"
      },
      "source": [
        "##3.&nbsp;vamos agora criar um array 2D\n",
        "Para isso usamos uma lista de listas <br>\n",
        "Um array 3D é criado com uma lista de listas de listas\n",
        "\n",
        "\n",
        "\n"
      ]
    },
    {
      "cell_type": "code",
      "execution_count": 3,
      "metadata": {
        "colab": {
          "base_uri": "https://localhost:8080/"
        },
        "id": "Teo8mpmIiE-C",
        "outputId": "c66e726f-4d58-48a2-92c7-82b1db6f9ffc"
      },
      "outputs": [
        {
          "name": "stdout",
          "output_type": "stream",
          "text": [
            "[[1 2 3]\n",
            " [4 5 6]\n",
            " [7 8 9]]\n",
            "<class 'numpy.ndarray'>\n",
            "(3, 3)\n"
          ]
        }
      ],
      "source": [
        "# lista de listas\n",
        "python_list_of_lists = [[1, 2, 3],\n",
        "                        [4, 5, 6],\n",
        "                        [7, 8, 9]]\n",
        "\n",
        "# array 2D\n",
        "array_2D = np.array(python_list_of_lists)\n",
        "\n",
        "# vamos ver a variável e o seu tipo\n",
        "print(array_2D)\n",
        "print(type(array_2D))\n",
        "print(array_2D.shape)"
      ]
    },
    {
      "cell_type": "markdown",
      "metadata": {
        "id": "_4BWcPvKj3Sg"
      },
      "source": [
        "##4.&nbsp;Qual a razão de utilizar NumPy arrays, quando podíamos usar listas?\n",
        "Enquanto que uma lista aceita diferentes tipos de dados, um NumPy array apenas aceita o mesmo tipo de dados em todos os elementos"
      ]
    },
    {
      "cell_type": "code",
      "execution_count": 7,
      "metadata": {
        "colab": {
          "base_uri": "https://localhost:8080/"
        },
        "id": "QSFYA0Lkj2-d",
        "outputId": "56f87b5c-6507-46af-9d61-d7a57e889144"
      },
      "outputs": [
        {
          "name": "stdout",
          "output_type": "stream",
          "text": [
            "['teste', False, 3567, 0.567, [1, 2, 3]]\n",
            "[[ True False]\n",
            " [False False]\n",
            " [False  True]]\n",
            "(3, 2)\n",
            "[2.5 4.3 6.7]\n",
            "(3,)\n"
          ]
        }
      ],
      "source": [
        "# lista com diferentes tipos de dados\n",
        "python_list_2 = [\"teste\", False, 3567, 0.567, [1,2,3]]\n",
        "\n",
        "print(python_list_2)\n",
        "# NumPy array\n",
        "boolean_array = np.array([[True, False], [False, False], [False, True]])\n",
        "print(boolean_array)\n",
        "print(boolean_array.shape)\n",
        "float_array = np.array([2.5, 4.3, 6.7])\n",
        "print(float_array)\n",
        "print(float_array.shape)"
      ]
    },
    {
      "cell_type": "markdown",
      "metadata": {
        "id": "4DVNUOAW8nNk"
      },
      "source": [
        "##5.&nbsp; Vamos ver outras funções da biblioteca"
      ]
    },
    {
      "cell_type": "code",
      "execution_count": 13,
      "metadata": {
        "id": "1z9l0Rd07Qhz"
      },
      "outputs": [
        {
          "name": "stdout",
          "output_type": "stream",
          "text": [
            "[[[0. 0. 0.]\n",
            "  [0. 0. 0.]]\n",
            "\n",
            " [[0. 0. 0.]\n",
            "  [0. 0. 0.]]]\n",
            "[[[1. 1. 1.]\n",
            "  [1. 1. 1.]]\n",
            "\n",
            " [[1. 1. 1.]\n",
            "  [1. 1. 1.]]]\n",
            "[[0.78047053 0.39733618 0.85138333 0.99462329 0.8980728  0.0136752\n",
            "  0.18557809 0.72209041 0.66439556 0.18554341]\n",
            " [0.16471183 0.18671565 0.10944081 0.06962611 0.35383938 0.20591061\n",
            "  0.7434036  0.09799072 0.03972904 0.78128549]]\n",
            "[[3 1 1 3]\n",
            " [2 0 0 2]]\n",
            "[[6.36598737e-314 6.36598737e-314]\n",
            " [4.24399158e-314 4.24399158e-314]]\n",
            "[1.  1.5 2.  2.5]\n"
          ]
        }
      ],
      "source": [
        "# array de zeros\n",
        "array_of_zeros = np.zeros((2,2,3)) # tuple\n",
        "print(array_of_zeros)\n",
        "\n",
        "#array de uns\n",
        "array_of_ones = np.ones((2,2,3)) # tuple\n",
        "print(array_of_ones)\n",
        "\n",
        "# array de números aleatórios entre 0 e 1\n",
        "array_of_random_numbers = np.random.random((2,10)) # tuple\n",
        "print(array_of_random_numbers)\n",
        "\n",
        "# array de números inteiros\n",
        "array_of_random_int_numbers = np.random.randint(5, size=(2, 4)) # (min,max,size)\n",
        "print(array_of_random_int_numbers)\n",
        "\n",
        "# array de inicialização\n",
        "initialisation_array = np.empty((2,2)) #tuple\n",
        "print(initialisation_array)\n",
        "\n",
        "# array sequência\n",
        "sequence_array = np.arange(1,3,0.5) # (min,max,size)\n",
        "print(sequence_array)"
      ]
    },
    {
      "cell_type": "markdown",
      "metadata": {
        "id": "0KNxsZldV1Vv"
      },
      "source": [
        "##6.&nbsp;Vamos agora criar um array 3D\n",
        "Para isso usamos uma lista de listas de listas <br>"
      ]
    },
    {
      "cell_type": "code",
      "execution_count": 18,
      "metadata": {
        "colab": {
          "base_uri": "https://localhost:8080/"
        },
        "id": "by3YHGCznUpq",
        "outputId": "8d6a128d-a12f-447e-bb20-bb59fe71b2bb"
      },
      "outputs": [
        {
          "name": "stdout",
          "output_type": "stream",
          "text": [
            "(2, 2)\n",
            "[[[1 2]\n",
            "  [3 4]]\n",
            "\n",
            " [[5 6]\n",
            "  [7 8]]]\n",
            "(2, 2, 2)\n",
            "<class 'numpy.ndarray'>\n",
            "(2, 2, 2)\n"
          ]
        }
      ],
      "source": [
        "# 2 arrays 2D\n",
        "array_1_2D = np.array([[1, 2], [3, 4]])\n",
        "array_2_2D = np.array([[5, 6], [7, 8]])\n",
        "\n",
        "print(array_2_2D.shape)\n",
        "# array 3D\n",
        "array_3D = np.array([array_1_2D, array_2_2D])\n",
        "print(array_3D)\n",
        "\n",
        "print(array_3D.shape)\n",
        "\n",
        "# vamos ver os tipos das variáveis\n",
        "print(type(array_3D))\n",
        "print(array_3D.shape)"
      ]
    },
    {
      "cell_type": "markdown",
      "metadata": {
        "id": "jLwnrNFEV_-X"
      },
      "source": [
        "##7.&nbsp;Vamos agora utilizar as funções\n",
        "*  flatten\n",
        "*  reshape\n"
      ]
    },
    {
      "cell_type": "code",
      "execution_count": 23,
      "metadata": {
        "colab": {
          "base_uri": "https://localhost:8080/"
        },
        "id": "VNVaQZvZp95T",
        "outputId": "596f5e42-b30d-402d-ffe1-8aa938098c19"
      },
      "outputs": [
        {
          "name": "stdout",
          "output_type": "stream",
          "text": [
            "[[1 2 3]\n",
            " [4 5 6]\n",
            " [7 8 9]]\n",
            "[1 2 3 4 5 6 7 8 9]\n",
            "[[[1 2]\n",
            "  [3 4]]\n",
            "\n",
            " [[5 6]\n",
            "  [7 8]]]\n",
            "[[1 2]\n",
            " [3 4]\n",
            " [5 6]\n",
            " [7 8]]\n"
          ]
        }
      ],
      "source": [
        "# vamos olhar outra vez para o array 2D\n",
        "print(array_2D)\n",
        "\n",
        "# vamos \"achatar\" o array para um array 1D\n",
        "array_2D_to_1D = array_2D.flatten()\n",
        "print(array_2D_to_1D)\n",
        "\n",
        "# exemplos de reshape\n",
        "ex_1 = (2,4)\n",
        "ex_2 = (4,2)\n",
        "ex_3 = (2,3)\n",
        "\n",
        "print(array_3D)\n",
        "array_3D_to_2D = array_3D.reshape(ex_2)\n",
        "print(array_3D_to_2D)"
      ]
    }
  ],
  "metadata": {
    "colab": {
      "provenance": []
    },
    "kernelspec": {
      "display_name": "Python 3",
      "name": "python3"
    },
    "language_info": {
      "codemirror_mode": {
        "name": "ipython",
        "version": 3
      },
      "file_extension": ".py",
      "mimetype": "text/x-python",
      "name": "python",
      "nbconvert_exporter": "python",
      "pygments_lexer": "ipython3",
      "version": "3.9.5"
    }
  },
  "nbformat": 4,
  "nbformat_minor": 0
}
