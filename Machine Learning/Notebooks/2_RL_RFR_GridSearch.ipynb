{
  "cells": [
    {
      "cell_type": "markdown",
      "metadata": {
        "id": "QoBv84MIUa-h"
      },
      "source": [
        "# Modelo de regressão linear"
      ]
    },
    {
      "cell_type": "markdown",
      "metadata": {
        "colab_type": "toc",
        "id": "paQmYZQhKvOP"
      },
      "source": [
        ">[Modelo de regressão linear](#scrollTo=QoBv84MIUa-h)\n",
        "\n",
        ">>[1. Vamos começar por importar os packages e o dataset](#scrollTo=HO6jdFDmldaU)\n",
        "\n",
        ">>[2. Vamos explorar o dataset](#scrollTo=2S0UrVDEf8E-)\n",
        "\n",
        ">>[3. Vamos visualizar a informação](#scrollTo=lYnaR0LYO-Sg)\n",
        "\n",
        ">>[4. Vamos aplicar o modelo de regressão](#scrollTo=BKzodGb8R7t9)\n",
        "\n",
        ">>>[4.1. Primeira abordagem (1 variável characterística)](#scrollTo=6AUIuQaWSCdM)\n",
        "\n",
        ">>>[4.2. Vamos considerar as várias características disponíveis](#scrollTo=VlyljBsUgD8D)\n",
        "\n",
        ">>[5. Vamos agora aplicar a regressão com regularização](#scrollTo=Z-_Mfy5StNhM)\n",
        "\n",
        ">>>[5.1. Ridge](#scrollTo=FxZ0QYaAfu1S)\n",
        "\n",
        ">>>[5.2. Lasso](#scrollTo=bsFM5l28hFLs)\n",
        "\n",
        ">>[6. Vamos visualizar os resíduos](#scrollTo=bJoXSNz21wUm)\n",
        "\n"
      ]
    },
    {
      "cell_type": "markdown",
      "metadata": {
        "id": "HO6jdFDmldaU"
      },
      "source": [
        "## 1.&nbsp;Vamos começar por importar os packages e o dataset"
      ]
    },
    {
      "cell_type": "code",
      "execution_count": 1,
      "metadata": {
        "id": "-Mm7LY69WFMV"
      },
      "outputs": [],
      "source": [
        "# packages gerais\n",
        "import pandas as pd\n",
        "import numpy as np\n",
        "\n",
        "# dataset\n",
        "df_car_price = pd.read_csv(\"C:/Users/yfreitas/Documents/pythonSamples/Machine Learning/Files/CarPrice_Assignment.csv\")"
      ]
    },
    {
      "cell_type": "markdown",
      "metadata": {
        "id": "2S0UrVDEf8E-"
      },
      "source": [
        "## 2.&nbsp;Vamos explorar o dataset"
      ]
    },
    {
      "cell_type": "code",
      "execution_count": 2,
      "metadata": {},
      "outputs": [
        {
          "name": "stdout",
          "output_type": "stream",
          "text": [
            "<class 'pandas.core.frame.DataFrame'>\n",
            "RangeIndex: 205 entries, 0 to 204\n",
            "Data columns (total 14 columns):\n",
            " #   Column            Non-Null Count  Dtype  \n",
            "---  ------            --------------  -----  \n",
            " 0   wheelbase         205 non-null    float64\n",
            " 1   carlength         205 non-null    float64\n",
            " 2   carwidth          205 non-null    float64\n",
            " 3   carheight         205 non-null    float64\n",
            " 4   curbweight        205 non-null    int64  \n",
            " 5   enginesize        205 non-null    int64  \n",
            " 6   boreratio         205 non-null    float64\n",
            " 7   stroke            205 non-null    float64\n",
            " 8   compressionratio  205 non-null    float64\n",
            " 9   horsepower        205 non-null    int64  \n",
            " 10  peakrpm           205 non-null    int64  \n",
            " 11  citympg           205 non-null    int64  \n",
            " 12  highwaympg        205 non-null    int64  \n",
            " 13  price             205 non-null    float64\n",
            "dtypes: float64(8), int64(6)\n",
            "memory usage: 22.5 KB\n"
          ]
        }
      ],
      "source": [
        "df_car_price.info()"
      ]
    },
    {
      "cell_type": "code",
      "execution_count": 3,
      "metadata": {
        "id": "Sn3aUBF9p0_2"
      },
      "outputs": [
        {
          "data": {
            "text/html": [
              "<div>\n",
              "<style scoped>\n",
              "    .dataframe tbody tr th:only-of-type {\n",
              "        vertical-align: middle;\n",
              "    }\n",
              "\n",
              "    .dataframe tbody tr th {\n",
              "        vertical-align: top;\n",
              "    }\n",
              "\n",
              "    .dataframe thead th {\n",
              "        text-align: right;\n",
              "    }\n",
              "</style>\n",
              "<table border=\"1\" class=\"dataframe\">\n",
              "  <thead>\n",
              "    <tr style=\"text-align: right;\">\n",
              "      <th></th>\n",
              "      <th>wheelbase</th>\n",
              "      <th>carlength</th>\n",
              "      <th>carwidth</th>\n",
              "      <th>carheight</th>\n",
              "      <th>curbweight</th>\n",
              "      <th>enginesize</th>\n",
              "      <th>boreratio</th>\n",
              "      <th>stroke</th>\n",
              "      <th>compressionratio</th>\n",
              "      <th>horsepower</th>\n",
              "      <th>peakrpm</th>\n",
              "      <th>citympg</th>\n",
              "      <th>highwaympg</th>\n",
              "      <th>price</th>\n",
              "    </tr>\n",
              "  </thead>\n",
              "  <tbody>\n",
              "    <tr>\n",
              "      <th>0</th>\n",
              "      <td>88.6</td>\n",
              "      <td>168.8</td>\n",
              "      <td>64.1</td>\n",
              "      <td>48.8</td>\n",
              "      <td>2548</td>\n",
              "      <td>130</td>\n",
              "      <td>3.47</td>\n",
              "      <td>2.68</td>\n",
              "      <td>9.0</td>\n",
              "      <td>111</td>\n",
              "      <td>5000</td>\n",
              "      <td>21</td>\n",
              "      <td>27</td>\n",
              "      <td>13495.0</td>\n",
              "    </tr>\n",
              "    <tr>\n",
              "      <th>1</th>\n",
              "      <td>88.6</td>\n",
              "      <td>168.8</td>\n",
              "      <td>64.1</td>\n",
              "      <td>48.8</td>\n",
              "      <td>2548</td>\n",
              "      <td>130</td>\n",
              "      <td>3.47</td>\n",
              "      <td>2.68</td>\n",
              "      <td>9.0</td>\n",
              "      <td>111</td>\n",
              "      <td>5000</td>\n",
              "      <td>21</td>\n",
              "      <td>27</td>\n",
              "      <td>16500.0</td>\n",
              "    </tr>\n",
              "    <tr>\n",
              "      <th>2</th>\n",
              "      <td>94.5</td>\n",
              "      <td>171.2</td>\n",
              "      <td>65.5</td>\n",
              "      <td>52.4</td>\n",
              "      <td>2823</td>\n",
              "      <td>152</td>\n",
              "      <td>2.68</td>\n",
              "      <td>3.47</td>\n",
              "      <td>9.0</td>\n",
              "      <td>154</td>\n",
              "      <td>5000</td>\n",
              "      <td>19</td>\n",
              "      <td>26</td>\n",
              "      <td>16500.0</td>\n",
              "    </tr>\n",
              "    <tr>\n",
              "      <th>3</th>\n",
              "      <td>99.8</td>\n",
              "      <td>176.6</td>\n",
              "      <td>66.2</td>\n",
              "      <td>54.3</td>\n",
              "      <td>2337</td>\n",
              "      <td>109</td>\n",
              "      <td>3.19</td>\n",
              "      <td>3.40</td>\n",
              "      <td>10.0</td>\n",
              "      <td>102</td>\n",
              "      <td>5500</td>\n",
              "      <td>24</td>\n",
              "      <td>30</td>\n",
              "      <td>13950.0</td>\n",
              "    </tr>\n",
              "    <tr>\n",
              "      <th>4</th>\n",
              "      <td>99.4</td>\n",
              "      <td>176.6</td>\n",
              "      <td>66.4</td>\n",
              "      <td>54.3</td>\n",
              "      <td>2824</td>\n",
              "      <td>136</td>\n",
              "      <td>3.19</td>\n",
              "      <td>3.40</td>\n",
              "      <td>8.0</td>\n",
              "      <td>115</td>\n",
              "      <td>5500</td>\n",
              "      <td>18</td>\n",
              "      <td>22</td>\n",
              "      <td>17450.0</td>\n",
              "    </tr>\n",
              "  </tbody>\n",
              "</table>\n",
              "</div>"
            ],
            "text/plain": [
              "   wheelbase  carlength  carwidth  carheight  curbweight  enginesize  \\\n",
              "0       88.6      168.8      64.1       48.8        2548         130   \n",
              "1       88.6      168.8      64.1       48.8        2548         130   \n",
              "2       94.5      171.2      65.5       52.4        2823         152   \n",
              "3       99.8      176.6      66.2       54.3        2337         109   \n",
              "4       99.4      176.6      66.4       54.3        2824         136   \n",
              "\n",
              "   boreratio  stroke  compressionratio  horsepower  peakrpm  citympg  \\\n",
              "0       3.47    2.68               9.0         111     5000       21   \n",
              "1       3.47    2.68               9.0         111     5000       21   \n",
              "2       2.68    3.47               9.0         154     5000       19   \n",
              "3       3.19    3.40              10.0         102     5500       24   \n",
              "4       3.19    3.40               8.0         115     5500       18   \n",
              "\n",
              "   highwaympg    price  \n",
              "0          27  13495.0  \n",
              "1          27  16500.0  \n",
              "2          26  16500.0  \n",
              "3          30  13950.0  \n",
              "4          22  17450.0  "
            ]
          },
          "execution_count": 3,
          "metadata": {},
          "output_type": "execute_result"
        }
      ],
      "source": [
        "# exploração inicial\n",
        "df_car_price.head()\n",
        "# df_car_price.info()\n",
        "# df_car_price.shape\n",
        "# df_car_price.describe()"
      ]
    },
    {
      "cell_type": "markdown",
      "metadata": {
        "id": "lYnaR0LYO-Sg"
      },
      "source": [
        "## 3.&nbsp;Vamos visualizar a informação\n"
      ]
    },
    {
      "cell_type": "code",
      "execution_count": 4,
      "metadata": {
        "id": "xR6EadZXPFXU"
      },
      "outputs": [
        {
          "data": {
            "image/png": "[encoded data removed]",
            "text/plain": [
              "<Figure size 432x288 with 1 Axes>"
            ]
          },
          "metadata": {
            "needs_background": "light"
          },
          "output_type": "display_data"
        }
      ],
      "source": [
        "# importamos o matplotlib.pyplot\n",
        "import matplotlib.pyplot as plt\n",
        "plt.style.use('ggplot')\n",
        "#definimos as variáveis que queremos visualizar (enginesize e price)\n",
        "x_variable = df_car_price[\"enginesize\"]\n",
        "y_variable = df_car_price[\"price\"]\n",
        "plt.scatter(x_variable, y_variable, color = 'b')\n",
        "plt.xlim(0, x_variable.max()+10)\n",
        "plt.ylim(0, y_variable.max()+1000)\n",
        "plt.ylabel(\"preço do veículo\")\n",
        "plt.xlabel('dimensão do motor')\n",
        "plt.show()"
      ]
    },
    {
      "cell_type": "markdown",
      "metadata": {
        "id": "BKzodGb8R7t9"
      },
      "source": [
        "## 4.&nbsp;Vamos aplicar o modelo de regressão"
      ]
    },
    {
      "cell_type": "code",
      "execution_count": 5,
      "metadata": {
        "id": "3yiJaFIxiPuW"
      },
      "outputs": [],
      "source": [
        "# definimos a variável alvo\n",
        "target_variable = \"price\"\n",
        "\n",
        "# train_test split usando a função train_test_split\n",
        "# -> não consideramos stratification\n",
        "\n",
        "X = df_car_price.drop([target_variable], axis = 1)\n",
        "y = df_car_price[target_variable]\n",
        "\n",
        "from sklearn.model_selection import train_test_split\n",
        "X_train, X_test, y_train, y_test = train_test_split(X, y,\n",
        "                                                    test_size = 0.3,\n",
        "                                                    random_state = 12)"
      ]
    },
    {
      "cell_type": "markdown",
      "metadata": {
        "id": "6AUIuQaWSCdM"
      },
      "source": [
        "### 4.1.&nbsp;Primeira abordagem (1 variável characterística)"
      ]
    },
    {
      "cell_type": "code",
      "execution_count": 6,
      "metadata": {
        "id": "qvl9LFczR7Mn"
      },
      "outputs": [
        {
          "name": "stdout",
          "output_type": "stream",
          "text": [
            "m: 164.57563656388763; b: -7632.842331568525\n",
            "r2: 0.687\n"
          ]
        }
      ],
      "source": [
        "# vamos escolher enginesize como variável independente\n",
        "X_1_feature = X_train[['enginesize']]\n",
        "\n",
        "# vamos importar o modelo\n",
        "from sklearn.linear_model import LinearRegression\n",
        "lin_reg = LinearRegression()\n",
        "lin_reg.fit(X_1_feature, y_train)\n",
        "\n",
        "# vamos prever para todos os valores\n",
        "y_reg = lin_reg.predict(X[['enginesize']].sort_values('enginesize'))\n",
        "\n",
        "# podemos ver os coeficientes da regressão\n",
        "m = lin_reg.coef_[0]\n",
        "b = lin_reg.intercept_\n",
        "print(\"m: {}; b: {}\".format(m , b))\n",
        "\n",
        "# para verificar a accuracy do modelo aplicamos a função .score (#R2)\n",
        "print(\"r2: {}\".format(lin_reg.score(X_test[['enginesize']], y_test).round(3)))"
      ]
    },
    {
      "cell_type": "code",
      "execution_count": 7,
      "metadata": {
        "id": "aEeModvSld7V"
      },
      "outputs": [
        {
          "data": {
            "image/png": "[encoded data removed]",
            "text/plain": [
              "<Figure size 432x288 with 1 Axes>"
            ]
          },
          "metadata": {
            "needs_background": "light"
          },
          "output_type": "display_data"
        },
        {
          "data": {
            "image/png": "[encoded data removed]",
            "text/plain": [
              "<Figure size 432x288 with 1 Axes>"
            ]
          },
          "metadata": {
            "needs_background": "light"
          },
          "output_type": "display_data"
        }
      ],
      "source": [
        "# vamos visualizar o resultado\n",
        "plt.scatter(X_train[['enginesize']], y_train, color = 'k')\n",
        "plt.plot(X[['enginesize']].sort_values('enginesize'), y_reg, color = 'r', linewidth = 2)\n",
        "plt.xlim(0, x_variable.max()+10)\n",
        "plt.ylim(0, y_variable.max()+1000)\n",
        "plt.ylabel(\"preço do veículo\")\n",
        "plt.xlabel('dimensão do motor')\n",
        "plt.show()\n",
        "\n",
        "# vamos visualizar o resultado\n",
        "plt.scatter(X_test[['enginesize']], y_test, color = 'b')\n",
        "plt.plot(X[['enginesize']].sort_values('enginesize'), y_reg, color = 'r', linewidth = 2)\n",
        "plt.xlim(0, x_variable.max()+10)\n",
        "plt.ylim(0, y_variable.max()+1000)\n",
        "plt.ylabel(\"preço do veículo\")\n",
        "plt.xlabel('dimensão do motor')\n",
        "plt.show()"
      ]
    },
    {
      "cell_type": "markdown",
      "metadata": {
        "id": "VlyljBsUgD8D"
      },
      "source": [
        "### 4.2.&nbsp;Vamos considerar as várias características disponíveis"
      ]
    },
    {
      "cell_type": "code",
      "execution_count": 8,
      "metadata": {
        "id": "FPasARnkp-AE"
      },
      "outputs": [
        {
          "name": "stdout",
          "output_type": "stream",
          "text": [
            "betas: [ 2.25693757e+02 -2.28542902e+02  8.34263775e+02  1.59202838e+02\n",
            "  2.15690319e+00  1.15675567e+02  8.68487297e+02 -2.84020889e+03\n",
            "  3.02351981e+02  2.76608163e+01  2.38738008e+00 -4.14692367e+02\n",
            "  3.11341744e+02]; beta0: -64010.303060802\n",
            "r2: 0.765\n"
          ]
        }
      ],
      "source": [
        "# importamos o modelo\n",
        "from sklearn.linear_model import LinearRegression\n",
        "lin_reg_all = LinearRegression()\n",
        "lin_reg_all.fit(X_train, y_train)\n",
        "y_pred = lin_reg_all.predict(X_test)\n",
        "\n",
        "# podemos ver os coeficientes da regressão\n",
        "betas = lin_reg_all.coef_\n",
        "beta0 = lin_reg_all.intercept_\n",
        "print(\"betas: {}; beta0: {}\".format(betas , beta0))\n",
        "\n",
        "# para verificar a accuracy do modelo aplicamos a função .score (#R2)\n",
        "print(\"r2: {}\".format(lin_reg_all.score(X_test, y_test).round(3)))"
      ]
    },
    {
      "cell_type": "markdown",
      "metadata": {
        "id": "Z-_Mfy5StNhM"
      },
      "source": [
        "## 5.&nbsp;Vamos agora aplicar a regressão com regularização"
      ]
    },
    {
      "cell_type": "markdown",
      "metadata": {
        "id": "FxZ0QYaAfu1S"
      },
      "source": [
        "### 5.1.&nbsp;Ridge"
      ]
    },
    {
      "cell_type": "code",
      "execution_count": 9,
      "metadata": {
        "id": "yrL2tgxztiP_"
      },
      "outputs": [
        {
          "name": "stdout",
          "output_type": "stream",
          "text": [
            "betas: [ 2.24217299e+02 -2.27373276e+02  8.33157505e+02  1.60321517e+02\n",
            "  2.14636828e+00  1.15514102e+02  8.33536372e+02 -2.76762061e+03\n",
            "  3.01069372e+02  2.78851920e+01  2.37496314e+00 -4.12464722e+02\n",
            "  3.08921661e+02]; beta0: -64055.71004782999\n",
            "r2: 0.766\n"
          ]
        }
      ],
      "source": [
        "# importamos o modelo\n",
        "from sklearn.linear_model import Ridge\n",
        "ridge_reg = Ridge(alpha = 0.3)\n",
        "ridge_reg.fit(X_train, y_train)\n",
        "y_pred_ridge = ridge_reg.predict(X_test)\n",
        "\n",
        "# podemos ver os coeficientes da regressão\n",
        "betas = ridge_reg.coef_\n",
        "beta0 = ridge_reg.intercept_\n",
        "print(\"betas: {}; beta0: {}\".format(betas , beta0))\n",
        "\n",
        "# para verificar a accuracy do modelo aplicamos a função .score (#R2)\n",
        "print(\"r2: {}\".format(ridge_reg.score(X_test, y_test).round(3)))"
      ]
    },
    {
      "cell_type": "markdown",
      "metadata": {
        "id": "bsFM5l28hFLs"
      },
      "source": [
        "### 5.2.&nbsp;Lasso"
      ]
    },
    {
      "cell_type": "code",
      "execution_count": 10,
      "metadata": {
        "id": "RHETrdhkhAgh"
      },
      "outputs": [
        {
          "name": "stdout",
          "output_type": "stream",
          "text": [
            "betas: [ 2.24894953e+02 -2.27360123e+02  8.31852351e+02  1.58737117e+02\n",
            "  2.15650201e+00  1.15573503e+02  8.19011469e+02 -2.81677964e+03\n",
            "  3.01569620e+02  2.78189977e+01  2.37743717e+00 -4.12087145e+02\n",
            "  3.08687503e+02]; beta0: -63792.34504185871\n",
            "r2: 0.766\n"
          ]
        }
      ],
      "source": [
        "# importamos o modelo\n",
        "from sklearn.linear_model import Lasso\n",
        "lasso_reg = Lasso(alpha = 2)\n",
        "lasso_reg.fit(X_train, y_train)\n",
        "y_pred_lasso = lasso_reg.predict(X_test)\n",
        "\n",
        "# podemos ver os coeficientes da regressão\n",
        "betas = lasso_reg.coef_\n",
        "beta0 = lasso_reg.intercept_\n",
        "print(\"betas: {}; beta0: {}\".format(betas , beta0))\n",
        "\n",
        "# para verificar a accuracy do modelo aplicamos a função .score (#R2)\n",
        "print(\"r2: {}\".format(lasso_reg.score(X_test, y_test).round(3)))"
      ]
    },
    {
      "cell_type": "code",
      "execution_count": 11,
      "metadata": {},
      "outputs": [
        {
          "data": {
            "text/plain": [
              "array([ 6688.48832744, 17898.71229514, 12812.14539052, 15301.46488127,\n",
              "       12646.13032545,  8527.08145078,  9821.52883953,  6522.12838853,\n",
              "        6928.13848786, 18135.92751634,  9468.7700913 ,  5648.39879371,\n",
              "       10161.16820074, 18991.94688373, 18867.18905008,  5547.959699  ,\n",
              "       26816.91693136, 13362.85553489, 14984.37586241,  9816.76344508,\n",
              "       16473.01655197,  6956.77312073,  5570.80684013, 13746.71289284,\n",
              "        9362.60011468,  6067.2390485 , 10220.26624409, 25800.13206083,\n",
              "        9712.78599608,  9151.75055591,  6965.87848989,  9076.45652496,\n",
              "       10020.53920037, 10793.02094485,  7356.3377158 ,  9532.08346179,\n",
              "        8068.74400944, 15181.88829622, 10760.53362774, 16827.80699158,\n",
              "        6095.27357464, 15021.60806284, 11610.54192711, 21822.819197  ,\n",
              "        8811.79464041, 12005.34265048, 14668.78379446,  6636.69787106,\n",
              "       12537.47246983, 10354.8022764 ,  5444.33075627, 15933.14607062,\n",
              "        9446.32102538, 38071.8213861 , 30646.72846521, 15990.54144375,\n",
              "        9934.27911993,  8913.9162128 ,  7356.3377158 , 17880.3177826 ,\n",
              "        6889.656107  ,  9440.93966294])"
            ]
          },
          "execution_count": 11,
          "metadata": {},
          "output_type": "execute_result"
        }
      ],
      "source": [
        "y_pred_lasso"
      ]
    },
    {
      "cell_type": "markdown",
      "metadata": {
        "id": "bJoXSNz21wUm"
      },
      "source": [
        "## 6.&nbsp;Vamos visualizar os resíduos"
      ]
    },
    {
      "cell_type": "code",
      "execution_count": 12,
      "metadata": {
        "id": "diql8iV3p76u"
      },
      "outputs": [
        {
          "data": {
            "image/png": "[encoded data removed]",
            "text/plain": [
              "<Figure size 288x576 with 2 Axes>"
            ]
          },
          "metadata": {
            "needs_background": "light"
          },
          "output_type": "display_data"
        }
      ],
      "source": [
        "from sklearn.metrics import PredictionErrorDisplay\n",
        "\n",
        "fig, axs = plt.subplots(nrows=2, figsize=(4, 8))\n",
        "PredictionErrorDisplay.from_predictions(\n",
        "    y_true = y_test,\n",
        "    y_pred = y_pred_lasso,\n",
        "    kind=\"actual_vs_predicted\",\n",
        "    ax=axs[0],\n",
        ")\n",
        "axs[0].set_title(\"Reais vs. Previstos\")\n",
        "axs[0].set_xlabel(\"Valores Previstos\")\n",
        "axs[0].set_ylabel(\"Valores Reais\")\n",
        "\n",
        "PredictionErrorDisplay.from_predictions(\n",
        "    y_true = y_test,\n",
        "    y_pred=y_pred_lasso,\n",
        "    kind=\"residual_vs_predicted\",\n",
        "    ax=axs[1],\n",
        ")\n",
        "\n",
        "axs[1].set_title(\"Resíduos vs. Valores Previstos\")\n",
        "axs[1].set_xlabel(\"Valores Previstos\")\n",
        "axs[1].set_ylabel(\"Resíduos\")\n",
        "\n",
        "plt.tight_layout()\n",
        "plt.show()"
      ]
    },
    {
      "cell_type": "markdown",
      "metadata": {},
      "source": [
        "# 7.&nbsp;Vamos aplicar o modelo de random forest regressor"
      ]
    },
    {
      "cell_type": "code",
      "execution_count": 13,
      "metadata": {},
      "outputs": [
        {
          "data": {
            "text/plain": [
              "0.9154729191019737"
            ]
          },
          "execution_count": 13,
          "metadata": {},
          "output_type": "execute_result"
        }
      ],
      "source": [
        "# importamos o modelo\n",
        "from sklearn.ensemble import RandomForestRegressor\n",
        "rf = RandomForestRegressor(n_estimators=400, max_features = 'sqrt', oob_score = True)\n",
        "rf.fit(X_train, y_train)\n",
        "y_pred_rf = rf.predict(X_test)\n",
        "\n",
        "# para verificar a accuracy do modelo aplicamos a função .score\n",
        "rf.oob_score_\n",
        "rf.score(X_test, y_test) #R2"
      ]
    },
    {
      "cell_type": "code",
      "execution_count": 14,
      "metadata": {},
      "outputs": [
        {
          "data": {
            "image/png": "[encoded data removed]",
            "text/plain": [
              "<Figure size 432x288 with 1 Axes>"
            ]
          },
          "metadata": {
            "needs_background": "light"
          },
          "output_type": "display_data"
        }
      ],
      "source": [
        "# vamos visualizar o resultado\n",
        "plt.scatter(y_test, y_pred, color = 'r')\n",
        "plt.scatter(y_test, y_pred_rf, color = 'b')\n",
        "plt.plot([500, 40000],[500, 40000], color = 'k', linewidth = 0.5)\n",
        "plt.ylabel(\"valores reais\")\n",
        "plt.xlabel('valores previstos')\n",
        "plt.show()"
      ]
    },
    {
      "cell_type": "markdown",
      "metadata": {},
      "source": [
        "### 7.1.&nbsp; vamos aplicar o GridSearchCV"
      ]
    },
    {
      "cell_type": "code",
      "execution_count": 15,
      "metadata": {},
      "outputs": [
        {
          "name": "stdout",
          "output_type": "stream",
          "text": [
            "Best Parameters for Random Forest Regressor: {'max_depth': 30, 'min_samples_split': 2, 'n_estimators': 200}\n",
            "Best Cross-Validation R2 Score for Random Forest Regressor: 0.9208900777841624\n"
          ]
        }
      ],
      "source": [
        "from sklearn.model_selection import GridSearchCV, KFold\n",
        "\n",
        "# Vamos definir o cv\n",
        "kf = KFold(n_splits=5)\n",
        "\n",
        "# Vamos definir a grid para os hyperparameters\n",
        "param_grid_rf = {\n",
        "    'n_estimators': [50, 100, 200],\n",
        "    'max_depth': [None, 10, 20, 30],\n",
        "    'min_samples_split': [2, 5, 10]\n",
        "}\n",
        "\n",
        "# Vamos definir as métricas de scoring\n",
        "scoring = {\n",
        "    'mse': 'neg_mean_squared_error',\n",
        "    'r2': 'r2'\n",
        "}\n",
        "\n",
        "# Vamos aplicar a grid search ao modelo de Random Forest\n",
        "grid_search_rf = GridSearchCV(estimator=rf, param_grid=param_grid_rf, cv=kf, scoring=scoring, refit='r2')\n",
        "grid_search_rf.fit(X_train, y_train)\n",
        "\n",
        "# Vamos ver os melhores hyperparameters\n",
        "best_params_rf = grid_search_rf.best_params_\n",
        "best_score_rf = grid_search_rf.best_score_\n",
        "print(\"Best Parameters for Random Forest Regressor:\", best_params_rf)\n",
        "print(\"Best Cross-Validation R2 Score for Random Forest Regressor:\", best_score_rf)"
      ]
    },
    {
      "cell_type": "markdown",
      "metadata": {},
      "source": [
        "### 7.2. Aplicar a predicao com o melhor resultado do gridsearch"
      ]
    },
    {
      "cell_type": "code",
      "execution_count": 16,
      "metadata": {},
      "outputs": [
        {
          "name": "stdout",
          "output_type": "stream",
          "text": [
            "\n",
            "Random Forest Regressor Evaluation\n",
            "Mean Squared Error: 5000624.059563467\n",
            "R2 Score: 0.9076821477359779\n"
          ]
        }
      ],
      "source": [
        "from sklearn.metrics import mean_squared_error, r2_score\n",
        "\n",
        "# Vamos ver os resultados para cada combinação\n",
        "pd.DataFrame(grid_search_rf.cv_results_)\n",
        "\n",
        "# Vamos fazer o fit do melhor modelo de Random Forest\n",
        "best_rf = grid_search_rf.best_estimator_\n",
        "y_pred_rf = best_rf.predict(X_test)\n",
        "\n",
        "# Vamos avaliar as métricas finais\n",
        "print(\"\\nRandom Forest Regressor Evaluation\")\n",
        "print(\"Mean Squared Error:\", mean_squared_error(y_test, y_pred_rf))\n",
        "print(\"R2 Score:\", r2_score(y_test, y_pred_rf))"
      ]
    }
  ],
  "metadata": {
    "colab": {
      "provenance": []
    },
    "kernelspec": {
      "display_name": "Python 3",
      "name": "python3"
    },
    "language_info": {
      "codemirror_mode": {
        "name": "ipython",
        "version": 3
      },
      "file_extension": ".py",
      "mimetype": "text/x-python",
      "name": "python",
      "nbconvert_exporter": "python",
      "pygments_lexer": "ipython3",
      "version": "3.9.5"
    }
  },
  "nbformat": 4,
  "nbformat_minor": 0
}
