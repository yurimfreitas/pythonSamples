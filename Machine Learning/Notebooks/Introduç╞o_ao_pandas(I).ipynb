{
  "cells": [
    {
      "cell_type": "markdown",
      "metadata": {
        "id": "Z2Ur5SspUJlO"
      },
      "source": [
        "#Introdução ao pandas"
      ]
    },
    {
      "cell_type": "markdown",
      "metadata": {
        "id": "U_oZuYBpzBwy"
      },
      "source": [
        "\n",
        "---\n",
        "\n",
        "\n",
        "[documentação](https://pandas.pydata.org/docs/index.html) <br>\n",
        "dataset: [fonte](https://www.kaggle.com/datasets/crawford/80-cereals)\n",
        "\n",
        "---\n",
        "\n"
      ]
    },
    {
      "cell_type": "markdown",
      "metadata": {
        "colab_type": "toc",
        "id": "75aJlH4t3tgm"
      },
      "source": [
        ">[Introdução ao pandas](#scrollTo=Z2Ur5SspUJlO)\n",
        "\n",
        ">>[1. Vamos começar por importar a biblioteca e o dataset](#scrollTo=ZxiRWYNLgXq-)\n",
        "\n",
        ">>[2. Vamos explorar o dataframe](#scrollTo=Ydxw6tPwf-TF)\n",
        "\n",
        ">>[3. Vamos ordenar e criar subconjuntos](#scrollTo=_o03LNFpg4li)\n",
        "\n",
        ">>[4. Criar novas colunas](#scrollTo=lUulh_Fl0T9B)\n",
        "\n"
      ]
    },
    {
      "cell_type": "markdown",
      "metadata": {
        "id": "ZxiRWYNLgXq-"
      },
      "source": [
        "## 1.&nbsp;Vamos começar por importar a biblioteca e o dataset"
      ]
    },
    {
      "cell_type": "code",
      "execution_count": 5,
      "metadata": {
        "colab": {
          "base_uri": "https://localhost:8080/"
        },
        "id": "pod4QBVAUU1G",
        "outputId": "70f5689b-4b08-4a14-c450-67607e99404c"
      },
      "outputs": [
        {
          "name": "stdout",
          "output_type": "stream",
          "text": [
            "                         name mfr type  calories  protein  fat  sodium  fiber  \\\n",
            "0                   100% Bran   N    C        70        4    1     130   10.0   \n",
            "1           100% Natural Bran   Q    C       120        3    5      15    2.0   \n",
            "2                    All-Bran   K    C        70        4    1     260    9.0   \n",
            "3   All-Bran with Extra Fiber   K    C        50        4    0     140   14.0   \n",
            "4              Almond Delight   R    C       110        2    2     200    1.0   \n",
            "..                        ...  ..  ...       ...      ...  ...     ...    ...   \n",
            "72                    Triples   G    C       110        2    1     250    0.0   \n",
            "73                       Trix   G    C       110        1    1     140    0.0   \n",
            "74                 Wheat Chex   R    C       100        3    1     230    3.0   \n",
            "75                   Wheaties   G    C       100        3    1     200    3.0   \n",
            "76        Wheaties Honey Gold   G    C       110        2    1     200    1.0   \n",
            "\n",
            "    carbo  sugars  potass  vitamins  shelf  weight  cups     rating  \n",
            "0     5.0       6     280        25      3     1.0  0.33  68.402973  \n",
            "1     8.0       8     135         0      3     1.0  1.00  33.983679  \n",
            "2     7.0       5     320        25      3     1.0  0.33  59.425505  \n",
            "3     8.0       0     330        25      3     1.0  0.50  93.704912  \n",
            "4    14.0       8      -1        25      3     1.0  0.75  34.384843  \n",
            "..    ...     ...     ...       ...    ...     ...   ...        ...  \n",
            "72   21.0       3      60        25      3     1.0  0.75  39.106174  \n",
            "73   13.0      12      25        25      2     1.0  1.00  27.753301  \n",
            "74   17.0       3     115        25      1     1.0  0.67  49.787445  \n",
            "75   17.0       3     110        25      1     1.0  1.00  51.592193  \n",
            "76   16.0       8      60        25      1     1.0  0.75  36.187559  \n",
            "\n",
            "[77 rows x 16 columns]\n"
          ]
        }
      ],
      "source": [
        "# importar a biblioteca\n",
        "import pandas as pd\n",
        "\n",
        "# importar o dataset que está em csv\n",
        "df_cereals = pd.read_csv('C:/Users/yfreitas/Documents/pythonSamples/Machine Learning/Files/cereal.csv')\n",
        "print(df_cereals)"
      ]
    },
    {
      "cell_type": "markdown",
      "metadata": {
        "id": "Ydxw6tPwf-TF"
      },
      "source": [
        "## 2.&nbsp;Vamos explorar o dataframe"
      ]
    },
    {
      "cell_type": "code",
      "execution_count": 6,
      "metadata": {
        "colab": {
          "base_uri": "https://localhost:8080/"
        },
        "id": "qp6mUr9Ef8vm",
        "outputId": "dbd2b42c-e6ce-4fdd-92a1-a9847b69972a"
      },
      "outputs": [
        {
          "name": "stdout",
          "output_type": "stream",
          "text": [
            "<class 'pandas.core.frame.DataFrame'>\n",
            "RangeIndex: 77 entries, 0 to 76\n",
            "Data columns (total 16 columns):\n",
            " #   Column    Non-Null Count  Dtype  \n",
            "---  ------    --------------  -----  \n",
            " 0   name      77 non-null     object \n",
            " 1   mfr       77 non-null     object \n",
            " 2   type      77 non-null     object \n",
            " 3   calories  77 non-null     int64  \n",
            " 4   protein   77 non-null     int64  \n",
            " 5   fat       77 non-null     int64  \n",
            " 6   sodium    77 non-null     int64  \n",
            " 7   fiber     77 non-null     float64\n",
            " 8   carbo     77 non-null     float64\n",
            " 9   sugars    77 non-null     int64  \n",
            " 10  potass    77 non-null     int64  \n",
            " 11  vitamins  77 non-null     int64  \n",
            " 12  shelf     77 non-null     int64  \n",
            " 13  weight    77 non-null     float64\n",
            " 14  cups      77 non-null     float64\n",
            " 15  rating    77 non-null     float64\n",
            "dtypes: float64(5), int64(8), object(3)\n",
            "memory usage: 9.8+ KB\n"
          ]
        },
        {
          "data": {
            "text/plain": [
              "array([['100% Bran', 'N', 'C', ..., 1.0, 0.33, 68.402973],\n",
              "       ['100% Natural Bran', 'Q', 'C', ..., 1.0, 1.0, 33.983679],\n",
              "       ['All-Bran', 'K', 'C', ..., 1.0, 0.33, 59.425505],\n",
              "       ...,\n",
              "       ['Wheat Chex', 'R', 'C', ..., 1.0, 0.67, 49.787445],\n",
              "       ['Wheaties', 'G', 'C', ..., 1.0, 1.0, 51.592193],\n",
              "       ['Wheaties Honey Gold', 'G', 'C', ..., 1.0, 0.75, 36.187559]],\n",
              "      dtype=object)"
            ]
          },
          "execution_count": 6,
          "metadata": {},
          "output_type": "execute_result"
        }
      ],
      "source": [
        "# vamos ver as primeiras 5 linhas do dataframe\n",
        "df_cereals.head()\n",
        "# vamos ver as primeiras 10 linhas do dataframe\n",
        "df_cereals.head(10)\n",
        "\n",
        "# vamos ver as últimas 5 linhas do dataframe\n",
        "df_cereals.tail()\n",
        "\n",
        "# vamos ver a \"ficha\" do dataframe\n",
        "df_cereals.info() #method\n",
        "\n",
        "# vamos ver a forma do dataframe\n",
        "df_cereals.shape #atribute\n",
        "\n",
        "# podemos sempre ver estatísticas gerais\n",
        "df_cereals.describe()\n",
        "\n",
        "# um dataframe é composto por (index, columns e values)\n",
        "df_cereals.index\n",
        "df_cereals.columns\n",
        "df_cereals.values"
      ]
    },
    {
      "cell_type": "markdown",
      "metadata": {
        "id": "_o03LNFpg4li"
      },
      "source": [
        "## 3.&nbsp;Vamos ordenar e criar subconjuntos"
      ]
    },
    {
      "cell_type": "code",
      "execution_count": 19,
      "metadata": {},
      "outputs": [
        {
          "data": {
            "text/plain": [
              "0     68.402973\n",
              "1     33.983679\n",
              "2     59.425505\n",
              "3     93.704912\n",
              "4     34.384843\n",
              "        ...    \n",
              "72    39.106174\n",
              "73    27.753301\n",
              "74    49.787445\n",
              "75    51.592193\n",
              "76    36.187559\n",
              "Name: rating, Length: 77, dtype: float64"
            ]
          },
          "execution_count": 19,
          "metadata": {},
          "output_type": "execute_result"
        }
      ],
      "source": [
        "df_cereals[\"rating\"]\n",
        "\n"
      ]
    },
    {
      "cell_type": "code",
      "execution_count": 7,
      "metadata": {
        "colab": {
          "base_uri": "https://localhost:8080/",
          "height": 382
        },
        "id": "uyJpF9JHmKa1",
        "outputId": "24a7da58-2e0e-4434-9047-046d9a42a65b"
      },
      "outputs": [
        {
          "data": {
            "text/html": [
              "<div>\n",
              "<style scoped>\n",
              "    .dataframe tbody tr th:only-of-type {\n",
              "        vertical-align: middle;\n",
              "    }\n",
              "\n",
              "    .dataframe tbody tr th {\n",
              "        vertical-align: top;\n",
              "    }\n",
              "\n",
              "    .dataframe thead th {\n",
              "        text-align: right;\n",
              "    }\n",
              "</style>\n",
              "<table border=\"1\" class=\"dataframe\">\n",
              "  <thead>\n",
              "    <tr style=\"text-align: right;\">\n",
              "      <th></th>\n",
              "      <th>name</th>\n",
              "      <th>mfr</th>\n",
              "      <th>type</th>\n",
              "      <th>calories</th>\n",
              "      <th>protein</th>\n",
              "      <th>fat</th>\n",
              "      <th>sodium</th>\n",
              "      <th>fiber</th>\n",
              "      <th>carbo</th>\n",
              "      <th>sugars</th>\n",
              "      <th>potass</th>\n",
              "      <th>vitamins</th>\n",
              "      <th>shelf</th>\n",
              "      <th>weight</th>\n",
              "      <th>cups</th>\n",
              "      <th>rating</th>\n",
              "    </tr>\n",
              "  </thead>\n",
              "  <tbody>\n",
              "    <tr>\n",
              "      <th>0</th>\n",
              "      <td>100% Bran</td>\n",
              "      <td>N</td>\n",
              "      <td>C</td>\n",
              "      <td>70</td>\n",
              "      <td>4</td>\n",
              "      <td>1</td>\n",
              "      <td>130</td>\n",
              "      <td>10.0</td>\n",
              "      <td>5.0</td>\n",
              "      <td>6</td>\n",
              "      <td>280</td>\n",
              "      <td>25</td>\n",
              "      <td>3</td>\n",
              "      <td>1.00</td>\n",
              "      <td>0.33</td>\n",
              "      <td>68.402973</td>\n",
              "    </tr>\n",
              "    <tr>\n",
              "      <th>20</th>\n",
              "      <td>Cream of Wheat (Quick)</td>\n",
              "      <td>N</td>\n",
              "      <td>H</td>\n",
              "      <td>100</td>\n",
              "      <td>3</td>\n",
              "      <td>0</td>\n",
              "      <td>80</td>\n",
              "      <td>1.0</td>\n",
              "      <td>21.0</td>\n",
              "      <td>0</td>\n",
              "      <td>-1</td>\n",
              "      <td>0</td>\n",
              "      <td>2</td>\n",
              "      <td>1.00</td>\n",
              "      <td>1.00</td>\n",
              "      <td>64.533816</td>\n",
              "    </tr>\n",
              "    <tr>\n",
              "      <th>63</th>\n",
              "      <td>Shredded Wheat</td>\n",
              "      <td>N</td>\n",
              "      <td>C</td>\n",
              "      <td>80</td>\n",
              "      <td>2</td>\n",
              "      <td>0</td>\n",
              "      <td>0</td>\n",
              "      <td>3.0</td>\n",
              "      <td>16.0</td>\n",
              "      <td>0</td>\n",
              "      <td>95</td>\n",
              "      <td>0</td>\n",
              "      <td>1</td>\n",
              "      <td>0.83</td>\n",
              "      <td>1.00</td>\n",
              "      <td>68.235885</td>\n",
              "    </tr>\n",
              "    <tr>\n",
              "      <th>64</th>\n",
              "      <td>Shredded Wheat 'n'Bran</td>\n",
              "      <td>N</td>\n",
              "      <td>C</td>\n",
              "      <td>90</td>\n",
              "      <td>3</td>\n",
              "      <td>0</td>\n",
              "      <td>0</td>\n",
              "      <td>4.0</td>\n",
              "      <td>19.0</td>\n",
              "      <td>0</td>\n",
              "      <td>140</td>\n",
              "      <td>0</td>\n",
              "      <td>1</td>\n",
              "      <td>1.00</td>\n",
              "      <td>0.67</td>\n",
              "      <td>74.472949</td>\n",
              "    </tr>\n",
              "    <tr>\n",
              "      <th>65</th>\n",
              "      <td>Shredded Wheat spoon size</td>\n",
              "      <td>N</td>\n",
              "      <td>C</td>\n",
              "      <td>90</td>\n",
              "      <td>3</td>\n",
              "      <td>0</td>\n",
              "      <td>0</td>\n",
              "      <td>3.0</td>\n",
              "      <td>20.0</td>\n",
              "      <td>0</td>\n",
              "      <td>120</td>\n",
              "      <td>0</td>\n",
              "      <td>1</td>\n",
              "      <td>1.00</td>\n",
              "      <td>0.67</td>\n",
              "      <td>72.801787</td>\n",
              "    </tr>\n",
              "  </tbody>\n",
              "</table>\n",
              "</div>"
            ],
            "text/plain": [
              "                         name mfr type  calories  protein  fat  sodium  fiber  \\\n",
              "0                   100% Bran   N    C        70        4    1     130   10.0   \n",
              "20     Cream of Wheat (Quick)   N    H       100        3    0      80    1.0   \n",
              "63             Shredded Wheat   N    C        80        2    0       0    3.0   \n",
              "64     Shredded Wheat 'n'Bran   N    C        90        3    0       0    4.0   \n",
              "65  Shredded Wheat spoon size   N    C        90        3    0       0    3.0   \n",
              "\n",
              "    carbo  sugars  potass  vitamins  shelf  weight  cups     rating  \n",
              "0     5.0       6     280        25      3    1.00  0.33  68.402973  \n",
              "20   21.0       0      -1         0      2    1.00  1.00  64.533816  \n",
              "63   16.0       0      95         0      1    0.83  1.00  68.235885  \n",
              "64   19.0       0     140         0      1    1.00  0.67  74.472949  \n",
              "65   20.0       0     120         0      1    1.00  0.67  72.801787  "
            ]
          },
          "execution_count": 7,
          "metadata": {},
          "output_type": "execute_result"
        }
      ],
      "source": [
        "# para ordenar o dataframe usamos a função sort_values()\n",
        "# vamos ordenar pela coluna de rating\n",
        "df_cereals.sort_values(\"rating\")\n",
        "\n",
        "# vamos agora ordenar em sentido descencente\n",
        "df_cereals.sort_values(\"rating\", ascending = False)\n",
        "\n",
        "# agora vamos querer ordenar pelos ratings e pelo açucar\n",
        "df_cereals.sort_values([\"rating\", \"sugars\"])\n",
        "\n",
        "# o que queremos é ter o rating e sentido descendente e o açucar no ascendente\n",
        "df_cereals.sort_values([\"rating\", \"sugars\"], ascending = [False, True])\n",
        "\n",
        "# vamos ver como extrair uma das colunas\n",
        "df_cereals[\"rating\"]\n",
        "df_cereals\n",
        "# df_cereals[\"rating\"].columns\n",
        "df_cereals[[\"rating\"]]\n",
        "df_cereals[[\"rating\"]].columns\n",
        "\n",
        "# agora queremos obter o subconjunto com as colunas do açucar e do rating\n",
        "df_cereals[[\"sugars\", \"rating\"]]\n",
        "\n",
        "# para obter o subconjunto de linhas, podemos usar uma condição\n",
        "rating_condition_series = df_cereals[\"rating\"] > 60\n",
        "df_cereals[rating_condition_series]\n",
        "\n",
        "# rating_condition_df = df_cereals[[\"rating\"]] > 60\n",
        "# df_cereals[rating_condition_df]\n",
        "\n",
        "# podemos usar mais do que uma condição\n",
        "df_cereals[(df_cereals[\"rating\"] > 60) & (df_cereals[\"mfr\"] == \"N\")]\n",
        "\n",
        "# ou\n",
        "condition_1 = df_cereals[\"rating\"] > 60\n",
        "condition_2 = df_cereals[\"mfr\"] == \"N\"\n",
        "df_cereals[condition_1 & condition_2]"
      ]
    },
    {
      "cell_type": "markdown",
      "metadata": {
        "id": "lUulh_Fl0T9B"
      },
      "source": [
        "## 4.&nbsp;Criar novas colunas"
      ]
    },
    {
      "cell_type": "code",
      "execution_count": 31,
      "metadata": {
        "colab": {
          "base_uri": "https://localhost:8080/",
          "height": 520
        },
        "id": "d3s73GWL0Qwm",
        "outputId": "323af584-d128-4a32-e1ca-e209e54e51ef"
      },
      "outputs": [
        {
          "data": {
            "text/html": [
              "<div>\n",
              "<style scoped>\n",
              "    .dataframe tbody tr th:only-of-type {\n",
              "        vertical-align: middle;\n",
              "    }\n",
              "\n",
              "    .dataframe tbody tr th {\n",
              "        vertical-align: top;\n",
              "    }\n",
              "\n",
              "    .dataframe thead th {\n",
              "        text-align: right;\n",
              "    }\n",
              "</style>\n",
              "<table border=\"1\" class=\"dataframe\">\n",
              "  <thead>\n",
              "    <tr style=\"text-align: right;\">\n",
              "      <th></th>\n",
              "      <th>name</th>\n",
              "      <th>sugars</th>\n",
              "    </tr>\n",
              "  </thead>\n",
              "  <tbody>\n",
              "    <tr>\n",
              "      <th>66</th>\n",
              "      <td>Smacks</td>\n",
              "      <td>15</td>\n",
              "    </tr>\n",
              "    <tr>\n",
              "      <th>6</th>\n",
              "      <td>Apple Jacks</td>\n",
              "      <td>14</td>\n",
              "    </tr>\n",
              "    <tr>\n",
              "      <th>24</th>\n",
              "      <td>Froot Loops</td>\n",
              "      <td>13</td>\n",
              "    </tr>\n",
              "    <tr>\n",
              "      <th>17</th>\n",
              "      <td>Corn Pops</td>\n",
              "      <td>12</td>\n",
              "    </tr>\n",
              "    <tr>\n",
              "      <th>25</th>\n",
              "      <td>Frosted Flakes</td>\n",
              "      <td>11</td>\n",
              "    </tr>\n",
              "    <tr>\n",
              "      <th>39</th>\n",
              "      <td>Just Right Fruit &amp; Nut</td>\n",
              "      <td>9</td>\n",
              "    </tr>\n",
              "    <tr>\n",
              "      <th>48</th>\n",
              "      <td>Nut&amp;Honey Crunch</td>\n",
              "      <td>9</td>\n",
              "    </tr>\n",
              "    <tr>\n",
              "      <th>26</th>\n",
              "      <td>Frosted Mini-Wheats</td>\n",
              "      <td>7</td>\n",
              "    </tr>\n",
              "    <tr>\n",
              "      <th>38</th>\n",
              "      <td>Just Right Crunchy  Nuggets</td>\n",
              "      <td>6</td>\n",
              "    </tr>\n",
              "    <tr>\n",
              "      <th>21</th>\n",
              "      <td>Crispix</td>\n",
              "      <td>3</td>\n",
              "    </tr>\n",
              "    <tr>\n",
              "      <th>53</th>\n",
              "      <td>Product 19</td>\n",
              "      <td>3</td>\n",
              "    </tr>\n",
              "    <tr>\n",
              "      <th>62</th>\n",
              "      <td>Rice Krispies</td>\n",
              "      <td>3</td>\n",
              "    </tr>\n",
              "    <tr>\n",
              "      <th>67</th>\n",
              "      <td>Special K</td>\n",
              "      <td>3</td>\n",
              "    </tr>\n",
              "    <tr>\n",
              "      <th>16</th>\n",
              "      <td>Corn Flakes</td>\n",
              "      <td>2</td>\n",
              "    </tr>\n",
              "    <tr>\n",
              "      <th>50</th>\n",
              "      <td>Nutri-grain Wheat</td>\n",
              "      <td>2</td>\n",
              "    </tr>\n",
              "  </tbody>\n",
              "</table>\n",
              "</div>"
            ],
            "text/plain": [
              "                           name  sugars\n",
              "66                       Smacks      15\n",
              "6                   Apple Jacks      14\n",
              "24                  Froot Loops      13\n",
              "17                    Corn Pops      12\n",
              "25               Frosted Flakes      11\n",
              "39       Just Right Fruit & Nut       9\n",
              "48             Nut&Honey Crunch       9\n",
              "26          Frosted Mini-Wheats       7\n",
              "38  Just Right Crunchy  Nuggets       6\n",
              "21                      Crispix       3\n",
              "53                   Product 19       3\n",
              "62                Rice Krispies       3\n",
              "67                    Special K       3\n",
              "16                  Corn Flakes       2\n",
              "50            Nutri-grain Wheat       2"
            ]
          },
          "execution_count": 31,
          "metadata": {},
          "output_type": "execute_result"
        }
      ],
      "source": [
        "# a coluna peso (weight) está em ounces; vamos alterá-la para gramas\n",
        "# 1 ounce = 28.3495231 g\n",
        "df_cereals[\"weight_g\"] = df_cereals[\"weight\"] * 28.3495231\n",
        "df_cereals.sort_values(\"weight\", ascending = False)\n",
        "\n",
        "# vamos agora criar o rácio do peso/chávena\n",
        "df_cereals[\"ratio\"] = df_cereals[\"weight_g\"] / df_cereals[\"cups\"]\n",
        "df_cereals.sort_values(\"ratio\", ascending = False)\n",
        "\n",
        "# podemos agora começar a juntar o que aprendemos e a explorar o df\n",
        "# vamos ver os cereais que:\n",
        "# têm um ratio < 50\n",
        "# são da marca K\n",
        "# por ordem descendente em termos de açucar\n",
        "# só queremos as colunas do nome e do açucar\n",
        "\n",
        "final_condition_1 = df_cereals[\"ratio\"] < 50\n",
        "final_condition_2 = df_cereals[\"mfr\"] == \"K\"\n",
        "df_cereals_subset = df_cereals[final_condition_1 & final_condition_2]\n",
        "df_cereals_subset_sort = df_cereals_subset.sort_values(\"sugars\",\n",
        "                                                       ascending = False)\n",
        "df_cereals_subset_sort\n",
        "\n",
        "df_cereals_final = df_cereals_subset_sort[[\"name\", \"sugars\"]]\n",
        "df_cereals_final"
      ]
    }
  ],
  "metadata": {
    "colab": {
      "provenance": []
    },
    "kernelspec": {
      "display_name": "Python 3",
      "name": "python3"
    },
    "language_info": {
      "codemirror_mode": {
        "name": "ipython",
        "version": 3
      },
      "file_extension": ".py",
      "mimetype": "text/x-python",
      "name": "python",
      "nbconvert_exporter": "python",
      "pygments_lexer": "ipython3",
      "version": "3.9.5"
    }
  },
  "nbformat": 4,
  "nbformat_minor": 0
}
