{
  "nbformat": 4,
  "nbformat_minor": 0,
  "metadata": {
    "colab": {
      "provenance": []
    },
    "kernelspec": {
      "name": "python3",
      "display_name": "Python 3"
    },
    "language_info": {
      "name": "python"
    }
  },
  "cells": [
    {
      "cell_type": "markdown",
      "source": [
        "# Vamos aplicar o que aprendemos sobre o modelo de Regressão Logística\n",
        "\n",
        "*   Complete com o código em falta\n",
        "*   Sempre que necessário, **substitua** ___\n",
        "\n",
        "---\n",
        "\n",
        "dataset: [fonte](https://www.kaggle.com/datasets/tawfikelmetwally/employee-dataset)\n",
        "\n",
        "---\n"
      ],
      "metadata": {
        "id": "0anqVfaomEbf"
      }
    },
    {
      "cell_type": "markdown",
      "source": [
        "Corra a primeira célula de código para obter o dataframe com que vamos trabalhar"
      ],
      "metadata": {
        "id": "BUpPSnKRgp99"
      }
    },
    {
      "cell_type": "code",
      "source": [
        "# faça o upload do ficheiro csv associado à atividade\n",
        "\n",
        "# vamos importar a biblioteca\n",
        "import pandas as pd\n",
        "\n",
        "# vamos importar o dataframe do ficheiro .csv\n",
        "df_contract_renewal = pd.read_csv(\"Employee.csv\")"
      ],
      "metadata": {
        "id": "MQugf4NCasL-"
      },
      "execution_count": null,
      "outputs": []
    },
    {
      "cell_type": "code",
      "source": [
        "# veja as 5 primeiras linhas do dataframe\n",
        "df_contract_renewal.head()\n",
        "# veja a forma do dataframe: quantas linhas, quantas colunas?\n",
        "df_contract_renewal.shape\n",
        "# veja a informação sobre o dataframe\n",
        "df_contract_renewal.info()\n",
        "# veja a descrição das variáveis numéricas\n",
        "df_contract_renewal.describe()"
      ],
      "metadata": {
        "id": "4cBiXvTFkLu7"
      },
      "execution_count": null,
      "outputs": []
    },
    {
      "cell_type": "code",
      "source": [
        "# vamos fazer o drop das colunas object\n",
        "df_contract_renewal.drop([\"Education\", \"City\", \"Gender\", \"EverBenched\"],\n",
        "                         axis = 1,\n",
        "                         inplace = True)\n",
        "\n",
        "# defina a variável alvo como sendo a coluna \"LeaveOrNot\"\n",
        "target_variable = \"LeaveOrNot\"\n",
        "\n",
        "# train_test split usando a função train_test_split\n",
        "X = df_contract_renewal.drop([target_variable], axis = 1)\n",
        "y = df_contract_renewal[target_variable]*1\n",
        "\n",
        "# verifique o grau de desequilibrio\n",
        "print(y.sum()/len(y))\n",
        "\n",
        "# importe a função train_test_split e defina X_train, X_test, y_train, y_test\n",
        "from sklearn.model_selection import train_test_split\n",
        "X_train, X_test, y_train, y_test = train_test_split(X, y,\n",
        "                                                    test_size = 0.2,\n",
        "                                                    random_state = 12,\n",
        "                                                    stratify = y)"
      ],
      "metadata": {
        "id": "rvscwWMwtZUl"
      },
      "execution_count": null,
      "outputs": []
    },
    {
      "cell_type": "code",
      "source": [
        "# importe o modelo de DecisionTreeClassifier\n",
        "from sklearn.tree import DecisionTreeClassifier\n",
        "clf = DecisionTreeClassifier(criterion = 'entropy')\n",
        "\n",
        "# aplique o método .fit para \"ajustar\" o modelo aos dados\n",
        "clf.fit(X_train, y_train)"
      ],
      "metadata": {
        "id": "_kMdqoG_yK-y"
      },
      "execution_count": null,
      "outputs": []
    },
    {
      "cell_type": "code",
      "source": [
        "# aplique o modelo e preveja para os dados de teste (método .predict())\n",
        "y_pred = clf.predict(X_test)\n",
        "\n",
        "# veja os resultados\n",
        "print('Previsões: {}'.format(y_pred))\n",
        "print('Reais:     {}'.format(y_test.values))"
      ],
      "metadata": {
        "id": "ySo_9VG50bVD"
      },
      "execution_count": null,
      "outputs": []
    },
    {
      "cell_type": "code",
      "source": [
        "# verifique a accuracy do modelo\n",
        "clf.score(X_test, y_test)"
      ],
      "metadata": {
        "id": "z-1UevT9FdQn"
      },
      "execution_count": null,
      "outputs": []
    },
    {
      "cell_type": "code",
      "source": [
        "# faça o upload do ficheiro csv associado à atividade\n",
        "\n",
        "# vamos importar a biblioteca\n",
        "import pandas as pd\n",
        "import numpy as np\n",
        "\n",
        "# vamos importar o dataframe do ficheiro .csv\n",
        "df_real_estate = (pd\n",
        "                  .read_csv(\"Real estate.csv\")\n",
        "                  .drop([\"No\",\n",
        "                         \"X1 transaction date\",\n",
        "                         \"X4 number of convenience stores\"], axis = 1))"
      ],
      "metadata": {
        "id": "5pVZcyiDZNJk"
      },
      "execution_count": null,
      "outputs": []
    },
    {
      "cell_type": "code",
      "source": [
        "# veja as 5 primeiras linhas do dataframe\n",
        "df_real_estate.head()\n",
        "# veja a forma do dataframe: quantas linhas, quantas colunas?\n",
        "df_real_estate.shape\n",
        "# veja a informação sobre o dataframe\n",
        "df_real_estate.info()\n",
        "# veja a descrição das variáveis numéricas\n",
        "df_real_estate.describe()"
      ],
      "metadata": {
        "id": "PkNTc22bZNJl"
      },
      "execution_count": null,
      "outputs": []
    },
    {
      "cell_type": "code",
      "source": [
        "# importe o matplotlib.pyplot\n",
        "import matplotlib.pyplot as plt\n",
        "plt.style.use('ggplot')\n",
        "x_variable = df_real_estate[\"X5 latitude\"]\n",
        "y_variable = df_real_estate[\"Y house price of unit area\"]\n",
        "plt.scatter(x_variable, y_variable, color = 'b')\n",
        "plt.ylabel(\"preço do m2 de habitação\")\n",
        "plt.xlabel('latitude')\n",
        "plt.show()"
      ],
      "metadata": {
        "id": "jg4qpD-SpsyQ"
      },
      "execution_count": null,
      "outputs": []
    },
    {
      "cell_type": "code",
      "source": [
        "# vamos codificar o nome das variáveis\n",
        "columns_names = [\"x1\", \"x2\", \"x3\", \"x4\", \"y\"]\n",
        "df_real_estate.columns = columns_names"
      ],
      "metadata": {
        "id": "FvkRgGVVojfC"
      },
      "execution_count": null,
      "outputs": []
    },
    {
      "cell_type": "code",
      "source": [
        "# defina a variável alvo (\"y\")\n",
        "target_variable = \"y\"\n",
        "\n",
        "# train_test split usando a função train_test_split\n",
        "X = df_real_estate.drop([target_variable], axis = 1)\n",
        "y = df_real_estate[target_variable]\n",
        "\n",
        "from sklearn.model_selection import train_test_split\n",
        "X_train, X_test, y_train, y_test = train_test_split(X, y,\n",
        "                                                    test_size = 0.3,\n",
        "                                                    random_state = 12)"
      ],
      "metadata": {
        "id": "2yhsemVKZNJm"
      },
      "execution_count": null,
      "outputs": []
    },
    {
      "cell_type": "code",
      "source": [
        "# importe o modelo de regressão linear\n",
        "from sklearn.ensemble import RandomForestRegressor\n",
        "rf = RandomForestRegressor()\n",
        "rf.fit(X_train, y_train)\n",
        "y_pred = rf.predict(X_test)\n",
        "\n",
        "# para verificar a accuracy do modelo aplique a função .score\n",
        "rf.score(X_test, y_test)"
      ],
      "metadata": {
        "id": "Nm2qex2ntS94"
      },
      "execution_count": null,
      "outputs": []
    },
    {
      "cell_type": "code",
      "source": [
        "# considere 500 árvores e um máximo de features = sqrt\n",
        "rf = RandomForestRegressor(n_estimators = 500, max_features = 'sqrt')\n",
        "rf.fit(X_train, y_train)\n",
        "y_pred_2 = rf.predict(X_test)\n",
        "\n",
        "# para verificar a accuracy do modelo aplique a função .score\n",
        "rf.score(X_test, y_test)"
      ],
      "metadata": {
        "id": "Wpx3oj2CF2uA"
      },
      "execution_count": null,
      "outputs": []
    },
    {
      "cell_type": "code",
      "source": [
        "#visualize as diferenças\n",
        "plt.scatter(y_test, y_pred, color = 'b')\n",
        "plt.scatter(y_test, y_pred_2, color = 'r')\n",
        "plt.xlabel('valores reais')\n",
        "plt.ylabel(\"valores previstos\")\n",
        "plt.show()"
      ],
      "metadata": {
        "id": "XABBP7rfGfQc"
      },
      "execution_count": null,
      "outputs": []
    }
  ]
}