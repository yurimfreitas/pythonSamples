{
  "nbformat": 4,
  "nbformat_minor": 0,
  "metadata": {
    "colab": {
      "provenance": []
    },
    "kernelspec": {
      "name": "python3",
      "display_name": "Python 3"
    },
    "language_info": {
      "name": "python"
    }
  },
  "cells": [
    {
      "cell_type": "markdown",
      "source": [
        "# Vamos aplicar o que aprendemos sobre os pandas dataframes\n",
        "\n",
        "\n",
        "*   Complete com o código em falta\n",
        "*   Sempre que necessário, **substitua** ___\n",
        "\n",
        "---\n",
        "\n",
        "dataset: [fonte](https://www.kaggle.com/datasets/starbucks/starbucks-menu?select=starbucks_drinkMenu_expanded.csv)\n",
        "\n",
        "---\n"
      ],
      "metadata": {
        "id": "0anqVfaomEbf"
      }
    },
    {
      "cell_type": "markdown",
      "source": [
        "Corra a primeira célula de código para obter o dataframe com que vamos trabalhar"
      ],
      "metadata": {
        "id": "BUpPSnKRgp99"
      }
    },
    {
      "cell_type": "code",
      "source": [
        "# faça o upload do ficheiro csv associado à atividade\n",
        "\n",
        "# vamos importar a biblioteca\n",
        "import pandas as pd\n",
        "\n",
        "# vamos importar o dataframe do ficheiro .csv\n",
        "df_starbucks = pd.read_csv(\"starbucks_drinkMenu_expanded.csv\")"
      ],
      "metadata": {
        "id": "MQugf4NCasL-"
      },
      "execution_count": null,
      "outputs": []
    },
    {
      "cell_type": "code",
      "source": [
        "# veja as 5 primeiras linhas do dataframe\n",
        "df_starbucks.head()\n",
        "\n",
        "# veja as 10 primeiras linhas do dataframe\n",
        "df_starbucks.head(10)\n",
        "\n",
        "# veja as últimas 10 linhas do dataframe\n",
        "df_starbucks.tail(10)\n",
        "\n",
        "# veja a forma do dataframe: quantas linhas, quantas colunas?\n",
        "df_starbucks.shape\n",
        "\n",
        "# veja a informação sobre o dataframe\n",
        "df_starbucks.info()\n",
        "\n",
        "# veja a descrição das variáveis numéricas\n",
        "df_starbucks.describe()\n",
        "\n",
        "# veja as três partes que constituem o dataframe\n",
        "# não se esqueça de que são atributos\n",
        "# não se esqueça de que um deles é \"estranho\"\n",
        "df_starbucks.values\n",
        "df_starbucks.columns\n",
        "df_starbucks.index"
      ],
      "metadata": {
        "id": "4cBiXvTFkLu7"
      },
      "execution_count": null,
      "outputs": []
    },
    {
      "cell_type": "code",
      "source": [
        "# ordene as bebidas pela suas calorias (Calories) -> ascendente\n",
        "df_starbucks.sort_values(\"Calories\")\n",
        "\n",
        "# ordene as bebidas pela suas calorias (Calories) -> descendente\n",
        "df_starbucks.sort_values(\"Calories\", ascending = False)\n",
        "\n",
        "# ordene as bebidas pelas calorias-> desc e pelas proteínas ( Protein (g))-> asc\n",
        "df_starbucks.sort_values([\"Calories\", \"Protein (g)\"], ascending = [False, True])\n",
        "\n",
        "# crie uma serie com a coluna das calorias\n",
        "calories_series = df_starbucks[\"Calories\"]\n",
        "\n",
        "# crie um dataframe com a mesma coluna\n",
        "calories_df = df_starbucks[[\"Calories\"]]\n",
        "\n",
        "# crie um df com a categoria das bebidas (Beverage_category) e as calorias\n",
        "df_beverage_cg_and_calories = df_starbucks[[\"Beverage_category\",\"Calories\"]]\n",
        "\n",
        "# ordene este novo df pelas categorias-> asc e pelas calorias-> desc\n",
        "df_beverage_cg_and_calories.sort_values([\"Beverage_category\",\"Calories\"],\n",
        "                                        ascending = [True, False])\n",
        "\n",
        "# filtre as bebidas com calorias acima de 400\n",
        "condition = df_starbucks[\"Calories\"] > 400\n",
        "df_starbucks[condition]\n",
        "\n",
        "# filtre as bebidas com calorias acima de 400\n",
        "# mas que não sejam \"Signature Espresso Drinks\"\n",
        "condition_1 = df_starbucks[\"Calories\"] > 400\n",
        "condition_2 = df_starbucks[\"Beverage_category\"] != \"Signature Espresso Drinks\"\n",
        "df_starbucks[condition_1 & condition_2]"
      ],
      "metadata": {
        "id": "rvscwWMwtZUl"
      },
      "execution_count": null,
      "outputs": []
    },
    {
      "cell_type": "code",
      "source": [
        "# queremos saber a percentagem açucar/carbs\n",
        "df_starbucks[\"Sugar_Carbs_ratio\"] = (df_starbucks[\"Sugars (g)\"]\n",
        "                                     / df_starbucks[\"Total Carbohydrates (g)\"]\n",
        "                                     * 100)\n",
        "\n",
        "# queremos apenas ficar com as colunas:\n",
        "#(Beverage, Calories, Sugar_Carbs_ratio, Caffeine (mg))\n",
        "list_of_columns = [\"Beverage\", \"Calories\", \"Sugar_Carbs_ratio\", \"Caffeine (mg)\"]\n",
        "df_starbucks_subset = df_starbucks[list_of_columns]\n",
        "\n",
        "# ordene pelas calorias -> descendente\n",
        "df_starbucks_subset_sort = df_starbucks_subset.sort_values(\"Calories\",\n",
        "                                                           ascending = False)"
      ],
      "metadata": {
        "id": "_kMdqoG_yK-y"
      },
      "execution_count": null,
      "outputs": []
    }
  ]
}