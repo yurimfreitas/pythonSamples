{
  "nbformat": 4,
  "nbformat_minor": 0,
  "metadata": {
    "colab": {
      "provenance": []
    },
    "kernelspec": {
      "name": "python3",
      "display_name": "Python 3"
    },
    "language_info": {
      "name": "python"
    }
  },
  "cells": [
    {
      "cell_type": "markdown",
      "source": [
        "# Vamos aplicar o que aprendemos sobre regressões lineares\n",
        "*   Complete com o código em falta\n",
        "*   Sempre que necessário, **substitua** ___\n",
        "\n",
        "---\n",
        "\n",
        "dataset: [fonte](https://www.kaggle.com/datasets/quantbruce/real-estate-price-prediction)\n",
        "\n",
        "---\n"
      ],
      "metadata": {
        "id": "0anqVfaomEbf"
      }
    },
    {
      "cell_type": "markdown",
      "source": [
        "Corra a primeira célula de código para obter o dataframe com que vamos trabalhar"
      ],
      "metadata": {
        "id": "BUpPSnKRgp99"
      }
    },
    {
      "cell_type": "code",
      "source": [
        "# faça o upload do ficheiro csv associado à atividade\n",
        "\n",
        "# vamos importar a biblioteca\n",
        "import pandas as pd\n",
        "import numpy as np\n",
        "\n",
        "# vamos importar o dataframe do ficheiro .csv\n",
        "df_real_estate = (pd\n",
        "                  .read_csv(\"Real estate.csv\")\n",
        "                  .drop([\"No\",\n",
        "                         \"X1 transaction date\",\n",
        "                         \"X4 number of convenience stores\"], axis = 1))"
      ],
      "metadata": {
        "id": "MQugf4NCasL-"
      },
      "execution_count": null,
      "outputs": []
    },
    {
      "cell_type": "code",
      "source": [
        "# veja as 5 primeiras linhas do dataframe\n",
        "df_real_estate.head()\n",
        "# veja a forma do dataframe: quantas linhas, quantas colunas?\n",
        "df_real_estate.shape\n",
        "# veja a informação sobre o dataframe\n",
        "df_real_estate.info()\n",
        "# veja a descrição das variáveis numéricas\n",
        "df_real_estate.describe()"
      ],
      "metadata": {
        "id": "4cBiXvTFkLu7"
      },
      "execution_count": null,
      "outputs": []
    },
    {
      "cell_type": "code",
      "source": [
        "# defina a variável alvo (\"Y house price of unit area\")\n",
        "target_variable = \"Y house price of unit area\"\n",
        "\n",
        "# train_test split usando a função train_test_split\n",
        "X = df_real_estate.drop([target_variable], axis = 1)\n",
        "y = df_real_estate[target_variable]\n",
        "\n",
        "from sklearn.model_selection import train_test_split\n",
        "X_train, X_test, y_train, y_test = train_test_split(X, y,\n",
        "                                                    test_size = 0.3,\n",
        "                                                    random_state = 12)"
      ],
      "metadata": {
        "id": "rvscwWMwtZUl"
      },
      "execution_count": null,
      "outputs": []
    },
    {
      "cell_type": "code",
      "source": [
        "from sklearn.model_selection import GridSearchCV, KFold\n",
        "from sklearn.ensemble import RandomForestRegressor\n",
        "from sklearn.metrics import mean_squared_error, r2_score\n",
        "\n",
        "# defina o cv com 10 folds\n",
        "kf = KFold(n_splits=10)\n",
        "\n",
        "# crie o modelo de random forest\n",
        "rf = RandomForestRegressor(random_state=42)\n",
        "\n",
        "# defina a grid dos hyperparameters considerando\n",
        "# n_estimators -> [50, 100, 200, 400]\n",
        "# max_depth -> [None, 10, 20, 30]\n",
        "# min_samples_split -> [2, 5, 10]\n",
        "\n",
        "param_grid_rf = {\n",
        "    'n_estimators': [50, 100, 200, 400],\n",
        "    'max_depth': [None, 10, 20, 30],\n",
        "    'min_samples_split': [2, 5, 10]\n",
        "}\n",
        "\n",
        "# crie o dict de métricas (rmse, r2)\n",
        "scoring = {\n",
        "    'rmse': 'neg_root_mean_squared_error',\n",
        "    'r2': 'r2'\n",
        "}\n",
        "\n",
        "# aplique a grid search ao modelo de Random Forest (faça fit para o rmse)\n",
        "grid_search_rf = GridSearchCV(estimator=rf, param_grid=param_grid_rf, cv=kf, scoring=scoring, refit='rmse')\n",
        "grid_search_rf.fit(X_train, y_train)\n",
        "\n",
        "# obtenha os melhores hyperparameters\n",
        "best_params_rf = grid_search_rf.best_params_\n",
        "print(\"Best Parameters for Random Forest Regressor:\", best_params_rf)\n",
        "\n",
        "# obtenha o melhor score\n",
        "best_score_rf = grid_search_rf.best_score_\n",
        "print(\"Best Cross-Validation RMSE Score for Random Forest Regressor:\", -best_score_rf)\n",
        "\n",
        "# avalie os resultados para os diferentes k_folds\n",
        "pd.DataFrame(grid_search_rf.cv_results_)\n",
        "\n",
        "# obtenha o melhor modelo\n",
        "best_rf = grid_search_rf.best_estimator_\n",
        "\n",
        "# faça as previsões\n",
        "y_pred_rf = best_rf.predict(X_test)\n",
        "\n",
        "# avalie as métricas finais\n",
        "print(\"\\nRandom Forest Regressor Evaluation\")\n",
        "print(\"Root Mean Squared Error:\", mean_squared_error(y_test, y_pred_rf)**(1/2))\n",
        "print(\"R2 Score:\", r2_score(y_test, y_pred_rf))"
      ],
      "metadata": {
        "id": "fdPOJwsOKy7i"
      },
      "execution_count": null,
      "outputs": []
    }
  ]
}