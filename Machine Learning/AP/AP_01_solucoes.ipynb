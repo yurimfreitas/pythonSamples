{
  "nbformat": 4,
  "nbformat_minor": 0,
  "metadata": {
    "colab": {
      "provenance": []
    },
    "kernelspec": {
      "name": "python3",
      "display_name": "Python 3"
    },
    "language_info": {
      "name": "python"
    }
  },
  "cells": [
    {
      "cell_type": "markdown",
      "source": [
        "# Vamos aplicar o que aprendemos sobre os Numpy array\n",
        "\n",
        "\n",
        "*   Complete com o código em falta\n",
        "*   Sempre que necessário, **substitua** ___\n",
        "\n"
      ],
      "metadata": {
        "id": "0anqVfaomEbf"
      }
    },
    {
      "cell_type": "code",
      "execution_count": null,
      "metadata": {
        "id": "c3kntpgQmB4i"
      },
      "outputs": [],
      "source": [
        "#lista exemplo\n",
        "phone_matrix = [[1, 2, 3],\n",
        "                [4, 5, 6],\n",
        "                [7, 8, 9]]\n",
        "\n",
        "# importe a biblioteca NumPy com o alias usual\n",
        "import numpy as np\n",
        "\n",
        "# converta a lista num array\n",
        "phone_matrix_array = np.array(phone_matrix)\n",
        "\n",
        "# faça print para ver o tipo de dados do array\n",
        "print(type(phone_matrix_array))"
      ]
    },
    {
      "cell_type": "code",
      "source": [
        "# crie um array com zeros com 3 linhas e 2 colunas\n",
        "zero_array = np.zeros((3,2))\n",
        "# faça print para ver o array\n",
        "print(zero_array)"
      ],
      "metadata": {
        "id": "oOv36aJhpSEM"
      },
      "execution_count": null,
      "outputs": []
    },
    {
      "cell_type": "code",
      "source": [
        "# crie um array de números aleatório com 6 linhas e 2 colunas\n",
        "random_array = np.random.random((6,2))\n",
        "# faça print para ver o array\n",
        "print(random_array)"
      ],
      "metadata": {
        "id": "nYiPvpoQ6iXc"
      },
      "execution_count": null,
      "outputs": []
    },
    {
      "cell_type": "code",
      "source": [
        "import matplotlib.pyplot as plt\n",
        "\n",
        "# array exemplo\n",
        "y_values = np.array([1, 1, 2, 3, 5, 8, 13, 21, 34, 55])\n",
        "\n",
        "# crie um array de inteiros de 1 a 10 (inclusive)\n",
        "one_to_ten = np.arange(1,11)\n",
        "\n",
        "# Uma excelente opção para definir ordenadas num gráfico\n",
        "plt.scatter(one_to_ten, y_values)\n",
        "plt.show()"
      ],
      "metadata": {
        "id": "nQG-7fxM7Yoi"
      },
      "execution_count": null,
      "outputs": []
    },
    {
      "cell_type": "code",
      "source": [
        "#lista de listas com o número dos testes\n",
        "test_matrix = [[1, 2],\n",
        "               [3, 4]]\n",
        "\n",
        "#lista de listas com as notas da turma \"a\"\n",
        "grade_matrix_a = [[10,12],\n",
        "                  [18,14]]\n",
        "\n",
        "# crie um array 3D com os testes e as notas da turma \"a\"\n",
        "test_and_grade_matrix_a = np.array((test_matrix, grade_matrix_a))\n",
        "\n",
        "# faça print para ver o array test_and_grade_matrix_a\n",
        "print(test_and_grade_matrix_a)\n",
        "\n",
        "#lista de listas com as notas da turma \"b\"\n",
        "grade_matrix_b = [[15,18],\n",
        "                  [14,9]]\n",
        "\n",
        "#  crie um segundo array 3D com os testes e as notas da turma \"b\"\n",
        "test_and_grade_matrix_b = np.array((test_matrix, grade_matrix_b))\n",
        "\n",
        "# crie um array 4D com os testes e as notas das duas turmas\n",
        "final_array = np.array((test_and_grade_matrix_a, test_and_grade_matrix_b))\n",
        "\n",
        "# faça print do shape do final_array\n",
        "print(final_array.shape)\n"
      ],
      "metadata": {
        "id": "WW1a_MSgRi3k"
      },
      "execution_count": null,
      "outputs": []
    },
    {
      "cell_type": "code",
      "source": [
        "# vamos achatar o array dos testes\n",
        "flattened_test_matrix = test_and_grade_matrix_a.flatten()\n",
        "\n",
        "# faça print do shape do flattened_test_matrix\n",
        "print(flattened_test_matrix.shape)\n",
        "\n",
        "# devolva a forma antiga ao flattened_test_matrix\n",
        "reshaped_flattened_test_matrix = flattened_test_matrix.reshape((4,2))\n",
        "\n",
        "# faça print do flattened_test_matrix e do reshaped_flattened_test_matrix\n",
        "print(flattened_test_matrix)\n",
        "print(reshaped_flattened_test_matrix)"
      ],
      "metadata": {
        "id": "LpCS_ATIsbix"
      },
      "execution_count": null,
      "outputs": []
    }
  ]
}