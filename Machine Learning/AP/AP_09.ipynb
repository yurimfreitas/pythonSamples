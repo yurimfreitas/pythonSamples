{
  "nbformat": 4,
  "nbformat_minor": 0,
  "metadata": {
    "colab": {
      "provenance": []
    },
    "kernelspec": {
      "name": "python3",
      "display_name": "Python 3"
    },
    "language_info": {
      "name": "python"
    }
  },
  "cells": [
    {
      "cell_type": "markdown",
      "source": [
        "# Vamos aplicar o que aprendemos sobre o modelo de Regressão Logística\n",
        "\n",
        "*   Complete com o código em falta\n",
        "*   Sempre que necessário, **substitua** ___\n",
        "\n",
        "---\n",
        "\n",
        "dataset: [fonte](https://www.kaggle.com/datasets/tawfikelmetwally/employee-dataset)\n",
        "\n",
        "---\n"
      ],
      "metadata": {
        "id": "0anqVfaomEbf"
      }
    },
    {
      "cell_type": "markdown",
      "source": [
        "Corra a primeira célula de código para obter o dataframe com que vamos trabalhar"
      ],
      "metadata": {
        "id": "BUpPSnKRgp99"
      }
    },
    {
      "cell_type": "code",
      "source": [
        "# faça o upload do ficheiro csv associado à atividade\n",
        "\n",
        "# vamos importar a biblioteca\n",
        "import pandas as pd\n",
        "\n",
        "# vamos importar o dataframe do ficheiro .csv\n",
        "df_contract_renewal = pd.read_csv(\"Employee.csv\")"
      ],
      "metadata": {
        "id": "MQugf4NCasL-"
      },
      "execution_count": null,
      "outputs": []
    },
    {
      "cell_type": "code",
      "source": [
        "# veja as 5 primeiras linhas do dataframe\n",
        "df_contract_renewal.head()\n",
        "# veja a forma do dataframe: quantas linhas, quantas colunas?\n",
        "df_contract_renewal.shape\n",
        "# veja a informação sobre o dataframe\n",
        "df_contract_renewal.info()\n",
        "# veja a descrição das variáveis numéricas\n",
        "df_contract_renewal.describe()"
      ],
      "metadata": {
        "id": "4cBiXvTFkLu7"
      },
      "execution_count": null,
      "outputs": []
    },
    {
      "cell_type": "code",
      "source": [
        "# vamos fazer o drop das colunas object\n",
        "df_contract_renewal.___(___)\n",
        "\n",
        "# defina a variável alvo como sendo a coluna \"LeaveOrNot\"\n",
        "target_variable = ___\n",
        "\n",
        "# train_test split usando a função train_test_split\n",
        "X = df_contract_renewal.___(___)\n",
        "y = df_contract_renewal[___]*1\n",
        "\n",
        "# verifique o grau de desequilibrio\n",
        "print(y.sum()/len(y))\n",
        "\n",
        "# importe a função train_test_split e defina X_train, X_test, y_train, y_test\n",
        "___\n",
        "___ = ___(___, ___, ___ = 0.2, ___ = 12, ___)"
      ],
      "metadata": {
        "id": "rvscwWMwtZUl"
      },
      "execution_count": null,
      "outputs": []
    },
    {
      "cell_type": "code",
      "source": [
        "# importe o modelo de DecisionTreeClassifier\n",
        "from ___ import ___\n",
        "clf = ___(___ = 'entropy')\n",
        "\n",
        "# aplique o método .fit para \"ajustar\" o modelo aos dados\n",
        "___(___, ___)"
      ],
      "metadata": {
        "id": "_kMdqoG_yK-y"
      },
      "execution_count": null,
      "outputs": []
    },
    {
      "cell_type": "code",
      "source": [
        "# aplique o modelo e preveja para os dados de teste (método .predict())\n",
        "y_pred = ___(___)\n",
        "\n",
        "# veja os resultados\n",
        "print('Previsões: {}'.format(___))\n",
        "print('Reais:     {}'.format(___))"
      ],
      "metadata": {
        "id": "ySo_9VG50bVD"
      },
      "execution_count": null,
      "outputs": []
    },
    {
      "cell_type": "code",
      "source": [
        "# verifique a accuracy do modelo\n",
        "___(___, ___)"
      ],
      "metadata": {
        "id": "z-1UevT9FdQn"
      },
      "execution_count": null,
      "outputs": []
    },
    {
      "cell_type": "code",
      "source": [
        "# faça o upload do ficheiro csv associado à atividade\n",
        "\n",
        "# vamos importar a biblioteca\n",
        "import pandas as pd\n",
        "import numpy as np\n",
        "\n",
        "# vamos importar o dataframe do ficheiro .csv\n",
        "df_real_estate = (pd\n",
        "                  .read_csv(\"Real estate.csv\")\n",
        "                  .drop([\"No\",\n",
        "                         \"X1 transaction date\",\n",
        "                         \"X4 number of convenience stores\"], axis = 1))"
      ],
      "metadata": {
        "id": "5pVZcyiDZNJk"
      },
      "execution_count": null,
      "outputs": []
    },
    {
      "cell_type": "code",
      "source": [
        "# veja as 5 primeiras linhas do dataframe\n",
        "df_real_estate.head()\n",
        "# veja a forma do dataframe: quantas linhas, quantas colunas?\n",
        "df_real_estate.shape\n",
        "# veja a informação sobre o dataframe\n",
        "df_real_estate.info()\n",
        "# veja a descrição das variáveis numéricas\n",
        "df_real_estate.describe()"
      ],
      "metadata": {
        "id": "PkNTc22bZNJl"
      },
      "execution_count": null,
      "outputs": []
    },
    {
      "cell_type": "code",
      "source": [
        "# importe o matplotlib.pyplot\n",
        "import matplotlib.pyplot as plt\n",
        "plt.style.use('ggplot')\n",
        "x_variable = df_real_estate[\"X5 latitude\"]\n",
        "y_variable = df_real_estate[\"Y house price of unit area\"]\n",
        "plt.scatter(x_variable, y_variable, color = 'b')\n",
        "plt.ylabel(\"preço do m2 de habitação\")\n",
        "plt.xlabel('latitude')\n",
        "plt.show()"
      ],
      "metadata": {
        "id": "jg4qpD-SpsyQ"
      },
      "execution_count": null,
      "outputs": []
    },
    {
      "cell_type": "code",
      "source": [
        "# vamos codificar o nome das variáveis\n",
        "columns_names = [\"x1\", \"x2\", \"x3\", \"x4\", \"y\"]\n",
        "df_real_estate.columns = columns_names"
      ],
      "metadata": {
        "id": "FvkRgGVVojfC"
      },
      "execution_count": null,
      "outputs": []
    },
    {
      "cell_type": "code",
      "source": [
        "# defina a variável alvo (\"y\")\n",
        "target_variable = ___\n",
        "\n",
        "# train_test split usando a função train_test_split\n",
        "X = ___\n",
        "y = ___\n",
        "\n",
        "___\n",
        "___ = ___(___, ___, ___ = 0.3, ___ = 12)"
      ],
      "metadata": {
        "id": "2yhsemVKZNJm"
      },
      "execution_count": null,
      "outputs": []
    },
    {
      "cell_type": "code",
      "source": [
        "# importe o modelo de regressão linear\n",
        "from ___ import ___\n",
        "rf = ___()\n",
        "rf.___(___, ___)\n",
        "y_pred = ___\n",
        "\n",
        "# para verificar a accuracy do modelo aplique a função .score\n",
        "rf.___"
      ],
      "metadata": {
        "id": "Nm2qex2ntS94"
      },
      "execution_count": null,
      "outputs": []
    },
    {
      "cell_type": "code",
      "source": [
        "# considere 500 árvores e um máximo de features = sqrt\n",
        "rf = ___(___ = 500, ___ = 'sqrt')\n",
        "rf.___(___, ___)\n",
        "y_pred_2 = rf.___(___)\n",
        "\n",
        "# para verificar a accuracy do modelo aplique a função .score\n",
        "rf.___"
      ],
      "metadata": {
        "id": "Wpx3oj2CF2uA"
      },
      "execution_count": null,
      "outputs": []
    },
    {
      "cell_type": "code",
      "source": [
        "#visualize as diferenças\n",
        "plt.scatter(___, ___, color = 'b')\n",
        "plt.scatter(___, y_pred_2, color = 'r')\n",
        "plt.xlabel('valores reais')\n",
        "plt.ylabel(\"valores previstos\")\n",
        "plt.show()"
      ],
      "metadata": {
        "id": "XABBP7rfGfQc"
      },
      "execution_count": null,
      "outputs": []
    }
  ]
}