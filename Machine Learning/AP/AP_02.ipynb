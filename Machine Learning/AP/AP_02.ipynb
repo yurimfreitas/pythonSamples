{
  "cells": [
    {
      "cell_type": "markdown",
      "metadata": {
        "id": "0anqVfaomEbf"
      },
      "source": [
        "# Vamos aplicar o que aprendemos sobre os Numpy array\n",
        "\n",
        "\n",
        "*   Complete com o código em falta\n",
        "*   Sempre que necessário, **substitua** ___\n",
        "\n"
      ]
    },
    {
      "cell_type": "markdown",
      "metadata": {
        "id": "A4_y-vJVg2i5"
      },
      "source": [
        "Corra a primeira célula de código para obter o array com que vamos trabalhar"
      ]
    },
    {
      "cell_type": "code",
      "execution_count": 1,
      "metadata": {
        "id": "btE2r7wWg7OQ"
      },
      "outputs": [],
      "source": [
        "import numpy as np\n",
        "\n",
        "# array com # camas e # de beliches existentes\n",
        "# dados do grupo \"urbRes\", uma empresa de hostels\n",
        "# significado das colunas:\n",
        "  # - id do quarto\n",
        "  # - # de camas\n",
        "  # - # de beliches\n",
        "np.random.seed(1234)\n",
        "number_of_rows = 100\n",
        "room_ids = np.random.choice(np.arange(1000001, 1000020), number_of_rows)\n",
        "room_ids_sorted = np.sort(room_ids)\n",
        "number_of_beds = np.random.choice(np.arange(1, 9), number_of_rows)\n",
        "number_of_bunk_beds = np.where(number_of_beds > 3, number_of_beds, 0)\n",
        "number_of_beds = np.where(number_of_beds > 3, 0, number_of_beds)\n",
        "\n",
        "bedrooms_ids = np.stack([room_ids_sorted, number_of_beds, number_of_bunk_beds],\n",
        "                        axis=1)"
      ]
    },
    {
      "cell_type": "code",
      "execution_count": 3,
      "metadata": {},
      "outputs": [
        {
          "data": {
            "text/plain": [
              "array([[1000001,       0,       7],\n",
              "       [1000001,       1,       0],\n",
              "       [1000001,       0,       5],\n",
              "       [1000001,       1,       0],\n",
              "       [1000001,       0,       5],\n",
              "       [1000001,       2,       0],\n",
              "       [1000002,       1,       0],\n",
              "       [1000002,       0,       7],\n",
              "       [1000002,       2,       0],\n",
              "       [1000003,       0,       8],\n",
              "       [1000003,       1,       0],\n",
              "       [1000003,       3,       0],\n",
              "       [1000003,       1,       0],\n",
              "       [1000003,       0,       4],\n",
              "       [1000004,       3,       0],\n",
              "       [1000004,       3,       0],\n",
              "       [1000004,       0,       8],\n",
              "       [1000004,       0,       4],\n",
              "       [1000005,       0,       7],\n",
              "       [1000005,       3,       0],\n",
              "       [1000005,       2,       0],\n",
              "       [1000005,       0,       8],\n",
              "       [1000005,       0,       5],\n",
              "       [1000006,       1,       0],\n",
              "       [1000006,       2,       0],\n",
              "       [1000006,       2,       0],\n",
              "       [1000006,       3,       0],\n",
              "       [1000006,       3,       0],\n",
              "       [1000006,       0,       8],\n",
              "       [1000007,       0,       6],\n",
              "       [1000007,       0,       5],\n",
              "       [1000007,       0,       4],\n",
              "       [1000007,       3,       0],\n",
              "       [1000008,       0,       5],\n",
              "       [1000008,       0,       6],\n",
              "       [1000008,       0,       6],\n",
              "       [1000008,       2,       0],\n",
              "       [1000008,       1,       0],\n",
              "       [1000008,       1,       0],\n",
              "       [1000009,       0,       6],\n",
              "       [1000010,       0,       4],\n",
              "       [1000010,       0,       8],\n",
              "       [1000010,       0,       5],\n",
              "       [1000010,       1,       0],\n",
              "       [1000010,       1,       0],\n",
              "       [1000010,       0,       6],\n",
              "       [1000010,       2,       0],\n",
              "       [1000010,       1,       0],\n",
              "       [1000011,       0,       7],\n",
              "       [1000011,       0,       4],\n",
              "       [1000012,       2,       0],\n",
              "       [1000012,       2,       0],\n",
              "       [1000012,       0,       7],\n",
              "       [1000012,       2,       0],\n",
              "       [1000012,       0,       4],\n",
              "       [1000012,       0,       4],\n",
              "       [1000012,       0,       8],\n",
              "       [1000013,       2,       0],\n",
              "       [1000013,       0,       4],\n",
              "       [1000013,       0,       5],\n",
              "       [1000013,       0,       5],\n",
              "       [1000013,       0,       6],\n",
              "       [1000013,       0,       5],\n",
              "       [1000013,       2,       0],\n",
              "       [1000013,       0,       4],\n",
              "       [1000014,       0,       7],\n",
              "       [1000014,       0,       6],\n",
              "       [1000014,       2,       0],\n",
              "       [1000014,       0,       7],\n",
              "       [1000015,       0,       7],\n",
              "       [1000015,       3,       0],\n",
              "       [1000015,       2,       0],\n",
              "       [1000015,       1,       0],\n",
              "       [1000015,       0,       8],\n",
              "       [1000015,       1,       0],\n",
              "       [1000016,       0,       5],\n",
              "       [1000016,       0,       5],\n",
              "       [1000016,       1,       0],\n",
              "       [1000016,       1,       0],\n",
              "       [1000016,       0,       8],\n",
              "       [1000016,       0,       8],\n",
              "       [1000016,       2,       0],\n",
              "       [1000017,       0,       6],\n",
              "       [1000017,       0,       6],\n",
              "       [1000017,       0,       7],\n",
              "       [1000017,       0,       6],\n",
              "       [1000017,       0,       4],\n",
              "       [1000018,       2,       0],\n",
              "       [1000018,       0,       8],\n",
              "       [1000018,       0,       5],\n",
              "       [1000018,       0,       8],\n",
              "       [1000018,       0,       8],\n",
              "       [1000018,       2,       0],\n",
              "       [1000018,       0,       8],\n",
              "       [1000019,       0,       4],\n",
              "       [1000019,       3,       0],\n",
              "       [1000019,       0,       4],\n",
              "       [1000019,       0,       6],\n",
              "       [1000019,       3,       0],\n",
              "       [1000019,       0,       8]])"
            ]
          },
          "execution_count": 3,
          "metadata": {},
          "output_type": "execute_result"
        }
      ],
      "source": [
        "bedrooms_ids"
      ]
    },
    {
      "cell_type": "code",
      "execution_count": 10,
      "metadata": {},
      "outputs": [
        {
          "name": "stdout",
          "output_type": "stream",
          "text": [
            "[1000001 1000002 1000003 1000004 1000005 1000006 1000007 1000008 1000009\n",
            " 1000010 1000011 1000012 1000013 1000014 1000015 1000016 1000017 1000018\n",
            " 1000019]\n",
            "1000014\n",
            "[1000014 1000015 1000016 1000017 1000018]\n",
            "[0 1 0 1 0 2 1 0 2 0 1 3 1 0 3 3 0 0 0 3]\n",
            "[2 0 0 1 2 2 3 3 0 0 0 0 3 0 0 0 2 1 1 0]\n",
            "[0 0 0 0 0 0 0 0 0 0 0 0 0 0 0 0 0 0 0 0 0 0 0 0 0 0 0 0 0 0 0 0 0 0 0 0 0\n",
            " 0 0 0 0 0 0 0 0 0 0 0 0 0 0 0 0 0 0 0 0 0 1 1 1 1 1 1 1 1 1 1 1 1 1 1 1 2\n",
            " 2 2 2 2 2 2 2 2 2 2 2 2 2 2 2 2 3 3 3 3 3 3 3 3 3 3]\n"
          ]
        }
      ],
      "source": [
        "# array a utilizar\n",
        "bedrooms_ids\n",
        "# selecione todas as linhas da coluna 1 (queremos os ids dos quartos)\n",
        "room_ids_only = np.unique(bedrooms_ids[0:,0])\n",
        "room_ids_only\n",
        "# faça print dos primeiros 5 ids\n",
        "print(room_ids_only[0:])\n",
        "# recolha o id do décimo quarto usando o room_ids_only\n",
        "tenth_room_id = room_ids_only[13]\n",
        "print(tenth_room_id)\n",
        "# recolha a fatia dos cinco ids a contar do décimo quarto usando o room_ids_only\n",
        "rooms_ids_slice = room_ids_only[13:13+5]\n",
        "print(rooms_ids_slice)\n",
        "# crie um array com os primeiros 20 números de camas usando o bedrooms_ids\n",
        "first_twenty_bedroom_beds = bedrooms_ids[:20,1]\n",
        "print(first_twenty_bedroom_beds)\n",
        "# crie um array com os números de camas dos indices pares desde 20 a 40 usando o bedrooms_ids\n",
        "every_other_bedroom_beds = bedrooms_ids[20:40,1]\n",
        "print(every_other_bedroom_beds)\n",
        "# recolha a informação do número de camas e ordene-a do mais pequeno para o maior\n",
        "sorted_bedroom_beds = np.sort(bedrooms_ids[0:,1])\n",
        "print(sorted_bedroom_beds)"
      ]
    },
    {
      "cell_type": "code",
      "execution_count": null,
      "metadata": {
        "id": "5iKfOs1hs5rr"
      },
      "outputs": [],
      "source": [
        "# array a utilizar\n",
        "bedrooms_ids\n",
        "\n",
        "# selecione todas as linhas da coluna 1 (queremos os ids dos quartos)\n",
        "room_ids_only = ____\n",
        "\n",
        "# faça print dos primeiros 5 ids\n",
        "print(____)\n",
        "\n",
        "# recolha o id do décimo quarto usando o room_ids_only\n",
        "tenth_room_id = ___\n",
        "print(tenth_room_id)\n",
        "\n",
        "# recolha a fatia dos cinco ids a contar do décimo quarto usando o room_ids_only\n",
        "rooms_ids_slice = ___\n",
        "print(rooms_ids_slice)\n",
        "\n",
        "# crie um array com os primeiros 20 números de camas usando o bedrooms_ids\n",
        "first_twenty_bedroom_beds = ___\n",
        "print(first_twenty_bedroom_beds)\n",
        "\n",
        "# crie um array com os números de camas dos indices pares desde 20 a 40 usando o bedrooms_ids\n",
        "every_other_bedroom_beds = ___\n",
        "print(every_other_bedroom_beds)\n",
        "\n",
        "# recolha a informação do número de camas e ordene-a do mais pequeno para o maior\n",
        "sorted_bedroom_beds = ___(___)\n",
        "print(sorted_bedroom_beds)"
      ]
    },
    {
      "cell_type": "code",
      "execution_count": 11,
      "metadata": {},
      "outputs": [
        {
          "name": "stdout",
          "output_type": "stream",
          "text": [
            "[1000003       8       0]\n",
            "[8 0]\n"
          ]
        },
        {
          "ename": "IndexError",
          "evalue": "boolean index did not match indexed array along dimension 1; dimension is 3 but corresponding boolean dimension is 100",
          "output_type": "error",
          "traceback": [
            "\u001b[1;31m---------------------------------------------------------------------------\u001b[0m",
            "\u001b[1;31mIndexError\u001b[0m                                Traceback (most recent call last)",
            "Input \u001b[1;32mIn [11]\u001b[0m, in \u001b[0;36m<module>\u001b[1;34m\u001b[0m\n\u001b[0;32m      8\u001b[0m \u001b[38;5;28mprint\u001b[39m(bedroom_error_id)\n\u001b[0;32m      9\u001b[0m \u001b[38;5;66;03m# crie um array com a informação completa de todas as linhas com o mesmo bedroom_error_id\u001b[39;00m\n\u001b[1;32m---> 10\u001b[0m beds_on_bedroom_error_id \u001b[38;5;241m=\u001b[39m \u001b[43mbedrooms_ids\u001b[49m\u001b[43m[\u001b[49m\u001b[38;5;241;43m0\u001b[39;49m\u001b[43m:\u001b[49m\u001b[43m,\u001b[49m\u001b[43mbedrooms_ids\u001b[49m\u001b[43m[\u001b[49m\u001b[38;5;241;43m0\u001b[39;49m\u001b[43m:\u001b[49m\u001b[43m,\u001b[49m\u001b[38;5;241;43m0\u001b[39;49m\u001b[43m]\u001b[49m\u001b[38;5;241;43m==\u001b[39;49m\u001b[43mbedroom_error\u001b[49m\u001b[43m[\u001b[49m\u001b[38;5;241;43m0\u001b[39;49m\u001b[43m]\u001b[49m\u001b[43m]\u001b[49m\n\u001b[0;32m     11\u001b[0m \u001b[38;5;28mprint\u001b[39m(beds_on_bedroom_error_id)\n",
            "\u001b[1;31mIndexError\u001b[0m: boolean index did not match indexed array along dimension 1; dimension is 3 but corresponding boolean dimension is 100"
          ]
        }
      ],
      "source": [
        "# Um dos quartos tinha um erro (tinha 8 camas em vez de 3)\n",
        "bedrooms_ids[11,1] = 8\n",
        "# crie um array que contenha a linha dos dados completa relativa ao quarto com o erro\n",
        "bedroom_error = bedrooms_ids[11]\n",
        "print(bedroom_error)\n",
        "# retire do bedroom_error o id do quarto\n",
        "bedroom_error_id = bedroom_error[1:]\n",
        "print(bedroom_error_id)\n",
        "# crie um array com a informação completa de todas as linhas com o mesmo bedroom_error_id\n",
        "beds_on_bedroom_error_id = bedrooms_ids[0:,bedrooms_ids[0:,0]==bedroom_error[0]]\n",
        "print(beds_on_bedroom_error_id)"
      ]
    },
    {
      "cell_type": "code",
      "execution_count": null,
      "metadata": {
        "id": "9q-ZlVGWk0_H"
      },
      "outputs": [],
      "source": [
        "# Um dos quartos tinha um erro (tinha 8 camas em vez de 3)\n",
        "bedrooms_ids[11,1] = 8\n",
        "\n",
        "# crie um array que contenha a linha dos dados completa relativa ao quarto com o erro\n",
        "bedroom_error = ___\n",
        "print(bedroom_error)\n",
        "\n",
        "# retire do bedroom_error o id do quarto\n",
        "bedroom_error_id = ___\n",
        "print(bedroom_error_id)\n",
        "\n",
        "# crie um array com a informação completa de todas as linhas com o mesmo bedroom_error_id\n",
        "beds_on_bedroom_error_id = ___\n",
        "print(beds_on_bedroom_error_id)\n",
        "\n",
        "# crie o id_1000015 array com as linhas completas dos quartos com este id\n",
        "id_1000015 = ___\n",
        "print(id_1000015)\n",
        "\n",
        "# crie um array com os indices das linhas com quartos com este id\n",
        "row_indices = ___\n",
        "\n",
        "# crie um array que contenha informação apenas dos quartos presentes em row_indices\n",
        "id_1000015_2 = ___\n",
        "print(id_1000015_2)"
      ]
    },
    {
      "cell_type": "code",
      "execution_count": null,
      "metadata": {
        "id": "Ic6IinG9gwrt"
      },
      "outputs": [],
      "source": [
        "# quando um quarto tem camas, não tem beliches. Quando tem beliches, não tem camas.\n",
        "# Vamos criar uma nova coluna única com estas duas variáveis.\n",
        "\n",
        "# crie um array de 1D com o número de camas e o número de beliches\n",
        "beds_and_bunks = np.where(___)\n",
        "print(beds_and_bunks)\n",
        "\n",
        "# faça o print do shape do array beds_and_bunks e do array bedrooms_ids\n",
        "print(___, ___)\n",
        "\n",
        "# para podermos juntar os arrays, os shapes têm de ser compatíveis\n",
        "\n",
        "# faça o reshape do array beds_and_bunks\n",
        "reshaped_beds_and_bunks = ___\n",
        "\n",
        "# faça a contatenação dos dois arrays considerando a nova coluna em último\n",
        "concatenated_bedrooms_ids = ___\n",
        "print(concatenated_bedrooms_ids)\n",
        "\n",
        "# agora que temos o novo array, vamos eliminar a coluna dos beliches\n",
        "\n",
        "# faça delete da coluna dos beliches na nova tabela concatenada\n",
        "concatenated_bedrooms_ids_no_bunks = ___\n"
      ]
    }
  ],
  "metadata": {
    "colab": {
      "provenance": []
    },
    "kernelspec": {
      "display_name": "Python 3",
      "name": "python3"
    },
    "language_info": {
      "codemirror_mode": {
        "name": "ipython",
        "version": 3
      },
      "file_extension": ".py",
      "mimetype": "text/x-python",
      "name": "python",
      "nbconvert_exporter": "python",
      "pygments_lexer": "ipython3",
      "version": "3.9.5"
    }
  },
  "nbformat": 4,
  "nbformat_minor": 0
}
