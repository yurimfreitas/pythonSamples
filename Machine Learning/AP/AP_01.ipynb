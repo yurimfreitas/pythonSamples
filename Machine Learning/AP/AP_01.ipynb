{
  "cells": [
    {
      "cell_type": "markdown",
      "metadata": {
        "id": "0anqVfaomEbf"
      },
      "source": [
        "# Vamos aplicar o que aprendemos sobre os Numpy array\n",
        "\n",
        "\n",
        "*   Complete com o código em falta\n",
        "*   Sempre que necessário, **substitua** ___\n",
        "\n"
      ]
    },
    {
      "cell_type": "code",
      "execution_count": 2,
      "metadata": {
        "id": "c3kntpgQmB4i"
      },
      "outputs": [
        {
          "name": "stdout",
          "output_type": "stream",
          "text": [
            "<class 'numpy.ndarray'>\n"
          ]
        }
      ],
      "source": [
        "#lista exemplo\n",
        "phone_matrix = [[1, 2, 3],\n",
        "                [4, 5, 6],\n",
        "                [7, 8, 9]]\n",
        "\n",
        "# importe a biblioteca NumPy com o alias usual\n",
        "import numpy as np\n",
        "\n",
        "# converta a lista num array\n",
        "phone_matrix_array = np.array(phone_matrix)\n",
        "\n",
        "# faça print para ver o tipo de dados do array\n",
        "print(type(phone_matrix_array))"
      ]
    },
    {
      "cell_type": "code",
      "execution_count": 3,
      "metadata": {
        "id": "oOv36aJhpSEM"
      },
      "outputs": [
        {
          "name": "stdout",
          "output_type": "stream",
          "text": [
            "[[0. 0.]\n",
            " [0. 0.]\n",
            " [0. 0.]]\n"
          ]
        }
      ],
      "source": [
        "# crie um array com zeros com 3 linhas e 2 colunas\n",
        "zero_array =  np.zeros((3,2)) # tuple\n",
        "# faça print para ver o array\n",
        "print(zero_array)"
      ]
    },
    {
      "cell_type": "code",
      "execution_count": 4,
      "metadata": {
        "id": "nYiPvpoQ6iXc"
      },
      "outputs": [
        {
          "name": "stdout",
          "output_type": "stream",
          "text": [
            "[[0.96966757 0.86173128]\n",
            " [0.65023355 0.93850113]\n",
            " [0.99879451 0.65760417]\n",
            " [0.96399868 0.62228442]\n",
            " [0.81800712 0.58769555]\n",
            " [0.23813454 0.23818747]]\n"
          ]
        }
      ],
      "source": [
        "# crie um array de números aleatório com 6 linhas e 2 colunas\n",
        "random_array = np.random.random((6,2))\n",
        "# faça print para ver o array\n",
        "print(random_array)"
      ]
    },
    {
      "cell_type": "code",
      "execution_count": 5,
      "metadata": {
        "id": "nQG-7fxM7Yoi"
      },
      "outputs": [
        {
          "name": "stdout",
          "output_type": "stream",
          "text": [
            "[[ 4  6  5  8  4]\n",
            " [10  9  5  6  9]]\n"
          ]
        },
        {
          "data": {
            "image/png": "[encoded data removed]",
            "text/plain": [
              "<Figure size 432x288 with 1 Axes>"
            ]
          },
          "metadata": {
            "needs_background": "light"
          },
          "output_type": "display_data"
        }
      ],
      "source": [
        "import matplotlib.pyplot as plt\n",
        "\n",
        "# array exemplo\n",
        "y_values = np.array([1, 1, 2, 3, 5, 8, 13, 21, 34, 55])\n",
        "\n",
        "# crie um array de inteiros de 1 a 10 (inclusive)\n",
        "one_to_ten = np.random.randint(1, 11, size=(2, 5)) # (min,max,size)\n",
        "\n",
        "print(one_to_ten)\n",
        "# Uma excelente opção para definir ordenadas num gráfico\n",
        "plt.scatter(one_to_ten, y_values)\n",
        "plt.show()"
      ]
    },
    {
      "cell_type": "code",
      "execution_count": 6,
      "metadata": {
        "id": "unoXNScvrXge"
      },
      "outputs": [
        {
          "name": "stdout",
          "output_type": "stream",
          "text": [
            "[[[ 1  2]\n",
            "  [ 3  4]]\n",
            "\n",
            " [[10 12]\n",
            "  [18 14]]]\n",
            "[[[[ 1  2]\n",
            "   [ 3  4]]\n",
            "\n",
            "  [[10 12]\n",
            "   [18 14]]]\n",
            "\n",
            "\n",
            " [[[ 1  2]\n",
            "   [ 3  4]]\n",
            "\n",
            "  [[15 18]\n",
            "   [14  9]]]]\n"
          ]
        }
      ],
      "source": [
        "#lista de listas com o número dos testes\n",
        "test_matrix = [[1, 2],\n",
        "               [3, 4]]\n",
        "\n",
        "#lista de listas com as notas da turma \"a\"\n",
        "grade_matrix_a = [[10,12],\n",
        "                  [18,14]]\n",
        "\n",
        "# crie um array 3D com os testes e as notas (test_and_grade_matrix_a)\n",
        "test_and_grade_matrix_a = np.array((test_matrix,grade_matrix_a))\n",
        "\n",
        "# faça print para ver o array test_and_grade_matrix_a\n",
        "print(test_and_grade_matrix_a)\n",
        "\n",
        "#lista de listas com as notas da turma \"b\"\n",
        "grade_matrix_b = [[15,18],\n",
        "                  [14,9]]\n",
        "\n",
        "#  crie um segundo array 3D com os testes e as notas da turma \"b\"\n",
        "test_and_grade_matrix_b = np.array((test_matrix,grade_matrix_b))\n",
        "\n",
        "# crie um array 4D com os testes e as notas das duas turmas\n",
        "final_array = np.array((test_and_grade_matrix_a, test_and_grade_matrix_b))\n",
        "\n",
        "# faça print do shape do final_array\n",
        "print(final_array)"
      ]
    },
    {
      "cell_type": "code",
      "execution_count": 7,
      "metadata": {
        "id": "LpCS_ATIsbix"
      },
      "outputs": [
        {
          "name": "stdout",
          "output_type": "stream",
          "text": [
            "(4,)\n",
            "[1 2 3 4]\n",
            "[[1 2]\n",
            " [3 4]]\n"
          ]
        }
      ],
      "source": [
        "# vamos achatar o array dos testes\n",
        "flattened_test_matrix = np.array(test_matrix).flatten()\n",
        "\n",
        "\n",
        "# faça print do shape do flattened_test_matrix\n",
        "print()\n",
        "\n",
        "# devolva a forma antiga ao flattened_test_matrix\n",
        "reshaped_flattened_test_matrix = flattened_test_matrix.reshape(2,2)\n",
        "\n",
        "# faça print do flattened_test_matrix e do reshaped_flattened_test_matrix\n",
        "print(flattened_test_matrix)\n",
        "print(reshaped_flattened_test_matrix)"
      ]
    }
  ],
  "metadata": {
    "colab": {
      "provenance": []
    },
    "kernelspec": {
      "display_name": "Python 3",
      "name": "python3"
    },
    "language_info": {
      "codemirror_mode": {
        "name": "ipython",
        "version": 3
      },
      "file_extension": ".py",
      "mimetype": "text/x-python",
      "name": "python",
      "nbconvert_exporter": "python",
      "pygments_lexer": "ipython3",
      "version": "3.9.5"
    }
  },
  "nbformat": 4,
  "nbformat_minor": 0
}
