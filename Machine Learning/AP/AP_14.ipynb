{
  "cells": [
    {
      "cell_type": "markdown",
      "metadata": {
        "id": "7UqvAzOuK_SN"
      },
      "source": [
        "# Vamos aplicar o que aprendemos sobre pipelines\n",
        "*   Complete com o código em falta\n",
        "*   Sempre que necessário, **substitua** ___\n",
        "\n",
        "---\n",
        "\n",
        "\n",
        "[documentação](https://scikit-learn.org/stable/index.html) <br>\n",
        "dataset: [fonte](https://www.kaggle.com/datasets/mirichoi0218/insurance)\n",
        "\n",
        "---"
      ]
    },
    {
      "cell_type": "markdown",
      "metadata": {
        "colab_type": "toc",
        "id": "7UIUmwrhK7QZ"
      },
      "source": [
        ">[Vamos aplicar o que aprendemos sobre pipelines](#scrollTo=7UqvAzOuK_SN)\n",
        "\n",
        ">[1. Corra a primeira célula de código para obter o dataframe com que vamos trabalhar](#scrollTo=25DtwghMIQqJ)\n",
        "\n",
        ">[2. Trate os dados em falta](#scrollTo=glt7JqnNdHxk)\n",
        "\n",
        ">[3. Faça train_test_split](#scrollTo=Rq7QOxUC9Y4u)\n",
        "\n",
        ">[4. Aplique o pipeline](#scrollTo=wM4XJr63vizy)\n",
        "\n"
      ]
    },
    {
      "cell_type": "markdown",
      "metadata": {
        "id": "25DtwghMIQqJ"
      },
      "source": [
        "#1.&nbsp;Corra a primeira célula de código para obter o dataframe com que vamos trabalhar"
      ]
    },
    {
      "cell_type": "code",
      "execution_count": 1,
      "metadata": {
        "id": "OkUD9YVbIMEl"
      },
      "outputs": [],
      "source": [
        "# faça o upload do ficheiro csv associado à atividade\n",
        "\n",
        "# vamos importar a biblioteca\n",
        "import pandas as pd\n",
        "import numpy as np\n",
        "\n",
        "# vamos importar o dataframe do ficheiro .csv\n",
        "df = pd.read_csv(\"C:/Users/yfreitas/Documents/pythonSamples/Machine Learning/Files/insurance.csv\")"
      ]
    },
    {
      "cell_type": "code",
      "execution_count": 8,
      "metadata": {},
      "outputs": [
        {
          "data": {
            "text/html": [
              "<div>\n",
              "<style scoped>\n",
              "    .dataframe tbody tr th:only-of-type {\n",
              "        vertical-align: middle;\n",
              "    }\n",
              "\n",
              "    .dataframe tbody tr th {\n",
              "        vertical-align: top;\n",
              "    }\n",
              "\n",
              "    .dataframe thead th {\n",
              "        text-align: right;\n",
              "    }\n",
              "</style>\n",
              "<table border=\"1\" class=\"dataframe\">\n",
              "  <thead>\n",
              "    <tr style=\"text-align: right;\">\n",
              "      <th></th>\n",
              "      <th>age</th>\n",
              "      <th>sex</th>\n",
              "      <th>bmi</th>\n",
              "      <th>children</th>\n",
              "      <th>charges</th>\n",
              "    </tr>\n",
              "  </thead>\n",
              "  <tbody>\n",
              "    <tr>\n",
              "      <th>0</th>\n",
              "      <td>19.0</td>\n",
              "      <td>female</td>\n",
              "      <td>27.900</td>\n",
              "      <td>0</td>\n",
              "      <td>16884.92400</td>\n",
              "    </tr>\n",
              "    <tr>\n",
              "      <th>1</th>\n",
              "      <td>18.0</td>\n",
              "      <td>male</td>\n",
              "      <td>33.770</td>\n",
              "      <td>1</td>\n",
              "      <td>1725.55230</td>\n",
              "    </tr>\n",
              "    <tr>\n",
              "      <th>2</th>\n",
              "      <td>28.0</td>\n",
              "      <td>male</td>\n",
              "      <td>33.000</td>\n",
              "      <td>3</td>\n",
              "      <td>4449.46200</td>\n",
              "    </tr>\n",
              "    <tr>\n",
              "      <th>3</th>\n",
              "      <td>33.0</td>\n",
              "      <td>male</td>\n",
              "      <td>22.705</td>\n",
              "      <td>0</td>\n",
              "      <td>21984.47061</td>\n",
              "    </tr>\n",
              "    <tr>\n",
              "      <th>4</th>\n",
              "      <td>32.0</td>\n",
              "      <td>male</td>\n",
              "      <td>28.880</td>\n",
              "      <td>0</td>\n",
              "      <td>3866.85520</td>\n",
              "    </tr>\n",
              "    <tr>\n",
              "      <th>...</th>\n",
              "      <td>...</td>\n",
              "      <td>...</td>\n",
              "      <td>...</td>\n",
              "      <td>...</td>\n",
              "      <td>...</td>\n",
              "    </tr>\n",
              "    <tr>\n",
              "      <th>95</th>\n",
              "      <td>28.0</td>\n",
              "      <td>female</td>\n",
              "      <td>37.620</td>\n",
              "      <td>1</td>\n",
              "      <td>3766.88380</td>\n",
              "    </tr>\n",
              "    <tr>\n",
              "      <th>96</th>\n",
              "      <td>54.0</td>\n",
              "      <td>female</td>\n",
              "      <td>30.800</td>\n",
              "      <td>3</td>\n",
              "      <td>12105.32000</td>\n",
              "    </tr>\n",
              "    <tr>\n",
              "      <th>97</th>\n",
              "      <td>55.0</td>\n",
              "      <td>male</td>\n",
              "      <td>38.280</td>\n",
              "      <td>0</td>\n",
              "      <td>10226.28420</td>\n",
              "    </tr>\n",
              "    <tr>\n",
              "      <th>98</th>\n",
              "      <td>56.0</td>\n",
              "      <td>male</td>\n",
              "      <td>19.950</td>\n",
              "      <td>0</td>\n",
              "      <td>22412.64850</td>\n",
              "    </tr>\n",
              "    <tr>\n",
              "      <th>99</th>\n",
              "      <td>38.0</td>\n",
              "      <td>male</td>\n",
              "      <td>19.300</td>\n",
              "      <td>0</td>\n",
              "      <td>15820.69900</td>\n",
              "    </tr>\n",
              "  </tbody>\n",
              "</table>\n",
              "<p>100 rows × 5 columns</p>\n",
              "</div>"
            ],
            "text/plain": [
              "     age     sex     bmi  children      charges\n",
              "0   19.0  female  27.900         0  16884.92400\n",
              "1   18.0    male  33.770         1   1725.55230\n",
              "2   28.0    male  33.000         3   4449.46200\n",
              "3   33.0    male  22.705         0  21984.47061\n",
              "4   32.0    male  28.880         0   3866.85520\n",
              "..   ...     ...     ...       ...          ...\n",
              "95  28.0  female  37.620         1   3766.88380\n",
              "96  54.0  female  30.800         3  12105.32000\n",
              "97  55.0    male  38.280         0  10226.28420\n",
              "98  56.0    male  19.950         0  22412.64850\n",
              "99  38.0    male  19.300         0  15820.69900\n",
              "\n",
              "[100 rows x 5 columns]"
            ]
          },
          "execution_count": 8,
          "metadata": {},
          "output_type": "execute_result"
        }
      ],
      "source": [
        "# veja as 5 primeiras linhas do dataframe\n",
        "df.head(100)"
      ]
    },
    {
      "cell_type": "code",
      "execution_count": 2,
      "metadata": {
        "id": "Chlqc16uIpbs"
      },
      "outputs": [
        {
          "name": "stdout",
          "output_type": "stream",
          "text": [
            "<class 'pandas.core.frame.DataFrame'>\n",
            "RangeIndex: 1338 entries, 0 to 1337\n",
            "Data columns (total 6 columns):\n",
            " #   Column    Non-Null Count  Dtype  \n",
            "---  ------    --------------  -----  \n",
            " 0   age       1276 non-null   float64\n",
            " 1   sex       1336 non-null   object \n",
            " 2   bmi       1338 non-null   float64\n",
            " 3   children  1338 non-null   int64  \n",
            " 4   region    383 non-null    object \n",
            " 5   charges   1338 non-null   float64\n",
            "dtypes: float64(3), int64(1), object(2)\n",
            "memory usage: 62.8+ KB\n"
          ]
        },
        {
          "data": {
            "text/html": [
              "<div>\n",
              "<style scoped>\n",
              "    .dataframe tbody tr th:only-of-type {\n",
              "        vertical-align: middle;\n",
              "    }\n",
              "\n",
              "    .dataframe tbody tr th {\n",
              "        vertical-align: top;\n",
              "    }\n",
              "\n",
              "    .dataframe thead th {\n",
              "        text-align: right;\n",
              "    }\n",
              "</style>\n",
              "<table border=\"1\" class=\"dataframe\">\n",
              "  <thead>\n",
              "    <tr style=\"text-align: right;\">\n",
              "      <th></th>\n",
              "      <th>age</th>\n",
              "      <th>bmi</th>\n",
              "      <th>children</th>\n",
              "      <th>charges</th>\n",
              "    </tr>\n",
              "  </thead>\n",
              "  <tbody>\n",
              "    <tr>\n",
              "      <th>count</th>\n",
              "      <td>1276.000000</td>\n",
              "      <td>1338.000000</td>\n",
              "      <td>1338.000000</td>\n",
              "      <td>1338.000000</td>\n",
              "    </tr>\n",
              "    <tr>\n",
              "      <th>mean</th>\n",
              "      <td>39.202978</td>\n",
              "      <td>30.663397</td>\n",
              "      <td>1.094918</td>\n",
              "      <td>13270.422265</td>\n",
              "    </tr>\n",
              "    <tr>\n",
              "      <th>std</th>\n",
              "      <td>14.051179</td>\n",
              "      <td>6.098187</td>\n",
              "      <td>1.205493</td>\n",
              "      <td>12110.011237</td>\n",
              "    </tr>\n",
              "    <tr>\n",
              "      <th>min</th>\n",
              "      <td>18.000000</td>\n",
              "      <td>15.960000</td>\n",
              "      <td>0.000000</td>\n",
              "      <td>1121.873900</td>\n",
              "    </tr>\n",
              "    <tr>\n",
              "      <th>25%</th>\n",
              "      <td>26.750000</td>\n",
              "      <td>26.296250</td>\n",
              "      <td>0.000000</td>\n",
              "      <td>4740.287150</td>\n",
              "    </tr>\n",
              "    <tr>\n",
              "      <th>50%</th>\n",
              "      <td>39.000000</td>\n",
              "      <td>30.400000</td>\n",
              "      <td>1.000000</td>\n",
              "      <td>9382.033000</td>\n",
              "    </tr>\n",
              "    <tr>\n",
              "      <th>75%</th>\n",
              "      <td>51.000000</td>\n",
              "      <td>34.693750</td>\n",
              "      <td>2.000000</td>\n",
              "      <td>16639.912515</td>\n",
              "    </tr>\n",
              "    <tr>\n",
              "      <th>max</th>\n",
              "      <td>64.000000</td>\n",
              "      <td>53.130000</td>\n",
              "      <td>5.000000</td>\n",
              "      <td>63770.428010</td>\n",
              "    </tr>\n",
              "  </tbody>\n",
              "</table>\n",
              "</div>"
            ],
            "text/plain": [
              "               age          bmi     children       charges\n",
              "count  1276.000000  1338.000000  1338.000000   1338.000000\n",
              "mean     39.202978    30.663397     1.094918  13270.422265\n",
              "std      14.051179     6.098187     1.205493  12110.011237\n",
              "min      18.000000    15.960000     0.000000   1121.873900\n",
              "25%      26.750000    26.296250     0.000000   4740.287150\n",
              "50%      39.000000    30.400000     1.000000   9382.033000\n",
              "75%      51.000000    34.693750     2.000000  16639.912515\n",
              "max      64.000000    53.130000     5.000000  63770.428010"
            ]
          },
          "execution_count": 2,
          "metadata": {},
          "output_type": "execute_result"
        }
      ],
      "source": [
        "# veja a forma do dataframe: quantas linhas, quantas colunas?\n",
        "df.shape\n",
        "# veja a informação sobre o dataframe\n",
        "df.info()\n",
        "# veja a descrição das variáveis numéricas\n",
        "df.describe()"
      ]
    },
    {
      "cell_type": "markdown",
      "metadata": {
        "id": "glt7JqnNdHxk"
      },
      "source": [
        "#2.&nbsp;Trate os dados em falta"
      ]
    },
    {
      "cell_type": "code",
      "execution_count": 4,
      "metadata": {
        "id": "wwDNLaj7-0TM"
      },
      "outputs": [],
      "source": [
        "# remova a coluna quase sem informação\n",
        "df.drop(columns='region', axis=1, inplace=True)"
      ]
    },
    {
      "cell_type": "code",
      "execution_count": 5,
      "metadata": {
        "id": "MamCEuDMupzj"
      },
      "outputs": [],
      "source": [
        "# remova os dois casos simples\n",
        "df.dropna(subset=['sex'], inplace=True)"
      ]
    },
    {
      "cell_type": "markdown",
      "metadata": {
        "id": "Rq7QOxUC9Y4u"
      },
      "source": [
        "#3.&nbsp;Faça train_test_split"
      ]
    },
    {
      "cell_type": "code",
      "execution_count": 6,
      "metadata": {
        "id": "aWoz4UHRu0--"
      },
      "outputs": [],
      "source": [
        "# defina a variável alvo\n",
        "target_variable = \"charges\"\n",
        "\n",
        "# train_test split usando a função train_test_split\n",
        "X = df.drop(target_variable, axis = 1)\n",
        "y = df[target_variable]\n",
        "y.sum()/len(y)\n",
        "\n",
        "from sklearn.model_selection import train_test_split\n",
        "X_train, X_test, y_train, y_test = train_test_split(X, y,\n",
        "                                                    test_size = 0.3,\n",
        "                                                    random_state = 12)\n"
      ]
    },
    {
      "cell_type": "markdown",
      "metadata": {
        "id": "wM4XJr63vizy"
      },
      "source": [
        "#4.&nbsp;Aplique o pipeline"
      ]
    },
    {
      "cell_type": "code",
      "execution_count": 7,
      "metadata": {
        "id": "T07Wn5C4vhy_"
      },
      "outputs": [
        {
          "name": "stdout",
          "output_type": "stream",
          "text": [
            "Best parameters found:\n",
            "{'regressor__max_depth': 2, 'regressor__n_estimators': 100}\n"
          ]
        },
        {
          "data": {
            "text/plain": [
              "0.08840914927187438"
            ]
          },
          "execution_count": 7,
          "metadata": {},
          "output_type": "execute_result"
        },
        {
          "data": {
            "image/png": "[encoded data removed]",
            "text/plain": [
              "<Figure size 432x288 with 1 Axes>"
            ]
          },
          "metadata": {
            "needs_background": "light"
          },
          "output_type": "display_data"
        }
      ],
      "source": [
        "# importe os transformers\n",
        "from sklearn.impute import SimpleImputer\n",
        "from sklearn.preprocessing import OneHotEncoder, StandardScaler, PowerTransformer\n",
        "from sklearn.compose import ColumnTransformer\n",
        "from sklearn.pipeline import Pipeline\n",
        "from sklearn.ensemble import RandomForestRegressor\n",
        "\n",
        "# defina o processamento das variáveis numéricas\n",
        "numeric_features = [\"age\", \"bmi\"]\n",
        "num_transformer = Pipeline(steps=[\n",
        "    ('imputer', SimpleImputer(strategy='median')),\n",
        "    ('scaler', StandardScaler())\n",
        "])\n",
        "\n",
        "# defina o processamento das variáveis categóricas\n",
        "categorical_features = [\"children\", \"sex\"]\n",
        "categorical_transformer = Pipeline(steps=[\n",
        "    ('encoder', OneHotEncoder(drop='first', handle_unknown='ignore'))\n",
        "])\n",
        "\n",
        "# combine os processos\n",
        "preprocessor = ColumnTransformer(transformers=[\n",
        "    ('num', num_transformer, numeric_features),\n",
        "    ('cat', categorical_transformer, categorical_features)\n",
        "    ],\n",
        "    remainder='passthrough'\n",
        ")\n",
        "\n",
        "# crie o pipeline com processamento e modelação\n",
        "pipeline = Pipeline(steps=[\n",
        "    ('preprocessor', preprocessor),\n",
        "    ('regressor', RandomForestRegressor())\n",
        "])\n",
        "\n",
        "\n",
        "# importe a grid search\n",
        "from sklearn.model_selection import GridSearchCV\n",
        "\n",
        "# defina os dados para a grid\n",
        "param_grid = {\n",
        "    'regressor__n_estimators': [25, 50, 100, 200],\n",
        "    'regressor__max_depth': [2, 5, 10, 20]\n",
        "}\n",
        "\n",
        "# defina as métricas de scoring\n",
        "scoring = {\n",
        "    'mse': 'neg_mean_squared_error',\n",
        "    'r2': 'r2'\n",
        "}\n",
        "\n",
        "# construa a grid search\n",
        "grid_search = GridSearchCV(pipeline, param_grid, cv=5, scoring=scoring, refit='r2')\n",
        "\n",
        "# faça o fit da grid search\n",
        "grid_search.fit(X_train, y_train)\n",
        "\n",
        "# veja os melhores parameters\n",
        "print(\"Best parameters found:\")\n",
        "print(grid_search.best_params_)\n",
        "\n",
        "# obtenha o melhor modelo\n",
        "best_model = grid_search.best_estimator_\n",
        "\n",
        "# faça predict usando o melhor modelo\n",
        "y_pred = best_model.predict(X_test)\n",
        "\n",
        "# visualize os resíduos\n",
        "from sklearn.metrics import PredictionErrorDisplay\n",
        "\n",
        "display = PredictionErrorDisplay(y_true = y_test, y_pred = y_pred)\n",
        "display.plot()\n",
        "\n",
        "# importe a lista de métricas\n",
        "from sklearn.metrics import (\n",
        "    mean_absolute_error,\n",
        "    mean_squared_error,\n",
        "    mean_absolute_percentage_error,\n",
        "    r2_score\n",
        ")\n",
        "\n",
        "# MAE\n",
        "mean_absolute_error(y_test, y_pred)\n",
        "\n",
        "# MSE\n",
        "mean_squared_error(y_test, y_pred)\n",
        "\n",
        "# RMSE\n",
        "np.sqrt(mean_squared_error(y_test, y_pred))\n",
        "\n",
        "# MAPE\n",
        "mean_absolute_percentage_error(y_test, y_pred)\n",
        "\n",
        "# R2\n",
        "r2_score(y_test, y_pred)"
      ]
    }
  ],
  "metadata": {
    "colab": {
      "provenance": []
    },
    "kernelspec": {
      "display_name": "Python 3",
      "name": "python3"
    },
    "language_info": {
      "codemirror_mode": {
        "name": "ipython",
        "version": 3
      },
      "file_extension": ".py",
      "mimetype": "text/x-python",
      "name": "python",
      "nbconvert_exporter": "python",
      "pygments_lexer": "ipython3",
      "version": "3.9.5"
    }
  },
  "nbformat": 4,
  "nbformat_minor": 0
}
