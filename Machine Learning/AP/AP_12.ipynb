{
  "cells": [
    {
      "cell_type": "markdown",
      "source": [
        "# Vamos aplicar o que aprendemos sobre a classificação hierárquica\n",
        "*   Complete com o código em falta\n",
        "*   Sempre que necessário, **substitua** ___\n",
        "\n",
        "---\n",
        "\n",
        "\n",
        "[documentação](https://scikit-learn.org/stable/index.html) <br>\n",
        "dataset: [fonte](https://www.kaggle.com/datasets/dongeorge/seed-from-uci?select=Seed_Data.csv)\n",
        "\n",
        "---"
      ],
      "metadata": {
        "id": "7UqvAzOuK_SN"
      }
    },
    {
      "cell_type": "markdown",
      "source": [
        ">[Vamos aplicar o que aprendemos sobre a classificação hierárquica](#scrollTo=7UqvAzOuK_SN)\n",
        "\n",
        ">[1. Corra a primeira célula de código para obter o dataframe com que vamos trabalhar](#scrollTo=25DtwghMIQqJ)\n",
        "\n",
        ">>[1.1. analise o dataframe](#scrollTo=0CBwwjoI0v0l)\n",
        "\n",
        ">[2. Aplique o algoritmo de classificação hierárquica às variáveis](#scrollTo=glt7JqnNdHxk)\n",
        "\n",
        ">[3. Aplique o algoritmo de classificação hierárquica às observações](#scrollTo=Rq7QOxUC9Y4u)\n",
        "\n"
      ],
      "metadata": {
        "colab_type": "toc",
        "id": "7UIUmwrhK7QZ"
      }
    },
    {
      "cell_type": "markdown",
      "source": [
        "#1.&nbsp;Corra a primeira célula de código para obter o dataframe com que vamos trabalhar"
      ],
      "metadata": {
        "id": "25DtwghMIQqJ"
      }
    },
    {
      "cell_type": "code",
      "source": [
        "# faça o upload do ficheiro csv associado à atividade\n",
        "\n",
        "# vamos importar a biblioteca\n",
        "import pandas as pd\n",
        "import numpy as np\n",
        "import matplotlib.pyplot as plt\n",
        "import seaborn as sns\n",
        "\n",
        "# vamos importar o dataframe do ficheiro .csv\n",
        "df_seed = pd.read_csv(\"Seed_Data.csv\")"
      ],
      "metadata": {
        "id": "OkUD9YVbIMEl"
      },
      "execution_count": null,
      "outputs": []
    },
    {
      "cell_type": "markdown",
      "source": [
        "## 1.1.&nbsp;analise o dataframe"
      ],
      "metadata": {
        "id": "0CBwwjoI0v0l"
      }
    },
    {
      "cell_type": "code",
      "source": [
        "# veja as 5 primeiras linhas do dataframe\n",
        "df_seed.head()\n",
        "# veja a forma do dataframe: quantas linhas, quantas colunas?\n",
        "df_seed.shape\n",
        "# veja a informação sobre o dataframe\n",
        "df_seed.info()\n",
        "# veja a descrição das variáveis numéricas\n",
        "df_seed.describe()"
      ],
      "metadata": {
        "id": "Chlqc16uIpbs"
      },
      "execution_count": null,
      "outputs": []
    },
    {
      "cell_type": "code",
      "source": [
        "# remova a última coluna do dataframe (target)\n",
        "target_variable = \"target\"\n",
        "X = df_seed.drop([target_variable], axis = 1)"
      ],
      "metadata": {
        "id": "7c7P-J_uJS0B"
      },
      "execution_count": null,
      "outputs": []
    },
    {
      "cell_type": "markdown",
      "source": [
        "#2.&nbsp;Aplique o algoritmo de classificação hierárquica às variáveis"
      ],
      "metadata": {
        "id": "glt7JqnNdHxk"
      }
    },
    {
      "cell_type": "code",
      "source": [
        "# importe o modelo\n",
        "from ___ import ___, ___, ___\n",
        "\n",
        "# utilize a transposta (para termos as variáveis como linhas)\n",
        "X_t = ___\n",
        "\n",
        "# aplique o modelo, escolhendo o método single e a medida de distância \"correlação\"\n",
        "clusters_sl =___\n",
        "dendrogram(___,\n",
        "           ___ = X.columns,\n",
        "           ___ = 90,\n",
        "           ___ = 6)\n",
        "plt.show()\n",
        "\n",
        "# aplique o modelo, escolhendo o método complete e a medida de distância \"correlação\"\n",
        "clusters_cl = ___\n",
        "dendrogram(___)\n",
        "plt.show()\n",
        "\n",
        "# aplique o modelo, escolhendo o método average e a medida de distância \"correlação\"\n",
        "clusters_avg =___\n",
        "dendrogram(___)\n",
        "plt.show()"
      ],
      "metadata": {
        "id": "7TndjCw7-_wV"
      },
      "execution_count": null,
      "outputs": []
    },
    {
      "cell_type": "code",
      "source": [
        "# veja as labels para o complete e com um corte a 0.6\n",
        "labels = fcluster(___, criterion = 'distance')\n",
        "labels"
      ],
      "metadata": {
        "id": "H0eiymfJ8eH4"
      },
      "execution_count": null,
      "outputs": []
    },
    {
      "cell_type": "markdown",
      "source": [
        "#3.&nbsp;Aplique o algoritmo de classificação hierárquica às observações"
      ],
      "metadata": {
        "id": "Rq7QOxUC9Y4u"
      }
    },
    {
      "cell_type": "code",
      "source": [
        "# importe o modelo\n",
        "from ___\n",
        "\n",
        "# aplique o modelo, escolhendo o método single e a medida de distância \"euclidiana\"\n",
        "clusters_sl = ___\n",
        "dendrogram(___,\n",
        "           ___,\n",
        "           ___ = 90,\n",
        "           ___ = 6)\n",
        "plt.show()\n",
        "\n",
        "# aplique o modelo, escolhendo o método complete e a medida de distância \"euclidiana\"\n",
        "clusters_cl = ___\n",
        "dendrogram(___,\n",
        "           ___ = X.index,\n",
        "           ___ = 90,\n",
        "           ___ = 6)\n",
        "plt.show()\n",
        "\n",
        "# aplique o modelo, escolhendo o método average e a medida de distância \"euclidiana\"\n",
        "clusters_avg = ___\n",
        "dendrogram(___)\n",
        "plt.show()"
      ],
      "metadata": {
        "id": "MeDeX39E9YkK"
      },
      "execution_count": null,
      "outputs": []
    },
    {
      "cell_type": "code",
      "source": [
        "# veja as labels para o complete e com um corte a 8\n",
        "labels = ___\n",
        "print(labels)\n",
        "\n",
        "# vamos comparar com as classes\n",
        "df_labels = pd.DataFrame({'labels': labels,\n",
        "                         'classes': df_seed[target_variable]})\n",
        "df_labels_ctab = pd.crosstab(df_labels['labels'], df_labels['classes'])\n",
        "df_labels_ctab"
      ],
      "metadata": {
        "id": "Pflu3RVw9tqV"
      },
      "execution_count": null,
      "outputs": []
    }
  ],
  "metadata": {
    "colab": {
      "provenance": []
    },
    "kernelspec": {
      "display_name": "Python 3",
      "name": "python3"
    },
    "language_info": {
      "name": "python"
    }
  },
  "nbformat": 4,
  "nbformat_minor": 0
}