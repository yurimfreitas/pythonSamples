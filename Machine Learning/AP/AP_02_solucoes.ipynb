{
  "cells": [
    {
      "cell_type": "markdown",
      "metadata": {
        "id": "0anqVfaomEbf"
      },
      "source": [
        "# Vamos aplicar o que aprendemos sobre os Numpy array\n",
        "\n",
        "\n",
        "*   Complete com o código em falta\n",
        "*   Sempre que necessário, **substitua** ___\n",
        "\n"
      ]
    },
    {
      "cell_type": "markdown",
      "metadata": {
        "id": "BUpPSnKRgp99"
      },
      "source": [
        "Corra a primeira célula de código para obter o array com que vamos trabalhar"
      ]
    },
    {
      "cell_type": "code",
      "execution_count": 1,
      "metadata": {
        "id": "MQugf4NCasL-"
      },
      "outputs": [],
      "source": [
        "import numpy as np\n",
        "\n",
        "# array com # camas e # de beliches existentes\n",
        "# dados do grupo \"urbRes\", uma empresa de hostels\n",
        "# significado das colunas:\n",
        "  # - id do quarto\n",
        "  # - # de camas\n",
        "  # - # de beliches\n",
        "np.random.seed(1234)\n",
        "number_of_rows = 100\n",
        "room_ids = np.random.choice(np.arange(1000001, 1000020), number_of_rows)\n",
        "room_ids_sorted = np.sort(room_ids)\n",
        "number_of_beds = np.random.choice(np.arange(1, 9), number_of_rows)\n",
        "number_of_bunk_beds = np.where(number_of_beds > 3, number_of_beds, 0)\n",
        "number_of_beds = np.where(number_of_beds > 3, 0, number_of_beds)\n",
        "\n",
        "bedrooms_ids = np.stack([room_ids_sorted, number_of_beds, number_of_bunk_beds],\n",
        "                        axis=1)"
      ]
    },
    {
      "cell_type": "code",
      "execution_count": 3,
      "metadata": {
        "id": "5iKfOs1hs5rr"
      },
      "outputs": [
        {
          "name": "stdout",
          "output_type": "stream",
          "text": [
            "[1000001 1000001 1000001 1000001 1000001]\n",
            "1000003\n",
            "[1000003 1000003 1000003 1000003 1000003]\n",
            "[0 1 0 1 0 2 1 0 2 0 1 3 1 0 3 3 0 0 0 3]\n",
            "[2 0 2 3 0 0 3 0 2 1 0]\n",
            "[0 0 0 0 0 0 0 0 0 0 0 0 0 0 0 0 0 0 0 0 0 0 0 0 0 0 0 0 0 0 0 0 0 0 0 0 0\n",
            " 0 0 0 0 0 0 0 0 0 0 0 0 0 0 0 0 0 0 0 0 0 1 1 1 1 1 1 1 1 1 1 1 1 1 1 1 2\n",
            " 2 2 2 2 2 2 2 2 2 2 2 2 2 2 2 2 3 3 3 3 3 3 3 3 3 3]\n"
          ]
        }
      ],
      "source": [
        "# array a utilizar\n",
        "bedrooms_ids\n",
        "\n",
        "# selecione todas as linhas da coluna 1 (queremos os ids dos quartos)\n",
        "room_ids_only = bedrooms_ids[:,0]\n",
        "\n",
        "# faça print dos primeiros 5 ids\n",
        "print(room_ids_only[:5])\n",
        "\n",
        "# recolha o id do décimo quarto usando o room_ids_only\n",
        "tenth_room_id = room_ids_only[9]\n",
        "print(tenth_room_id)\n",
        "\n",
        "# recolha a fatia dos cinco ids a contar do décimo quarto usando o room_ids_only\n",
        "rooms_ids_slice = room_ids_only[9:14]\n",
        "print(rooms_ids_slice)\n",
        "\n",
        "# crie um array com os primeiros 20 números de camas usando o bedrooms_ids\n",
        "first_twenty_bedroom_beds = bedrooms_ids[:20,1]\n",
        "print(first_twenty_bedroom_beds)\n",
        "\n",
        "# crie um array com os números de camas dos indices pares desde 20 a 40 usando o bedrooms_ids\n",
        "every_other_bedroom_beds = bedrooms_ids[20:41:2,1]\n",
        "print(every_other_bedroom_beds)\n",
        "\n",
        "# recolha a informação do número de camas e ordene-a do mais pequeno para o maior\n",
        "sorted_bedroom_beds = np.sort(bedrooms_ids[:,1])\n",
        "print(sorted_bedroom_beds)"
      ]
    },
    {
      "cell_type": "code",
      "execution_count": 4,
      "metadata": {
        "id": "Ic6IinG9gwrt"
      },
      "outputs": [
        {
          "name": "stdout",
          "output_type": "stream",
          "text": [
            "[[1000003       8       0]]\n",
            "[1000003]\n",
            "[[1000003       0       8]\n",
            " [1000003       1       0]\n",
            " [1000003       8       0]\n",
            " [1000003       1       0]\n",
            " [1000003       0       4]]\n",
            "[[1000015       0       7]\n",
            " [1000015       3       0]\n",
            " [1000015       2       0]\n",
            " [1000015       1       0]\n",
            " [1000015       0       8]\n",
            " [1000015       1       0]]\n",
            "[[1000015       0       7]\n",
            " [1000015       3       0]\n",
            " [1000015       2       0]\n",
            " [1000015       1       0]\n",
            " [1000015       0       8]\n",
            " [1000015       1       0]]\n"
          ]
        }
      ],
      "source": [
        "# um dos quartos tinha um erro (tinha 8 camas em vez de 3)\n",
        "bedrooms_ids[11,1] = 8\n",
        "\n",
        "# crie um array que contenha a linha dos dados completa relativa ao quarto com o erro\n",
        "bedroom_error = bedrooms_ids[bedrooms_ids[:,1] == 8, :]\n",
        "print(bedroom_error)\n",
        "\n",
        "# retire do bedroom_error o id do quarto\n",
        "bedroom_error_id = bedroom_error[:, 0]\n",
        "print(bedroom_error_id)\n",
        "\n",
        "# crie um array com a informação completa de todas as linhas com o mesmo bedroom_error_id\n",
        "beds_on_bedroom_error_id = bedrooms_ids[bedrooms_ids[:,0] == bedroom_error_id]\n",
        "print(beds_on_bedroom_error_id)\n",
        "\n",
        "# crie o id_1000015 array com as linhas completas dos quartos com este id\n",
        "id_1000015 = bedrooms_ids[bedrooms_ids[:,0] == 1000015]\n",
        "print(id_1000015)\n",
        "\n",
        "# crie um array com os indices das linhas com quartos com este id\n",
        "row_indices = np.where(bedrooms_ids[:,0] == 1000015)\n",
        "\n",
        "# crie um array que contenha informação apenas dos quartos presentes em row_indices\n",
        "id_1000015_2 = bedrooms_ids[row_indices[0],:]\n",
        "print(id_1000015_2)\n"
      ]
    },
    {
      "cell_type": "code",
      "execution_count": null,
      "metadata": {
        "id": "XRL1r8iFQ-4G"
      },
      "outputs": [],
      "source": [
        "# quando um quarto tem camas, não tem beliches. Quando tem beliches, não tem camas.\n",
        "# Vamos criar uma nova coluna única com estas duas variáveis.\n",
        "\n",
        "# crie um array de 1D com o número de camas e o número de beliches\n",
        "beds_and_bunks = np.where(bedrooms_ids[:,1] == 0, bedrooms_ids[:,2], bedrooms_ids[:,1])\n",
        "print(beds_and_bunks)\n",
        "\n",
        "# faça o print do shape do array beds_and_bunks e do array bedrooms_ids\n",
        "print(beds_and_bunks.shape, bedrooms_ids.shape)\n",
        "\n",
        "# para podermos juntar os arrays, os shapes têm de ser compatíveis\n",
        "\n",
        "# faça o reshape do array beds_and_bunks\n",
        "reshaped_beds_and_bunks = beds_and_bunks.reshape((beds_and_bunks.shape[0],1))\n",
        "\n",
        "# faça a contatenação dos dois arrays considerando a nova coluna em último\n",
        "concatenated_bedrooms_ids = np.concatenate((bedrooms_ids,reshaped_beds_and_bunks), axis = 1)\n",
        "print(concatenated_bedrooms_ids)\n",
        "\n",
        "# agora que temos o novo array, vamos eliminar a coluna dos beliches\n",
        "\n",
        "# faça delete da coluna dos beliches na nova tabela concatenada\n",
        "concatenated_bedrooms_ids_no_bunks = np.delete(concatenated_bedrooms_ids, 2, axis = 1)"
      ]
    }
  ],
  "metadata": {
    "colab": {
      "provenance": []
    },
    "kernelspec": {
      "display_name": "Python 3",
      "name": "python3"
    },
    "language_info": {
      "codemirror_mode": {
        "name": "ipython",
        "version": 3
      },
      "file_extension": ".py",
      "mimetype": "text/x-python",
      "name": "python",
      "nbconvert_exporter": "python",
      "pygments_lexer": "ipython3",
      "version": "3.9.5"
    }
  },
  "nbformat": 4,
  "nbformat_minor": 0
}
