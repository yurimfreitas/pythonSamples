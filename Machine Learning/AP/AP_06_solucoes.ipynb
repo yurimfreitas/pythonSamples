{
  "nbformat": 4,
  "nbformat_minor": 0,
  "metadata": {
    "colab": {
      "provenance": []
    },
    "kernelspec": {
      "name": "python3",
      "display_name": "Python 3"
    },
    "language_info": {
      "name": "python"
    }
  },
  "cells": [
    {
      "cell_type": "markdown",
      "source": [
        "# Vamos aplicar o que aprendemos sobre métricas\n",
        "*   Complete com o código em falta\n",
        "*   Sempre que necessário, **substitua** ___\n",
        "\n",
        "---\n",
        "\n",
        "dataset: [fonte](https://www.kaggle.com/datasets/charleyhuang1022/contract-renewal-prediction?select=South_China.csv)\n",
        "\n",
        "---\n"
      ],
      "metadata": {
        "id": "0anqVfaomEbf"
      }
    },
    {
      "cell_type": "markdown",
      "source": [
        "Corra a primeira célula de código para obter o dataframe com que vamos trabalhar"
      ],
      "metadata": {
        "id": "BUpPSnKRgp99"
      }
    },
    {
      "cell_type": "code",
      "source": [
        "# faça o upload do ficheiro csv associado à atividade\n",
        "\n",
        "# vamos importar a biblioteca\n",
        "import pandas as pd\n",
        "\n",
        "# vamos importar o dataframe do ficheiro .csv\n",
        "df_contract_renewal = pd.read_csv(\"South_China.csv\")"
      ],
      "metadata": {
        "id": "MQugf4NCasL-"
      },
      "execution_count": null,
      "outputs": []
    },
    {
      "cell_type": "code",
      "source": [
        "# veja as 5 primeiras linhas do dataframe\n",
        "df_contract_renewal.head()\n",
        "# veja a forma do dataframe: quantas linhas, quantas colunas?\n",
        "df_contract_renewal.shape\n",
        "# veja a informação sobre o dataframe\n",
        "df_contract_renewal.info()\n",
        "# veja a descrição das variáveis numéricas\n",
        "df_contract_renewal.describe()"
      ],
      "metadata": {
        "id": "4cBiXvTFkLu7"
      },
      "execution_count": null,
      "outputs": []
    },
    {
      "cell_type": "code",
      "source": [
        "# defina a variável alvo como sendo a coluna \"Renewal\"\n",
        "target_variable = \"Renewal\"\n",
        "\n",
        "# train_test split usando a função train_test_split\n",
        "X = df_contract_renewal.drop([\"ID\", target_variable], axis = 1)\n",
        "y = df_contract_renewal[target_variable]*1\n",
        "\n",
        "# verifique o grau de desequilibrio\n",
        "print(y.sum()/len(y))\n",
        "\n",
        "# importe a função train_test_split e defina X_train, X_test, y_train, y_test\n",
        "from sklearn.model_selection import train_test_split\n",
        "X_train, X_test, y_train, y_test = train_test_split(X, y,\n",
        "                                                    test_size = 0.4,\n",
        "                                                    random_state = 12,\n",
        "                                                    stratify = y)"
      ],
      "metadata": {
        "id": "rvscwWMwtZUl"
      },
      "execution_count": null,
      "outputs": []
    },
    {
      "cell_type": "code",
      "source": [
        "# aplique o modelo de KNN\n",
        "from sklearn.neighbors import KNeighborsClassifier\n",
        "knn = KNeighborsClassifier(n_neighbors = 7)\n",
        "knn.fit(X_train, y_train)\n",
        "y_pred_knn = knn.predict(X_test)\n",
        "\n",
        "# verifique a accuracy do modelo\n",
        "knn.score(X_test, y_test)\n",
        "\n",
        "# aplique o modelo de regressão logística\n",
        "from sklearn.linear_model import LogisticRegression\n",
        "log_reg = LogisticRegression( max_iter = 250)\n",
        "log_reg.fit(X_train, y_train)\n",
        "y_pred_log_reg = log_reg.predict(X_test)\n",
        "\n",
        "# verifique a accuracy do modelo\n",
        "log_reg.score(X_test, y_test)"
      ],
      "metadata": {
        "id": "_kMdqoG_yK-y"
      },
      "execution_count": null,
      "outputs": []
    },
    {
      "cell_type": "code",
      "source": [
        "labels = ['cancelou', 'renovou']\n",
        "\n",
        "# faça import do classification_report e da confusion_matrix\n",
        "from sklearn.metrics import classification_report\n",
        "from sklearn.metrics import confusion_matrix\n",
        "\n",
        "# veja a matriz de confusão dos modelos\n",
        "print(confusion_matrix(y_test, y_pred_knn))\n",
        "print(confusion_matrix(y_test, y_pred_log_reg))\n",
        "\n",
        "# veja as métricas através do report\n",
        "print(classification_report(y_test, y_pred_knn, target_names = labels))\n",
        "print(classification_report(y_test, y_pred_log_reg, target_names = labels))\n"
      ],
      "metadata": {
        "id": "ySo_9VG50bVD"
      },
      "execution_count": null,
      "outputs": []
    },
    {
      "cell_type": "code",
      "source": [
        "# importe a curva roc\n",
        "from sklearn.metrics import roc_curve\n",
        "\n",
        "# Calcule as probabilidades previstas (.predict_proba)\n",
        "y_pred_log_reg_prob = log_reg.predict_proba(X_test)[:,1]\n",
        "\n",
        "# gere a curva ROC\n",
        "FPR, TPR, thresholds = roc_curve(y_test, y_pred_log_reg_prob)\n"
      ],
      "metadata": {
        "id": "lQ5ijlp1LaJt"
      },
      "execution_count": null,
      "outputs": []
    },
    {
      "cell_type": "code",
      "source": [
        "# visualize a curva ROC\n",
        "import matplotlib.pyplot as plt\n",
        "plt.plot([0, 1], [0, 1], 'k--')\n",
        "plt.plot(FPR, TPR)\n",
        "plt.xlabel('FPR')\n",
        "plt.ylabel('TPR')\n",
        "plt.title('Curva ROC')\n",
        "plt.show()\n",
        "\n",
        "# visualize a influência do threshold\n",
        "plt.xlim(0,1.1)\n",
        "plt.ylim(0,1.1)\n",
        "plt.plot(thresholds[1:], TPR[1:])\n",
        "plt.plot(thresholds[1:], FPR[1:])\n",
        "plt.plot([0.5, 0.5], [0, 1.1], 'k--')\n",
        "plt.xlabel('threshold')\n",
        "plt.ylabel('rates')\n",
        "plt.legend(['TPR', 'FPR'])\n",
        "plt.title('rates vs (TPR e FPR)')\n",
        "plt.show()"
      ],
      "metadata": {
        "id": "zzL7G7ppizlD"
      },
      "execution_count": null,
      "outputs": []
    },
    {
      "cell_type": "code",
      "source": [
        "# calcule a AUC\n",
        "from sklearn.metrics import roc_auc_score\n",
        "print(\"AUC: {}\".format(roc_auc_score(y_test, y_pred_log_reg_prob)))"
      ],
      "metadata": {
        "id": "0l9kspHSLbVc"
      },
      "execution_count": null,
      "outputs": []
    }
  ]
}