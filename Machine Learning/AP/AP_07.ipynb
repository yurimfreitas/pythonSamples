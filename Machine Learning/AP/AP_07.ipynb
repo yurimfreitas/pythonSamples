{
  "cells": [
    {
      "cell_type": "markdown",
      "metadata": {
        "id": "uTEY8A-i_acT"
      },
      "source": [
        "# Vamos aplicar o que aprendemos sobre Cross-Validation\n",
        "\n",
        "*   Complete com o código em falta\n",
        "*   Sempre que necessário, **substitua** ___\n",
        "\n",
        "---\n",
        "\n",
        "dataset: [fonte](https://www.kaggle.com/datasets/charleyhuang1022/contract-renewal-prediction?select=South_China.csv)\n",
        "\n",
        "---"
      ]
    },
    {
      "cell_type": "code",
      "execution_count": 1,
      "metadata": {
        "id": "PcsBdht6_lDC"
      },
      "outputs": [],
      "source": [
        "# faça o upload do ficheiro csv associado à atividade\n",
        "\n",
        "# vamos importar a biblioteca\n",
        "import pandas as pd\n",
        "import numpy as np\n",
        "# vamos importar o dataframe do ficheiro .csv\n",
        "df_contract_renewal = pd.read_csv(\"C:/Users/yfreitas/Documents/pythonSamples/Machine Learning/Files/South_China.csv\")"
      ]
    },
    {
      "cell_type": "code",
      "execution_count": 2,
      "metadata": {
        "id": "vTOLZDr4_wFz"
      },
      "outputs": [
        {
          "name": "stdout",
          "output_type": "stream",
          "text": [
            "<class 'pandas.core.frame.DataFrame'>\n",
            "RangeIndex: 1500 entries, 0 to 1499\n",
            "Data columns (total 5 columns):\n",
            " #   Column                 Non-Null Count  Dtype  \n",
            "---  ------                 --------------  -----  \n",
            " 0   ID                     1500 non-null   int64  \n",
            " 1   Registration_Duration  1500 non-null   int64  \n",
            " 2   Revenue                1500 non-null   int64  \n",
            " 3   Cost                   1500 non-null   float64\n",
            " 4   Renewal                1500 non-null   bool   \n",
            "dtypes: bool(1), float64(1), int64(3)\n",
            "memory usage: 48.5 KB\n"
          ]
        },
        {
          "data": {
            "text/html": [
              "<div>\n",
              "<style scoped>\n",
              "    .dataframe tbody tr th:only-of-type {\n",
              "        vertical-align: middle;\n",
              "    }\n",
              "\n",
              "    .dataframe tbody tr th {\n",
              "        vertical-align: top;\n",
              "    }\n",
              "\n",
              "    .dataframe thead th {\n",
              "        text-align: right;\n",
              "    }\n",
              "</style>\n",
              "<table border=\"1\" class=\"dataframe\">\n",
              "  <thead>\n",
              "    <tr style=\"text-align: right;\">\n",
              "      <th></th>\n",
              "      <th>ID</th>\n",
              "      <th>Registration_Duration</th>\n",
              "      <th>Revenue</th>\n",
              "      <th>Cost</th>\n",
              "    </tr>\n",
              "  </thead>\n",
              "  <tbody>\n",
              "    <tr>\n",
              "      <th>count</th>\n",
              "      <td>1500.000000</td>\n",
              "      <td>1500.000000</td>\n",
              "      <td>1500.000000</td>\n",
              "      <td>1500.000000</td>\n",
              "    </tr>\n",
              "    <tr>\n",
              "      <th>mean</th>\n",
              "      <td>10750.500000</td>\n",
              "      <td>33.756000</td>\n",
              "      <td>58.387333</td>\n",
              "      <td>6.191050</td>\n",
              "    </tr>\n",
              "    <tr>\n",
              "      <th>std</th>\n",
              "      <td>433.157015</td>\n",
              "      <td>10.928133</td>\n",
              "      <td>61.862056</td>\n",
              "      <td>8.206847</td>\n",
              "    </tr>\n",
              "    <tr>\n",
              "      <th>min</th>\n",
              "      <td>10001.000000</td>\n",
              "      <td>19.000000</td>\n",
              "      <td>13.000000</td>\n",
              "      <td>0.513600</td>\n",
              "    </tr>\n",
              "    <tr>\n",
              "      <th>25%</th>\n",
              "      <td>10375.750000</td>\n",
              "      <td>25.000000</td>\n",
              "      <td>28.000000</td>\n",
              "      <td>1.821140</td>\n",
              "    </tr>\n",
              "    <tr>\n",
              "      <th>50%</th>\n",
              "      <td>10750.500000</td>\n",
              "      <td>33.000000</td>\n",
              "      <td>40.000000</td>\n",
              "      <td>3.735905</td>\n",
              "    </tr>\n",
              "    <tr>\n",
              "      <th>75%</th>\n",
              "      <td>11125.250000</td>\n",
              "      <td>40.000000</td>\n",
              "      <td>64.000000</td>\n",
              "      <td>7.245237</td>\n",
              "    </tr>\n",
              "    <tr>\n",
              "      <th>max</th>\n",
              "      <td>11500.000000</td>\n",
              "      <td>72.000000</td>\n",
              "      <td>981.000000</td>\n",
              "      <td>96.471200</td>\n",
              "    </tr>\n",
              "  </tbody>\n",
              "</table>\n",
              "</div>"
            ],
            "text/plain": [
              "                 ID  Registration_Duration      Revenue         Cost\n",
              "count   1500.000000            1500.000000  1500.000000  1500.000000\n",
              "mean   10750.500000              33.756000    58.387333     6.191050\n",
              "std      433.157015              10.928133    61.862056     8.206847\n",
              "min    10001.000000              19.000000    13.000000     0.513600\n",
              "25%    10375.750000              25.000000    28.000000     1.821140\n",
              "50%    10750.500000              33.000000    40.000000     3.735905\n",
              "75%    11125.250000              40.000000    64.000000     7.245237\n",
              "max    11500.000000              72.000000   981.000000    96.471200"
            ]
          },
          "execution_count": 2,
          "metadata": {},
          "output_type": "execute_result"
        }
      ],
      "source": [
        "# veja as 5 primeiras linhas do dataframe\n",
        "df_contract_renewal.head()\n",
        "# veja a forma do dataframe: quantas linhas, quantas colunas?\n",
        "df_contract_renewal.shape\n",
        "# veja a informação sobre o dataframe\n",
        "df_contract_renewal.info()\n",
        "# veja a descrição das variáveis numéricas\n",
        "df_contract_renewal.describe()"
      ]
    },
    {
      "cell_type": "code",
      "execution_count": 3,
      "metadata": {
        "id": "RnfcOd9P_Gq3"
      },
      "outputs": [
        {
          "name": "stdout",
          "output_type": "stream",
          "text": [
            "0.6346666666666667\n"
          ]
        }
      ],
      "source": [
        "# defina a variável alvo\n",
        "target_variable = \"Renewal\"\n",
        "\n",
        "# train_test split usando a função train_test_split\n",
        "X = df_contract_renewal.drop([\"ID\", target_variable], axis = 1)\n",
        "y = df_contract_renewal[target_variable]*1\n",
        "\n",
        "# verifique o grau de desequilibrio\n",
        "print(y.sum()/len(y))\n",
        "\n",
        "# importe a função train_test_split e defina X_train, X_test, y_train, y_test\n",
        "from sklearn.model_selection import train_test_split\n",
        "\n",
        "X_train, X_test, y_train, y_test = train_test_split(X, y,\n",
        "                                                    test_size = 0.2,\n",
        "                                                    random_state = 12,\n",
        "                                                    stratify = y)"
      ]
    },
    {
      "cell_type": "code",
      "execution_count": 4,
      "metadata": {
        "id": "2CFfRzTjAJ1l"
      },
      "outputs": [],
      "source": [
        "# importe o modelo de KNeighborsClassifier e o de LogisticRegression\n",
        "from sklearn.neighbors import KNeighborsClassifier\n",
        "from sklearn.linear_model import LogisticRegression\n",
        "\n",
        "# instancie os objetos\n",
        "knn = KNeighborsClassifier(n_neighbors = 7)\n",
        "log_reg = LogisticRegression( max_iter = 250)"
      ]
    },
    {
      "cell_type": "code",
      "execution_count": 5,
      "metadata": {
        "id": "uGOsS1v0Asjw"
      },
      "outputs": [
        {
          "name": "stdout",
          "output_type": "stream",
          "text": [
            "KNN - Mean Precision: 0.72\n",
            "KNN - Mean Recall: 0.82\n"
          ]
        }
      ],
      "source": [
        "# importe o KFold\n",
        "from sklearn.model_selection import KFold\n",
        "\n",
        "# importe as métricas de precision e recall\n",
        "from sklearn.metrics import precision_score, recall_score\n",
        "\n",
        "# defina 5 folds\n",
        "kfold = KFold(n_splits=5)\n",
        "\n",
        "# crie listas vazias para os scores\n",
        "precision_scores_knn = []\n",
        "recall_scores_knn = []\n",
        "precision_scores_log_reg = []\n",
        "recall_scores_log_reg = []\n",
        "\n",
        "# faça cross-validation usando o ciclo for para o modelo de knn\n",
        "for train_index, val_index in kfold.split(X_train):\n",
        "    X_train_fold, X_val_fold = X_train.iloc[train_index], X_train.iloc[val_index]\n",
        "    y_train_fold, y_val_fold = y_train.iloc[train_index], y_train.iloc[val_index]\n",
        "\n",
        "    knn.fit(X_train_fold, y_train_fold)\n",
        "    y_pred_knn = knn.predict(X_val_fold)\n",
        "    precision_knn = precision_score(y_val_fold, y_pred_knn)\n",
        "    recall_knn = recall_score(y_val_fold, y_pred_knn)\n",
        "\n",
        "    precision_scores_knn.append(precision_knn)\n",
        "    recall_scores_knn.append(recall_knn)\n",
        "\n",
        "# faça print para visualizar os resultados\n",
        "print(\"KNN - Mean Precision:\", np.mean(precision_scores_knn).round(2))\n",
        "print(\"KNN - Mean Recall:\", np.mean(recall_scores_knn).round(2))"
      ]
    },
    {
      "cell_type": "code",
      "execution_count": 6,
      "metadata": {
        "id": "Ck8ozMzWBwMa"
      },
      "outputs": [
        {
          "name": "stdout",
          "output_type": "stream",
          "text": [
            "KNN - Mean Precision: 0.72\n",
            "KNN - Mean Recall: 0.82\n"
          ]
        }
      ],
      "source": [
        "# importe o modelo\n",
        "from sklearn.model_selection import cross_val_score\n",
        "\n",
        "# utilize o cross_val_score para fazer cross-validation\n",
        "precision_scores_knn = cross_val_score(knn, X_train, y_train, cv=kfold, scoring='precision')\n",
        "recall_scores_knn = cross_val_score(knn, X_train, y_train, cv=kfold, scoring='recall')\n",
        "\n",
        "# faça print dos resultados\n",
        "print(\"KNN - Mean Precision:\", np.mean(precision_scores_knn).round(2))\n",
        "print(\"KNN - Mean Recall:\", np.mean(recall_scores_knn).round(2))"
      ]
    },
    {
      "cell_type": "code",
      "execution_count": 7,
      "metadata": {
        "id": "hek42LXjCNtJ"
      },
      "outputs": [
        {
          "name": "stdout",
          "output_type": "stream",
          "text": [
            "Logistic Regression - Mean Precision: 0.72\n",
            "Logistic Regression - Mean Recall: 0.82\n",
            "Logistic Regression - Mean Log Loss: 1.24\n"
          ]
        }
      ],
      "source": [
        "# importamos o modelo\n",
        "from sklearn.model_selection import cross_validate\n",
        "\n",
        "# defina as suas métricas de score ('precision', 'recall', 'neg_log_loss')\n",
        "scoring = ['precision', 'recall', 'neg_log_loss']\n",
        "\n",
        "# utilize a função de cross-validate\n",
        "cv_results_log_reg = cross_validate(knn, X_train, y_train, cv=kfold, scoring=scoring)\n",
        "\n",
        "# faça print dos resultados\n",
        "print(\"Logistic Regression - Mean Precision:\", np.mean(cv_results_log_reg['test_precision']).round(2))\n",
        "print(\"Logistic Regression - Mean Recall:\", np.mean(cv_results_log_reg['test_recall']).round(2))\n",
        "print(\"Logistic Regression - Mean Log Loss:\", -np.mean(cv_results_log_reg['test_neg_log_loss']).round(2))"
      ]
    }
  ],
  "metadata": {
    "colab": {
      "provenance": []
    },
    "kernelspec": {
      "display_name": "Python 3",
      "name": "python3"
    },
    "language_info": {
      "codemirror_mode": {
        "name": "ipython",
        "version": 3
      },
      "file_extension": ".py",
      "mimetype": "text/x-python",
      "name": "python",
      "nbconvert_exporter": "python",
      "pygments_lexer": "ipython3",
      "version": "3.9.5"
    }
  },
  "nbformat": 4,
  "nbformat_minor": 0
}
