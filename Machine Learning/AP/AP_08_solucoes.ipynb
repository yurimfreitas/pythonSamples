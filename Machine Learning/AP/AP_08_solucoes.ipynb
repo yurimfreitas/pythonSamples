{
  "nbformat": 4,
  "nbformat_minor": 0,
  "metadata": {
    "colab": {
      "provenance": []
    },
    "kernelspec": {
      "name": "python3",
      "display_name": "Python 3"
    },
    "language_info": {
      "name": "python"
    }
  },
  "cells": [
    {
      "cell_type": "markdown",
      "source": [
        "# Vamos aplicar o que aprendemos sobre regressões lineares\n",
        "*   Complete com o código em falta\n",
        "*   Sempre que necessário, **substitua** ___\n",
        "\n",
        "---\n",
        "\n",
        "dataset: [fonte](https://www.kaggle.com/datasets/quantbruce/real-estate-price-prediction)\n",
        "\n",
        "---\n"
      ],
      "metadata": {
        "id": "0anqVfaomEbf"
      }
    },
    {
      "cell_type": "markdown",
      "source": [
        "Corra a primeira célula de código para obter o dataframe com que vamos trabalhar"
      ],
      "metadata": {
        "id": "BUpPSnKRgp99"
      }
    },
    {
      "cell_type": "code",
      "source": [
        "# faça o upload do ficheiro csv associado à atividade\n",
        "\n",
        "# vamos importar a biblioteca\n",
        "import pandas as pd\n",
        "import numpy as np\n",
        "\n",
        "# vamos importar o dataframe do ficheiro .csv\n",
        "df_real_estate = (pd\n",
        "                  .read_csv(\"Real estate.csv\")\n",
        "                  .drop([\"No\",\n",
        "                         \"X1 transaction date\",\n",
        "                         \"X4 number of convenience stores\"], axis = 1))"
      ],
      "metadata": {
        "id": "MQugf4NCasL-"
      },
      "execution_count": null,
      "outputs": []
    },
    {
      "cell_type": "code",
      "source": [
        "# veja as 5 primeiras linhas do dataframe\n",
        "df_real_estate.head()\n",
        "# veja a forma do dataframe: quantas linhas, quantas colunas?\n",
        "df_real_estate.shape\n",
        "# veja a informação sobre o dataframe\n",
        "df_real_estate.info()\n",
        "# veja a descrição das variáveis numéricas\n",
        "df_real_estate.describe()"
      ],
      "metadata": {
        "id": "4cBiXvTFkLu7"
      },
      "execution_count": null,
      "outputs": []
    },
    {
      "cell_type": "code",
      "source": [
        "# importe o matplotlib.pyplot\n",
        "import matplotlib.pyplot as plt\n",
        "plt.style.use('ggplot')\n",
        "x_variable = df_real_estate[\"X5 latitude\"]\n",
        "y_variable = df_real_estate[\"Y house price of unit area\"]\n",
        "plt.scatter(x_variable, y_variable, color = 'b')\n",
        "plt.ylabel(\"preço do m2 de habitação\")\n",
        "plt.xlabel('latitude')\n",
        "plt.show()"
      ],
      "metadata": {
        "id": "jg4qpD-SpsyQ"
      },
      "execution_count": null,
      "outputs": []
    },
    {
      "cell_type": "code",
      "source": [
        "# defina a variável alvo (\"Y house price of unit area\")\n",
        "target_variable = \"Y house price of unit area\"\n",
        "\n",
        "# train_test split usando a função train_test_split\n",
        "X = df_real_estate.drop([target_variable], axis = 1)\n",
        "y = df_real_estate[target_variable]\n",
        "\n",
        "from sklearn.model_selection import train_test_split\n",
        "X_train, X_test, y_train, y_test = train_test_split(X, y,\n",
        "                                                    test_size = 0.3,\n",
        "                                                    random_state = 12)"
      ],
      "metadata": {
        "id": "rvscwWMwtZUl"
      },
      "execution_count": null,
      "outputs": []
    },
    {
      "cell_type": "code",
      "source": [
        "# escolha \"X5 latitude\" como variável independente\n",
        "x_variable = 'X5 latitude'\n",
        "X_1_feature = X_train[[x_variable]]\n",
        "\n",
        "# importe o modelo\n",
        "from sklearn.linear_model import LinearRegression\n",
        "lin_reg = LinearRegression()\n",
        "lin_reg.fit(X_1_feature, y_train)\n",
        "\n",
        "# faça previsão para os pontos de teste\n",
        "y_reg = lin_reg.predict(X_test[[x_variable]])\n",
        "\n",
        "# veja os coeficientes da regressão\n",
        "m = lin_reg.coef_[0]\n",
        "b = lin_reg.intercept_\n",
        "print(\"m: {}; b: {}\".format(m , b))\n",
        "\n",
        "# verifique o r2 (round -> 3)\n",
        "print(\"r2: {}\".format(lin_reg.score(X_test[[x_variable]], y_test).round(3)))"
      ],
      "metadata": {
        "id": "Pl9Np72gr3UC"
      },
      "execution_count": null,
      "outputs": []
    },
    {
      "cell_type": "code",
      "source": [
        "# visualize o resultado para o teste\n",
        "plt.scatter(X_test[[x_variable]], y_test, color = 'k')\n",
        "plt.scatter(X_test[[x_variable]], y_reg, color = 'r')\n",
        "plt.ylabel(\"preço do m2 de habitação\")\n",
        "plt.xlabel('latitude')\n",
        "plt.show()"
      ],
      "metadata": {
        "id": "57icLM5yu0mC"
      },
      "execution_count": null,
      "outputs": []
    },
    {
      "cell_type": "code",
      "source": [
        "# vamos codificar o nome das variáveis\n",
        "columns_names = [\"x1\", \"x2\", \"x3\", \"x4\", \"y\"]\n",
        "df_real_estate.columns = columns_names"
      ],
      "metadata": {
        "id": "FvkRgGVVojfC"
      },
      "execution_count": null,
      "outputs": []
    },
    {
      "cell_type": "code",
      "source": [
        "# importe o modelo de regressão linear\n",
        "from sklearn.linear_model import LinearRegression\n",
        "lin_reg_all = LinearRegression()\n",
        "lin_reg_all.fit(X_train, y_train)\n",
        "y_pred = lin_reg_all.predict(X_test)\n",
        "\n",
        "# verifique o r2 (round -> 3)\n",
        "lin_reg_all.score(X_test, y_test).round(3)"
      ],
      "metadata": {
        "id": "Nm2qex2ntS94"
      },
      "execution_count": null,
      "outputs": []
    },
    {
      "cell_type": "code",
      "source": [
        "# importe o modelo de Ridge\n",
        "from sklearn.linear_model import Ridge\n",
        "\n",
        "# considere alpha = 0.3\n",
        "ridge_reg = Ridge(alpha = 0.3)\n",
        "ridge_reg.fit(X_train, y_train)\n",
        "y_pred_ridge = ridge_reg.predict(X_test)\n",
        "\n",
        "# verifique o r2 (round -> 3)\n",
        "ridge_reg.score(X_test, y_test).round(3)"
      ],
      "metadata": {
        "id": "h8oZRGm_tcOQ"
      },
      "execution_count": null,
      "outputs": []
    },
    {
      "cell_type": "code",
      "source": [
        "# importe o modelo de Lasso\n",
        "from sklearn.linear_model import Lasso\n",
        "\n",
        "# considere alpha = 0.5\n",
        "lasso_reg = Lasso(alpha = 0.5)\n",
        "lasso_reg.fit(X_train, y_train)\n",
        "y_pred_lasso = lasso_reg.predict(X_test)\n",
        "\n",
        "# verifique o r2 (round -> 3)\n",
        "lasso_reg.score(X_test, y_test).round(3)"
      ],
      "metadata": {
        "id": "F_ixMqtbtco8"
      },
      "execution_count": null,
      "outputs": []
    }
  ]
}