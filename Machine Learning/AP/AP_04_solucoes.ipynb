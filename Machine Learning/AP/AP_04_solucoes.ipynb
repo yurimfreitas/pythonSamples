{
  "nbformat": 4,
  "nbformat_minor": 0,
  "metadata": {
    "colab": {
      "provenance": []
    },
    "kernelspec": {
      "name": "python3",
      "display_name": "Python 3"
    },
    "language_info": {
      "name": "python"
    }
  },
  "cells": [
    {
      "cell_type": "markdown",
      "source": [
        "# Vamos aplicar o que aprendemos sobre os pandas dataframes\n",
        "\n",
        "\n",
        "*   Complete com o código em falta\n",
        "*   Sempre que necessário, **substitua** ___\n",
        "\n",
        "---\n",
        "\n",
        "dataset: [fonte](https://www.kaggle.com/datasets/crawford/80-cereals)\n",
        "\n",
        "---\n"
      ],
      "metadata": {
        "id": "0anqVfaomEbf"
      }
    },
    {
      "cell_type": "markdown",
      "source": [
        "Corra a primeira célula de código para obter o dataframe com que vamos trabalhar"
      ],
      "metadata": {
        "id": "BUpPSnKRgp99"
      }
    },
    {
      "cell_type": "code",
      "source": [
        "# faça o upload do ficheiro csv associado à atividade\n",
        "\n",
        "# vamos importar a biblioteca\n",
        "import pandas as pd\n",
        "\n",
        "# vamos importar o dataframe do ficheiro .csv\n",
        "df_cereals = pd.read_csv(\"cereal.csv\")"
      ],
      "metadata": {
        "id": "MQugf4NCasL-"
      },
      "execution_count": null,
      "outputs": []
    },
    {
      "cell_type": "code",
      "source": [
        "# veja as 5 primeiras linhas do dataframe\n",
        "df_cereals.head()\n",
        "\n",
        "# veja a forma do dataframe: quantas linhas, quantas colunas?\n",
        "df_cereals.shape\n",
        "\n",
        "# veja a informação sobre o dataframe\n",
        "df_cereals.info()\n",
        "\n",
        "# veja a descrição das variáveis numéricas\n",
        "df_cereals.describe()"
      ],
      "metadata": {
        "id": "4cBiXvTFkLu7"
      },
      "execution_count": null,
      "outputs": []
    },
    {
      "cell_type": "code",
      "source": [
        "# encontre a média de sodio (sodium)\n",
        "df_cereals[\"sodium\"].mean()\n",
        "\n",
        "# encontre a mediana de proteína e de gordura (protein, fat)\n",
        "df_cereals[[\"protein\", \"fat\"]].median()\n",
        "\n",
        "# encontre o mínimo e máximo do valor de fibras (sodium, fiber)\n",
        "df_cereals[[\"sodium\", \"fiber\"]].agg([\"min\", \"max\"])"
      ],
      "metadata": {
        "id": "rvscwWMwtZUl"
      },
      "execution_count": null,
      "outputs": []
    },
    {
      "cell_type": "code",
      "source": [
        "# conte o número de cereais vendidos por marca\n",
        "df_cereals[\"mfr\"].value_counts()\n",
        "\n",
        "# conte o número de cereais por tipo (type) em ordem ascendente e em freq. rel.\n",
        "df_cereals[\"type\"].value_counts(sort = True, ascending = True, normalize = True)"
      ],
      "metadata": {
        "id": "_kMdqoG_yK-y"
      },
      "execution_count": null,
      "outputs": []
    },
    {
      "cell_type": "code",
      "source": [
        "# agrupe os cerais por marca (mfr) e veja a média de calorias (calories)\n",
        "df_cereals_cal_by_mfr = df_cereals.groupby(\"mfr\")[\"calories\"].mean()\n",
        "\n",
        "# use a função de sort_values no grupo anterior para ordenar em sentido desc.\n",
        "df_cereals_cal_by_mfr.sort_values(ascending = False)\n",
        "\n",
        "# agrupe pelo tipo (type) e marca (mfr) e veja o valor min e max de sodio (sodium)\n",
        "df_cereals.groupby([\"type\", \"mfr\"])[\"sodium\"].agg([\"min\", \"max\"])"
      ],
      "metadata": {
        "id": "ySo_9VG50bVD"
      },
      "execution_count": null,
      "outputs": []
    },
    {
      "cell_type": "code",
      "source": [
        "# faça uma tabela pivô com a média de calorias (calories) por marca (mfr)\n",
        "df_cereals.pivot_table(values = \"calories\", index = \"mfr\")\n",
        "\n",
        "# faça a mesma tabela pivô, mas com o máximo das gorduras (fat)\n",
        "df_cereals.pivot_table(values = \"fat\", index = \"mfr\", aggfunc = \"max\")\n",
        "\n",
        "# faça a mesma tabela pivô, mas com o max, a média e o min do açúcar (sugars)\n",
        "df_cereals.pivot_table(values = \"sugars\",\n",
        "                       index = \"mfr\",\n",
        "                       aggfunc = [\"max\", \"mean\", \"min\"])\n",
        "\n",
        "# faça a mesma tabela pivô mas por marca (mfr) e tipo (type)\n",
        "df_cereals.pivot_table(values = \"sugars\",\n",
        "                       index = [\"mfr\", \"type\"],\n",
        "                       aggfunc = [\"max\", \"mean\", \"min\"])\n",
        "\n",
        "# faça uma tabela pivô do máximo de rating por marca (mfr) e tipo (type)\n",
        "df_cereals.pivot_table(values = \"rating\",\n",
        "                       index = \"mfr\",\n",
        "                       columns = \"type\",\n",
        "                       aggfunc = \"max\")\n",
        "\n",
        "# faça a mesma tabela pivô mas com os totais visíveis\n",
        "df_cereals.pivot_table(values = \"rating\",\n",
        "                       index = \"mfr\",\n",
        "                       columns = \"type\",\n",
        "                       aggfunc = \"max\",\n",
        "                       margins = True)\n",
        "\n",
        "# faça a mesma tabela usando ainda o argumento fill_value = 0\n",
        "df_cereals.pivot_table(values = \"rating\",\n",
        "                       index = \"mfr\",\n",
        "                       columns = \"type\",\n",
        "                       aggfunc = \"max\",\n",
        "                       margins = True,\n",
        "                       fill_value = 0)"
      ],
      "metadata": {
        "id": "Bg4lYuMl2DcP"
      },
      "execution_count": null,
      "outputs": []
    }
  ]
}