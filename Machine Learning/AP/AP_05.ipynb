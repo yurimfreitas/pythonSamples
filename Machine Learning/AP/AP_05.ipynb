{
  "nbformat": 4,
  "nbformat_minor": 0,
  "metadata": {
    "colab": {
      "provenance": []
    },
    "kernelspec": {
      "name": "python3",
      "display_name": "Python 3"
    },
    "language_info": {
      "name": "python"
    }
  },
  "cells": [
    {
      "cell_type": "markdown",
      "source": [
        "# Vamos aplicar o que aprendemos sobre o modelo de KNN\n",
        "\n",
        "*   Complete com o código em falta\n",
        "*   Sempre que necessário, **substitua** ___\n",
        "\n",
        "---\n",
        "\n",
        "dataset: [fonte](https://www.kaggle.com/datasets/charleyhuang1022/contract-renewal-prediction?select=South_China.csv)\n",
        "\n",
        "---\n"
      ],
      "metadata": {
        "id": "0anqVfaomEbf"
      }
    },
    {
      "cell_type": "markdown",
      "source": [
        "Corra a primeira célula de código para obter o dataframe com que vamos trabalhar"
      ],
      "metadata": {
        "id": "BUpPSnKRgp99"
      }
    },
    {
      "cell_type": "code",
      "source": [
        "# faça o upload do ficheiro csv associado à atividade\n",
        "\n",
        "# vamos importar a biblioteca\n",
        "import pandas as pd\n",
        "\n",
        "# vamos importar o dataframe do ficheiro .csv\n",
        "df_contract_renewal = pd.read_csv(\"South_China.csv\")"
      ],
      "metadata": {
        "id": "MQugf4NCasL-"
      },
      "execution_count": null,
      "outputs": []
    },
    {
      "cell_type": "code",
      "source": [
        "# veja as 5 primeiras linhas do dataframe\n",
        "df_contract_renewal.___\n",
        "\n",
        "# veja a forma do dataframe: quantas linhas, quantas colunas?\n",
        "df_contract_renewal.___\n",
        "\n",
        "# veja a informação sobre o dataframe\n",
        "df_contract_renewal.___\n",
        "\n",
        "# veja a descrição das variáveis numéricas\n",
        "df_contract_renewal.___"
      ],
      "metadata": {
        "id": "4cBiXvTFkLu7"
      },
      "execution_count": null,
      "outputs": []
    },
    {
      "cell_type": "code",
      "source": [
        "# defina a variável alvo como sendo a coluna \"Renewal\"\n",
        "target_variable = ___\n",
        "\n",
        "# separe manualmente os dados de teste e de treino\n",
        "test_elements = 10\n",
        "\n",
        "X_train = (df_contract_renewal\n",
        "           .drop([___, \"ID\"], axis = 1)\n",
        "           .iloc[:-test_elements,:])\n",
        "y_train = df_contract_renewal[___].iloc[:-test_elements]*1\n",
        "X_test = (df_contract_renewal\n",
        "           .drop([___, \"ID\"], axis = 1)\n",
        "           .iloc[-test_elements:,:])\n",
        "y_test = df_contract_renewal[___].iloc[-test_elements:]*1"
      ],
      "metadata": {
        "id": "rvscwWMwtZUl"
      },
      "execution_count": null,
      "outputs": []
    },
    {
      "cell_type": "code",
      "source": [
        "# importe o modelo de KNeighborsClassifier\n",
        "from sklearn.neighbors import ___\n",
        "\n",
        "# instancie o objeto que contém o modelo KNN e atribuir K = 7\n",
        "knn = ___\n",
        "\n",
        "# aplique o método .fit para \"ajustar\" o modelo aos nossos dados\n",
        "knn.fit(___, ___)"
      ],
      "metadata": {
        "id": "_kMdqoG_yK-y"
      },
      "execution_count": null,
      "outputs": []
    },
    {
      "cell_type": "code",
      "source": [
        "# aplique o modelo e prever para os dados de teste (método .predict())\n",
        "y_pred = knn.predict(___)\n",
        "\n",
        "#Vamos ver os resultados\n",
        "print('Previsões: {}'.format(y_pred))\n",
        "print('Reais:     {}'.format(y_test.values))"
      ],
      "metadata": {
        "id": "ySo_9VG50bVD"
      },
      "execution_count": null,
      "outputs": []
    },
    {
      "cell_type": "code",
      "source": [
        "# defina a variável alvo como sendo a coluna \"Renewal\"\n",
        "target_variable = ____\n",
        "\n",
        "# train_test split usando a função train_test_split\n",
        "X = df_contract_renewal.drop([\"ID\", ___], axis = 1)\n",
        "y = ___[___]*1\n",
        "\n",
        "# verifique o grau de desequilibrio\n",
        "print(___ / ___)\n",
        "\n",
        "# importe a função train_test_split e defina X_train, X_test, y_train, y_test\n",
        "from sklearn.model_selection import ___\n",
        "\n",
        "X_train, ___, ___, ___ = ___(___, ___,\n",
        "                             ___ = 0.2,\n",
        "                             random_state = 12,\n",
        "                             stratify = ___)"
      ],
      "metadata": {
        "id": "_qT0-TElonI3"
      },
      "execution_count": null,
      "outputs": []
    },
    {
      "cell_type": "code",
      "source": [
        "# instancie o objeto que contém o modelo KNN e atribuir K = 7\n",
        "knn = KNeighborsClassifier(___ = 7)\n",
        "\n",
        "# aplique o método .fit para \"ajustar\" o modelo aos nossos dados\n",
        "knn.fit(___, ___)"
      ],
      "metadata": {
        "id": "JB8hynACo0xr"
      },
      "execution_count": null,
      "outputs": []
    },
    {
      "cell_type": "code",
      "source": [
        "# aplique o modelo e prever para os dados de teste (método .predict())\n",
        "y_pred = knn.predict(___)\n",
        "\n",
        "# vamos ver os resultados\n",
        "print('Previsões: {}'.format(y_pred))\n",
        "print('Reais:     {}'.format(y_test.values))"
      ],
      "metadata": {
        "id": "LpJJUuv-o24y"
      },
      "execution_count": null,
      "outputs": []
    },
    {
      "cell_type": "code",
      "source": [
        "# verifique a accuracy do modelo\n",
        "knn.score(___, ___)"
      ],
      "metadata": {
        "id": "4A9y5qLVo5FE"
      },
      "execution_count": null,
      "outputs": []
    }
  ]
}