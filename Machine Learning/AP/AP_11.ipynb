{
  "nbformat": 4,
  "nbformat_minor": 0,
  "metadata": {
    "colab": {
      "provenance": []
    },
    "kernelspec": {
      "name": "python3",
      "display_name": "Python 3"
    },
    "language_info": {
      "name": "python"
    }
  },
  "cells": [
    {
      "cell_type": "markdown",
      "source": [
        "# Vamos aplicar o que aprendemos sobre Kmeans\n",
        "*   Complete com o código em falta\n",
        "*   Sempre que necessário, **substitua** ___\n"
      ],
      "metadata": {
        "id": "0anqVfaomEbf"
      }
    },
    {
      "cell_type": "markdown",
      "source": [
        "Corra a primeira célula de código para obter o dataframe com que vamos trabalhar"
      ],
      "metadata": {
        "id": "BUpPSnKRgp99"
      }
    },
    {
      "cell_type": "code",
      "source": [
        "# faça o upload do ficheiro csv associado à atividade\n",
        "\n",
        "# vamos importar a biblioteca\n",
        "import pandas as pd\n",
        "import numpy as np\n",
        "from sklearn.datasets import load_iris\n",
        "\n",
        "# vamos importar o dataset das iris\n",
        "iris = load_iris()\n",
        "X = pd.DataFrame(iris.data, columns = iris.feature_names)"
      ],
      "metadata": {
        "id": "MQugf4NCasL-"
      },
      "execution_count": null,
      "outputs": []
    },
    {
      "cell_type": "code",
      "source": [
        "# veja as 5 primeiras linhas do dataframe\n",
        "X.head()\n",
        "# veja a forma do dataframe: quantas linhas, quantas colunas?\n",
        "X.shape\n",
        "# veja a informação sobre o dataframe\n",
        "X.info()\n",
        "# veja a descrição das variáveis numéricas\n",
        "X.describe()"
      ],
      "metadata": {
        "id": "4cBiXvTFkLu7"
      },
      "execution_count": null,
      "outputs": []
    },
    {
      "cell_type": "code",
      "source": [
        "# aplique o modelo de KMeans com 6 clusters\n",
        "from ___ import ___\n",
        "kmeans = ___(___, n_init = 10, random_state=42)\n",
        "___\n",
        "labels = ___"
      ],
      "metadata": {
        "id": "gfSrF5vcB44T"
      },
      "execution_count": null,
      "outputs": []
    },
    {
      "cell_type": "code",
      "source": [
        "# verifique o melhor K com o elbow method\n",
        "inertias = []\n",
        "K = range(1, 11)\n",
        "\n",
        "for k in K:\n",
        "    kmeans = ___\n",
        "    ___\n",
        "    inertias.append(___)\n",
        "\n",
        "# faça plot do elbow method\n",
        "import matplotlib.pyplot as plt\n",
        "\n",
        "plt.figure(figsize=(10, 6))\n",
        "plt.plot(K, inertias, 'bo-')\n",
        "plt.xlabel('Number of clusters')\n",
        "plt.ylabel('Inertia')\n",
        "plt.title('Elbow Method for Optimal K')\n",
        "plt.grid(True)\n",
        "plt.show()"
      ],
      "metadata": {
        "id": "ktPU2RoOCBts"
      },
      "execution_count": null,
      "outputs": []
    },
    {
      "cell_type": "code",
      "source": [
        "# Escolha o número óptimo de clusters\n",
        "optimal_k = ___\n",
        "kmeans = ___(___, random_state=42, n_init = 10)\n",
        "y_kmeans = ___\n",
        "\n",
        "# avalie o silhouette score\n",
        "from ___\n",
        "silhouette_avg = ___\n",
        "print(f'Silhouette Score for K={optimal_k}: {silhouette_avg}')\n",
        "\n",
        "# faça plot dos resultados\n",
        "___\n",
        "silhouette_vals = ___\n",
        "\n",
        "plt.figure(figsize=(10, 6))\n",
        "y_lower, y_upper = 0, 0\n",
        "yticks = []\n",
        "\n",
        "for i in range(optimal_k):\n",
        "    cluster_silhouette_vals = silhouette_vals[y_kmeans == i]\n",
        "    cluster_silhouette_vals.sort()\n",
        "    y_upper += len(cluster_silhouette_vals)\n",
        "    plt.barh(range(y_lower, y_upper), cluster_silhouette_vals, height=1.0)\n",
        "    yticks.append((y_lower + y_upper) / 2)\n",
        "    y_lower += len(cluster_silhouette_vals)\n",
        "\n",
        "plt.axvline(silhouette_avg, color='red', linestyle='--')\n",
        "plt.yticks(yticks, [f'Cluster {i+1}' for i in range(optimal_k)])\n",
        "plt.ylabel('Cluster')\n",
        "plt.xlabel('Silhouette Coefficient')\n",
        "plt.title(f'Silhouette Plot for K={optimal_k}')\n",
        "plt.grid(True)\n",
        "plt.show()"
      ],
      "metadata": {
        "id": "brP6JCyUCJd7"
      },
      "execution_count": null,
      "outputs": []
    }
  ]
}