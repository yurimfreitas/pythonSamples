{
  "nbformat": 4,
  "nbformat_minor": 0,
  "metadata": {
    "colab": {
      "provenance": []
    },
    "kernelspec": {
      "name": "python3",
      "display_name": "Python 3"
    },
    "language_info": {
      "name": "python"
    }
  },
  "cells": [
    {
      "cell_type": "markdown",
      "source": [
        "# Vamos aplicar o que aprendemos sobre Cross-Validation\n",
        "\n",
        "*   Complete com o código em falta\n",
        "*   Sempre que necessário, **substitua** ___\n",
        "\n",
        "---\n",
        "\n",
        "dataset: [fonte](https://www.kaggle.com/datasets/charleyhuang1022/contract-renewal-prediction?select=South_China.csv)\n",
        "\n",
        "---"
      ],
      "metadata": {
        "id": "uTEY8A-i_acT"
      }
    },
    {
      "cell_type": "code",
      "source": [
        "# faça o upload do ficheiro csv associado à atividade\n",
        "\n",
        "# vamos importar a biblioteca\n",
        "import pandas as pd\n",
        "import numpy as np\n",
        "# vamos importar o dataframe do ficheiro .csv\n",
        "df_contract_renewal = pd.read_csv(\"South_China.csv\")"
      ],
      "metadata": {
        "id": "PcsBdht6_lDC"
      },
      "execution_count": null,
      "outputs": []
    },
    {
      "cell_type": "code",
      "source": [
        "# veja as 5 primeiras linhas do dataframe\n",
        "df_contract_renewal.head()\n",
        "# veja a forma do dataframe: quantas linhas, quantas colunas?\n",
        "df_contract_renewal.shape\n",
        "# veja a informação sobre o dataframe\n",
        "df_contract_renewal.info()\n",
        "# veja a descrição das variáveis numéricas\n",
        "df_contract_renewal.describe()"
      ],
      "metadata": {
        "id": "vTOLZDr4_wFz"
      },
      "execution_count": null,
      "outputs": []
    },
    {
      "cell_type": "code",
      "execution_count": null,
      "metadata": {
        "id": "RnfcOd9P_Gq3"
      },
      "outputs": [],
      "source": [
        "# defina a variável alvo\n",
        "target_variable = 'Renewal'\n",
        "\n",
        "# train_test split usando a função train_test_split\n",
        "X = df_contract_renewal.drop([\"ID\", target_variable], axis = 1)\n",
        "y = df_contract_renewal[target_variable]*1\n",
        "\n",
        "# verifique o grau de desequilibrio\n",
        "print(y.sum()/len(y))\n",
        "\n",
        "# importe a função train_test_split e defina X_train, X_test, y_train, y_test\n",
        "from sklearn.model_selection import train_test_split\n",
        "X_train, X_test, y_train, y_test = train_test_split(X, y,\n",
        "                                                    test_size = 0.2,\n",
        "                                                    random_state = 12,\n",
        "                                                    stratify = y)"
      ]
    },
    {
      "cell_type": "code",
      "source": [
        "# importe o modelo de KNeighborsClassifier e o de LogisticRegression\n",
        "from sklearn.neighbors import KNeighborsClassifier\n",
        "from sklearn.linear_model import LogisticRegression\n",
        "\n",
        "# instancie os objetos\n",
        "knn = KNeighborsClassifier(n_neighbors = 7)\n",
        "log_reg = LogisticRegression( max_iter = 250)"
      ],
      "metadata": {
        "id": "2CFfRzTjAJ1l"
      },
      "execution_count": null,
      "outputs": []
    },
    {
      "cell_type": "code",
      "source": [
        "# importe o KFold\n",
        "from sklearn.model_selection import KFold\n",
        "\n",
        "# importe as métricas de precision e recall\n",
        "from sklearn.metrics import precision_score, recall_score\n",
        "\n",
        "# defina 5 folds\n",
        "kfold = KFold(n_splits= 5)\n",
        "\n",
        "# crie listas vazias para os scores\n",
        "precision_scores_knn = []\n",
        "recall_scores_knn = []\n",
        "precision_scores_log_reg = []\n",
        "recall_scores_log_reg = []\n",
        "\n",
        "# faça cross-validation usando o ciclo for para o modelo de knn\n",
        "for train_index, val_index in kfold.split(X_train):\n",
        "    X_train_fold, X_val_fold = X_train.iloc[train_index], X_train.iloc[val_index]\n",
        "    y_train_fold, y_val_fold = y_train.iloc[train_index], y_train.iloc[val_index]\n",
        "\n",
        "    knn.fit(X_train_fold, y_train_fold)\n",
        "    y_pred_knn = knn.predict(X_val_fold)\n",
        "    precision_knn = precision_score(y_val_fold, y_pred_knn)\n",
        "    recall_knn = recall_score(y_val_fold, y_pred_knn)\n",
        "\n",
        "    precision_scores_knn.append(precision_knn)\n",
        "    recall_scores_knn.append(recall_knn)\n",
        "\n",
        "# faça print para visualizar os resultados\n",
        "print(\"KNN - Mean Precision:\", np.mean(precision_knn).round(2))\n",
        "print(\"KNN - Mean Recall:\", np.mean(recall_knn).round(2))"
      ],
      "metadata": {
        "id": "uGOsS1v0Asjw"
      },
      "execution_count": null,
      "outputs": []
    },
    {
      "cell_type": "code",
      "source": [
        "# importe o modelo\n",
        "from sklearn.model_selection import cross_val_score\n",
        "\n",
        "# utilize o cross_val_score para fazer cross-validation\n",
        "precision_scores_knn = cross_val_score(knn, X_train, y_train, cv= kfold, scoring='precision')\n",
        "recall_scores_knn = cross_val_score(knn, X_train, y_train, cv= kfold, scoring='recall')\n",
        "\n",
        "# faça print dos resultados\n",
        "print(\"KNN - Mean Precision:\", np.mean(precision_scores_knn).round(2))\n",
        "print(\"KNN - Mean Recall:\", np.mean(recall_scores_knn).round(2))"
      ],
      "metadata": {
        "id": "Ck8ozMzWBwMa"
      },
      "execution_count": null,
      "outputs": []
    },
    {
      "cell_type": "code",
      "source": [
        "# importamos o modelo\n",
        "from sklearn.model_selection import cross_validate\n",
        "\n",
        "# defina as suas métricas de score ('precision', 'recall', 'neg_log_loss')\n",
        "scoring = ['precision', 'recall', 'neg_log_loss']\n",
        "\n",
        "# utilize a função de cross-validate\n",
        "cv_results_log_reg = cross_validate(log_reg, X_train, y_train, cv = kfold, scoring=scoring)\n",
        "\n",
        "# faça print dos resultados\n",
        "print(\"Logistic Regression - Mean Precision:\", np.mean(cv_results_log_reg['test_precision']).round(2))\n",
        "print(\"Logistic Regression - Mean Recall:\", np.mean(cv_results_log_reg['test_recall']).round(2))\n",
        "print(\"Logistic Regression - Mean Log Loss:\", -np.mean(cv_results_log_reg['test_neg_log_loss']).round(2))"
      ],
      "metadata": {
        "id": "hek42LXjCNtJ"
      },
      "execution_count": null,
      "outputs": []
    }
  ]
}