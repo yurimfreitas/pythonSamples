{
  "cells": [
    {
      "cell_type": "markdown",
      "source": [
        "# Vamos aplicar o que aprendemos sobre processamento dos dados\n",
        "*   Complete com o código em falta\n",
        "*   Sempre que necessário, **substitua** ___\n",
        "\n",
        "---\n",
        "\n",
        "\n",
        "[documentação](https://scikit-learn.org/stable/index.html) <br>\n",
        "dataset: [fonte](https://www.kaggle.com/datasets/mirichoi0218/insurance)\n",
        "\n",
        "---"
      ],
      "metadata": {
        "id": "7UqvAzOuK_SN"
      }
    },
    {
      "cell_type": "markdown",
      "source": [
        ">[Vamos aplicar o que aprendemos sobre processamento dos dados](#scrollTo=7UqvAzOuK_SN)\n",
        "\n",
        ">[1. Corra a primeira célula de código para obter o dataframe com que vamos trabalhar](#scrollTo=25DtwghMIQqJ)\n",
        "\n",
        ">[2. Trate os dados em falta](#scrollTo=glt7JqnNdHxk)\n",
        "\n",
        ">[3. Trate as variáveis categóricas](#scrollTo=Rq7QOxUC9Y4u)\n",
        "\n",
        ">[4. Escale as variáveis](#scrollTo=_ZSGbtOHGQ8_)\n",
        "\n"
      ],
      "metadata": {
        "colab_type": "toc",
        "id": "7UIUmwrhK7QZ"
      }
    },
    {
      "cell_type": "markdown",
      "source": [
        "#1.&nbsp;Corra a primeira célula de código para obter o dataframe com que vamos trabalhar"
      ],
      "metadata": {
        "id": "25DtwghMIQqJ"
      }
    },
    {
      "cell_type": "code",
      "source": [
        "# faça o upload do ficheiro csv associado à atividade\n",
        "\n",
        "# vamos importar a biblioteca\n",
        "import pandas as pd\n",
        "import numpy as np\n",
        "\n",
        "# vamos importar o dataframe do ficheiro .csv\n",
        "df_insurance = pd.read_csv(\"insurance.csv\")"
      ],
      "metadata": {
        "id": "OkUD9YVbIMEl"
      },
      "execution_count": null,
      "outputs": []
    },
    {
      "cell_type": "code",
      "source": [
        "# veja as 5 primeiras linhas do dataframe\n",
        "df_insurance.head()\n",
        "# veja a forma do dataframe: quantas linhas, quantas colunas?\n",
        "df_insurance.shape\n",
        "# veja a informação sobre o dataframe\n",
        "df_insurance.info()\n",
        "# veja a descrição das variáveis numéricas\n",
        "df_insurance.describe()"
      ],
      "metadata": {
        "id": "Chlqc16uIpbs"
      },
      "execution_count": null,
      "outputs": []
    },
    {
      "cell_type": "markdown",
      "source": [
        "#2.&nbsp;Trate os dados em falta"
      ],
      "metadata": {
        "id": "glt7JqnNdHxk"
      }
    },
    {
      "cell_type": "code",
      "source": [
        "# remova a coluna quase sem informação\n",
        "df_insurance_cleaned = df_insurance.drop(columns='region', axis=1)"
      ],
      "metadata": {
        "id": "wwDNLaj7-0TM"
      },
      "execution_count": null,
      "outputs": []
    },
    {
      "cell_type": "code",
      "source": [
        "# avalie a distribuição dos dados da coluna numérica\n",
        "df_insurance_cleaned.age.plot(kind='box')\n",
        "\n",
        "# importe o modelo de impute\n",
        "from sklearn.impute import SimpleImputer\n",
        "\n",
        "# preencha os dados em falta\n",
        "si_age = SimpleImputer(strategy = 'median')\n",
        "df_insurance_cleaned['age'] = si_age.fit_transform(df_insurance_cleaned[['age']])"
      ],
      "metadata": {
        "id": "vg6rxZyxAzXL"
      },
      "execution_count": null,
      "outputs": []
    },
    {
      "cell_type": "code",
      "source": [
        "# remova os restantes casos\n",
        "df_insurance_cleaned.dropna(inplace = True)"
      ],
      "metadata": {
        "id": "n5TVj8JfEg8Q"
      },
      "execution_count": null,
      "outputs": []
    },
    {
      "cell_type": "markdown",
      "source": [
        "#3.&nbsp;Trate as variáveis categóricas"
      ],
      "metadata": {
        "id": "Rq7QOxUC9Y4u"
      }
    },
    {
      "cell_type": "code",
      "source": [
        "# importe o package\n",
        "from sklearn.preprocessing import OneHotEncoder\n",
        "\n",
        "# defina a lista de colunas a passar ao modelo\n",
        "ohe_list = ['sex', 'children']\n",
        "\n",
        "# faça One-Hot Encoding\n",
        "ohe = OneHotEncoder(sparse_output=False, drop='first')\n",
        "ohe.fit_transform(df_insurance_cleaned[ohe_list]) # entrega em array\n",
        "ohe.get_feature_names_out()\n",
        "\n",
        "df_ohe = pd.DataFrame(\n",
        "    data=ohe.transform(df_insurance_cleaned[ohe_list]),\n",
        "    columns=ohe.get_feature_names_out()\n",
        ")\n",
        "\n",
        "df_insurance_cleaned = pd.concat([df_insurance_cleaned.reset_index(drop = True), df_ohe.reset_index(drop = True)], axis = 1)\n",
        "df_insurance_cleaned.drop(ohe_list, inplace=True, axis=1)"
      ],
      "metadata": {
        "id": "0djNxpKEFlOc"
      },
      "execution_count": null,
      "outputs": []
    },
    {
      "cell_type": "markdown",
      "source": [
        "# 4.&nbsp;Escale as variáveis"
      ],
      "metadata": {
        "id": "_ZSGbtOHGQ8_"
      }
    },
    {
      "cell_type": "code",
      "source": [
        "# importe o package\n",
        "from sklearn.preprocessing import StandardScaler, PowerTransformer\n",
        "\n",
        "# utilize o StandardScaler no imc\n",
        "std_scaler = StandardScaler()\n",
        "df_insurance_cleaned['bmi'] = std_scaler.fit_transform(df_insurance_cleaned[['bmi']])\n",
        "\n",
        "# utilize a transformação de yeo-johnson na idade\n",
        "pow_scaler = PowerTransformer()\n",
        "df_insurance_cleaned['age'] = pow_scaler.fit_transform(df_insurance_cleaned[['age']])"
      ],
      "metadata": {
        "id": "or4XbZGUGpeL"
      },
      "execution_count": null,
      "outputs": []
    }
  ],
  "metadata": {
    "colab": {
      "provenance": []
    },
    "kernelspec": {
      "display_name": "Python 3",
      "name": "python3"
    },
    "language_info": {
      "name": "python"
    }
  },
  "nbformat": 4,
  "nbformat_minor": 0
}