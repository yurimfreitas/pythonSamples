{
  "cells": [
    {
      "cell_type": "markdown",
      "metadata": {
        "id": "0anqVfaomEbf"
      },
      "source": [
        "# Vamos aplicar o que aprendemos sobre regressões lineares\n",
        "*   Complete com o código em falta\n",
        "*   Sempre que necessário, **substitua** ___\n",
        "\n",
        "---\n",
        "\n",
        "dataset: [fonte](https://www.kaggle.com/datasets/quantbruce/real-estate-price-prediction)\n",
        "\n",
        "---\n"
      ]
    },
    {
      "cell_type": "markdown",
      "metadata": {
        "id": "BUpPSnKRgp99"
      },
      "source": [
        "Corra a primeira célula de código para obter o dataframe com que vamos trabalhar"
      ]
    },
    {
      "cell_type": "code",
      "execution_count": 1,
      "metadata": {
        "id": "MQugf4NCasL-"
      },
      "outputs": [],
      "source": [
        "# faça o upload do ficheiro csv associado à atividade\n",
        "\n",
        "# vamos importar a biblioteca\n",
        "import pandas as pd\n",
        "import numpy as np\n",
        "\n",
        "# vamos importar o dataframe do ficheiro .csv\n",
        "df_real_estate = (pd\n",
        "                  .read_csv(\"C:/Users/yfreitas/Documents/pythonSamples/Machine Learning/Files/Real estate.csv\")\n",
        "                  .drop([\"No\",\n",
        "                         \"X1 transaction date\",\n",
        "                         \"X4 number of convenience stores\"], axis = 1))"
      ]
    },
    {
      "cell_type": "code",
      "execution_count": 3,
      "metadata": {},
      "outputs": [
        {
          "data": {
            "text/html": [
              "<div>\n",
              "<style scoped>\n",
              "    .dataframe tbody tr th:only-of-type {\n",
              "        vertical-align: middle;\n",
              "    }\n",
              "\n",
              "    .dataframe tbody tr th {\n",
              "        vertical-align: top;\n",
              "    }\n",
              "\n",
              "    .dataframe thead th {\n",
              "        text-align: right;\n",
              "    }\n",
              "</style>\n",
              "<table border=\"1\" class=\"dataframe\">\n",
              "  <thead>\n",
              "    <tr style=\"text-align: right;\">\n",
              "      <th></th>\n",
              "      <th>X2 house age</th>\n",
              "      <th>X3 distance to the nearest MRT station</th>\n",
              "      <th>X5 latitude</th>\n",
              "      <th>X6 longitude</th>\n",
              "      <th>Y house price of unit area</th>\n",
              "    </tr>\n",
              "  </thead>\n",
              "  <tbody>\n",
              "    <tr>\n",
              "      <th>0</th>\n",
              "      <td>32.0</td>\n",
              "      <td>84.87882</td>\n",
              "      <td>24.98298</td>\n",
              "      <td>121.54024</td>\n",
              "      <td>37.9</td>\n",
              "    </tr>\n",
              "    <tr>\n",
              "      <th>1</th>\n",
              "      <td>19.5</td>\n",
              "      <td>306.59470</td>\n",
              "      <td>24.98034</td>\n",
              "      <td>121.53951</td>\n",
              "      <td>42.2</td>\n",
              "    </tr>\n",
              "    <tr>\n",
              "      <th>2</th>\n",
              "      <td>13.3</td>\n",
              "      <td>561.98450</td>\n",
              "      <td>24.98746</td>\n",
              "      <td>121.54391</td>\n",
              "      <td>47.3</td>\n",
              "    </tr>\n",
              "    <tr>\n",
              "      <th>3</th>\n",
              "      <td>13.3</td>\n",
              "      <td>561.98450</td>\n",
              "      <td>24.98746</td>\n",
              "      <td>121.54391</td>\n",
              "      <td>54.8</td>\n",
              "    </tr>\n",
              "    <tr>\n",
              "      <th>4</th>\n",
              "      <td>5.0</td>\n",
              "      <td>390.56840</td>\n",
              "      <td>24.97937</td>\n",
              "      <td>121.54245</td>\n",
              "      <td>43.1</td>\n",
              "    </tr>\n",
              "  </tbody>\n",
              "</table>\n",
              "</div>"
            ],
            "text/plain": [
              "   X2 house age  X3 distance to the nearest MRT station  X5 latitude  \\\n",
              "0          32.0                                84.87882     24.98298   \n",
              "1          19.5                               306.59470     24.98034   \n",
              "2          13.3                               561.98450     24.98746   \n",
              "3          13.3                               561.98450     24.98746   \n",
              "4           5.0                               390.56840     24.97937   \n",
              "\n",
              "   X6 longitude  Y house price of unit area  \n",
              "0     121.54024                        37.9  \n",
              "1     121.53951                        42.2  \n",
              "2     121.54391                        47.3  \n",
              "3     121.54391                        54.8  \n",
              "4     121.54245                        43.1  "
            ]
          },
          "execution_count": 3,
          "metadata": {},
          "output_type": "execute_result"
        }
      ],
      "source": [
        "df_real_estate.head()"
      ]
    },
    {
      "cell_type": "code",
      "execution_count": 2,
      "metadata": {
        "id": "4cBiXvTFkLu7"
      },
      "outputs": [
        {
          "name": "stdout",
          "output_type": "stream",
          "text": [
            "<class 'pandas.core.frame.DataFrame'>\n",
            "RangeIndex: 414 entries, 0 to 413\n",
            "Data columns (total 5 columns):\n",
            " #   Column                                  Non-Null Count  Dtype  \n",
            "---  ------                                  --------------  -----  \n",
            " 0   X2 house age                            414 non-null    float64\n",
            " 1   X3 distance to the nearest MRT station  414 non-null    float64\n",
            " 2   X5 latitude                             414 non-null    float64\n",
            " 3   X6 longitude                            414 non-null    float64\n",
            " 4   Y house price of unit area              414 non-null    float64\n",
            "dtypes: float64(5)\n",
            "memory usage: 16.3 KB\n"
          ]
        },
        {
          "data": {
            "text/html": [
              "<div>\n",
              "<style scoped>\n",
              "    .dataframe tbody tr th:only-of-type {\n",
              "        vertical-align: middle;\n",
              "    }\n",
              "\n",
              "    .dataframe tbody tr th {\n",
              "        vertical-align: top;\n",
              "    }\n",
              "\n",
              "    .dataframe thead th {\n",
              "        text-align: right;\n",
              "    }\n",
              "</style>\n",
              "<table border=\"1\" class=\"dataframe\">\n",
              "  <thead>\n",
              "    <tr style=\"text-align: right;\">\n",
              "      <th></th>\n",
              "      <th>X2 house age</th>\n",
              "      <th>X3 distance to the nearest MRT station</th>\n",
              "      <th>X5 latitude</th>\n",
              "      <th>X6 longitude</th>\n",
              "      <th>Y house price of unit area</th>\n",
              "    </tr>\n",
              "  </thead>\n",
              "  <tbody>\n",
              "    <tr>\n",
              "      <th>count</th>\n",
              "      <td>414.000000</td>\n",
              "      <td>414.000000</td>\n",
              "      <td>414.000000</td>\n",
              "      <td>414.000000</td>\n",
              "      <td>414.000000</td>\n",
              "    </tr>\n",
              "    <tr>\n",
              "      <th>mean</th>\n",
              "      <td>17.712560</td>\n",
              "      <td>1083.885689</td>\n",
              "      <td>24.969030</td>\n",
              "      <td>121.533361</td>\n",
              "      <td>37.980193</td>\n",
              "    </tr>\n",
              "    <tr>\n",
              "      <th>std</th>\n",
              "      <td>11.392485</td>\n",
              "      <td>1262.109595</td>\n",
              "      <td>0.012410</td>\n",
              "      <td>0.015347</td>\n",
              "      <td>13.606488</td>\n",
              "    </tr>\n",
              "    <tr>\n",
              "      <th>min</th>\n",
              "      <td>0.000000</td>\n",
              "      <td>23.382840</td>\n",
              "      <td>24.932070</td>\n",
              "      <td>121.473530</td>\n",
              "      <td>7.600000</td>\n",
              "    </tr>\n",
              "    <tr>\n",
              "      <th>25%</th>\n",
              "      <td>9.025000</td>\n",
              "      <td>289.324800</td>\n",
              "      <td>24.963000</td>\n",
              "      <td>121.528085</td>\n",
              "      <td>27.700000</td>\n",
              "    </tr>\n",
              "    <tr>\n",
              "      <th>50%</th>\n",
              "      <td>16.100000</td>\n",
              "      <td>492.231300</td>\n",
              "      <td>24.971100</td>\n",
              "      <td>121.538630</td>\n",
              "      <td>38.450000</td>\n",
              "    </tr>\n",
              "    <tr>\n",
              "      <th>75%</th>\n",
              "      <td>28.150000</td>\n",
              "      <td>1454.279000</td>\n",
              "      <td>24.977455</td>\n",
              "      <td>121.543305</td>\n",
              "      <td>46.600000</td>\n",
              "    </tr>\n",
              "    <tr>\n",
              "      <th>max</th>\n",
              "      <td>43.800000</td>\n",
              "      <td>6488.021000</td>\n",
              "      <td>25.014590</td>\n",
              "      <td>121.566270</td>\n",
              "      <td>117.500000</td>\n",
              "    </tr>\n",
              "  </tbody>\n",
              "</table>\n",
              "</div>"
            ],
            "text/plain": [
              "       X2 house age  X3 distance to the nearest MRT station  X5 latitude  \\\n",
              "count    414.000000                              414.000000   414.000000   \n",
              "mean      17.712560                             1083.885689    24.969030   \n",
              "std       11.392485                             1262.109595     0.012410   \n",
              "min        0.000000                               23.382840    24.932070   \n",
              "25%        9.025000                              289.324800    24.963000   \n",
              "50%       16.100000                              492.231300    24.971100   \n",
              "75%       28.150000                             1454.279000    24.977455   \n",
              "max       43.800000                             6488.021000    25.014590   \n",
              "\n",
              "       X6 longitude  Y house price of unit area  \n",
              "count    414.000000                  414.000000  \n",
              "mean     121.533361                   37.980193  \n",
              "std        0.015347                   13.606488  \n",
              "min      121.473530                    7.600000  \n",
              "25%      121.528085                   27.700000  \n",
              "50%      121.538630                   38.450000  \n",
              "75%      121.543305                   46.600000  \n",
              "max      121.566270                  117.500000  "
            ]
          },
          "execution_count": 2,
          "metadata": {},
          "output_type": "execute_result"
        }
      ],
      "source": [
        "# veja as 5 primeiras linhas do dataframe\n",
        "df_real_estate.head()\n",
        "# veja a forma do dataframe: quantas linhas, quantas colunas?\n",
        "df_real_estate.shape\n",
        "# veja a informação sobre o dataframe\n",
        "df_real_estate.info()\n",
        "# veja a descrição das variáveis numéricas\n",
        "df_real_estate.describe()"
      ]
    },
    {
      "cell_type": "code",
      "execution_count": 4,
      "metadata": {
        "id": "jg4qpD-SpsyQ"
      },
      "outputs": [
        {
          "data": {
            "image/png": "[encoded data removed]",
            "text/plain": [
              "<Figure size 432x288 with 1 Axes>"
            ]
          },
          "metadata": {
            "needs_background": "light"
          },
          "output_type": "display_data"
        }
      ],
      "source": [
        "# importe o matplotlib.pyplot\n",
        "import matplotlib.pyplot as plt\n",
        "plt.style.use('ggplot')\n",
        "x_variable = df_real_estate[\"X5 latitude\"]\n",
        "y_variable = df_real_estate[\"Y house price of unit area\"]\n",
        "plt.scatter(x_variable, y_variable, color = 'b')\n",
        "plt.ylabel(\"preço do m2 de habitação\")\n",
        "plt.xlabel('latitude')\n",
        "plt.show()"
      ]
    },
    {
      "cell_type": "code",
      "execution_count": 5,
      "metadata": {
        "id": "rvscwWMwtZUl"
      },
      "outputs": [],
      "source": [
        "# defina a variável alvo (\"Y house price of unit area\")\n",
        "target_variable = \"Y house price of unit area\"\n",
        "\n",
        "# train_test split usando a função train_test_split\n",
        "X = df_real_estate.drop([target_variable], axis = 1)\n",
        "y = df_real_estate[target_variable]\n",
        "\n",
        "from sklearn.model_selection import train_test_split\n",
        "X_train, X_test, y_train, y_test = train_test_split(X, y,\n",
        "                                                    test_size = 0.3,\n",
        "                                                    random_state = 12)"
      ]
    },
    {
      "cell_type": "code",
      "execution_count": 6,
      "metadata": {
        "id": "Pl9Np72gr3UC"
      },
      "outputs": [
        {
          "name": "stdout",
          "output_type": "stream",
          "text": [
            "m: 648.6706370922496; b: -16157.862670597053\n",
            "r2: 0.206\n"
          ]
        }
      ],
      "source": [
        "# escolha \"X5 latitude\" como variável independente\n",
        "x_variable = 'X5 latitude'\n",
        "X_1_feature = X_train[[x_variable]]\n",
        "\n",
        "# importe o modelo\n",
        "from sklearn.linear_model import LinearRegression\n",
        "lin_reg = LinearRegression()\n",
        "lin_reg.fit(X_1_feature, y_train)\n",
        "\n",
        "# faça previsão para os pontos de teste\n",
        "y_reg = lin_reg.predict(X_test[[x_variable]])\n",
        "\n",
        "# veja os coeficientes da regressão\n",
        "m = lin_reg.coef_[0]\n",
        "b = lin_reg.intercept_\n",
        "print(\"m: {}; b: {}\".format(m , b))\n",
        "\n",
        "# verifique o r2 (round -> 3)\n",
        "print(\"r2: {}\".format(lin_reg.score(X_test[[x_variable]], y_test).round(3)))"
      ]
    },
    {
      "cell_type": "code",
      "execution_count": 7,
      "metadata": {
        "id": "57icLM5yu0mC"
      },
      "outputs": [
        {
          "data": {
            "image/png": "[encoded data removed]",
            "text/plain": [
              "<Figure size 432x288 with 1 Axes>"
            ]
          },
          "metadata": {
            "needs_background": "light"
          },
          "output_type": "display_data"
        }
      ],
      "source": [
        "# visualize o resultado para o teste\n",
        "plt.scatter(X_test[[x_variable]], y_test, color = 'k')\n",
        "plt.scatter(X_test[[x_variable]], y_reg, color = 'r')\n",
        "plt.ylabel(\"preço do m2 de habitação\")\n",
        "plt.xlabel('latitude')\n",
        "plt.show()"
      ]
    },
    {
      "cell_type": "code",
      "execution_count": 8,
      "metadata": {
        "id": "FvkRgGVVojfC"
      },
      "outputs": [],
      "source": [
        "# vamos codificar o nome das variáveis\n",
        "columns_names = [\"x1\", \"x2\", \"x3\", \"x4\", \"y\"]\n",
        "df_real_estate.columns = columns_names"
      ]
    },
    {
      "cell_type": "code",
      "execution_count": 9,
      "metadata": {
        "id": "Nm2qex2ntS94"
      },
      "outputs": [
        {
          "data": {
            "text/plain": [
              "0.566"
            ]
          },
          "execution_count": 9,
          "metadata": {},
          "output_type": "execute_result"
        }
      ],
      "source": [
        "# importe o modelo de regressão linear\n",
        "from sklearn.linear_model import LinearRegression\n",
        "lin_reg_all = LinearRegression()\n",
        "lin_reg_all.fit(X_train, y_train)\n",
        "y_pred = lin_reg_all.predict(X_test)\n",
        "\n",
        "# verifique o r2 (round -> 3)\n",
        "lin_reg_all.score(X_test, y_test).round(3)"
      ]
    },
    {
      "cell_type": "code",
      "execution_count": 10,
      "metadata": {
        "id": "h8oZRGm_tcOQ"
      },
      "outputs": [
        {
          "data": {
            "text/plain": [
              "0.547"
            ]
          },
          "execution_count": 10,
          "metadata": {},
          "output_type": "execute_result"
        }
      ],
      "source": [
        "# importe o modelo de Ridge\n",
        "from sklearn.linear_model import Ridge\n",
        "\n",
        "# considere alpha = 0.3\n",
        "ridge_reg = Ridge(alpha = 0.3)\n",
        "ridge_reg.fit(X_train, y_train)\n",
        "y_pred_ridge = ridge_reg.predict(X_test)\n",
        "\n",
        "# verifique o r2 (round -> 3)\n",
        "ridge_reg.score(X_test, y_test).round(3)"
      ]
    },
    {
      "cell_type": "code",
      "execution_count": 11,
      "metadata": {
        "id": "F_ixMqtbtco8"
      },
      "outputs": [
        {
          "data": {
            "text/plain": [
              "0.54"
            ]
          },
          "execution_count": 11,
          "metadata": {},
          "output_type": "execute_result"
        }
      ],
      "source": [
        "# importe o modelo de Lasso\n",
        "from sklearn.linear_model import Lasso\n",
        "\n",
        "# considere alpha = 0.5\n",
        "lasso_reg = Lasso(alpha = 0.5)\n",
        "lasso_reg.fit(X_train, y_train)\n",
        "y_pred_lasso = lasso_reg.predict(X_test)\n",
        "\n",
        "# verifique o r2 (round -> 3)\n",
        "lasso_reg.score(X_test, y_test).round(3)"
      ]
    }
  ],
  "metadata": {
    "colab": {
      "provenance": []
    },
    "kernelspec": {
      "display_name": "Python 3",
      "name": "python3"
    },
    "language_info": {
      "codemirror_mode": {
        "name": "ipython",
        "version": 3
      },
      "file_extension": ".py",
      "mimetype": "text/x-python",
      "name": "python",
      "nbconvert_exporter": "python",
      "pygments_lexer": "ipython3",
      "version": "3.9.5"
    }
  },
  "nbformat": 4,
  "nbformat_minor": 0
}
