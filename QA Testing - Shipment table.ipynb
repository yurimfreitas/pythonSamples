{
 "cells": [
  {
   "cell_type": "code",
   "execution_count": 10,
   "id": "185511c9",
   "metadata": {},
   "outputs": [],
   "source": [
    "import pandas as pd\n",
    "import psycopg2\n",
    "import pyodbc\n",
    "import numpy as np\n",
    "from sqlalchemy import create_engine\n",
    "from sqlalchemy import text"
   ]
  },
  {
   "cell_type": "markdown",
   "id": "84773880",
   "metadata": {},
   "source": [
    "## Redshift Connection"
   ]
  },
  {
   "cell_type": "code",
   "execution_count": 11,
   "id": "8d249daf",
   "metadata": {},
   "outputs": [],
   "source": [
    "## Redshift connection parameters\n",
    "red_endpoint = 'orinoco.c2qsr3tflm58.us-east-1.redshift.amazonaws.com'\n",
    "##user = 'mrodrigues'\n",
    "password = 'xxx'\n",
    "red_port = 5439\n",
    "red_dbname = 'orinoco'"
   ]
  },
  {
   "cell_type": "code",
   "execution_count": 12,
   "id": "412cce07",
   "metadata": {},
   "outputs": [],
   "source": [
    "## Redshift SQL engine\n",
    "red_engine_string =\"postgresql+psycopg2://%s:%s@%s:%d/%s\" \\\n",
    "% (user, password, red_endpoint, red_port, red_dbname)\n",
    "red_engine = create_engine(red_engine_string)"
   ]
  },
  {
   "cell_type": "markdown",
   "id": "8db3be12",
   "metadata": {},
   "source": [
    "## RDS Connection"
   ]
  },
  {
   "cell_type": "code",
   "execution_count": 13,
   "id": "124647f5",
   "metadata": {},
   "outputs": [],
   "source": [
    "## RDS connection parameters\n",
    "rds_endpoint = 'live.letsgetchecked-ds.com'\n",
    "##user = 'mrodrigues'\n",
    "password = 'xxx'\n",
    "rds_port = 1433\n",
    "rds_dbname = 'use_core'"
   ]
  },
  {
   "cell_type": "code",
   "execution_count": 14,
   "id": "317b776f",
   "metadata": {},
   "outputs": [],
   "source": [
    "## RDS connection string\n",
    "cnxn = pyodbc.connect('DRIVER={SQL Server};SERVER='+rds_endpoint+';DATABASE='+rds_dbname+';UID='+user+';PWD='+ password)"
   ]
  },
  {
   "cell_type": "markdown",
   "id": "c2358795",
   "metadata": {},
   "source": [
    "## Importation of the DAL Shipment table from Redshift"
   ]
  },
  {
   "cell_type": "code",
   "execution_count": 4,
   "id": "8d5541ba",
   "metadata": {},
   "outputs": [
    {
     "data": {
      "text/html": [
       "<div>\n",
       "<style scoped>\n",
       "    .dataframe tbody tr th:only-of-type {\n",
       "        vertical-align: middle;\n",
       "    }\n",
       "\n",
       "    .dataframe tbody tr th {\n",
       "        vertical-align: top;\n",
       "    }\n",
       "\n",
       "    .dataframe thead th {\n",
       "        text-align: right;\n",
       "    }\n",
       "</style>\n",
       "<table border=\"1\" class=\"dataframe\">\n",
       "  <thead>\n",
       "    <tr style=\"text-align: right;\">\n",
       "      <th></th>\n",
       "      <th>bi_shipment_id</th>\n",
       "      <th>reseller_name</th>\n",
       "      <th>order_id</th>\n",
       "      <th>order_actual_dispatch_time</th>\n",
       "      <th>order_created_at_outbound</th>\n",
       "      <th>barcoded_id</th>\n",
       "      <th>test_kit_name</th>\n",
       "      <th>shipment_id_outbound</th>\n",
       "      <th>shipment_provider_name_outbound</th>\n",
       "      <th>shipment_level_outbound</th>\n",
       "      <th>...</th>\n",
       "      <th>shipment_provider_name_inbound</th>\n",
       "      <th>shipment_level_inbound</th>\n",
       "      <th>shipment_tracking_number_inbound</th>\n",
       "      <th>shipment_pickup_time_outbound</th>\n",
       "      <th>shipment_delivery_time_outbound</th>\n",
       "      <th>shipment_pickup_time_inbound</th>\n",
       "      <th>shipment_delivery_time_inbound</th>\n",
       "      <th>payer_program_pretty_name</th>\n",
       "      <th>created_at</th>\n",
       "      <th>updated_at</th>\n",
       "    </tr>\n",
       "  </thead>\n",
       "  <tbody>\n",
       "    <tr>\n",
       "      <th>0</th>\n",
       "      <td>100000491881_104005036</td>\n",
       "      <td>Optum Housecalls</td>\n",
       "      <td>100941545</td>\n",
       "      <td>2021-10-25 13:00:59.620</td>\n",
       "      <td>2021-10-23 10:19:14.003</td>\n",
       "      <td>100000491881</td>\n",
       "      <td>Hep C</td>\n",
       "      <td>104005036</td>\n",
       "      <td>USPS</td>\n",
       "      <td>First</td>\n",
       "      <td>...</td>\n",
       "      <td>UPS</td>\n",
       "      <td>Next Day Air</td>\n",
       "      <td>1ZR866X7Y004547559</td>\n",
       "      <td>NaT</td>\n",
       "      <td>2021-10-28 15:45:00</td>\n",
       "      <td>2021-11-12 18:43:39</td>\n",
       "      <td>2021-11-13 11:58:51</td>\n",
       "      <td>OptumHepCUHCHouseCalls2021</td>\n",
       "      <td>2022-01-20 18:16:47</td>\n",
       "      <td>NaT</td>\n",
       "    </tr>\n",
       "    <tr>\n",
       "      <th>1</th>\n",
       "      <td>100000540030_104644900</td>\n",
       "      <td>www.letsgetchecked.com</td>\n",
       "      <td>101092131</td>\n",
       "      <td>2022-01-03 13:39:43.133</td>\n",
       "      <td>2022-01-02 22:20:27.593</td>\n",
       "      <td>100000540030</td>\n",
       "      <td>Standard 5</td>\n",
       "      <td>104644900</td>\n",
       "      <td>UPSMailInnovations</td>\n",
       "      <td>Expedited Mail Innovations</td>\n",
       "      <td>...</td>\n",
       "      <td>UPS</td>\n",
       "      <td>Next Day Air</td>\n",
       "      <td>1ZR866X7Y007435469</td>\n",
       "      <td>NaT</td>\n",
       "      <td>NaT</td>\n",
       "      <td>2022-01-10 16:51:46</td>\n",
       "      <td>2022-01-12 10:26:13</td>\n",
       "      <td>None</td>\n",
       "      <td>2022-01-20 18:16:47</td>\n",
       "      <td>2022-01-20 20:16:39</td>\n",
       "    </tr>\n",
       "    <tr>\n",
       "      <th>2</th>\n",
       "      <td>100005562278_103816477</td>\n",
       "      <td>Humana</td>\n",
       "      <td>100885734</td>\n",
       "      <td>2021-10-07 18:56:59.170</td>\n",
       "      <td>2021-10-06 21:20:37.187</td>\n",
       "      <td>100005562278</td>\n",
       "      <td>COVID-19 Home Test (PCR Lower Nasal)</td>\n",
       "      <td>103816477</td>\n",
       "      <td>UPS</td>\n",
       "      <td>UPS Next Day Air</td>\n",
       "      <td>...</td>\n",
       "      <td>UPS</td>\n",
       "      <td>Next Day Air</td>\n",
       "      <td>1ZR866X7Y000805161</td>\n",
       "      <td>2021-10-07 16:34:30</td>\n",
       "      <td>2021-10-08 10:16:31</td>\n",
       "      <td>NaT</td>\n",
       "      <td>NaT</td>\n",
       "      <td>HUMANACOVIDDTC2021</td>\n",
       "      <td>2022-01-20 18:16:47</td>\n",
       "      <td>NaT</td>\n",
       "    </tr>\n",
       "    <tr>\n",
       "      <th>3</th>\n",
       "      <td>100005567616_104531022</td>\n",
       "      <td>TECHOPS US WALKTHROUGH</td>\n",
       "      <td>101050724</td>\n",
       "      <td>2021-12-14 19:18:10.640</td>\n",
       "      <td>2021-12-14 16:30:33.167</td>\n",
       "      <td>100005567616</td>\n",
       "      <td>COVID-19 Home Test (PCR Lower Nasal)</td>\n",
       "      <td>104531022</td>\n",
       "      <td>UPSMailInnovations</td>\n",
       "      <td>Expedited Mail Innovations</td>\n",
       "      <td>...</td>\n",
       "      <td>UPS</td>\n",
       "      <td>Next Day Air</td>\n",
       "      <td>1Z550F28Y083330586</td>\n",
       "      <td>NaT</td>\n",
       "      <td>NaT</td>\n",
       "      <td>NaT</td>\n",
       "      <td>NaT</td>\n",
       "      <td>DKTechOpsUS2021</td>\n",
       "      <td>2022-01-20 18:16:47</td>\n",
       "      <td>NaT</td>\n",
       "    </tr>\n",
       "    <tr>\n",
       "      <th>4</th>\n",
       "      <td>10000644936_103736015</td>\n",
       "      <td>United Health Group</td>\n",
       "      <td>100850474</td>\n",
       "      <td>2021-10-11 16:23:26.190</td>\n",
       "      <td>2021-09-29 21:28:42.980</td>\n",
       "      <td>10000644936</td>\n",
       "      <td>Kidney Health Evaluation</td>\n",
       "      <td>103736015</td>\n",
       "      <td>USPS</td>\n",
       "      <td>First</td>\n",
       "      <td>...</td>\n",
       "      <td>UPS</td>\n",
       "      <td>Next Day Air</td>\n",
       "      <td>1ZR866X7Y004328045</td>\n",
       "      <td>NaT</td>\n",
       "      <td>2021-10-15 14:38:00</td>\n",
       "      <td>NaT</td>\n",
       "      <td>NaT</td>\n",
       "      <td>UHCMEDICAREKED2021</td>\n",
       "      <td>2022-01-20 18:16:47</td>\n",
       "      <td>NaT</td>\n",
       "    </tr>\n",
       "  </tbody>\n",
       "</table>\n",
       "<p>5 rows × 23 columns</p>\n",
       "</div>"
      ],
      "text/plain": [
       "           bi_shipment_id           reseller_name   order_id  \\\n",
       "0  100000491881_104005036        Optum Housecalls  100941545   \n",
       "1  100000540030_104644900  www.letsgetchecked.com  101092131   \n",
       "2  100005562278_103816477                  Humana  100885734   \n",
       "3  100005567616_104531022  TECHOPS US WALKTHROUGH  101050724   \n",
       "4   10000644936_103736015     United Health Group  100850474   \n",
       "\n",
       "  order_actual_dispatch_time order_created_at_outbound   barcoded_id  \\\n",
       "0    2021-10-25 13:00:59.620   2021-10-23 10:19:14.003  100000491881   \n",
       "1    2022-01-03 13:39:43.133   2022-01-02 22:20:27.593  100000540030   \n",
       "2    2021-10-07 18:56:59.170   2021-10-06 21:20:37.187  100005562278   \n",
       "3    2021-12-14 19:18:10.640   2021-12-14 16:30:33.167  100005567616   \n",
       "4    2021-10-11 16:23:26.190   2021-09-29 21:28:42.980   10000644936   \n",
       "\n",
       "                          test_kit_name  shipment_id_outbound  \\\n",
       "0                                 Hep C             104005036   \n",
       "1                            Standard 5             104644900   \n",
       "2  COVID-19 Home Test (PCR Lower Nasal)             103816477   \n",
       "3  COVID-19 Home Test (PCR Lower Nasal)             104531022   \n",
       "4              Kidney Health Evaluation             103736015   \n",
       "\n",
       "  shipment_provider_name_outbound     shipment_level_outbound  ...  \\\n",
       "0                            USPS                       First  ...   \n",
       "1              UPSMailInnovations  Expedited Mail Innovations  ...   \n",
       "2                             UPS            UPS Next Day Air  ...   \n",
       "3              UPSMailInnovations  Expedited Mail Innovations  ...   \n",
       "4                            USPS                       First  ...   \n",
       "\n",
       "  shipment_provider_name_inbound  shipment_level_inbound  \\\n",
       "0                            UPS            Next Day Air   \n",
       "1                            UPS            Next Day Air   \n",
       "2                            UPS            Next Day Air   \n",
       "3                            UPS            Next Day Air   \n",
       "4                            UPS            Next Day Air   \n",
       "\n",
       "  shipment_tracking_number_inbound shipment_pickup_time_outbound  \\\n",
       "0               1ZR866X7Y004547559                           NaT   \n",
       "1               1ZR866X7Y007435469                           NaT   \n",
       "2               1ZR866X7Y000805161           2021-10-07 16:34:30   \n",
       "3               1Z550F28Y083330586                           NaT   \n",
       "4               1ZR866X7Y004328045                           NaT   \n",
       "\n",
       "  shipment_delivery_time_outbound shipment_pickup_time_inbound  \\\n",
       "0             2021-10-28 15:45:00          2021-11-12 18:43:39   \n",
       "1                             NaT          2022-01-10 16:51:46   \n",
       "2             2021-10-08 10:16:31                          NaT   \n",
       "3                             NaT                          NaT   \n",
       "4             2021-10-15 14:38:00                          NaT   \n",
       "\n",
       "  shipment_delivery_time_inbound   payer_program_pretty_name  \\\n",
       "0            2021-11-13 11:58:51  OptumHepCUHCHouseCalls2021   \n",
       "1            2022-01-12 10:26:13                        None   \n",
       "2                            NaT          HUMANACOVIDDTC2021   \n",
       "3                            NaT             DKTechOpsUS2021   \n",
       "4                            NaT          UHCMEDICAREKED2021   \n",
       "\n",
       "           created_at          updated_at  \n",
       "0 2022-01-20 18:16:47                 NaT  \n",
       "1 2022-01-20 18:16:47 2022-01-20 20:16:39  \n",
       "2 2022-01-20 18:16:47                 NaT  \n",
       "3 2022-01-20 18:16:47                 NaT  \n",
       "4 2022-01-20 18:16:47                 NaT  \n",
       "\n",
       "[5 rows x 23 columns]"
      ]
     },
     "execution_count": 4,
     "metadata": {},
     "output_type": "execute_result"
    }
   ],
   "source": [
    "## to import the table DAL Shipment to a dataframe\n",
    "red_df1_part1 = pd.read_sql_query(text(\"select * from dal_us.bi_shipment where order_created_at_outbound >= '2021-01-01' and order_created_at_outbound <= current_date - interval '1 DAY' union select * from dal_eu.bi_shipment where order_created_at_outbound >= '2021-01-01' and order_created_at_outbound <= current_date - interval '1 DAY' order by bi_shipment_id ASC\"), red_engine)\n",
    "red_df1_part1.head()"
   ]
  },
  {
   "cell_type": "code",
   "execution_count": 5,
   "id": "6192ef01",
   "metadata": {},
   "outputs": [
    {
     "data": {
      "text/plain": [
       "(793239, 23)"
      ]
     },
     "execution_count": 5,
     "metadata": {},
     "output_type": "execute_result"
    }
   ],
   "source": [
    "## to see the total of records and columns\n",
    "red_df1_part1.shape"
   ]
  },
  {
   "cell_type": "code",
   "execution_count": 6,
   "id": "df45418a",
   "metadata": {},
   "outputs": [
    {
     "data": {
      "text/html": [
       "<div>\n",
       "<style scoped>\n",
       "    .dataframe tbody tr th:only-of-type {\n",
       "        vertical-align: middle;\n",
       "    }\n",
       "\n",
       "    .dataframe tbody tr th {\n",
       "        vertical-align: top;\n",
       "    }\n",
       "\n",
       "    .dataframe thead th {\n",
       "        text-align: right;\n",
       "    }\n",
       "</style>\n",
       "<table border=\"1\" class=\"dataframe\">\n",
       "  <thead>\n",
       "    <tr style=\"text-align: right;\">\n",
       "      <th></th>\n",
       "      <th>bi_shipment_id</th>\n",
       "      <th>reseller_name</th>\n",
       "      <th>order_id</th>\n",
       "      <th>order_actual_dispatch_time</th>\n",
       "      <th>order_created_at_outbound</th>\n",
       "      <th>barcoded_id</th>\n",
       "      <th>test_kit_name</th>\n",
       "      <th>shipment_id_outbound</th>\n",
       "      <th>shipment_provider_name_outbound</th>\n",
       "      <th>shipment_level_outbound</th>\n",
       "      <th>...</th>\n",
       "      <th>shipment_provider_name_inbound</th>\n",
       "      <th>shipment_level_inbound</th>\n",
       "      <th>shipment_tracking_number_inbound</th>\n",
       "      <th>shipment_pickup_time_outbound</th>\n",
       "      <th>shipment_delivery_time_outbound</th>\n",
       "      <th>shipment_pickup_time_inbound</th>\n",
       "      <th>shipment_delivery_time_inbound</th>\n",
       "      <th>payer_program_pretty_name</th>\n",
       "      <th>created_at</th>\n",
       "      <th>updated_at</th>\n",
       "    </tr>\n",
       "  </thead>\n",
       "  <tbody>\n",
       "    <tr>\n",
       "      <th>0</th>\n",
       "      <td>100003742755_101391128</td>\n",
       "      <td>Fidelity</td>\n",
       "      <td>100292869</td>\n",
       "      <td>2020-11-18 15:26:46.320</td>\n",
       "      <td>2020-11-18 11:28:06.690</td>\n",
       "      <td>100003742755</td>\n",
       "      <td>COVID-19 Home Test (PCR Lower Nasal)</td>\n",
       "      <td>101391128</td>\n",
       "      <td>UPS</td>\n",
       "      <td>UPS Next Day Air</td>\n",
       "      <td>...</td>\n",
       "      <td>UPS</td>\n",
       "      <td>Next Day Air</td>\n",
       "      <td>1Z550F28Y092170518</td>\n",
       "      <td>2020-11-18 20:46:16</td>\n",
       "      <td>2020-11-19 09:36:35</td>\n",
       "      <td>NaT</td>\n",
       "      <td>2020-11-21 10:07:30</td>\n",
       "      <td>FIDELITYCOVID19</td>\n",
       "      <td>2022-01-20 18:16:47</td>\n",
       "      <td>NaT</td>\n",
       "    </tr>\n",
       "    <tr>\n",
       "      <th>1</th>\n",
       "      <td>100004370467_101893808</td>\n",
       "      <td>www.letsgetchecked.com</td>\n",
       "      <td>100386844</td>\n",
       "      <td>2020-12-26 15:36:50.397</td>\n",
       "      <td>2020-12-26 09:20:36.823</td>\n",
       "      <td>100004370467</td>\n",
       "      <td>COVID-19 Home Test (PCR Lower Nasal)</td>\n",
       "      <td>101893808</td>\n",
       "      <td>UPS</td>\n",
       "      <td>UPS Next Day Air</td>\n",
       "      <td>...</td>\n",
       "      <td>UPS</td>\n",
       "      <td>Next Day Air</td>\n",
       "      <td>1Z550F28Y011699832</td>\n",
       "      <td>2020-12-28 19:16:09</td>\n",
       "      <td>2020-12-29 14:17:21</td>\n",
       "      <td>NaT</td>\n",
       "      <td>NaT</td>\n",
       "      <td>None</td>\n",
       "      <td>2022-01-20 18:16:47</td>\n",
       "      <td>NaT</td>\n",
       "    </tr>\n",
       "    <tr>\n",
       "      <th>2</th>\n",
       "      <td>100004472400_101499810</td>\n",
       "      <td>BS - Yellowstone Club Pre-arrival</td>\n",
       "      <td>100343660</td>\n",
       "      <td>2020-12-03 23:34:58.033</td>\n",
       "      <td>2020-12-03 15:42:43.100</td>\n",
       "      <td>100004472400</td>\n",
       "      <td>COVID-19 (PCR Lower Nasal)</td>\n",
       "      <td>101499810</td>\n",
       "      <td>UPS</td>\n",
       "      <td>UPS Next Day Air</td>\n",
       "      <td>...</td>\n",
       "      <td>UPS</td>\n",
       "      <td>Next Day Air</td>\n",
       "      <td>1Z550F28Y013558141</td>\n",
       "      <td>2020-12-03 19:49:01</td>\n",
       "      <td>2020-12-04 12:48:55</td>\n",
       "      <td>2020-12-21 16:21:32</td>\n",
       "      <td>2020-12-22 08:33:28</td>\n",
       "      <td>BSYELLOWSTONEPREARRIVALCOVID</td>\n",
       "      <td>2022-01-20 18:16:47</td>\n",
       "      <td>NaT</td>\n",
       "    </tr>\n",
       "    <tr>\n",
       "      <th>3</th>\n",
       "      <td>100009629350_101489232</td>\n",
       "      <td>United Health Group</td>\n",
       "      <td>100333692</td>\n",
       "      <td>2020-12-07 22:41:30.120</td>\n",
       "      <td>2020-12-03 10:51:58.227</td>\n",
       "      <td>100009629350</td>\n",
       "      <td>Hep C</td>\n",
       "      <td>101489232</td>\n",
       "      <td>USPS</td>\n",
       "      <td>First</td>\n",
       "      <td>...</td>\n",
       "      <td>UPS</td>\n",
       "      <td>Next Day Air</td>\n",
       "      <td>1Z550F28Y089964828</td>\n",
       "      <td>NaT</td>\n",
       "      <td>2020-12-11 10:58:00</td>\n",
       "      <td>NaT</td>\n",
       "      <td>NaT</td>\n",
       "      <td>UHCMEDICAREHEPC</td>\n",
       "      <td>2022-01-20 18:16:47</td>\n",
       "      <td>NaT</td>\n",
       "    </tr>\n",
       "    <tr>\n",
       "      <th>4</th>\n",
       "      <td>100011905254_77421</td>\n",
       "      <td>www.letsgetchecked.com</td>\n",
       "      <td>99908</td>\n",
       "      <td>2019-12-03 11:26:33.453</td>\n",
       "      <td>2019-12-02 18:29:00.997</td>\n",
       "      <td>100011905254</td>\n",
       "      <td>Simple 2</td>\n",
       "      <td>77421</td>\n",
       "      <td>AnPost</td>\n",
       "      <td>An psot</td>\n",
       "      <td>...</td>\n",
       "      <td>None</td>\n",
       "      <td>None</td>\n",
       "      <td>None</td>\n",
       "      <td>NaT</td>\n",
       "      <td>NaT</td>\n",
       "      <td>NaT</td>\n",
       "      <td>NaT</td>\n",
       "      <td>None</td>\n",
       "      <td>2022-01-20 18:06:51</td>\n",
       "      <td>NaT</td>\n",
       "    </tr>\n",
       "  </tbody>\n",
       "</table>\n",
       "<p>5 rows × 23 columns</p>\n",
       "</div>"
      ],
      "text/plain": [
       "           bi_shipment_id                      reseller_name   order_id  \\\n",
       "0  100003742755_101391128                           Fidelity  100292869   \n",
       "1  100004370467_101893808             www.letsgetchecked.com  100386844   \n",
       "2  100004472400_101499810  BS - Yellowstone Club Pre-arrival  100343660   \n",
       "3  100009629350_101489232                United Health Group  100333692   \n",
       "4      100011905254_77421             www.letsgetchecked.com      99908   \n",
       "\n",
       "  order_actual_dispatch_time order_created_at_outbound   barcoded_id  \\\n",
       "0    2020-11-18 15:26:46.320   2020-11-18 11:28:06.690  100003742755   \n",
       "1    2020-12-26 15:36:50.397   2020-12-26 09:20:36.823  100004370467   \n",
       "2    2020-12-03 23:34:58.033   2020-12-03 15:42:43.100  100004472400   \n",
       "3    2020-12-07 22:41:30.120   2020-12-03 10:51:58.227  100009629350   \n",
       "4    2019-12-03 11:26:33.453   2019-12-02 18:29:00.997  100011905254   \n",
       "\n",
       "                          test_kit_name  shipment_id_outbound  \\\n",
       "0  COVID-19 Home Test (PCR Lower Nasal)             101391128   \n",
       "1  COVID-19 Home Test (PCR Lower Nasal)             101893808   \n",
       "2            COVID-19 (PCR Lower Nasal)             101499810   \n",
       "3                                 Hep C             101489232   \n",
       "4                              Simple 2                 77421   \n",
       "\n",
       "  shipment_provider_name_outbound shipment_level_outbound  ...  \\\n",
       "0                             UPS        UPS Next Day Air  ...   \n",
       "1                             UPS        UPS Next Day Air  ...   \n",
       "2                             UPS        UPS Next Day Air  ...   \n",
       "3                            USPS                   First  ...   \n",
       "4                          AnPost                 An psot  ...   \n",
       "\n",
       "  shipment_provider_name_inbound  shipment_level_inbound  \\\n",
       "0                            UPS            Next Day Air   \n",
       "1                            UPS            Next Day Air   \n",
       "2                            UPS            Next Day Air   \n",
       "3                            UPS            Next Day Air   \n",
       "4                           None                    None   \n",
       "\n",
       "  shipment_tracking_number_inbound shipment_pickup_time_outbound  \\\n",
       "0               1Z550F28Y092170518           2020-11-18 20:46:16   \n",
       "1               1Z550F28Y011699832           2020-12-28 19:16:09   \n",
       "2               1Z550F28Y013558141           2020-12-03 19:49:01   \n",
       "3               1Z550F28Y089964828                           NaT   \n",
       "4                             None                           NaT   \n",
       "\n",
       "  shipment_delivery_time_outbound shipment_pickup_time_inbound  \\\n",
       "0             2020-11-19 09:36:35                          NaT   \n",
       "1             2020-12-29 14:17:21                          NaT   \n",
       "2             2020-12-04 12:48:55          2020-12-21 16:21:32   \n",
       "3             2020-12-11 10:58:00                          NaT   \n",
       "4                             NaT                          NaT   \n",
       "\n",
       "  shipment_delivery_time_inbound     payer_program_pretty_name  \\\n",
       "0            2020-11-21 10:07:30               FIDELITYCOVID19   \n",
       "1                            NaT                          None   \n",
       "2            2020-12-22 08:33:28  BSYELLOWSTONEPREARRIVALCOVID   \n",
       "3                            NaT               UHCMEDICAREHEPC   \n",
       "4                            NaT                          None   \n",
       "\n",
       "           created_at updated_at  \n",
       "0 2022-01-20 18:16:47        NaT  \n",
       "1 2022-01-20 18:16:47        NaT  \n",
       "2 2022-01-20 18:16:47        NaT  \n",
       "3 2022-01-20 18:16:47        NaT  \n",
       "4 2022-01-20 18:06:51        NaT  \n",
       "\n",
       "[5 rows x 23 columns]"
      ]
     },
     "execution_count": 6,
     "metadata": {},
     "output_type": "execute_result"
    }
   ],
   "source": [
    "## to import the table DAL Shipment materialized view to a dataframe - part2\n",
    "red_df1_part2 = pd.read_sql_query(text(\"select * from dal_us.bi_shipment where order_created_at_outbound < '2021-01-01' union select * from dal_eu.bi_shipment where order_created_at_outbound < '2021-01-01' order by bi_shipment_id ASC\"), red_engine)\n",
    "red_df1_part2.head() "
   ]
  },
  {
   "cell_type": "code",
   "execution_count": 7,
   "id": "2460ebd4",
   "metadata": {},
   "outputs": [
    {
     "data": {
      "text/plain": [
       "(535962, 23)"
      ]
     },
     "execution_count": 7,
     "metadata": {},
     "output_type": "execute_result"
    }
   ],
   "source": [
    "## to see the total of records and columns\n",
    "red_df1_part2.shape"
   ]
  },
  {
   "cell_type": "code",
   "execution_count": 8,
   "id": "3e01af76",
   "metadata": {},
   "outputs": [
    {
     "data": {
      "text/html": [
       "<div>\n",
       "<style scoped>\n",
       "    .dataframe tbody tr th:only-of-type {\n",
       "        vertical-align: middle;\n",
       "    }\n",
       "\n",
       "    .dataframe tbody tr th {\n",
       "        vertical-align: top;\n",
       "    }\n",
       "\n",
       "    .dataframe thead th {\n",
       "        text-align: right;\n",
       "    }\n",
       "</style>\n",
       "<table border=\"1\" class=\"dataframe\">\n",
       "  <thead>\n",
       "    <tr style=\"text-align: right;\">\n",
       "      <th></th>\n",
       "      <th>bi_shipment_id</th>\n",
       "      <th>reseller_name</th>\n",
       "      <th>order_id</th>\n",
       "      <th>order_actual_dispatch_time</th>\n",
       "      <th>order_created_at_outbound</th>\n",
       "      <th>barcoded_id</th>\n",
       "      <th>test_kit_name</th>\n",
       "      <th>shipment_id_outbound</th>\n",
       "      <th>shipment_provider_name_outbound</th>\n",
       "      <th>shipment_level_outbound</th>\n",
       "      <th>...</th>\n",
       "      <th>shipment_provider_name_inbound</th>\n",
       "      <th>shipment_level_inbound</th>\n",
       "      <th>shipment_tracking_number_inbound</th>\n",
       "      <th>shipment_pickup_time_outbound</th>\n",
       "      <th>shipment_delivery_time_outbound</th>\n",
       "      <th>shipment_pickup_time_inbound</th>\n",
       "      <th>shipment_delivery_time_inbound</th>\n",
       "      <th>payer_program_pretty_name</th>\n",
       "      <th>created_at</th>\n",
       "      <th>updated_at</th>\n",
       "    </tr>\n",
       "  </thead>\n",
       "  <tbody>\n",
       "    <tr>\n",
       "      <th>0</th>\n",
       "      <td>100003742755_101391128</td>\n",
       "      <td>Fidelity</td>\n",
       "      <td>100292869</td>\n",
       "      <td>2020-11-18 15:26:46.320</td>\n",
       "      <td>2020-11-18 11:28:06.690</td>\n",
       "      <td>100003742755</td>\n",
       "      <td>COVID-19 Home Test (PCR Lower Nasal)</td>\n",
       "      <td>101391128</td>\n",
       "      <td>UPS</td>\n",
       "      <td>UPS Next Day Air</td>\n",
       "      <td>...</td>\n",
       "      <td>UPS</td>\n",
       "      <td>Next Day Air</td>\n",
       "      <td>1Z550F28Y092170518</td>\n",
       "      <td>2020-11-18 20:46:16</td>\n",
       "      <td>2020-11-19 09:36:35</td>\n",
       "      <td>NaT</td>\n",
       "      <td>2020-11-21 10:07:30</td>\n",
       "      <td>FIDELITYCOVID19</td>\n",
       "      <td>2022-01-20 18:16:47</td>\n",
       "      <td>NaT</td>\n",
       "    </tr>\n",
       "    <tr>\n",
       "      <th>1</th>\n",
       "      <td>100004370467_101893808</td>\n",
       "      <td>www.letsgetchecked.com</td>\n",
       "      <td>100386844</td>\n",
       "      <td>2020-12-26 15:36:50.397</td>\n",
       "      <td>2020-12-26 09:20:36.823</td>\n",
       "      <td>100004370467</td>\n",
       "      <td>COVID-19 Home Test (PCR Lower Nasal)</td>\n",
       "      <td>101893808</td>\n",
       "      <td>UPS</td>\n",
       "      <td>UPS Next Day Air</td>\n",
       "      <td>...</td>\n",
       "      <td>UPS</td>\n",
       "      <td>Next Day Air</td>\n",
       "      <td>1Z550F28Y011699832</td>\n",
       "      <td>2020-12-28 19:16:09</td>\n",
       "      <td>2020-12-29 14:17:21</td>\n",
       "      <td>NaT</td>\n",
       "      <td>NaT</td>\n",
       "      <td>None</td>\n",
       "      <td>2022-01-20 18:16:47</td>\n",
       "      <td>NaT</td>\n",
       "    </tr>\n",
       "    <tr>\n",
       "      <th>2</th>\n",
       "      <td>100004472400_101499810</td>\n",
       "      <td>BS - Yellowstone Club Pre-arrival</td>\n",
       "      <td>100343660</td>\n",
       "      <td>2020-12-03 23:34:58.033</td>\n",
       "      <td>2020-12-03 15:42:43.100</td>\n",
       "      <td>100004472400</td>\n",
       "      <td>COVID-19 (PCR Lower Nasal)</td>\n",
       "      <td>101499810</td>\n",
       "      <td>UPS</td>\n",
       "      <td>UPS Next Day Air</td>\n",
       "      <td>...</td>\n",
       "      <td>UPS</td>\n",
       "      <td>Next Day Air</td>\n",
       "      <td>1Z550F28Y013558141</td>\n",
       "      <td>2020-12-03 19:49:01</td>\n",
       "      <td>2020-12-04 12:48:55</td>\n",
       "      <td>2020-12-21 16:21:32</td>\n",
       "      <td>2020-12-22 08:33:28</td>\n",
       "      <td>BSYELLOWSTONEPREARRIVALCOVID</td>\n",
       "      <td>2022-01-20 18:16:47</td>\n",
       "      <td>NaT</td>\n",
       "    </tr>\n",
       "    <tr>\n",
       "      <th>3</th>\n",
       "      <td>100009629350_101489232</td>\n",
       "      <td>United Health Group</td>\n",
       "      <td>100333692</td>\n",
       "      <td>2020-12-07 22:41:30.120</td>\n",
       "      <td>2020-12-03 10:51:58.227</td>\n",
       "      <td>100009629350</td>\n",
       "      <td>Hep C</td>\n",
       "      <td>101489232</td>\n",
       "      <td>USPS</td>\n",
       "      <td>First</td>\n",
       "      <td>...</td>\n",
       "      <td>UPS</td>\n",
       "      <td>Next Day Air</td>\n",
       "      <td>1Z550F28Y089964828</td>\n",
       "      <td>NaT</td>\n",
       "      <td>2020-12-11 10:58:00</td>\n",
       "      <td>NaT</td>\n",
       "      <td>NaT</td>\n",
       "      <td>UHCMEDICAREHEPC</td>\n",
       "      <td>2022-01-20 18:16:47</td>\n",
       "      <td>NaT</td>\n",
       "    </tr>\n",
       "    <tr>\n",
       "      <th>4</th>\n",
       "      <td>100011905254_77421</td>\n",
       "      <td>www.letsgetchecked.com</td>\n",
       "      <td>99908</td>\n",
       "      <td>2019-12-03 11:26:33.453</td>\n",
       "      <td>2019-12-02 18:29:00.997</td>\n",
       "      <td>100011905254</td>\n",
       "      <td>Simple 2</td>\n",
       "      <td>77421</td>\n",
       "      <td>AnPost</td>\n",
       "      <td>An psot</td>\n",
       "      <td>...</td>\n",
       "      <td>None</td>\n",
       "      <td>None</td>\n",
       "      <td>None</td>\n",
       "      <td>NaT</td>\n",
       "      <td>NaT</td>\n",
       "      <td>NaT</td>\n",
       "      <td>NaT</td>\n",
       "      <td>None</td>\n",
       "      <td>2022-01-20 18:06:51</td>\n",
       "      <td>NaT</td>\n",
       "    </tr>\n",
       "  </tbody>\n",
       "</table>\n",
       "<p>5 rows × 23 columns</p>\n",
       "</div>"
      ],
      "text/plain": [
       "           bi_shipment_id                      reseller_name   order_id  \\\n",
       "0  100003742755_101391128                           Fidelity  100292869   \n",
       "1  100004370467_101893808             www.letsgetchecked.com  100386844   \n",
       "2  100004472400_101499810  BS - Yellowstone Club Pre-arrival  100343660   \n",
       "3  100009629350_101489232                United Health Group  100333692   \n",
       "4      100011905254_77421             www.letsgetchecked.com      99908   \n",
       "\n",
       "  order_actual_dispatch_time order_created_at_outbound   barcoded_id  \\\n",
       "0    2020-11-18 15:26:46.320   2020-11-18 11:28:06.690  100003742755   \n",
       "1    2020-12-26 15:36:50.397   2020-12-26 09:20:36.823  100004370467   \n",
       "2    2020-12-03 23:34:58.033   2020-12-03 15:42:43.100  100004472400   \n",
       "3    2020-12-07 22:41:30.120   2020-12-03 10:51:58.227  100009629350   \n",
       "4    2019-12-03 11:26:33.453   2019-12-02 18:29:00.997  100011905254   \n",
       "\n",
       "                          test_kit_name  shipment_id_outbound  \\\n",
       "0  COVID-19 Home Test (PCR Lower Nasal)             101391128   \n",
       "1  COVID-19 Home Test (PCR Lower Nasal)             101893808   \n",
       "2            COVID-19 (PCR Lower Nasal)             101499810   \n",
       "3                                 Hep C             101489232   \n",
       "4                              Simple 2                 77421   \n",
       "\n",
       "  shipment_provider_name_outbound shipment_level_outbound  ...  \\\n",
       "0                             UPS        UPS Next Day Air  ...   \n",
       "1                             UPS        UPS Next Day Air  ...   \n",
       "2                             UPS        UPS Next Day Air  ...   \n",
       "3                            USPS                   First  ...   \n",
       "4                          AnPost                 An psot  ...   \n",
       "\n",
       "  shipment_provider_name_inbound  shipment_level_inbound  \\\n",
       "0                            UPS            Next Day Air   \n",
       "1                            UPS            Next Day Air   \n",
       "2                            UPS            Next Day Air   \n",
       "3                            UPS            Next Day Air   \n",
       "4                           None                    None   \n",
       "\n",
       "  shipment_tracking_number_inbound shipment_pickup_time_outbound  \\\n",
       "0               1Z550F28Y092170518           2020-11-18 20:46:16   \n",
       "1               1Z550F28Y011699832           2020-12-28 19:16:09   \n",
       "2               1Z550F28Y013558141           2020-12-03 19:49:01   \n",
       "3               1Z550F28Y089964828                           NaT   \n",
       "4                             None                           NaT   \n",
       "\n",
       "  shipment_delivery_time_outbound shipment_pickup_time_inbound  \\\n",
       "0             2020-11-19 09:36:35                          NaT   \n",
       "1             2020-12-29 14:17:21                          NaT   \n",
       "2             2020-12-04 12:48:55          2020-12-21 16:21:32   \n",
       "3             2020-12-11 10:58:00                          NaT   \n",
       "4                             NaT                          NaT   \n",
       "\n",
       "  shipment_delivery_time_inbound     payer_program_pretty_name  \\\n",
       "0            2020-11-21 10:07:30               FIDELITYCOVID19   \n",
       "1                            NaT                          None   \n",
       "2            2020-12-22 08:33:28  BSYELLOWSTONEPREARRIVALCOVID   \n",
       "3                            NaT               UHCMEDICAREHEPC   \n",
       "4                            NaT                          None   \n",
       "\n",
       "           created_at updated_at  \n",
       "0 2022-01-20 18:16:47        NaT  \n",
       "1 2022-01-20 18:16:47        NaT  \n",
       "2 2022-01-20 18:16:47        NaT  \n",
       "3 2022-01-20 18:16:47        NaT  \n",
       "4 2022-01-20 18:06:51        NaT  \n",
       "\n",
       "[5 rows x 23 columns]"
      ]
     },
     "execution_count": 8,
     "metadata": {},
     "output_type": "execute_result"
    }
   ],
   "source": [
    "## to append the 2 dataframes into 1 - Redshift ##\n",
    "red_df1 = red_df1_part2.append(red_df1_part1, ignore_index=False)\n",
    "red_df1.head()"
   ]
  },
  {
   "cell_type": "markdown",
   "id": "e6b593de",
   "metadata": {},
   "source": [
    "## Understand basic information about the Redshift dataframe"
   ]
  },
  {
   "cell_type": "code",
   "execution_count": 9,
   "id": "512b93a1",
   "metadata": {},
   "outputs": [
    {
     "data": {
      "text/plain": [
       "(1329201, 23)"
      ]
     },
     "execution_count": 9,
     "metadata": {},
     "output_type": "execute_result"
    }
   ],
   "source": [
    "## to see the total of records and columns\n",
    "red_df1.shape"
   ]
  },
  {
   "cell_type": "code",
   "execution_count": 16,
   "id": "3b2db008",
   "metadata": {},
   "outputs": [
    {
     "name": "stdout",
     "output_type": "stream",
     "text": [
      "<class 'pandas.core.frame.DataFrame'>\n",
      "Int64Index: 1326836 entries, 0 to 790873\n",
      "Data columns (total 23 columns):\n",
      " #   Column                             Non-Null Count    Dtype         \n",
      "---  ------                             --------------    -----         \n",
      " 0   bi_shipment_id                     1326836 non-null  object        \n",
      " 1   reseller_name                      1326836 non-null  object        \n",
      " 2   order_id                           1326836 non-null  int64         \n",
      " 3   order_actual_dispatch_time         1323551 non-null  datetime64[ns]\n",
      " 4   order_created_at_outbound          1326836 non-null  datetime64[ns]\n",
      " 5   barcoded_id                        1326836 non-null  int64         \n",
      " 6   test_kit_name                      1326836 non-null  object        \n",
      " 7   shipment_id_outbound               1326836 non-null  int64         \n",
      " 8   shipment_provider_name_outbound    1326836 non-null  object        \n",
      " 9   shipment_level_outbound            1326836 non-null  object        \n",
      " 10  shipment_tracking_number_outbound  1326836 non-null  object        \n",
      " 11  shipment_id_inbound                1061321 non-null  float64       \n",
      " 12  order_created_at_inbound           1061321 non-null  datetime64[ns]\n",
      " 13  shipment_provider_name_inbound     1061321 non-null  object        \n",
      " 14  shipment_level_inbound             1061321 non-null  object        \n",
      " 15  shipment_tracking_number_inbound   1061321 non-null  object        \n",
      " 16  shipment_pickup_time_outbound      1056359 non-null  datetime64[ns]\n",
      " 17  shipment_delivery_time_outbound    997270 non-null   datetime64[ns]\n",
      " 18  shipment_pickup_time_inbound       485502 non-null   datetime64[ns]\n",
      " 19  shipment_delivery_time_inbound     453861 non-null   datetime64[ns]\n",
      " 20  payer_program_pretty_name          724531 non-null   object        \n",
      " 21  created_at                         1326836 non-null  datetime64[ns]\n",
      " 22  updated_at                         138756 non-null   datetime64[ns]\n",
      "dtypes: datetime64[ns](9), float64(1), int64(3), object(10)\n",
      "memory usage: 243.0+ MB\n"
     ]
    }
   ],
   "source": [
    "## to see the basic information about the dataframe\n",
    "red_df1.info()"
   ]
  },
  {
   "cell_type": "code",
   "execution_count": 17,
   "id": "0ee6ff8d",
   "metadata": {},
   "outputs": [
    {
     "data": {
      "text/plain": [
       "bi_shipment_id                             0\n",
       "reseller_name                              0\n",
       "order_id                                   0\n",
       "order_actual_dispatch_time              3285\n",
       "order_created_at_outbound                  0\n",
       "barcoded_id                                0\n",
       "test_kit_name                              0\n",
       "shipment_id_outbound                       0\n",
       "shipment_provider_name_outbound            0\n",
       "shipment_level_outbound                    0\n",
       "shipment_tracking_number_outbound          0\n",
       "shipment_id_inbound                   265515\n",
       "order_created_at_inbound              265515\n",
       "shipment_provider_name_inbound        265515\n",
       "shipment_level_inbound                265515\n",
       "shipment_tracking_number_inbound      265515\n",
       "shipment_pickup_time_outbound         270477\n",
       "shipment_delivery_time_outbound       329566\n",
       "shipment_pickup_time_inbound          841334\n",
       "shipment_delivery_time_inbound        872975\n",
       "payer_program_pretty_name             602305\n",
       "created_at                                 0\n",
       "updated_at                           1188080\n",
       "dtype: int64"
      ]
     },
     "execution_count": 17,
     "metadata": {},
     "output_type": "execute_result"
    }
   ],
   "source": [
    "## to detect null values in the dataframe\n",
    "red_df1.isnull().sum()"
   ]
  },
  {
   "cell_type": "markdown",
   "id": "c8f61672",
   "metadata": {},
   "source": [
    "## Importation of the BI team query output from RDS"
   ]
  },
  {
   "cell_type": "code",
   "execution_count": 15,
   "id": "5868eec8",
   "metadata": {},
   "outputs": [
    {
     "data": {
      "text/html": [
       "<div>\n",
       "<style scoped>\n",
       "    .dataframe tbody tr th:only-of-type {\n",
       "        vertical-align: middle;\n",
       "    }\n",
       "\n",
       "    .dataframe tbody tr th {\n",
       "        vertical-align: top;\n",
       "    }\n",
       "\n",
       "    .dataframe thead th {\n",
       "        text-align: right;\n",
       "    }\n",
       "</style>\n",
       "<table border=\"1\" class=\"dataframe\">\n",
       "  <thead>\n",
       "    <tr style=\"text-align: right;\">\n",
       "      <th></th>\n",
       "      <th>bi_shipment_id</th>\n",
       "      <th>order_created_at_outbound</th>\n",
       "      <th>reseller_name</th>\n",
       "      <th>payer_program_pretty_name</th>\n",
       "      <th>region</th>\n",
       "      <th>order_id</th>\n",
       "      <th>barcoded_id</th>\n",
       "      <th>shipment_id_outbound</th>\n",
       "      <th>test_kit_name</th>\n",
       "      <th>order_actual_dispatch_time</th>\n",
       "      <th>...</th>\n",
       "      <th>shipment_tracking_number_outbound</th>\n",
       "      <th>order_created_at_inbound</th>\n",
       "      <th>shipment_provider_name_inbound</th>\n",
       "      <th>shipment_level_inbound</th>\n",
       "      <th>shipment_tracking_number_inbound</th>\n",
       "      <th>shipment_id_inbound</th>\n",
       "      <th>shipment_pickup_time_outbound</th>\n",
       "      <th>shipment_delivery_time_outbound</th>\n",
       "      <th>shipment_pickup_time_inbound</th>\n",
       "      <th>shipment_delivery_time_inbound</th>\n",
       "    </tr>\n",
       "  </thead>\n",
       "  <tbody>\n",
       "    <tr>\n",
       "      <th>0</th>\n",
       "      <td>100000491881_104005036</td>\n",
       "      <td>2021-10-23 10:19:14.003</td>\n",
       "      <td>Optum Housecalls</td>\n",
       "      <td>OptumHepCUHCHouseCalls2021</td>\n",
       "      <td>USE</td>\n",
       "      <td>100941545</td>\n",
       "      <td>100000491881</td>\n",
       "      <td>104005036</td>\n",
       "      <td>Hep C</td>\n",
       "      <td>2021-10-25 13:00:59.620</td>\n",
       "      <td>...</td>\n",
       "      <td>9400111109160801336257</td>\n",
       "      <td>2021-10-23 10:19:14.003</td>\n",
       "      <td>UPS</td>\n",
       "      <td>Next Day Air</td>\n",
       "      <td>1ZR866X7Y004547559</td>\n",
       "      <td>103860807.0</td>\n",
       "      <td>NaT</td>\n",
       "      <td>2021-10-28 15:45:00</td>\n",
       "      <td>2021-11-12 18:43:39</td>\n",
       "      <td>2021-11-13 11:58:51</td>\n",
       "    </tr>\n",
       "    <tr>\n",
       "      <th>1</th>\n",
       "      <td>100000540030_104644900</td>\n",
       "      <td>2022-01-02 22:20:27.593</td>\n",
       "      <td>www.letsgetchecked.com</td>\n",
       "      <td>None</td>\n",
       "      <td>USE</td>\n",
       "      <td>101092131</td>\n",
       "      <td>100000540030</td>\n",
       "      <td>104644900</td>\n",
       "      <td>Standard 5</td>\n",
       "      <td>2022-01-03 13:39:43.133</td>\n",
       "      <td>...</td>\n",
       "      <td>92748902711971543400168390</td>\n",
       "      <td>2022-01-02 22:20:27.593</td>\n",
       "      <td>UPS</td>\n",
       "      <td>Next Day Air</td>\n",
       "      <td>1ZR866X7Y007435469</td>\n",
       "      <td>104366797.0</td>\n",
       "      <td>NaT</td>\n",
       "      <td>NaT</td>\n",
       "      <td>2022-01-10 16:51:46</td>\n",
       "      <td>2022-01-12 10:26:13</td>\n",
       "    </tr>\n",
       "    <tr>\n",
       "      <th>2</th>\n",
       "      <td>100005562278_103816477</td>\n",
       "      <td>2021-10-06 21:20:37.187</td>\n",
       "      <td>Humana</td>\n",
       "      <td>HUMANACOVIDDTC2021</td>\n",
       "      <td>USE</td>\n",
       "      <td>100885734</td>\n",
       "      <td>100005562278</td>\n",
       "      <td>103816477</td>\n",
       "      <td>COVID-19 Home Test (PCR Lower Nasal)</td>\n",
       "      <td>2021-10-07 18:56:59.170</td>\n",
       "      <td>...</td>\n",
       "      <td>1ZWV28010137334562</td>\n",
       "      <td>2021-10-06 21:20:37.187</td>\n",
       "      <td>UPS</td>\n",
       "      <td>Next Day Air</td>\n",
       "      <td>1ZR866X7Y000805161</td>\n",
       "      <td>102916958.0</td>\n",
       "      <td>2021-10-07 16:34:30</td>\n",
       "      <td>2021-10-08 10:16:31</td>\n",
       "      <td>NaT</td>\n",
       "      <td>NaT</td>\n",
       "    </tr>\n",
       "    <tr>\n",
       "      <th>3</th>\n",
       "      <td>100005567616_104531022</td>\n",
       "      <td>2021-12-14 16:30:33.167</td>\n",
       "      <td>TECHOPS US WALKTHROUGH</td>\n",
       "      <td>DKTechOpsUS2021</td>\n",
       "      <td>USE</td>\n",
       "      <td>101050724</td>\n",
       "      <td>100005567616</td>\n",
       "      <td>104531022</td>\n",
       "      <td>COVID-19 Home Test (PCR Lower Nasal)</td>\n",
       "      <td>2021-12-14 19:18:10.640</td>\n",
       "      <td>...</td>\n",
       "      <td>92748902711971543475160916</td>\n",
       "      <td>2021-12-14 16:30:33.167</td>\n",
       "      <td>UPS</td>\n",
       "      <td>Next Day Air</td>\n",
       "      <td>1Z550F28Y083330586</td>\n",
       "      <td>102515491.0</td>\n",
       "      <td>NaT</td>\n",
       "      <td>NaT</td>\n",
       "      <td>NaT</td>\n",
       "      <td>NaT</td>\n",
       "    </tr>\n",
       "    <tr>\n",
       "      <th>4</th>\n",
       "      <td>10000644936_103736015</td>\n",
       "      <td>2021-09-29 21:28:42.980</td>\n",
       "      <td>United Health Group</td>\n",
       "      <td>UHCMEDICAREKED2021</td>\n",
       "      <td>USE</td>\n",
       "      <td>100850474</td>\n",
       "      <td>10000644936</td>\n",
       "      <td>103736015</td>\n",
       "      <td>Kidney Health Evaluation</td>\n",
       "      <td>2021-10-11 16:23:26.190</td>\n",
       "      <td>...</td>\n",
       "      <td>9400111109160806737974</td>\n",
       "      <td>2021-09-29 21:28:42.980</td>\n",
       "      <td>UPS</td>\n",
       "      <td>Next Day Air</td>\n",
       "      <td>1ZR866X7Y004328045</td>\n",
       "      <td>103633437.0</td>\n",
       "      <td>NaT</td>\n",
       "      <td>2021-10-15 14:38:00</td>\n",
       "      <td>NaT</td>\n",
       "      <td>NaT</td>\n",
       "    </tr>\n",
       "  </tbody>\n",
       "</table>\n",
       "<p>5 rows × 22 columns</p>\n",
       "</div>"
      ],
      "text/plain": [
       "           bi_shipment_id order_created_at_outbound           reseller_name  \\\n",
       "0  100000491881_104005036   2021-10-23 10:19:14.003        Optum Housecalls   \n",
       "1  100000540030_104644900   2022-01-02 22:20:27.593  www.letsgetchecked.com   \n",
       "2  100005562278_103816477   2021-10-06 21:20:37.187                  Humana   \n",
       "3  100005567616_104531022   2021-12-14 16:30:33.167  TECHOPS US WALKTHROUGH   \n",
       "4   10000644936_103736015   2021-09-29 21:28:42.980     United Health Group   \n",
       "\n",
       "    payer_program_pretty_name region   order_id   barcoded_id  \\\n",
       "0  OptumHepCUHCHouseCalls2021    USE  100941545  100000491881   \n",
       "1                        None    USE  101092131  100000540030   \n",
       "2          HUMANACOVIDDTC2021    USE  100885734  100005562278   \n",
       "3             DKTechOpsUS2021    USE  101050724  100005567616   \n",
       "4          UHCMEDICAREKED2021    USE  100850474   10000644936   \n",
       "\n",
       "   shipment_id_outbound                         test_kit_name  \\\n",
       "0             104005036                                 Hep C   \n",
       "1             104644900                            Standard 5   \n",
       "2             103816477  COVID-19 Home Test (PCR Lower Nasal)   \n",
       "3             104531022  COVID-19 Home Test (PCR Lower Nasal)   \n",
       "4             103736015              Kidney Health Evaluation   \n",
       "\n",
       "  order_actual_dispatch_time  ... shipment_tracking_number_outbound  \\\n",
       "0    2021-10-25 13:00:59.620  ...            9400111109160801336257   \n",
       "1    2022-01-03 13:39:43.133  ...        92748902711971543400168390   \n",
       "2    2021-10-07 18:56:59.170  ...                1ZWV28010137334562   \n",
       "3    2021-12-14 19:18:10.640  ...        92748902711971543475160916   \n",
       "4    2021-10-11 16:23:26.190  ...            9400111109160806737974   \n",
       "\n",
       "  order_created_at_inbound shipment_provider_name_inbound  \\\n",
       "0  2021-10-23 10:19:14.003                            UPS   \n",
       "1  2022-01-02 22:20:27.593                            UPS   \n",
       "2  2021-10-06 21:20:37.187                            UPS   \n",
       "3  2021-12-14 16:30:33.167                            UPS   \n",
       "4  2021-09-29 21:28:42.980                            UPS   \n",
       "\n",
       "  shipment_level_inbound shipment_tracking_number_inbound shipment_id_inbound  \\\n",
       "0           Next Day Air               1ZR866X7Y004547559         103860807.0   \n",
       "1           Next Day Air               1ZR866X7Y007435469         104366797.0   \n",
       "2           Next Day Air               1ZR866X7Y000805161         102916958.0   \n",
       "3           Next Day Air               1Z550F28Y083330586         102515491.0   \n",
       "4           Next Day Air               1ZR866X7Y004328045         103633437.0   \n",
       "\n",
       "  shipment_pickup_time_outbound  shipment_delivery_time_outbound  \\\n",
       "0                           NaT              2021-10-28 15:45:00   \n",
       "1                           NaT                              NaT   \n",
       "2           2021-10-07 16:34:30              2021-10-08 10:16:31   \n",
       "3                           NaT                              NaT   \n",
       "4                           NaT              2021-10-15 14:38:00   \n",
       "\n",
       "  shipment_pickup_time_inbound shipment_delivery_time_inbound  \n",
       "0          2021-11-12 18:43:39            2021-11-13 11:58:51  \n",
       "1          2022-01-10 16:51:46            2022-01-12 10:26:13  \n",
       "2                          NaT                            NaT  \n",
       "3                          NaT                            NaT  \n",
       "4                          NaT                            NaT  \n",
       "\n",
       "[5 rows x 22 columns]"
      ]
     },
     "execution_count": 15,
     "metadata": {},
     "output_type": "execute_result"
    }
   ],
   "source": [
    "## to import the query of BI Team in a dataframe\n",
    "rds_sql1_part1 = \"\"\"\n",
    "WITH single_kit_orders AS (select\n",
    "o.order_id,\n",
    "count(oi.order_item_id) as count_kits\n",
    "from\n",
    "use_core.dbo.[order] o\n",
    "inner join use_core.dbo.order_item oi on o.order_id = oi.order_id\n",
    "group by o.order_id\n",
    "having count(oi.order_item_id) = 1\n",
    "UNION\n",
    "select\n",
    "o.order_id,\n",
    "count(oi.order_item_id) as count_kits\n",
    "from\n",
    "euw_core.dbo.[order] o\n",
    "inner join euw_core.dbo.order_item oi on o.order_id = oi.order_id\n",
    "group by o.order_id\n",
    "having count(oi.order_item_id) = 1),\n",
    "\n",
    "outbound AS (select \n",
    "re.[name] as reseller_name\n",
    ",p.pretty_name as payer_program_pretty_name\n",
    ",o.order_id\n",
    ",o.dta000 as order_created_at_outbound\n",
    ",bi.barcoded_id\n",
    ",sp.[name] as shipment_provider_name_outbound\n",
    ",s.[level] as shipment_level_outbound\n",
    ",tk.[name] as test_kit_name\n",
    ",o.actual_dispatch_time as order_actual_dispatch_time\n",
    ",s.shipment_id as shipment_id_outbound\n",
    ",s.tracking_number as shipment_tracking_number_outbound\n",
    ",s.pickup_time as shipment_pickup_time_outbound\n",
    ",s.delivery_time as shipment_delivery_time_outbound\n",
    ",'USE' as region\n",
    "from \n",
    "[use_core].[dbo].[order] o \n",
    "INNER JOIN single_kit_orders sko ON sko.order_id = o.order_id\n",
    "INNER JOIN [use_core].[dbo].[order_item] oi ON o.order_id = oi.order_id\n",
    "INNER JOIN [use_core].[dbo].[batch_item] bi ON bi.[batch_item_id] = oi.[batch_item_id]\n",
    "INNER JOIN [use_core].[dbo].[batch] ba ON bi.[batch_id] = ba.[batch_id]\n",
    "INNER JOIN [use_core].[dbo].[order_shipment] os ON os.order_id= o.order_id\n",
    "INNER JOIN [use_core].[dbo].[shipment] s ON s.shipment_id = os.shipment_id and s.direction = 0\n",
    "INNER JOIN [use_core].[dbo].[dimension_shipment_provider] sp on s.provider_id = sp.[value]\n",
    "LEFT JOIN [use_core].[dbo].[test_kit] AS tk  ON tk.test_kit_id = oi.test_kit_id\n",
    "LEFT JOIN [use_core].[dbo].[reseller] AS re ON re.reseller_id = ba.reseller_id\n",
    "LEFT JOIN [use_core].[dbo].[opt_in] opt ON o.order_id = opt.order_id\n",
    "LEFT JOIN [use_core].[dbo].[payer_program_instance] ins ON ins.program_instance_id = opt.program_instance_id\n",
    "LEFT JOIN [use_core].[dbo].[payer_program] p ON ins.program_id = p.program_id\n",
    "where o.[is_internal] = 0\n",
    "\n",
    "UNION\n",
    "select \n",
    "re.[name] as reseller_name\n",
    ",p.pretty_name as payer_program_pretty_name\n",
    ",o.order_id\n",
    ",o.dta000 as order_created_at_outbound\n",
    ",bi.barcoded_id\n",
    ",sp.[name] as shipment_provider_name_outbound\n",
    ",s.[level] as shipment_level_outbound\n",
    ",tk.[name] as test_kit_name\n",
    ",o.actual_dispatch_time as order_actual_dispatch_time\n",
    ",s.shipment_id as shipment_id_outbound\n",
    ",s.tracking_number as shipment_tracking_number_outbound\n",
    ",s.pickup_time as shipment_delivery_time_outbound\n",
    ",s.delivery_time as shipment_delivery_time_outbound\n",
    ",'EUW' as region\n",
    "from \n",
    "[euw_core].[dbo].[order] o \n",
    "INNER JOIN single_kit_orders sko ON sko.order_id = o.order_id\n",
    "INNER JOIN [euw_core].[dbo].[order_item] oi ON o.order_id = oi.order_id\n",
    "INNER JOIN [euw_core].[dbo].[batch_item] bi ON bi.[batch_item_id] = oi.[batch_item_id]\n",
    "INNER JOIN [euw_core].[dbo].[batch] ba ON bi.[batch_id] = ba.[batch_id]\n",
    "INNER JOIN [euw_core].[dbo].[order_shipment] os ON os.order_id= o.order_id\n",
    "INNER JOIN [euw_core].[dbo].[shipment] s ON s.shipment_id = os.shipment_id and s.direction = 0\n",
    "INNER JOIN [euw_core].[dbo].[dimension_shipment_provider] sp on s.provider_id = sp.[value]\n",
    "LEFT JOIN [euw_core].[dbo].[test_kit] AS tk  ON tk.test_kit_id = oi.test_kit_id\n",
    "LEFT JOIN [euw_core].[dbo].[reseller] AS re ON re.reseller_id = ba.reseller_id\n",
    "LEFT JOIN [euw_core].[dbo].[opt_in] opt ON o.order_id = opt.order_id\n",
    "LEFT JOIN [euw_core].[dbo].[payer_program_instance] ins ON ins.program_instance_id = opt.program_instance_id\n",
    "LEFT JOIN [euw_core].[dbo].[payer_program] p ON ins.program_id = p.program_id\n",
    "where o.[is_internal] = 0),\n",
    "\n",
    "inbound AS (select\n",
    "o.order_id\n",
    ",o.dta000 as order_created_at_inbound\n",
    ",bi.barcoded_id\n",
    ",sp.[name] as shipment_provider_name_inbound\n",
    ",s.shipment_id as shipment_id_inbound\n",
    ",s.[level] as shipment_level_inbound\n",
    ",s.tracking_number as shipment_tracking_number_inbound\n",
    ",s.pickup_time as shipment_pickup_time_inbound\n",
    ",s.delivery_time as shipment_delivery_time_inbound\n",
    ",'USE' as region\n",
    "from [use_core].[dbo].[order] o\n",
    "INNER JOIN single_kit_orders sko ON sko.order_id = o.order_id\n",
    "INNER JOIN [use_core].[dbo].[order_item] oi ON o.order_id = oi.order_id\n",
    "INNER JOIN [use_core].[dbo].[batch_item] bi ON bi.[batch_item_id] = oi.[batch_item_id]\n",
    "INNER JOIN [use_core].[dbo].[shipment] s ON s.shipment_id = bi.shipment_id \n",
    "INNER JOIN [use_core].[dbo].[dimension_shipment_provider] sp on s.provider_id = sp.[value]\n",
    "where o.[is_internal] = 0\n",
    "\n",
    "UNION\n",
    "select \n",
    "o.order_id\n",
    ",o.dta000 as order_created_at_inbound\n",
    ",bi.barcoded_id\n",
    ",sp.[name] as shipment_provider_name_inbound\n",
    ",s.shipment_id as shipment_id_inbound\n",
    ",s.[level] as shipment_level_inbound\n",
    ",s.tracking_number as shipment_tracking_number_inbound\n",
    ",s.pickup_time as shipment_pickup_time_inbound\n",
    ",s.delivery_time as shipment_delivery_time_inbound\n",
    ",'EUW' as region\n",
    "from [euw_core].[dbo].[order] o\n",
    "INNER JOIN single_kit_orders sko ON sko.order_id = o.order_id\n",
    "INNER JOIN [euw_core].[dbo].[order_item] oi ON o.order_id = oi.order_id\n",
    "INNER JOIN [euw_core].[dbo].[batch_item] bi ON bi.[batch_item_id] = oi.[batch_item_id]\n",
    "INNER JOIN [euw_core].[dbo].[shipment] s ON s.shipment_id = bi.shipment_id \n",
    "INNER JOIN [euw_core].[dbo].[dimension_shipment_provider] sp on s.provider_id = sp.[value]\n",
    "where o.[is_internal] = 0)\n",
    "\n",
    "select CONCAT(CONCAT(COALESCE(outbound.barcoded_id,-1),'_'),COALESCE(outbound.shipment_id_outbound,-1)) as bi_shipment_id\n",
    ",outbound.order_created_at_outbound\n",
    ",outbound.reseller_name\n",
    ",outbound.payer_program_pretty_name\n",
    ",outbound.region\n",
    ",outbound.order_id\n",
    ",outbound.barcoded_id\n",
    ",outbound.shipment_id_outbound\n",
    ",outbound.test_kit_name\n",
    ",outbound.order_actual_dispatch_time\n",
    ",outbound.shipment_provider_name_outbound\n",
    ",outbound.shipment_level_outbound\n",
    ",outbound.shipment_tracking_number_outbound\n",
    ",inbound.order_created_at_inbound\n",
    ",inbound.shipment_provider_name_inbound\n",
    ",inbound.shipment_level_inbound\n",
    ",inbound.shipment_tracking_number_inbound\n",
    ",inbound.shipment_id_inbound\n",
    ",outbound.shipment_pickup_time_outbound\n",
    ",outbound.shipment_delivery_time_outbound\n",
    ",inbound.shipment_pickup_time_inbound\n",
    ",inbound.shipment_delivery_time_inbound\n",
    "from outbound\n",
    "left join inbound\n",
    "ON outbound.barcoded_id = inbound.barcoded_id AND outbound.region = inbound.region\n",
    "where convert(date,outbound.order_created_at_outbound) >= '2021-01-01' and\n",
    "\tconvert(date,outbound.order_created_at_outbound) <= dateadd(dd,-2,cast(getdate() as date))\n",
    "order by CONCAT(CONCAT(COALESCE(outbound.barcoded_id,-1),'_'),COALESCE(outbound.shipment_id_outbound,-1)) ASC\n",
    "\"\"\"\n",
    "rds_df1_part1 = pd.read_sql_query(rds_sql1_part1, cnxn)\n",
    "rds_df1_part1.head()"
   ]
  },
  {
   "cell_type": "code",
   "execution_count": 16,
   "id": "77a5e9d4",
   "metadata": {},
   "outputs": [
    {
     "data": {
      "text/plain": [
       "(793239, 22)"
      ]
     },
     "execution_count": 16,
     "metadata": {},
     "output_type": "execute_result"
    }
   ],
   "source": [
    "## to see the total of records and columns\n",
    "rds_df1_part1.shape"
   ]
  },
  {
   "cell_type": "code",
   "execution_count": 17,
   "id": "8c82f582",
   "metadata": {},
   "outputs": [
    {
     "data": {
      "text/html": [
       "<div>\n",
       "<style scoped>\n",
       "    .dataframe tbody tr th:only-of-type {\n",
       "        vertical-align: middle;\n",
       "    }\n",
       "\n",
       "    .dataframe tbody tr th {\n",
       "        vertical-align: top;\n",
       "    }\n",
       "\n",
       "    .dataframe thead th {\n",
       "        text-align: right;\n",
       "    }\n",
       "</style>\n",
       "<table border=\"1\" class=\"dataframe\">\n",
       "  <thead>\n",
       "    <tr style=\"text-align: right;\">\n",
       "      <th></th>\n",
       "      <th>bi_shipment_id</th>\n",
       "      <th>order_created_at_outbound</th>\n",
       "      <th>reseller_name</th>\n",
       "      <th>payer_program_pretty_name</th>\n",
       "      <th>region</th>\n",
       "      <th>order_id</th>\n",
       "      <th>barcoded_id</th>\n",
       "      <th>shipment_id_outbound</th>\n",
       "      <th>test_kit_name</th>\n",
       "      <th>order_actual_dispatch_time</th>\n",
       "      <th>...</th>\n",
       "      <th>shipment_tracking_number_outbound</th>\n",
       "      <th>order_created_at_inbound</th>\n",
       "      <th>shipment_provider_name_inbound</th>\n",
       "      <th>shipment_level_inbound</th>\n",
       "      <th>shipment_tracking_number_inbound</th>\n",
       "      <th>shipment_id_inbound</th>\n",
       "      <th>shipment_pickup_time_outbound</th>\n",
       "      <th>shipment_delivery_time_outbound</th>\n",
       "      <th>shipment_pickup_time_inbound</th>\n",
       "      <th>shipment_delivery_time_inbound</th>\n",
       "    </tr>\n",
       "  </thead>\n",
       "  <tbody>\n",
       "    <tr>\n",
       "      <th>0</th>\n",
       "      <td>100003742755_101391128</td>\n",
       "      <td>2020-11-18 11:28:06.690</td>\n",
       "      <td>Fidelity</td>\n",
       "      <td>FIDELITYCOVID19</td>\n",
       "      <td>USE</td>\n",
       "      <td>100292869</td>\n",
       "      <td>100003742755</td>\n",
       "      <td>101391128</td>\n",
       "      <td>COVID-19 Home Test (PCR Lower Nasal)</td>\n",
       "      <td>2020-11-18 15:26:46.320</td>\n",
       "      <td>...</td>\n",
       "      <td>1ZWV28014424426531</td>\n",
       "      <td>2020-11-18 11:28:06.690</td>\n",
       "      <td>UPS</td>\n",
       "      <td>Next Day Air</td>\n",
       "      <td>1Z550F28Y092170518</td>\n",
       "      <td>100914328.0</td>\n",
       "      <td>2020-11-18 20:46:16</td>\n",
       "      <td>2020-11-19 09:36:35</td>\n",
       "      <td>NaT</td>\n",
       "      <td>2020-11-21 10:07:30</td>\n",
       "    </tr>\n",
       "    <tr>\n",
       "      <th>1</th>\n",
       "      <td>100004370467_101893808</td>\n",
       "      <td>2020-12-26 09:20:36.823</td>\n",
       "      <td>www.letsgetchecked.com</td>\n",
       "      <td>None</td>\n",
       "      <td>USE</td>\n",
       "      <td>100386844</td>\n",
       "      <td>100004370467</td>\n",
       "      <td>101893808</td>\n",
       "      <td>COVID-19 Home Test (PCR Lower Nasal)</td>\n",
       "      <td>2020-12-26 15:36:50.397</td>\n",
       "      <td>...</td>\n",
       "      <td>1ZWV28014432851691</td>\n",
       "      <td>2020-12-26 09:20:36.823</td>\n",
       "      <td>UPS</td>\n",
       "      <td>Next Day Air</td>\n",
       "      <td>1Z550F28Y011699832</td>\n",
       "      <td>101646453.0</td>\n",
       "      <td>2020-12-28 19:16:09</td>\n",
       "      <td>2020-12-29 14:17:21</td>\n",
       "      <td>NaT</td>\n",
       "      <td>NaT</td>\n",
       "    </tr>\n",
       "    <tr>\n",
       "      <th>2</th>\n",
       "      <td>100004472400_101499810</td>\n",
       "      <td>2020-12-03 15:42:43.100</td>\n",
       "      <td>BS - Yellowstone Club Pre-arrival</td>\n",
       "      <td>BSYELLOWSTONEPREARRIVALCOVID</td>\n",
       "      <td>USE</td>\n",
       "      <td>100343660</td>\n",
       "      <td>100004472400</td>\n",
       "      <td>101499810</td>\n",
       "      <td>COVID-19 (PCR Lower Nasal)</td>\n",
       "      <td>2020-12-03 23:34:58.033</td>\n",
       "      <td>...</td>\n",
       "      <td>1ZWV28014439278914</td>\n",
       "      <td>2020-12-03 15:42:43.100</td>\n",
       "      <td>UPS</td>\n",
       "      <td>Next Day Air</td>\n",
       "      <td>1Z550F28Y013558141</td>\n",
       "      <td>101163535.0</td>\n",
       "      <td>2020-12-03 19:49:01</td>\n",
       "      <td>2020-12-04 12:48:55</td>\n",
       "      <td>2020-12-21 16:21:32</td>\n",
       "      <td>2020-12-22 08:33:28</td>\n",
       "    </tr>\n",
       "    <tr>\n",
       "      <th>3</th>\n",
       "      <td>100009629350_101489232</td>\n",
       "      <td>2020-12-03 10:51:58.227</td>\n",
       "      <td>United Health Group</td>\n",
       "      <td>UHCMEDICAREHEPC</td>\n",
       "      <td>USE</td>\n",
       "      <td>100333692</td>\n",
       "      <td>100009629350</td>\n",
       "      <td>101489232</td>\n",
       "      <td>Hep C</td>\n",
       "      <td>2020-12-07 22:41:30.120</td>\n",
       "      <td>...</td>\n",
       "      <td>9400116902881675927238</td>\n",
       "      <td>2020-12-03 10:51:58.227</td>\n",
       "      <td>UPS</td>\n",
       "      <td>Next Day Air</td>\n",
       "      <td>1Z550F28Y089964828</td>\n",
       "      <td>101629583.0</td>\n",
       "      <td>NaT</td>\n",
       "      <td>2020-12-11 10:58:00</td>\n",
       "      <td>NaT</td>\n",
       "      <td>NaT</td>\n",
       "    </tr>\n",
       "    <tr>\n",
       "      <th>4</th>\n",
       "      <td>100011905254_77421</td>\n",
       "      <td>2019-12-02 18:29:00.997</td>\n",
       "      <td>www.letsgetchecked.com</td>\n",
       "      <td>None</td>\n",
       "      <td>EUW</td>\n",
       "      <td>99908</td>\n",
       "      <td>100011905254</td>\n",
       "      <td>77421</td>\n",
       "      <td>Simple 2</td>\n",
       "      <td>2019-12-03 11:26:33.453</td>\n",
       "      <td>...</td>\n",
       "      <td>LG044647425IE</td>\n",
       "      <td>NaT</td>\n",
       "      <td>None</td>\n",
       "      <td>None</td>\n",
       "      <td>None</td>\n",
       "      <td>NaN</td>\n",
       "      <td>NaT</td>\n",
       "      <td>NaT</td>\n",
       "      <td>NaT</td>\n",
       "      <td>NaT</td>\n",
       "    </tr>\n",
       "  </tbody>\n",
       "</table>\n",
       "<p>5 rows × 22 columns</p>\n",
       "</div>"
      ],
      "text/plain": [
       "           bi_shipment_id order_created_at_outbound  \\\n",
       "0  100003742755_101391128   2020-11-18 11:28:06.690   \n",
       "1  100004370467_101893808   2020-12-26 09:20:36.823   \n",
       "2  100004472400_101499810   2020-12-03 15:42:43.100   \n",
       "3  100009629350_101489232   2020-12-03 10:51:58.227   \n",
       "4      100011905254_77421   2019-12-02 18:29:00.997   \n",
       "\n",
       "                       reseller_name     payer_program_pretty_name region  \\\n",
       "0                           Fidelity               FIDELITYCOVID19    USE   \n",
       "1             www.letsgetchecked.com                          None    USE   \n",
       "2  BS - Yellowstone Club Pre-arrival  BSYELLOWSTONEPREARRIVALCOVID    USE   \n",
       "3                United Health Group               UHCMEDICAREHEPC    USE   \n",
       "4             www.letsgetchecked.com                          None    EUW   \n",
       "\n",
       "    order_id   barcoded_id  shipment_id_outbound  \\\n",
       "0  100292869  100003742755             101391128   \n",
       "1  100386844  100004370467             101893808   \n",
       "2  100343660  100004472400             101499810   \n",
       "3  100333692  100009629350             101489232   \n",
       "4      99908  100011905254                 77421   \n",
       "\n",
       "                          test_kit_name order_actual_dispatch_time  ...  \\\n",
       "0  COVID-19 Home Test (PCR Lower Nasal)    2020-11-18 15:26:46.320  ...   \n",
       "1  COVID-19 Home Test (PCR Lower Nasal)    2020-12-26 15:36:50.397  ...   \n",
       "2            COVID-19 (PCR Lower Nasal)    2020-12-03 23:34:58.033  ...   \n",
       "3                                 Hep C    2020-12-07 22:41:30.120  ...   \n",
       "4                              Simple 2    2019-12-03 11:26:33.453  ...   \n",
       "\n",
       "  shipment_tracking_number_outbound order_created_at_inbound  \\\n",
       "0                1ZWV28014424426531  2020-11-18 11:28:06.690   \n",
       "1                1ZWV28014432851691  2020-12-26 09:20:36.823   \n",
       "2                1ZWV28014439278914  2020-12-03 15:42:43.100   \n",
       "3            9400116902881675927238  2020-12-03 10:51:58.227   \n",
       "4                     LG044647425IE                      NaT   \n",
       "\n",
       "  shipment_provider_name_inbound shipment_level_inbound  \\\n",
       "0                            UPS           Next Day Air   \n",
       "1                            UPS           Next Day Air   \n",
       "2                            UPS           Next Day Air   \n",
       "3                            UPS           Next Day Air   \n",
       "4                           None                   None   \n",
       "\n",
       "  shipment_tracking_number_inbound shipment_id_inbound  \\\n",
       "0               1Z550F28Y092170518         100914328.0   \n",
       "1               1Z550F28Y011699832         101646453.0   \n",
       "2               1Z550F28Y013558141         101163535.0   \n",
       "3               1Z550F28Y089964828         101629583.0   \n",
       "4                             None                 NaN   \n",
       "\n",
       "  shipment_pickup_time_outbound  shipment_delivery_time_outbound  \\\n",
       "0           2020-11-18 20:46:16              2020-11-19 09:36:35   \n",
       "1           2020-12-28 19:16:09              2020-12-29 14:17:21   \n",
       "2           2020-12-03 19:49:01              2020-12-04 12:48:55   \n",
       "3                           NaT              2020-12-11 10:58:00   \n",
       "4                           NaT                              NaT   \n",
       "\n",
       "  shipment_pickup_time_inbound shipment_delivery_time_inbound  \n",
       "0                          NaT            2020-11-21 10:07:30  \n",
       "1                          NaT                            NaT  \n",
       "2          2020-12-21 16:21:32            2020-12-22 08:33:28  \n",
       "3                          NaT                            NaT  \n",
       "4                          NaT                            NaT  \n",
       "\n",
       "[5 rows x 22 columns]"
      ]
     },
     "execution_count": 17,
     "metadata": {},
     "output_type": "execute_result"
    }
   ],
   "source": [
    "## to import the query of BI Team in a dataframe - part2\n",
    "rds_sql1_part2 = \"\"\"\n",
    "WITH single_kit_orders AS (select\n",
    "o.order_id,\n",
    "count(oi.order_item_id) as count_kits\n",
    "from\n",
    "use_core.dbo.[order] o\n",
    "inner join use_core.dbo.order_item oi on o.order_id = oi.order_id\n",
    "group by o.order_id\n",
    "having count(oi.order_item_id) = 1\n",
    "UNION\n",
    "select\n",
    "o.order_id,\n",
    "count(oi.order_item_id) as count_kits\n",
    "from\n",
    "euw_core.dbo.[order] o\n",
    "inner join euw_core.dbo.order_item oi on o.order_id = oi.order_id\n",
    "group by o.order_id\n",
    "having count(oi.order_item_id) = 1),\n",
    "\n",
    "outbound AS (select\n",
    "re.[name] as reseller_name\n",
    ",p.pretty_name as payer_program_pretty_name\n",
    ",o.order_id\n",
    ",o.dta000 as order_created_at_outbound\n",
    ",bi.barcoded_id\n",
    ",sp.[name] as shipment_provider_name_outbound\n",
    ",s.[level] as shipment_level_outbound\n",
    ",tk.[name] as test_kit_name\n",
    ",o.actual_dispatch_time as order_actual_dispatch_time\n",
    ",s.shipment_id as shipment_id_outbound\n",
    ",s.tracking_number as shipment_tracking_number_outbound\n",
    ",s.pickup_time as shipment_pickup_time_outbound\n",
    ",s.delivery_time as shipment_delivery_time_outbound\n",
    ",'USE' as region\n",
    "from\n",
    "[use_core].[dbo].[order] o\n",
    "INNER JOIN single_kit_orders sko ON sko.order_id = o.order_id\n",
    "INNER JOIN [use_core].[dbo].[order_item] oi ON o.order_id = oi.order_id\n",
    "INNER JOIN [use_core].[dbo].[batch_item] bi ON bi.[batch_item_id] = oi.[batch_item_id]\n",
    "INNER JOIN [use_core].[dbo].[batch] ba ON bi.[batch_id] = ba.[batch_id]\n",
    "INNER JOIN [use_core].[dbo].[order_shipment] os ON os.order_id= o.order_id\n",
    "INNER JOIN [use_core].[dbo].[shipment] s ON s.shipment_id = os.shipment_id and s.direction = 0\n",
    "INNER JOIN [use_core].[dbo].[dimension_shipment_provider] sp on s.provider_id = sp.[value]\n",
    "LEFT JOIN [use_core].[dbo].[test_kit] AS tk  ON tk.test_kit_id = oi.test_kit_id\n",
    "LEFT JOIN [use_core].[dbo].[reseller] AS re ON re.reseller_id = ba.reseller_id\n",
    "LEFT JOIN [use_core].[dbo].[opt_in] opt ON o.order_id = opt.order_id\n",
    "LEFT JOIN [use_core].[dbo].[payer_program_instance] ins ON ins.program_instance_id = opt.program_instance_id\n",
    "LEFT JOIN [use_core].[dbo].[payer_program] p ON ins.program_id = p.program_id\n",
    "where o.[is_internal] = 0\n",
    "\n",
    "UNION\n",
    "select\n",
    "re.[name] as reseller_name\n",
    ",p.pretty_name as payer_program_pretty_name\n",
    ",o.order_id\n",
    ",o.dta000 as order_created_at_outbound\n",
    ",bi.barcoded_id\n",
    ",sp.[name] as shipment_provider_name_outbound\n",
    ",s.[level] as shipment_level_outbound\n",
    ",tk.[name] as test_kit_name\n",
    ",o.actual_dispatch_time as order_actual_dispatch_time\n",
    ",s.shipment_id as shipment_id_outbound\n",
    ",s.tracking_number as shipment_tracking_number_outbound\n",
    ",s.pickup_time as shipment_delivery_time_outbound\n",
    ",s.delivery_time as shipment_delivery_time_outbound\n",
    ",'EUW' as region\n",
    "from\n",
    "[euw_core].[dbo].[order] o\n",
    "INNER JOIN single_kit_orders sko ON sko.order_id = o.order_id\n",
    "INNER JOIN [euw_core].[dbo].[order_item] oi ON o.order_id = oi.order_id\n",
    "INNER JOIN [euw_core].[dbo].[batch_item] bi ON bi.[batch_item_id] = oi.[batch_item_id]\n",
    "INNER JOIN [euw_core].[dbo].[batch] ba ON bi.[batch_id] = ba.[batch_id]\n",
    "INNER JOIN [euw_core].[dbo].[order_shipment] os ON os.order_id= o.order_id\n",
    "INNER JOIN [euw_core].[dbo].[shipment] s ON s.shipment_id = os.shipment_id and s.direction = 0\n",
    "INNER JOIN [euw_core].[dbo].[dimension_shipment_provider] sp on s.provider_id = sp.[value]\n",
    "LEFT JOIN [euw_core].[dbo].[test_kit] AS tk  ON tk.test_kit_id = oi.test_kit_id\n",
    "LEFT JOIN [euw_core].[dbo].[reseller] AS re ON re.reseller_id = ba.reseller_id\n",
    "LEFT JOIN [euw_core].[dbo].[opt_in] opt ON o.order_id = opt.order_id\n",
    "LEFT JOIN [euw_core].[dbo].[payer_program_instance] ins ON ins.program_instance_id = opt.program_instance_id\n",
    "LEFT JOIN [euw_core].[dbo].[payer_program] p ON ins.program_id = p.program_id\n",
    "where o.[is_internal] = 0),\n",
    "\n",
    "inbound AS (select\n",
    "o.order_id\n",
    ",o.dta000 as order_created_at_inbound\n",
    ",bi.barcoded_id\n",
    ",sp.[name] as shipment_provider_name_inbound\n",
    ",s.shipment_id as shipment_id_inbound\n",
    ",s.[level] as shipment_level_inbound\n",
    ",s.tracking_number as shipment_tracking_number_inbound\n",
    ",s.pickup_time as shipment_pickup_time_inbound\n",
    ",s.delivery_time as shipment_delivery_time_inbound\n",
    ",'USE' as region\n",
    "from [use_core].[dbo].[order] o\n",
    "INNER JOIN single_kit_orders sko ON sko.order_id = o.order_id\n",
    "INNER JOIN [use_core].[dbo].[order_item] oi ON o.order_id = oi.order_id\n",
    "INNER JOIN [use_core].[dbo].[batch_item] bi ON bi.[batch_item_id] = oi.[batch_item_id]\n",
    "INNER JOIN [use_core].[dbo].[shipment] s ON s.shipment_id = bi.shipment_id\n",
    "INNER JOIN [use_core].[dbo].[dimension_shipment_provider] sp on s.provider_id = sp.[value]\n",
    "where o.[is_internal] = 0\n",
    "\n",
    "UNION\n",
    "select\n",
    "o.order_id\n",
    ",o.dta000 as order_created_at_inbound\n",
    ",bi.barcoded_id\n",
    ",sp.[name] as shipment_provider_name_inbound\n",
    ",s.shipment_id as shipment_id_inbound\n",
    ",s.[level] as shipment_level_inbound\n",
    ",s.tracking_number as shipment_tracking_number_inbound\n",
    ",s.pickup_time as shipment_pickup_time_inbound\n",
    ",s.delivery_time as shipment_delivery_time_inbound\n",
    ",'EUW' as region\n",
    "from [euw_core].[dbo].[order] o\n",
    "INNER JOIN single_kit_orders sko ON sko.order_id = o.order_id\n",
    "INNER JOIN [euw_core].[dbo].[order_item] oi ON o.order_id = oi.order_id\n",
    "INNER JOIN [euw_core].[dbo].[batch_item] bi ON bi.[batch_item_id] = oi.[batch_item_id]\n",
    "INNER JOIN [euw_core].[dbo].[shipment] s ON s.shipment_id = bi.shipment_id\n",
    "INNER JOIN [euw_core].[dbo].[dimension_shipment_provider] sp on s.provider_id = sp.[value]\n",
    "where o.[is_internal] = 0)\n",
    "\n",
    "select\n",
    "CONCAT(CONCAT(COALESCE(outbound.barcoded_id,-1),'_'),COALESCE(outbound.shipment_id_outbound,-1)) as bi_shipment_id\n",
    ",outbound.order_created_at_outbound\n",
    ",outbound.reseller_name\n",
    ",outbound.payer_program_pretty_name\n",
    ",outbound.region\n",
    ",outbound.order_id\n",
    ",outbound.barcoded_id\n",
    ",outbound.shipment_id_outbound\n",
    ",outbound.test_kit_name\n",
    ",outbound.order_actual_dispatch_time\n",
    ",outbound.shipment_provider_name_outbound\n",
    ",outbound.shipment_level_outbound\n",
    ",outbound.shipment_tracking_number_outbound\n",
    ",inbound.order_created_at_inbound\n",
    ",inbound.shipment_provider_name_inbound\n",
    ",inbound.shipment_level_inbound\n",
    ",inbound.shipment_tracking_number_inbound\n",
    ",inbound.shipment_id_inbound\n",
    ",outbound.shipment_pickup_time_outbound\n",
    ",outbound.shipment_delivery_time_outbound\n",
    ",inbound.shipment_pickup_time_inbound\n",
    ",inbound.shipment_delivery_time_inbound\n",
    "from outbound\n",
    "left join inbound\n",
    "ON outbound.barcoded_id = inbound.barcoded_id AND outbound.region = inbound.region\n",
    "where convert(date,outbound.order_created_at_outbound) < '2021-01-01'\n",
    "order by CONCAT(CONCAT(COALESCE(outbound.barcoded_id,-1),'_'),COALESCE(outbound.shipment_id_outbound,-1)) ASC\n",
    "\"\"\"\n",
    "rds_df1_part2 = pd.read_sql_query(rds_sql1_part2, cnxn)\n",
    "rds_df1_part2.head()"
   ]
  },
  {
   "cell_type": "code",
   "execution_count": 18,
   "id": "8edd7cd5",
   "metadata": {},
   "outputs": [
    {
     "data": {
      "text/plain": [
       "(535962, 22)"
      ]
     },
     "execution_count": 18,
     "metadata": {},
     "output_type": "execute_result"
    }
   ],
   "source": [
    "## to see the total of records and columns\n",
    "rds_df1_part2.shape"
   ]
  },
  {
   "cell_type": "code",
   "execution_count": 19,
   "id": "41ef1666",
   "metadata": {},
   "outputs": [
    {
     "data": {
      "text/html": [
       "<div>\n",
       "<style scoped>\n",
       "    .dataframe tbody tr th:only-of-type {\n",
       "        vertical-align: middle;\n",
       "    }\n",
       "\n",
       "    .dataframe tbody tr th {\n",
       "        vertical-align: top;\n",
       "    }\n",
       "\n",
       "    .dataframe thead th {\n",
       "        text-align: right;\n",
       "    }\n",
       "</style>\n",
       "<table border=\"1\" class=\"dataframe\">\n",
       "  <thead>\n",
       "    <tr style=\"text-align: right;\">\n",
       "      <th></th>\n",
       "      <th>bi_shipment_id</th>\n",
       "      <th>order_created_at_outbound</th>\n",
       "      <th>reseller_name</th>\n",
       "      <th>payer_program_pretty_name</th>\n",
       "      <th>region</th>\n",
       "      <th>order_id</th>\n",
       "      <th>barcoded_id</th>\n",
       "      <th>shipment_id_outbound</th>\n",
       "      <th>test_kit_name</th>\n",
       "      <th>order_actual_dispatch_time</th>\n",
       "      <th>...</th>\n",
       "      <th>shipment_tracking_number_outbound</th>\n",
       "      <th>order_created_at_inbound</th>\n",
       "      <th>shipment_provider_name_inbound</th>\n",
       "      <th>shipment_level_inbound</th>\n",
       "      <th>shipment_tracking_number_inbound</th>\n",
       "      <th>shipment_id_inbound</th>\n",
       "      <th>shipment_pickup_time_outbound</th>\n",
       "      <th>shipment_delivery_time_outbound</th>\n",
       "      <th>shipment_pickup_time_inbound</th>\n",
       "      <th>shipment_delivery_time_inbound</th>\n",
       "    </tr>\n",
       "  </thead>\n",
       "  <tbody>\n",
       "    <tr>\n",
       "      <th>0</th>\n",
       "      <td>100003742755_101391128</td>\n",
       "      <td>2020-11-18 11:28:06.690</td>\n",
       "      <td>Fidelity</td>\n",
       "      <td>FIDELITYCOVID19</td>\n",
       "      <td>USE</td>\n",
       "      <td>100292869</td>\n",
       "      <td>100003742755</td>\n",
       "      <td>101391128</td>\n",
       "      <td>COVID-19 Home Test (PCR Lower Nasal)</td>\n",
       "      <td>2020-11-18 15:26:46.320</td>\n",
       "      <td>...</td>\n",
       "      <td>1ZWV28014424426531</td>\n",
       "      <td>2020-11-18 11:28:06.690</td>\n",
       "      <td>UPS</td>\n",
       "      <td>Next Day Air</td>\n",
       "      <td>1Z550F28Y092170518</td>\n",
       "      <td>100914328.0</td>\n",
       "      <td>2020-11-18 20:46:16</td>\n",
       "      <td>2020-11-19 09:36:35</td>\n",
       "      <td>NaT</td>\n",
       "      <td>2020-11-21 10:07:30</td>\n",
       "    </tr>\n",
       "    <tr>\n",
       "      <th>1</th>\n",
       "      <td>100004370467_101893808</td>\n",
       "      <td>2020-12-26 09:20:36.823</td>\n",
       "      <td>www.letsgetchecked.com</td>\n",
       "      <td>None</td>\n",
       "      <td>USE</td>\n",
       "      <td>100386844</td>\n",
       "      <td>100004370467</td>\n",
       "      <td>101893808</td>\n",
       "      <td>COVID-19 Home Test (PCR Lower Nasal)</td>\n",
       "      <td>2020-12-26 15:36:50.397</td>\n",
       "      <td>...</td>\n",
       "      <td>1ZWV28014432851691</td>\n",
       "      <td>2020-12-26 09:20:36.823</td>\n",
       "      <td>UPS</td>\n",
       "      <td>Next Day Air</td>\n",
       "      <td>1Z550F28Y011699832</td>\n",
       "      <td>101646453.0</td>\n",
       "      <td>2020-12-28 19:16:09</td>\n",
       "      <td>2020-12-29 14:17:21</td>\n",
       "      <td>NaT</td>\n",
       "      <td>NaT</td>\n",
       "    </tr>\n",
       "    <tr>\n",
       "      <th>2</th>\n",
       "      <td>100004472400_101499810</td>\n",
       "      <td>2020-12-03 15:42:43.100</td>\n",
       "      <td>BS - Yellowstone Club Pre-arrival</td>\n",
       "      <td>BSYELLOWSTONEPREARRIVALCOVID</td>\n",
       "      <td>USE</td>\n",
       "      <td>100343660</td>\n",
       "      <td>100004472400</td>\n",
       "      <td>101499810</td>\n",
       "      <td>COVID-19 (PCR Lower Nasal)</td>\n",
       "      <td>2020-12-03 23:34:58.033</td>\n",
       "      <td>...</td>\n",
       "      <td>1ZWV28014439278914</td>\n",
       "      <td>2020-12-03 15:42:43.100</td>\n",
       "      <td>UPS</td>\n",
       "      <td>Next Day Air</td>\n",
       "      <td>1Z550F28Y013558141</td>\n",
       "      <td>101163535.0</td>\n",
       "      <td>2020-12-03 19:49:01</td>\n",
       "      <td>2020-12-04 12:48:55</td>\n",
       "      <td>2020-12-21 16:21:32</td>\n",
       "      <td>2020-12-22 08:33:28</td>\n",
       "    </tr>\n",
       "    <tr>\n",
       "      <th>3</th>\n",
       "      <td>100009629350_101489232</td>\n",
       "      <td>2020-12-03 10:51:58.227</td>\n",
       "      <td>United Health Group</td>\n",
       "      <td>UHCMEDICAREHEPC</td>\n",
       "      <td>USE</td>\n",
       "      <td>100333692</td>\n",
       "      <td>100009629350</td>\n",
       "      <td>101489232</td>\n",
       "      <td>Hep C</td>\n",
       "      <td>2020-12-07 22:41:30.120</td>\n",
       "      <td>...</td>\n",
       "      <td>9400116902881675927238</td>\n",
       "      <td>2020-12-03 10:51:58.227</td>\n",
       "      <td>UPS</td>\n",
       "      <td>Next Day Air</td>\n",
       "      <td>1Z550F28Y089964828</td>\n",
       "      <td>101629583.0</td>\n",
       "      <td>NaT</td>\n",
       "      <td>2020-12-11 10:58:00</td>\n",
       "      <td>NaT</td>\n",
       "      <td>NaT</td>\n",
       "    </tr>\n",
       "    <tr>\n",
       "      <th>4</th>\n",
       "      <td>100011905254_77421</td>\n",
       "      <td>2019-12-02 18:29:00.997</td>\n",
       "      <td>www.letsgetchecked.com</td>\n",
       "      <td>None</td>\n",
       "      <td>EUW</td>\n",
       "      <td>99908</td>\n",
       "      <td>100011905254</td>\n",
       "      <td>77421</td>\n",
       "      <td>Simple 2</td>\n",
       "      <td>2019-12-03 11:26:33.453</td>\n",
       "      <td>...</td>\n",
       "      <td>LG044647425IE</td>\n",
       "      <td>NaT</td>\n",
       "      <td>None</td>\n",
       "      <td>None</td>\n",
       "      <td>None</td>\n",
       "      <td>NaN</td>\n",
       "      <td>NaT</td>\n",
       "      <td>NaT</td>\n",
       "      <td>NaT</td>\n",
       "      <td>NaT</td>\n",
       "    </tr>\n",
       "  </tbody>\n",
       "</table>\n",
       "<p>5 rows × 22 columns</p>\n",
       "</div>"
      ],
      "text/plain": [
       "           bi_shipment_id order_created_at_outbound  \\\n",
       "0  100003742755_101391128   2020-11-18 11:28:06.690   \n",
       "1  100004370467_101893808   2020-12-26 09:20:36.823   \n",
       "2  100004472400_101499810   2020-12-03 15:42:43.100   \n",
       "3  100009629350_101489232   2020-12-03 10:51:58.227   \n",
       "4      100011905254_77421   2019-12-02 18:29:00.997   \n",
       "\n",
       "                       reseller_name     payer_program_pretty_name region  \\\n",
       "0                           Fidelity               FIDELITYCOVID19    USE   \n",
       "1             www.letsgetchecked.com                          None    USE   \n",
       "2  BS - Yellowstone Club Pre-arrival  BSYELLOWSTONEPREARRIVALCOVID    USE   \n",
       "3                United Health Group               UHCMEDICAREHEPC    USE   \n",
       "4             www.letsgetchecked.com                          None    EUW   \n",
       "\n",
       "    order_id   barcoded_id  shipment_id_outbound  \\\n",
       "0  100292869  100003742755             101391128   \n",
       "1  100386844  100004370467             101893808   \n",
       "2  100343660  100004472400             101499810   \n",
       "3  100333692  100009629350             101489232   \n",
       "4      99908  100011905254                 77421   \n",
       "\n",
       "                          test_kit_name order_actual_dispatch_time  ...  \\\n",
       "0  COVID-19 Home Test (PCR Lower Nasal)    2020-11-18 15:26:46.320  ...   \n",
       "1  COVID-19 Home Test (PCR Lower Nasal)    2020-12-26 15:36:50.397  ...   \n",
       "2            COVID-19 (PCR Lower Nasal)    2020-12-03 23:34:58.033  ...   \n",
       "3                                 Hep C    2020-12-07 22:41:30.120  ...   \n",
       "4                              Simple 2    2019-12-03 11:26:33.453  ...   \n",
       "\n",
       "  shipment_tracking_number_outbound order_created_at_inbound  \\\n",
       "0                1ZWV28014424426531  2020-11-18 11:28:06.690   \n",
       "1                1ZWV28014432851691  2020-12-26 09:20:36.823   \n",
       "2                1ZWV28014439278914  2020-12-03 15:42:43.100   \n",
       "3            9400116902881675927238  2020-12-03 10:51:58.227   \n",
       "4                     LG044647425IE                      NaT   \n",
       "\n",
       "  shipment_provider_name_inbound shipment_level_inbound  \\\n",
       "0                            UPS           Next Day Air   \n",
       "1                            UPS           Next Day Air   \n",
       "2                            UPS           Next Day Air   \n",
       "3                            UPS           Next Day Air   \n",
       "4                           None                   None   \n",
       "\n",
       "  shipment_tracking_number_inbound shipment_id_inbound  \\\n",
       "0               1Z550F28Y092170518         100914328.0   \n",
       "1               1Z550F28Y011699832         101646453.0   \n",
       "2               1Z550F28Y013558141         101163535.0   \n",
       "3               1Z550F28Y089964828         101629583.0   \n",
       "4                             None                 NaN   \n",
       "\n",
       "  shipment_pickup_time_outbound  shipment_delivery_time_outbound  \\\n",
       "0           2020-11-18 20:46:16              2020-11-19 09:36:35   \n",
       "1           2020-12-28 19:16:09              2020-12-29 14:17:21   \n",
       "2           2020-12-03 19:49:01              2020-12-04 12:48:55   \n",
       "3                           NaT              2020-12-11 10:58:00   \n",
       "4                           NaT                              NaT   \n",
       "\n",
       "  shipment_pickup_time_inbound shipment_delivery_time_inbound  \n",
       "0                          NaT            2020-11-21 10:07:30  \n",
       "1                          NaT                            NaT  \n",
       "2          2020-12-21 16:21:32            2020-12-22 08:33:28  \n",
       "3                          NaT                            NaT  \n",
       "4                          NaT                            NaT  \n",
       "\n",
       "[5 rows x 22 columns]"
      ]
     },
     "execution_count": 19,
     "metadata": {},
     "output_type": "execute_result"
    }
   ],
   "source": [
    "## to append the 2 dataframes into 1 - RDS ##\n",
    "rds_df1 = rds_df1_part2.append(rds_df1_part1, ignore_index=False)\n",
    "rds_df1.head()"
   ]
  },
  {
   "cell_type": "code",
   "execution_count": 20,
   "id": "1b2f2ea5",
   "metadata": {},
   "outputs": [
    {
     "data": {
      "text/html": [
       "<div>\n",
       "<style scoped>\n",
       "    .dataframe tbody tr th:only-of-type {\n",
       "        vertical-align: middle;\n",
       "    }\n",
       "\n",
       "    .dataframe tbody tr th {\n",
       "        vertical-align: top;\n",
       "    }\n",
       "\n",
       "    .dataframe thead th {\n",
       "        text-align: right;\n",
       "    }\n",
       "</style>\n",
       "<table border=\"1\" class=\"dataframe\">\n",
       "  <thead>\n",
       "    <tr style=\"text-align: right;\">\n",
       "      <th></th>\n",
       "      <th>bi_shipment_id</th>\n",
       "      <th>reseller_name</th>\n",
       "      <th>order_id</th>\n",
       "      <th>order_actual_dispatch_time</th>\n",
       "      <th>order_created_at_outbound</th>\n",
       "      <th>barcoded_id</th>\n",
       "      <th>test_kit_name</th>\n",
       "      <th>shipment_id_outbound</th>\n",
       "      <th>shipment_provider_name_outbound</th>\n",
       "      <th>shipment_level_outbound</th>\n",
       "      <th>...</th>\n",
       "      <th>shipment_provider_name_inbound</th>\n",
       "      <th>shipment_level_inbound</th>\n",
       "      <th>shipment_tracking_number_inbound</th>\n",
       "      <th>shipment_pickup_time_outbound</th>\n",
       "      <th>shipment_delivery_time_outbound</th>\n",
       "      <th>shipment_pickup_time_inbound</th>\n",
       "      <th>shipment_delivery_time_inbound</th>\n",
       "      <th>payer_program_pretty_name</th>\n",
       "      <th>created_at</th>\n",
       "      <th>updated_at</th>\n",
       "    </tr>\n",
       "  </thead>\n",
       "  <tbody>\n",
       "  </tbody>\n",
       "</table>\n",
       "<p>0 rows × 23 columns</p>\n",
       "</div>"
      ],
      "text/plain": [
       "Empty DataFrame\n",
       "Columns: [bi_shipment_id, reseller_name, order_id, order_actual_dispatch_time, order_created_at_outbound, barcoded_id, test_kit_name, shipment_id_outbound, shipment_provider_name_outbound, shipment_level_outbound, shipment_tracking_number_outbound, shipment_id_inbound, order_created_at_inbound, shipment_provider_name_inbound, shipment_level_inbound, shipment_tracking_number_inbound, shipment_pickup_time_outbound, shipment_delivery_time_outbound, shipment_pickup_time_inbound, shipment_delivery_time_inbound, payer_program_pretty_name, created_at, updated_at]\n",
       "Index: []\n",
       "\n",
       "[0 rows x 23 columns]"
      ]
     },
     "execution_count": 20,
     "metadata": {},
     "output_type": "execute_result"
    }
   ],
   "source": [
    "##to find the records not present in RDS, just in the Redshift side\n",
    "dfm = red_df1_part1[~ red_df1_part1[\"bi_shipment_id\"].isin(rds_df1_part1[\"bi_shipment_id\"])]\n",
    "dfm"
   ]
  },
  {
   "cell_type": "code",
   "execution_count": 25,
   "id": "b5fb144a",
   "metadata": {},
   "outputs": [],
   "source": [
    "dfm.to_csv('records_not_present_RDS_bi_shipment_20210120.csv', index=False)"
   ]
  },
  {
   "cell_type": "code",
   "execution_count": null,
   "id": "2593f6e0",
   "metadata": {},
   "outputs": [],
   "source": []
  },
  {
   "cell_type": "markdown",
   "id": "5599e3c8",
   "metadata": {},
   "source": [
    "## Understand basic information about the RDS dataframe"
   ]
  },
  {
   "cell_type": "code",
   "execution_count": 21,
   "id": "a827170c",
   "metadata": {},
   "outputs": [
    {
     "data": {
      "text/plain": [
       "(1329201, 22)"
      ]
     },
     "execution_count": 21,
     "metadata": {},
     "output_type": "execute_result"
    }
   ],
   "source": [
    "## to see the total of records and columns\n",
    "rds_df1.shape"
   ]
  },
  {
   "cell_type": "code",
   "execution_count": 22,
   "id": "9c1861e4",
   "metadata": {},
   "outputs": [
    {
     "name": "stdout",
     "output_type": "stream",
     "text": [
      "<class 'pandas.core.frame.DataFrame'>\n",
      "Int64Index: 1329201 entries, 0 to 793238\n",
      "Data columns (total 22 columns):\n",
      " #   Column                             Non-Null Count    Dtype         \n",
      "---  ------                             --------------    -----         \n",
      " 0   bi_shipment_id                     1329201 non-null  object        \n",
      " 1   order_created_at_outbound          1329201 non-null  datetime64[ns]\n",
      " 2   reseller_name                      1329201 non-null  object        \n",
      " 3   payer_program_pretty_name          725642 non-null   object        \n",
      " 4   region                             1329201 non-null  object        \n",
      " 5   order_id                           1329201 non-null  int64         \n",
      " 6   barcoded_id                        1329201 non-null  int64         \n",
      " 7   shipment_id_outbound               1329201 non-null  int64         \n",
      " 8   test_kit_name                      1329201 non-null  object        \n",
      " 9   order_actual_dispatch_time         1325921 non-null  datetime64[ns]\n",
      " 10  shipment_provider_name_outbound    1329201 non-null  object        \n",
      " 11  shipment_level_outbound            1329201 non-null  object        \n",
      " 12  shipment_tracking_number_outbound  1329201 non-null  object        \n",
      " 13  order_created_at_inbound           1063617 non-null  datetime64[ns]\n",
      " 14  shipment_provider_name_inbound     1063617 non-null  object        \n",
      " 15  shipment_level_inbound             1063617 non-null  object        \n",
      " 16  shipment_tracking_number_inbound   1063617 non-null  object        \n",
      " 17  shipment_id_inbound                1063617 non-null  float64       \n",
      " 18  shipment_pickup_time_outbound      1058181 non-null  datetime64[ns]\n",
      " 19  shipment_delivery_time_outbound    1004562 non-null  datetime64[ns]\n",
      " 20  shipment_pickup_time_inbound       488498 non-null   datetime64[ns]\n",
      " 21  shipment_delivery_time_inbound     456837 non-null   datetime64[ns]\n",
      "dtypes: datetime64[ns](7), float64(1), int64(3), object(11)\n",
      "memory usage: 233.2+ MB\n"
     ]
    }
   ],
   "source": [
    "## to see the basic information about the dataframe\n",
    "rds_df1.info()"
   ]
  },
  {
   "cell_type": "code",
   "execution_count": 23,
   "id": "30562d4d",
   "metadata": {},
   "outputs": [
    {
     "data": {
      "text/plain": [
       "bi_shipment_id                            0\n",
       "order_created_at_outbound                 0\n",
       "reseller_name                             0\n",
       "payer_program_pretty_name            603559\n",
       "region                                    0\n",
       "order_id                                  0\n",
       "barcoded_id                               0\n",
       "shipment_id_outbound                      0\n",
       "test_kit_name                             0\n",
       "order_actual_dispatch_time             3280\n",
       "shipment_provider_name_outbound           0\n",
       "shipment_level_outbound                   0\n",
       "shipment_tracking_number_outbound         0\n",
       "order_created_at_inbound             265584\n",
       "shipment_provider_name_inbound       265584\n",
       "shipment_level_inbound               265584\n",
       "shipment_tracking_number_inbound     265584\n",
       "shipment_id_inbound                  265584\n",
       "shipment_pickup_time_outbound        271020\n",
       "shipment_delivery_time_outbound      324639\n",
       "shipment_pickup_time_inbound         840703\n",
       "shipment_delivery_time_inbound       872364\n",
       "dtype: int64"
      ]
     },
     "execution_count": 23,
     "metadata": {},
     "output_type": "execute_result"
    }
   ],
   "source": [
    "## to detect null values in the dataframe\n",
    "rds_df1.isnull().sum()"
   ]
  },
  {
   "cell_type": "markdown",
   "id": "5d8cdfb2",
   "metadata": {},
   "source": [
    "## Checking the total of records between Redshift and RDS"
   ]
  },
  {
   "cell_type": "code",
   "execution_count": 24,
   "id": "4144218c",
   "metadata": {},
   "outputs": [
    {
     "data": {
      "text/plain": [
       "True"
      ]
     },
     "execution_count": 24,
     "metadata": {},
     "output_type": "execute_result"
    }
   ],
   "source": [
    "## validation of the total of records between Redshift and RDS\n",
    "total_records = red_df1.shape[0] == rds_df1.shape[0]\n",
    "total_records"
   ]
  },
  {
   "cell_type": "code",
   "execution_count": 25,
   "id": "42a9f672",
   "metadata": {},
   "outputs": [
    {
     "data": {
      "text/plain": [
       "Index(['bi_shipment_id', 'reseller_name', 'order_id',\n",
       "       'order_actual_dispatch_time', 'order_created_at_outbound',\n",
       "       'barcoded_id', 'test_kit_name', 'shipment_id_outbound',\n",
       "       'shipment_provider_name_outbound', 'shipment_level_outbound',\n",
       "       'shipment_tracking_number_outbound', 'shipment_id_inbound',\n",
       "       'order_created_at_inbound', 'shipment_provider_name_inbound',\n",
       "       'shipment_level_inbound', 'shipment_tracking_number_inbound',\n",
       "       'shipment_pickup_time_outbound', 'shipment_delivery_time_outbound',\n",
       "       'shipment_pickup_time_inbound', 'shipment_delivery_time_inbound',\n",
       "       'payer_program_pretty_name', 'created_at', 'updated_at'],\n",
       "      dtype='object')"
      ]
     },
     "execution_count": 25,
     "metadata": {},
     "output_type": "execute_result"
    }
   ],
   "source": [
    "## to see the column names of the Redshift dataframe\n",
    "red_df1.columns"
   ]
  },
  {
   "cell_type": "code",
   "execution_count": 26,
   "id": "19b23d09",
   "metadata": {},
   "outputs": [
    {
     "data": {
      "text/plain": [
       "Index(['bi_shipment_id', 'order_created_at_outbound', 'reseller_name',\n",
       "       'payer_program_pretty_name', 'region', 'order_id', 'barcoded_id',\n",
       "       'shipment_id_outbound', 'test_kit_name', 'order_actual_dispatch_time',\n",
       "       'shipment_provider_name_outbound', 'shipment_level_outbound',\n",
       "       'shipment_tracking_number_outbound', 'order_created_at_inbound',\n",
       "       'shipment_provider_name_inbound', 'shipment_level_inbound',\n",
       "       'shipment_tracking_number_inbound', 'shipment_id_inbound',\n",
       "       'shipment_pickup_time_outbound', 'shipment_delivery_time_outbound',\n",
       "       'shipment_pickup_time_inbound', 'shipment_delivery_time_inbound'],\n",
       "      dtype='object')"
      ]
     },
     "execution_count": 26,
     "metadata": {},
     "output_type": "execute_result"
    }
   ],
   "source": [
    "## to see the column names of the RDS dataframe\n",
    "rds_df1.columns"
   ]
  },
  {
   "cell_type": "markdown",
   "id": "bcf1b4ec",
   "metadata": {},
   "source": [
    "## Checking the columns name between RDS and Redshift"
   ]
  },
  {
   "cell_type": "code",
   "execution_count": 27,
   "id": "837a2581",
   "metadata": {},
   "outputs": [
    {
     "data": {
      "text/plain": [
       "Index(['region'], dtype='object')"
      ]
     },
     "execution_count": 27,
     "metadata": {},
     "output_type": "execute_result"
    }
   ],
   "source": [
    "## to find the columns required by BI team, but not present in the DAL object in Redshift\n",
    "columns_not_present_dal_object = rds_df1.columns.difference(red_df1.columns)\n",
    "columns_not_present_dal_object"
   ]
  },
  {
   "cell_type": "markdown",
   "id": "aaadbbc2",
   "metadata": {},
   "source": [
    "## Checking the match records, mistach and nulls"
   ]
  },
  {
   "cell_type": "code",
   "execution_count": 28,
   "id": "fb6ca843",
   "metadata": {},
   "outputs": [],
   "source": [
    "rds_df1_drop=rds_df1.sort_values(['bi_shipment_id']).set_index('bi_shipment_id', drop=False)\n",
    "red_df1_drop=red_df1.sort_values(['bi_shipment_id']).set_index('bi_shipment_id', drop=False)"
   ]
  },
  {
   "cell_type": "markdown",
   "id": "33ad3a1d",
   "metadata": {},
   "source": [
    "### 1- bi_shipment_id"
   ]
  },
  {
   "cell_type": "code",
   "execution_count": 29,
   "id": "dab34713",
   "metadata": {},
   "outputs": [],
   "source": [
    "diff_bi_shipment_id = True if rds_df1_drop['bi_shipment_id'].compare(red_df1_drop['bi_shipment_id']).shape[0] == 0 else False\n",
    "bi_shipment_id_not_match = rds_df1_drop['bi_shipment_id'].compare(red_df1_drop['bi_shipment_id']).shape[0]"
   ]
  },
  {
   "cell_type": "code",
   "execution_count": 30,
   "id": "ce95dbaa",
   "metadata": {},
   "outputs": [
    {
     "name": "stdout",
     "output_type": "stream",
     "text": [
      "Column is the same in both tables? True\n",
      "There are 0 records that don't match\n",
      "Null values in SQL: 0 null values\n",
      "Null values in Redshift: 0 null values\n"
     ]
    }
   ],
   "source": [
    "print(\"Column is the same in both tables? {}\".format(diff_bi_shipment_id))\n",
    "print(\"There are {} records that don't match\".format(bi_shipment_id_not_match))\n",
    "print(\"Null values in SQL: {} null values\".format(rds_df1_drop['bi_shipment_id'].isnull().sum()))\n",
    "print(\"Null values in Redshift: {} null values\".format(red_df1_drop['bi_shipment_id'].isnull().sum()))"
   ]
  },
  {
   "cell_type": "markdown",
   "id": "0c0ad4d1",
   "metadata": {},
   "source": [
    "### 2- reseller_name "
   ]
  },
  {
   "cell_type": "code",
   "execution_count": 31,
   "id": "b11f60b8",
   "metadata": {},
   "outputs": [],
   "source": [
    "diff_reseller_name = True if rds_df1_drop['reseller_name'].compare(red_df1_drop['reseller_name']).shape[0] == 0 else False\n",
    "reseller_name_not_match = rds_df1_drop['reseller_name'].compare(red_df1_drop['reseller_name']).shape[0]"
   ]
  },
  {
   "cell_type": "code",
   "execution_count": 32,
   "id": "de8a06ee",
   "metadata": {},
   "outputs": [
    {
     "name": "stdout",
     "output_type": "stream",
     "text": [
      "Column is the same in both tables? True\n",
      "There are 0 records that don't match\n",
      "Null values in SQL: 0 null values\n",
      "Null values in Redshift: 0 null values\n"
     ]
    }
   ],
   "source": [
    "print(\"Column is the same in both tables? {}\".format(diff_reseller_name))\n",
    "print(\"There are {} records that don't match\".format(reseller_name_not_match))\n",
    "print(\"Null values in SQL: {} null values\".format(rds_df1_drop['reseller_name'].isnull().sum()))\n",
    "print(\"Null values in Redshift: {} null values\".format(red_df1_drop['reseller_name'].isnull().sum()))"
   ]
  },
  {
   "cell_type": "markdown",
   "id": "2a8ced2b",
   "metadata": {},
   "source": [
    "### 3- payer_program_pretty_name"
   ]
  },
  {
   "cell_type": "code",
   "execution_count": 33,
   "id": "b47adf99",
   "metadata": {},
   "outputs": [],
   "source": [
    "diff_payer_program_pretty_name = True if rds_df1_drop['payer_program_pretty_name'].compare(red_df1_drop['payer_program_pretty_name']).shape[0] == 0 else False\n",
    "payer_program_pretty_name_not_match = rds_df1_drop['payer_program_pretty_name'].compare(red_df1_drop['payer_program_pretty_name']).shape[0]"
   ]
  },
  {
   "cell_type": "code",
   "execution_count": 34,
   "id": "0b25c25d",
   "metadata": {},
   "outputs": [
    {
     "name": "stdout",
     "output_type": "stream",
     "text": [
      "Column is the same in both tables? True\n",
      "There are 0 records that don't match\n",
      "Null values in SQL: 603559 null values\n",
      "Null values in Redshift: 603559 null values\n"
     ]
    }
   ],
   "source": [
    "print(\"Column is the same in both tables? {}\".format(diff_payer_program_pretty_name))\n",
    "print(\"There are {} records that don't match\".format(payer_program_pretty_name_not_match))\n",
    "print(\"Null values in SQL: {} null values\".format(rds_df1_drop['payer_program_pretty_name'].isnull().sum()))\n",
    "print(\"Null values in Redshift: {} null values\".format(red_df1_drop['payer_program_pretty_name'].isnull().sum()))"
   ]
  },
  {
   "cell_type": "markdown",
   "id": "72490566",
   "metadata": {},
   "source": [
    "### 4- order_id"
   ]
  },
  {
   "cell_type": "code",
   "execution_count": 35,
   "id": "aa758911",
   "metadata": {},
   "outputs": [],
   "source": [
    "diff_order_id = True if rds_df1_drop['order_id'].compare(red_df1_drop['order_id']).shape[0] == 0 else False\n",
    "order_id_not_match = rds_df1_drop['order_id'].compare(red_df1_drop['order_id']).shape[0]"
   ]
  },
  {
   "cell_type": "code",
   "execution_count": 36,
   "id": "001db63f",
   "metadata": {},
   "outputs": [
    {
     "name": "stdout",
     "output_type": "stream",
     "text": [
      "Column is the same in both tables? True\n",
      "There are 0 records that don't match\n",
      "Null values in SQL: 0 null values\n",
      "Null values in Redshift: 0 null values\n"
     ]
    }
   ],
   "source": [
    "print(\"Column is the same in both tables? {}\".format(diff_order_id))\n",
    "print(\"There are {} records that don't match\".format(order_id_not_match))\n",
    "print(\"Null values in SQL: {} null values\".format(rds_df1_drop['order_id'].isnull().sum()))\n",
    "print(\"Null values in Redshift: {} null values\".format(red_df1_drop['order_id'].isnull().sum()))"
   ]
  },
  {
   "cell_type": "markdown",
   "id": "eac12005",
   "metadata": {},
   "source": [
    "### 5- barcoded_id"
   ]
  },
  {
   "cell_type": "code",
   "execution_count": 37,
   "id": "dad085d4",
   "metadata": {},
   "outputs": [],
   "source": [
    "diff_barcoded_id = True if rds_df1_drop['barcoded_id'].compare(red_df1_drop['barcoded_id']).shape[0] == 0 else False\n",
    "barcoded_id_not_match = rds_df1_drop['barcoded_id'].compare(red_df1_drop['barcoded_id']).shape[0]"
   ]
  },
  {
   "cell_type": "code",
   "execution_count": 38,
   "id": "56b9d2a3",
   "metadata": {},
   "outputs": [
    {
     "name": "stdout",
     "output_type": "stream",
     "text": [
      "Column is the same in both tables? True\n",
      "There are 0 records that don't match\n",
      "Null values in SQL: 0 null values\n",
      "Null values in Redshift: 0 null values\n"
     ]
    }
   ],
   "source": [
    "print(\"Column is the same in both tables? {}\".format(diff_barcoded_id))\n",
    "print(\"There are {} records that don't match\".format(barcoded_id_not_match))\n",
    "print(\"Null values in SQL: {} null values\".format(rds_df1_drop['barcoded_id'].isnull().sum()))\n",
    "print(\"Null values in Redshift: {} null values\".format(red_df1_drop['barcoded_id'].isnull().sum()))"
   ]
  },
  {
   "cell_type": "markdown",
   "id": "52653bd4",
   "metadata": {},
   "source": [
    "### 6- test_kit_name"
   ]
  },
  {
   "cell_type": "code",
   "execution_count": 39,
   "id": "84530016",
   "metadata": {},
   "outputs": [],
   "source": [
    "diff_test_kit_name = True if rds_df1_drop['test_kit_name'].compare(red_df1_drop['test_kit_name']).shape[0] == 0 else False\n",
    "test_kit_name_not_match = rds_df1_drop['test_kit_name'].compare(red_df1_drop['test_kit_name']).shape[0]"
   ]
  },
  {
   "cell_type": "code",
   "execution_count": 40,
   "id": "c0262582",
   "metadata": {},
   "outputs": [
    {
     "name": "stdout",
     "output_type": "stream",
     "text": [
      "Column is the same in both tables? True\n",
      "There are 0 records that don't match\n",
      "Null values in SQL: 0 null values\n",
      "Null values in Redshift: 0 null values\n"
     ]
    }
   ],
   "source": [
    "print(\"Column is the same in both tables? {}\".format(diff_test_kit_name))\n",
    "print(\"There are {} records that don't match\".format(test_kit_name_not_match))\n",
    "print(\"Null values in SQL: {} null values\".format(rds_df1_drop['test_kit_name'].isnull().sum()))\n",
    "print(\"Null values in Redshift: {} null values\".format(red_df1_drop['test_kit_name'].isnull().sum()))"
   ]
  },
  {
   "cell_type": "markdown",
   "id": "d297e479",
   "metadata": {},
   "source": [
    "### 7- order_actual_dispatch_time"
   ]
  },
  {
   "cell_type": "code",
   "execution_count": 41,
   "id": "826d2be1",
   "metadata": {},
   "outputs": [],
   "source": [
    "diff_order_actual_dispatch_time = True if rds_df1_drop['order_actual_dispatch_time'].compare(red_df1_drop['order_actual_dispatch_time']).shape[0] == 0 else False\n",
    "order_actual_dispatch_time_not_match = rds_df1_drop['order_actual_dispatch_time'].compare(red_df1_drop['order_actual_dispatch_time']).shape[0]"
   ]
  },
  {
   "cell_type": "code",
   "execution_count": 42,
   "id": "7994e821",
   "metadata": {},
   "outputs": [
    {
     "name": "stdout",
     "output_type": "stream",
     "text": [
      "Column is the same in both tables? True\n",
      "There are 0 records that don't match\n",
      "Null values in SQL: 3280 null values\n",
      "Null values in Redshift: 3280 null values\n"
     ]
    }
   ],
   "source": [
    "print(\"Column is the same in both tables? {}\".format(diff_order_actual_dispatch_time))\n",
    "print(\"There are {} records that don't match\".format(order_actual_dispatch_time_not_match))\n",
    "print(\"Null values in SQL: {} null values\".format(rds_df1_drop['order_actual_dispatch_time'].isnull().sum()))\n",
    "print(\"Null values in Redshift: {} null values\".format(red_df1_drop['order_actual_dispatch_time'].isnull().sum()))"
   ]
  },
  {
   "cell_type": "markdown",
   "id": "8458dfe5",
   "metadata": {},
   "source": [
    "### 8- shipment_id_outbound"
   ]
  },
  {
   "cell_type": "code",
   "execution_count": 43,
   "id": "f19db4e3",
   "metadata": {},
   "outputs": [],
   "source": [
    "diff_shipment_id_outbound = True if rds_df1_drop['shipment_id_outbound'].compare(red_df1_drop['shipment_id_outbound']).shape[0] == 0 else False\n",
    "shipment_id_outbound_not_match = rds_df1_drop['shipment_id_outbound'].compare(red_df1_drop['shipment_id_outbound']).shape[0]"
   ]
  },
  {
   "cell_type": "code",
   "execution_count": 44,
   "id": "600cd796",
   "metadata": {},
   "outputs": [
    {
     "name": "stdout",
     "output_type": "stream",
     "text": [
      "Column is the same in both tables? True\n",
      "There are 0 records that don't match\n",
      "Null values in SQL: 0 null values\n",
      "Null values in Redshift: 0 null values\n"
     ]
    }
   ],
   "source": [
    "print(\"Column is the same in both tables? {}\".format(diff_shipment_id_outbound))\n",
    "print(\"There are {} records that don't match\".format(shipment_id_outbound_not_match))\n",
    "print(\"Null values in SQL: {} null values\".format(rds_df1_drop['shipment_id_outbound'].isnull().sum()))\n",
    "print(\"Null values in Redshift: {} null values\".format(red_df1_drop['shipment_id_outbound'].isnull().sum()))"
   ]
  },
  {
   "cell_type": "markdown",
   "id": "34669a86",
   "metadata": {},
   "source": [
    "### 9- shipment_provider_name_outbound"
   ]
  },
  {
   "cell_type": "code",
   "execution_count": 45,
   "id": "6eb3be87",
   "metadata": {},
   "outputs": [],
   "source": [
    "diff_shipment_provider_name_outbound = True if rds_df1_drop['shipment_provider_name_outbound'].compare(red_df1_drop['shipment_provider_name_outbound']).shape[0] == 0 else False\n",
    "shipment_provider_name_outbound_not_match = rds_df1_drop['shipment_provider_name_outbound'].compare(red_df1_drop['shipment_provider_name_outbound']).shape[0]"
   ]
  },
  {
   "cell_type": "code",
   "execution_count": 46,
   "id": "89df2d51",
   "metadata": {},
   "outputs": [
    {
     "name": "stdout",
     "output_type": "stream",
     "text": [
      "Column is the same in both tables? True\n",
      "There are 0 records that don't match\n",
      "Null values in SQL: 0 null values\n",
      "Null values in Redshift: 0 null values\n"
     ]
    }
   ],
   "source": [
    "print(\"Column is the same in both tables? {}\".format(diff_shipment_provider_name_outbound))\n",
    "print(\"There are {} records that don't match\".format(shipment_provider_name_outbound_not_match))\n",
    "print(\"Null values in SQL: {} null values\".format(rds_df1_drop['shipment_provider_name_outbound'].isnull().sum()))\n",
    "print(\"Null values in Redshift: {} null values\".format(red_df1_drop['shipment_provider_name_outbound'].isnull().sum()))"
   ]
  },
  {
   "cell_type": "markdown",
   "id": "680522fc",
   "metadata": {},
   "source": [
    "### 10- shipment_level_outbound"
   ]
  },
  {
   "cell_type": "code",
   "execution_count": 47,
   "id": "9243ad61",
   "metadata": {},
   "outputs": [],
   "source": [
    "diff_shipment_level_outbound = True if rds_df1_drop['shipment_level_outbound'].compare(red_df1_drop['shipment_level_outbound']).shape[0] == 0 else False\n",
    "shipment_level_outbound_not_match = rds_df1_drop['shipment_level_outbound'].compare(red_df1_drop['shipment_level_outbound']).shape[0]"
   ]
  },
  {
   "cell_type": "code",
   "execution_count": 48,
   "id": "6b78c41d",
   "metadata": {},
   "outputs": [
    {
     "name": "stdout",
     "output_type": "stream",
     "text": [
      "Column is the same in both tables? True\n",
      "There are 0 records that don't match\n",
      "Null values in SQL: 0 null values\n",
      "Null values in Redshift: 0 null values\n"
     ]
    }
   ],
   "source": [
    "print(\"Column is the same in both tables? {}\".format(diff_shipment_level_outbound))\n",
    "print(\"There are {} records that don't match\".format(shipment_level_outbound_not_match))\n",
    "print(\"Null values in SQL: {} null values\".format(rds_df1_drop['shipment_level_outbound'].isnull().sum()))\n",
    "print(\"Null values in Redshift: {} null values\".format(red_df1_drop['shipment_level_outbound'].isnull().sum()))"
   ]
  },
  {
   "cell_type": "markdown",
   "id": "80e318a6",
   "metadata": {},
   "source": [
    "### 11- shipment_tracking_number_outbound"
   ]
  },
  {
   "cell_type": "code",
   "execution_count": 49,
   "id": "bc313c07",
   "metadata": {},
   "outputs": [],
   "source": [
    "diff_shipment_tracking_number_outbound = True if rds_df1_drop['shipment_tracking_number_outbound'].compare(red_df1_drop['shipment_tracking_number_outbound']).shape[0] == 0 else False\n",
    "shipment_tracking_number_outbound_not_match = rds_df1_drop['shipment_tracking_number_outbound'].compare(red_df1_drop['shipment_tracking_number_outbound']).shape[0]"
   ]
  },
  {
   "cell_type": "code",
   "execution_count": 50,
   "id": "971d8ae2",
   "metadata": {},
   "outputs": [
    {
     "name": "stdout",
     "output_type": "stream",
     "text": [
      "Column is the same in both tables? True\n",
      "There are 0 records that don't match\n",
      "Null values in SQL: 0 null values\n",
      "Null values in Redshift: 0 null values\n"
     ]
    }
   ],
   "source": [
    "print(\"Column is the same in both tables? {}\".format(diff_shipment_tracking_number_outbound))\n",
    "print(\"There are {} records that don't match\".format(shipment_tracking_number_outbound_not_match))\n",
    "print(\"Null values in SQL: {} null values\".format(rds_df1_drop['shipment_tracking_number_outbound'].isnull().sum()))\n",
    "print(\"Null values in Redshift: {} null values\".format(red_df1_drop['shipment_tracking_number_outbound'].isnull().sum()))"
   ]
  },
  {
   "cell_type": "markdown",
   "id": "2bd7cafb",
   "metadata": {},
   "source": [
    "### 12- shipment_id_inbound"
   ]
  },
  {
   "cell_type": "code",
   "execution_count": 51,
   "id": "9fc2fb3e",
   "metadata": {},
   "outputs": [],
   "source": [
    "diff_shipment_id_inbound = True if rds_df1_drop['shipment_id_inbound'].compare(red_df1_drop['shipment_id_inbound']).shape[0] == 0 else False\n",
    "shipment_id_inbound_not_match = rds_df1_drop['shipment_id_inbound'].compare(red_df1_drop['shipment_id_inbound']).shape[0]"
   ]
  },
  {
   "cell_type": "code",
   "execution_count": 52,
   "id": "a423d73e",
   "metadata": {},
   "outputs": [
    {
     "name": "stdout",
     "output_type": "stream",
     "text": [
      "Column is the same in both tables? False\n",
      "There are 1 records that don't match\n",
      "Null values in SQL: 265584 null values\n",
      "Null values in Redshift: 265585 null values\n"
     ]
    }
   ],
   "source": [
    "print(\"Column is the same in both tables? {}\".format(diff_shipment_id_inbound))\n",
    "print(\"There are {} records that don't match\".format(shipment_id_inbound_not_match))\n",
    "print(\"Null values in SQL: {} null values\".format(rds_df1_drop['shipment_id_inbound'].isnull().sum()))\n",
    "print(\"Null values in Redshift: {} null values\".format(red_df1_drop['shipment_id_inbound'].isnull().sum()))"
   ]
  },
  {
   "cell_type": "code",
   "execution_count": 53,
   "id": "c754e10f",
   "metadata": {},
   "outputs": [
    {
     "data": {
      "text/html": [
       "<div>\n",
       "<style scoped>\n",
       "    .dataframe tbody tr th:only-of-type {\n",
       "        vertical-align: middle;\n",
       "    }\n",
       "\n",
       "    .dataframe tbody tr th {\n",
       "        vertical-align: top;\n",
       "    }\n",
       "\n",
       "    .dataframe thead th {\n",
       "        text-align: right;\n",
       "    }\n",
       "</style>\n",
       "<table border=\"1\" class=\"dataframe\">\n",
       "  <thead>\n",
       "    <tr style=\"text-align: right;\">\n",
       "      <th></th>\n",
       "      <th>self</th>\n",
       "      <th>other</th>\n",
       "    </tr>\n",
       "    <tr>\n",
       "      <th>bi_shipment_id</th>\n",
       "      <th></th>\n",
       "      <th></th>\n",
       "    </tr>\n",
       "  </thead>\n",
       "  <tbody>\n",
       "    <tr>\n",
       "      <th>51801451928_104703744</th>\n",
       "      <td>104717644.0</td>\n",
       "      <td>NaN</td>\n",
       "    </tr>\n",
       "  </tbody>\n",
       "</table>\n",
       "</div>"
      ],
      "text/plain": [
       "                              self  other\n",
       "bi_shipment_id                           \n",
       "51801451928_104703744  104717644.0    NaN"
      ]
     },
     "execution_count": 53,
     "metadata": {},
     "output_type": "execute_result"
    }
   ],
   "source": [
    "diff_shipment_id_inbound = rds_df1_drop['shipment_id_inbound'].compare(red_df1_drop['shipment_id_inbound'])\n",
    "diff_shipment_id_inbound.head()"
   ]
  },
  {
   "cell_type": "markdown",
   "id": "5cdc407b",
   "metadata": {},
   "source": [
    "### 13- shipment_provider_name_inbound"
   ]
  },
  {
   "cell_type": "code",
   "execution_count": 54,
   "id": "59bce31f",
   "metadata": {},
   "outputs": [],
   "source": [
    "diff_shipment_provider_name_inbound = True if rds_df1_drop['shipment_provider_name_inbound'].compare(red_df1_drop['shipment_provider_name_inbound']).shape[0] == 0 else False\n",
    "shipment_provider_name_inbound_not_match = rds_df1_drop['shipment_provider_name_inbound'].compare(red_df1_drop['shipment_provider_name_inbound']).shape[0]"
   ]
  },
  {
   "cell_type": "code",
   "execution_count": 55,
   "id": "a2bd63b6",
   "metadata": {},
   "outputs": [
    {
     "name": "stdout",
     "output_type": "stream",
     "text": [
      "Column is the same in both tables? False\n",
      "There are 1 records that don't match\n",
      "Null values in SQL: 265584 null values\n",
      "Null values in Redshift: 265585 null values\n"
     ]
    }
   ],
   "source": [
    "print(\"Column is the same in both tables? {}\".format(diff_shipment_provider_name_inbound))\n",
    "print(\"There are {} records that don't match\".format(shipment_provider_name_inbound_not_match))\n",
    "print(\"Null values in SQL: {} null values\".format(rds_df1_drop['shipment_provider_name_inbound'].isnull().sum()))\n",
    "print(\"Null values in Redshift: {} null values\".format(red_df1_drop['shipment_provider_name_inbound'].isnull().sum()))"
   ]
  },
  {
   "cell_type": "code",
   "execution_count": 78,
   "id": "f561cd0f",
   "metadata": {},
   "outputs": [
    {
     "data": {
      "text/html": [
       "<div>\n",
       "<style scoped>\n",
       "    .dataframe tbody tr th:only-of-type {\n",
       "        vertical-align: middle;\n",
       "    }\n",
       "\n",
       "    .dataframe tbody tr th {\n",
       "        vertical-align: top;\n",
       "    }\n",
       "\n",
       "    .dataframe thead th {\n",
       "        text-align: right;\n",
       "    }\n",
       "</style>\n",
       "<table border=\"1\" class=\"dataframe\">\n",
       "  <thead>\n",
       "    <tr style=\"text-align: right;\">\n",
       "      <th></th>\n",
       "      <th>self</th>\n",
       "      <th>other</th>\n",
       "    </tr>\n",
       "    <tr>\n",
       "      <th>bi_shipment_id</th>\n",
       "      <th></th>\n",
       "      <th></th>\n",
       "    </tr>\n",
       "  </thead>\n",
       "  <tbody>\n",
       "    <tr>\n",
       "      <th>51801451928_104703744</th>\n",
       "      <td>UPS</td>\n",
       "      <td>None</td>\n",
       "    </tr>\n",
       "  </tbody>\n",
       "</table>\n",
       "</div>"
      ],
      "text/plain": [
       "                      self other\n",
       "bi_shipment_id                  \n",
       "51801451928_104703744  UPS  None"
      ]
     },
     "execution_count": 78,
     "metadata": {},
     "output_type": "execute_result"
    }
   ],
   "source": [
    "diff_shipment_provider_name_inbound = rds_df1_drop['shipment_provider_name_inbound'].compare(red_df1_drop['shipment_provider_name_inbound'])\n",
    "diff_shipment_provider_name_inbound.head()"
   ]
  },
  {
   "cell_type": "markdown",
   "id": "1b106a5b",
   "metadata": {},
   "source": [
    "### 14- shipment_level_inbound"
   ]
  },
  {
   "cell_type": "code",
   "execution_count": 57,
   "id": "b9e92d24",
   "metadata": {},
   "outputs": [],
   "source": [
    "diff_shipment_level_inbound = True if rds_df1_drop['shipment_level_inbound'].compare(red_df1_drop['shipment_level_inbound']).shape[0] == 0 else False\n",
    "shipment_level_inbound_not_match = rds_df1_drop['shipment_level_inbound'].compare(red_df1_drop['shipment_level_inbound']).shape[0]"
   ]
  },
  {
   "cell_type": "code",
   "execution_count": 58,
   "id": "c3d9d3ba",
   "metadata": {},
   "outputs": [
    {
     "name": "stdout",
     "output_type": "stream",
     "text": [
      "Column is the same in both tables? False\n",
      "There are 1 records that don't match\n",
      "Null values in SQL: 265584 null values\n",
      "Null values in Redshift: 265585 null values\n"
     ]
    }
   ],
   "source": [
    "print(\"Column is the same in both tables? {}\".format(diff_shipment_level_inbound))\n",
    "print(\"There are {} records that don't match\".format(shipment_level_inbound_not_match))\n",
    "print(\"Null values in SQL: {} null values\".format(rds_df1_drop['shipment_level_inbound'].isnull().sum()))\n",
    "print(\"Null values in Redshift: {} null values\".format(red_df1_drop['shipment_level_inbound'].isnull().sum()))"
   ]
  },
  {
   "cell_type": "code",
   "execution_count": 59,
   "id": "51f81361",
   "metadata": {},
   "outputs": [
    {
     "data": {
      "text/html": [
       "<div>\n",
       "<style scoped>\n",
       "    .dataframe tbody tr th:only-of-type {\n",
       "        vertical-align: middle;\n",
       "    }\n",
       "\n",
       "    .dataframe tbody tr th {\n",
       "        vertical-align: top;\n",
       "    }\n",
       "\n",
       "    .dataframe thead th {\n",
       "        text-align: right;\n",
       "    }\n",
       "</style>\n",
       "<table border=\"1\" class=\"dataframe\">\n",
       "  <thead>\n",
       "    <tr style=\"text-align: right;\">\n",
       "      <th></th>\n",
       "      <th>self</th>\n",
       "      <th>other</th>\n",
       "    </tr>\n",
       "    <tr>\n",
       "      <th>bi_shipment_id</th>\n",
       "      <th></th>\n",
       "      <th></th>\n",
       "    </tr>\n",
       "  </thead>\n",
       "  <tbody>\n",
       "    <tr>\n",
       "      <th>51801451928_104703744</th>\n",
       "      <td>UPS Next Day Air</td>\n",
       "      <td>None</td>\n",
       "    </tr>\n",
       "  </tbody>\n",
       "</table>\n",
       "</div>"
      ],
      "text/plain": [
       "                                   self other\n",
       "bi_shipment_id                               \n",
       "51801451928_104703744  UPS Next Day Air  None"
      ]
     },
     "execution_count": 59,
     "metadata": {},
     "output_type": "execute_result"
    }
   ],
   "source": [
    "diff_shipment_level_inbound = rds_df1_drop['shipment_level_inbound'].compare(red_df1_drop['shipment_level_inbound'])\n",
    "diff_shipment_level_inbound.head()"
   ]
  },
  {
   "cell_type": "markdown",
   "id": "21fa208f",
   "metadata": {},
   "source": [
    "### 15- shipment_tracking_number_inbound"
   ]
  },
  {
   "cell_type": "code",
   "execution_count": 60,
   "id": "b585c9a1",
   "metadata": {},
   "outputs": [],
   "source": [
    "diff_shipment_tracking_number_inbound = True if rds_df1_drop['shipment_tracking_number_inbound'].compare(red_df1_drop['shipment_tracking_number_inbound']).shape[0] == 0 else False\n",
    "shipment_tracking_number_inbound_not_match = rds_df1_drop['shipment_tracking_number_inbound'].compare(red_df1_drop['shipment_tracking_number_inbound']).shape[0]"
   ]
  },
  {
   "cell_type": "code",
   "execution_count": 61,
   "id": "37c6d114",
   "metadata": {},
   "outputs": [
    {
     "name": "stdout",
     "output_type": "stream",
     "text": [
      "Column is the same in both tables? False\n",
      "There are 1 records that don't match\n",
      "Null values in SQL: 265584 null values\n",
      "Null values in Redshift: 265585 null values\n"
     ]
    }
   ],
   "source": [
    "print(\"Column is the same in both tables? {}\".format(diff_shipment_tracking_number_inbound))\n",
    "print(\"There are {} records that don't match\".format(shipment_tracking_number_inbound_not_match))\n",
    "print(\"Null values in SQL: {} null values\".format(rds_df1_drop['shipment_tracking_number_inbound'].isnull().sum()))\n",
    "print(\"Null values in Redshift: {} null values\".format(red_df1_drop['shipment_tracking_number_inbound'].isnull().sum()))"
   ]
  },
  {
   "cell_type": "code",
   "execution_count": 62,
   "id": "056e5ea0",
   "metadata": {},
   "outputs": [
    {
     "data": {
      "text/html": [
       "<div>\n",
       "<style scoped>\n",
       "    .dataframe tbody tr th:only-of-type {\n",
       "        vertical-align: middle;\n",
       "    }\n",
       "\n",
       "    .dataframe tbody tr th {\n",
       "        vertical-align: top;\n",
       "    }\n",
       "\n",
       "    .dataframe thead th {\n",
       "        text-align: right;\n",
       "    }\n",
       "</style>\n",
       "<table border=\"1\" class=\"dataframe\">\n",
       "  <thead>\n",
       "    <tr style=\"text-align: right;\">\n",
       "      <th></th>\n",
       "      <th>self</th>\n",
       "      <th>other</th>\n",
       "    </tr>\n",
       "    <tr>\n",
       "      <th>bi_shipment_id</th>\n",
       "      <th></th>\n",
       "      <th></th>\n",
       "    </tr>\n",
       "  </thead>\n",
       "  <tbody>\n",
       "    <tr>\n",
       "      <th>51801451928_104703744</th>\n",
       "      <td>1ZR866X7Y008608226</td>\n",
       "      <td>None</td>\n",
       "    </tr>\n",
       "  </tbody>\n",
       "</table>\n",
       "</div>"
      ],
      "text/plain": [
       "                                     self other\n",
       "bi_shipment_id                                 \n",
       "51801451928_104703744  1ZR866X7Y008608226  None"
      ]
     },
     "execution_count": 62,
     "metadata": {},
     "output_type": "execute_result"
    }
   ],
   "source": [
    "diff_shipment_tracking_number_inbound = rds_df1_drop['shipment_tracking_number_inbound'].compare(red_df1_drop['shipment_tracking_number_inbound'])\n",
    "diff_shipment_tracking_number_inbound.head()"
   ]
  },
  {
   "cell_type": "markdown",
   "id": "2a8e4cdc",
   "metadata": {},
   "source": [
    "### 16- shipment_pickup_time_outbound"
   ]
  },
  {
   "cell_type": "code",
   "execution_count": 63,
   "id": "78365bd3",
   "metadata": {},
   "outputs": [],
   "source": [
    "diff_shipment_pickup_time_outbound = True if rds_df1_drop['shipment_pickup_time_outbound'].compare(red_df1_drop['shipment_pickup_time_outbound']).shape[0] == 0 else False\n",
    "shipment_pickup_time_outbound_not_match = rds_df1_drop['shipment_pickup_time_outbound'].compare(red_df1_drop['shipment_pickup_time_outbound']).shape[0]"
   ]
  },
  {
   "cell_type": "code",
   "execution_count": 64,
   "id": "cbb93302",
   "metadata": {},
   "outputs": [
    {
     "name": "stdout",
     "output_type": "stream",
     "text": [
      "Column is the same in both tables? True\n",
      "There are 0 records that don't match\n",
      "Null values in SQL: 271020 null values\n",
      "Null values in Redshift: 271020 null values\n"
     ]
    }
   ],
   "source": [
    "print(\"Column is the same in both tables? {}\".format(diff_shipment_pickup_time_outbound))\n",
    "print(\"There are {} records that don't match\".format(shipment_pickup_time_outbound_not_match))\n",
    "print(\"Null values in SQL: {} null values\".format(rds_df1_drop['shipment_pickup_time_outbound'].isnull().sum()))\n",
    "print(\"Null values in Redshift: {} null values\".format(red_df1_drop['shipment_pickup_time_outbound'].isnull().sum()))"
   ]
  },
  {
   "cell_type": "markdown",
   "id": "0e15db4e",
   "metadata": {},
   "source": [
    "### 17- shipment_delivery_time_outbound"
   ]
  },
  {
   "cell_type": "code",
   "execution_count": 65,
   "id": "e38a0cbe",
   "metadata": {},
   "outputs": [],
   "source": [
    "diff_shipment_delivery_time_outbound = True if rds_df1_drop['shipment_delivery_time_outbound'].compare(red_df1_drop['shipment_delivery_time_outbound']).shape[0] == 0 else False\n",
    "shipment_delivery_time_outbound_not_match = rds_df1_drop['shipment_delivery_time_outbound'].compare(red_df1_drop['shipment_delivery_time_outbound']).shape[0]"
   ]
  },
  {
   "cell_type": "code",
   "execution_count": 66,
   "id": "b52b8815",
   "metadata": {},
   "outputs": [
    {
     "name": "stdout",
     "output_type": "stream",
     "text": [
      "Column is the same in both tables? True\n",
      "There are 0 records that don't match\n",
      "Null values in SQL: 324639 null values\n",
      "Null values in Redshift: 324639 null values\n"
     ]
    }
   ],
   "source": [
    "print(\"Column is the same in both tables? {}\".format(diff_shipment_delivery_time_outbound))\n",
    "print(\"There are {} records that don't match\".format(shipment_delivery_time_outbound_not_match))\n",
    "print(\"Null values in SQL: {} null values\".format(rds_df1_drop['shipment_delivery_time_outbound'].isnull().sum()))\n",
    "print(\"Null values in Redshift: {} null values\".format(red_df1_drop['shipment_delivery_time_outbound'].isnull().sum()))"
   ]
  },
  {
   "cell_type": "markdown",
   "id": "68c8ca12",
   "metadata": {},
   "source": [
    "### 18- shipment_pickup_time_inbound"
   ]
  },
  {
   "cell_type": "code",
   "execution_count": 67,
   "id": "4386c463",
   "metadata": {},
   "outputs": [],
   "source": [
    "diff_shipment_pickup_time_inbound = True if rds_df1_drop['shipment_pickup_time_inbound'].compare(red_df1_drop['shipment_pickup_time_inbound']).shape[0] == 0 else False\n",
    "shipment_pickup_time_inbound_not_match = rds_df1_drop['shipment_pickup_time_inbound'].compare(red_df1_drop['shipment_pickup_time_inbound']).shape[0]"
   ]
  },
  {
   "cell_type": "code",
   "execution_count": 68,
   "id": "ef5ae698",
   "metadata": {},
   "outputs": [
    {
     "name": "stdout",
     "output_type": "stream",
     "text": [
      "Column is the same in both tables? False\n",
      "There are 526 records that don't match\n",
      "Null values in SQL: 840703 null values\n",
      "Null values in Redshift: 841229 null values\n"
     ]
    }
   ],
   "source": [
    "print(\"Column is the same in both tables? {}\".format(diff_shipment_pickup_time_inbound))\n",
    "print(\"There are {} records that don't match\".format(shipment_pickup_time_inbound_not_match))\n",
    "print(\"Null values in SQL: {} null values\".format(rds_df1_drop['shipment_pickup_time_inbound'].isnull().sum()))\n",
    "print(\"Null values in Redshift: {} null values\".format(red_df1_drop['shipment_pickup_time_inbound'].isnull().sum()))"
   ]
  },
  {
   "cell_type": "code",
   "execution_count": 69,
   "id": "18ad24c7",
   "metadata": {},
   "outputs": [
    {
     "data": {
      "text/html": [
       "<div>\n",
       "<style scoped>\n",
       "    .dataframe tbody tr th:only-of-type {\n",
       "        vertical-align: middle;\n",
       "    }\n",
       "\n",
       "    .dataframe tbody tr th {\n",
       "        vertical-align: top;\n",
       "    }\n",
       "\n",
       "    .dataframe thead th {\n",
       "        text-align: right;\n",
       "    }\n",
       "</style>\n",
       "<table border=\"1\" class=\"dataframe\">\n",
       "  <thead>\n",
       "    <tr style=\"text-align: right;\">\n",
       "      <th></th>\n",
       "      <th>self</th>\n",
       "      <th>other</th>\n",
       "    </tr>\n",
       "    <tr>\n",
       "      <th>bi_shipment_id</th>\n",
       "      <th></th>\n",
       "      <th></th>\n",
       "    </tr>\n",
       "  </thead>\n",
       "  <tbody>\n",
       "    <tr>\n",
       "      <th>106806610402_104813355</th>\n",
       "      <td>2022-01-20 18:58:53</td>\n",
       "      <td>NaT</td>\n",
       "    </tr>\n",
       "    <tr>\n",
       "      <th>114060862395_104663912</th>\n",
       "      <td>2022-01-20 18:58:53</td>\n",
       "      <td>NaT</td>\n",
       "    </tr>\n",
       "    <tr>\n",
       "      <th>114970909296_104585626</th>\n",
       "      <td>2022-01-18 23:23:57</td>\n",
       "      <td>NaT</td>\n",
       "    </tr>\n",
       "    <tr>\n",
       "      <th>116452950273_104686885</th>\n",
       "      <td>2022-01-20 19:11:26</td>\n",
       "      <td>NaT</td>\n",
       "    </tr>\n",
       "    <tr>\n",
       "      <th>117607334386_104874845</th>\n",
       "      <td>2022-01-20 18:46:42</td>\n",
       "      <td>NaT</td>\n",
       "    </tr>\n",
       "  </tbody>\n",
       "</table>\n",
       "</div>"
      ],
      "text/plain": [
       "                                      self other\n",
       "bi_shipment_id                                  \n",
       "106806610402_104813355 2022-01-20 18:58:53   NaT\n",
       "114060862395_104663912 2022-01-20 18:58:53   NaT\n",
       "114970909296_104585626 2022-01-18 23:23:57   NaT\n",
       "116452950273_104686885 2022-01-20 19:11:26   NaT\n",
       "117607334386_104874845 2022-01-20 18:46:42   NaT"
      ]
     },
     "execution_count": 69,
     "metadata": {},
     "output_type": "execute_result"
    }
   ],
   "source": [
    "diff_shipment_pickup_time_inbound = rds_df1_drop['shipment_pickup_time_inbound'].compare(red_df1_drop['shipment_pickup_time_inbound'])\n",
    "diff_shipment_pickup_time_inbound.head()"
   ]
  },
  {
   "cell_type": "markdown",
   "id": "6015f249",
   "metadata": {},
   "source": [
    "### 19- shipment_delivery_time_inbound"
   ]
  },
  {
   "cell_type": "code",
   "execution_count": 70,
   "id": "7fd0ad14",
   "metadata": {},
   "outputs": [],
   "source": [
    "diff_shipment_delivery_time_inbound = True if rds_df1_drop['shipment_delivery_time_inbound'].compare(red_df1_drop['shipment_delivery_time_inbound']).shape[0] == 0 else False\n",
    "shipment_delivery_time_inbound_not_match = rds_df1_drop['shipment_delivery_time_inbound'].compare(red_df1_drop['shipment_delivery_time_inbound']).shape[0]"
   ]
  },
  {
   "cell_type": "code",
   "execution_count": 71,
   "id": "29d7954d",
   "metadata": {},
   "outputs": [
    {
     "name": "stdout",
     "output_type": "stream",
     "text": [
      "Column is the same in both tables? False\n",
      "There are 133 records that don't match\n",
      "Null values in SQL: 872364 null values\n",
      "Null values in Redshift: 872497 null values\n"
     ]
    }
   ],
   "source": [
    "print(\"Column is the same in both tables? {}\".format(diff_shipment_delivery_time_inbound))\n",
    "print(\"There are {} records that don't match\".format(shipment_delivery_time_inbound_not_match))\n",
    "print(\"Null values in SQL: {} null values\".format(rds_df1_drop['shipment_delivery_time_inbound'].isnull().sum()))\n",
    "print(\"Null values in Redshift: {} null values\".format(red_df1_drop['shipment_delivery_time_inbound'].isnull().sum()))"
   ]
  },
  {
   "cell_type": "code",
   "execution_count": 72,
   "id": "ff1a6a41",
   "metadata": {},
   "outputs": [
    {
     "data": {
      "text/html": [
       "<div>\n",
       "<style scoped>\n",
       "    .dataframe tbody tr th:only-of-type {\n",
       "        vertical-align: middle;\n",
       "    }\n",
       "\n",
       "    .dataframe tbody tr th {\n",
       "        vertical-align: top;\n",
       "    }\n",
       "\n",
       "    .dataframe thead th {\n",
       "        text-align: right;\n",
       "    }\n",
       "</style>\n",
       "<table border=\"1\" class=\"dataframe\">\n",
       "  <thead>\n",
       "    <tr style=\"text-align: right;\">\n",
       "      <th></th>\n",
       "      <th>self</th>\n",
       "      <th>other</th>\n",
       "    </tr>\n",
       "    <tr>\n",
       "      <th>bi_shipment_id</th>\n",
       "      <th></th>\n",
       "      <th></th>\n",
       "    </tr>\n",
       "  </thead>\n",
       "  <tbody>\n",
       "    <tr>\n",
       "      <th>102921255159_104583071</th>\n",
       "      <td>2022-01-20 09:36:00</td>\n",
       "      <td>NaT</td>\n",
       "    </tr>\n",
       "    <tr>\n",
       "      <th>107534760737_104693564</th>\n",
       "      <td>2022-01-20 09:36:00</td>\n",
       "      <td>NaT</td>\n",
       "    </tr>\n",
       "    <tr>\n",
       "      <th>110127388443_104584699</th>\n",
       "      <td>2022-01-20 09:36:00</td>\n",
       "      <td>NaT</td>\n",
       "    </tr>\n",
       "    <tr>\n",
       "      <th>114970909296_104585626</th>\n",
       "      <td>2022-01-20 09:36:00</td>\n",
       "      <td>NaT</td>\n",
       "    </tr>\n",
       "    <tr>\n",
       "      <th>126764492683_104706918</th>\n",
       "      <td>2022-01-20 09:36:00</td>\n",
       "      <td>NaT</td>\n",
       "    </tr>\n",
       "  </tbody>\n",
       "</table>\n",
       "</div>"
      ],
      "text/plain": [
       "                                      self other\n",
       "bi_shipment_id                                  \n",
       "102921255159_104583071 2022-01-20 09:36:00   NaT\n",
       "107534760737_104693564 2022-01-20 09:36:00   NaT\n",
       "110127388443_104584699 2022-01-20 09:36:00   NaT\n",
       "114970909296_104585626 2022-01-20 09:36:00   NaT\n",
       "126764492683_104706918 2022-01-20 09:36:00   NaT"
      ]
     },
     "execution_count": 72,
     "metadata": {},
     "output_type": "execute_result"
    }
   ],
   "source": [
    "diff_shipment_delivery_time_inbound = rds_df1_drop['shipment_delivery_time_inbound'].compare(red_df1_drop['shipment_delivery_time_inbound'])\n",
    "diff_shipment_delivery_time_inbound.head()"
   ]
  },
  {
   "cell_type": "markdown",
   "id": "48f1f42d",
   "metadata": {},
   "source": [
    "### 20- order_created_at_outbound"
   ]
  },
  {
   "cell_type": "code",
   "execution_count": 73,
   "id": "a724bd69",
   "metadata": {},
   "outputs": [],
   "source": [
    "diff_order_created_at_outbound = True if rds_df1_drop['order_created_at_outbound'].compare(red_df1_drop['order_created_at_outbound']).shape[0] == 0 else False\n",
    "order_created_at_outbound_not_match = rds_df1_drop['order_created_at_outbound'].compare(red_df1_drop['order_created_at_outbound']).shape[0]"
   ]
  },
  {
   "cell_type": "code",
   "execution_count": 74,
   "id": "efebfd70",
   "metadata": {},
   "outputs": [
    {
     "name": "stdout",
     "output_type": "stream",
     "text": [
      "Column is the same in both tables? True\n",
      "There are 0 records that don't match\n",
      "Null values in SQL: 0 null values\n",
      "Null values in Redshift: 0 null values\n"
     ]
    }
   ],
   "source": [
    "print(\"Column is the same in both tables? {}\".format(diff_order_created_at_outbound))\n",
    "print(\"There are {} records that don't match\".format(order_created_at_outbound_not_match))\n",
    "print(\"Null values in SQL: {} null values\".format(rds_df1_drop['order_created_at_outbound'].isnull().sum()))\n",
    "print(\"Null values in Redshift: {} null values\".format(red_df1_drop['order_created_at_outbound'].isnull().sum()))"
   ]
  },
  {
   "cell_type": "markdown",
   "id": "9a042da2",
   "metadata": {},
   "source": [
    "### 21- order_created_at_inbound"
   ]
  },
  {
   "cell_type": "code",
   "execution_count": 75,
   "id": "1fa4c9ad",
   "metadata": {},
   "outputs": [],
   "source": [
    "diff_order_created_at_inbound = True if rds_df1_drop['order_created_at_inbound'].compare(red_df1_drop['order_created_at_inbound']).shape[0] == 0 else False\n",
    "order_created_at_inbound_not_match = rds_df1_drop['order_created_at_inbound'].compare(red_df1_drop['order_created_at_inbound']).shape[0]"
   ]
  },
  {
   "cell_type": "code",
   "execution_count": 76,
   "id": "f4f293db",
   "metadata": {},
   "outputs": [
    {
     "name": "stdout",
     "output_type": "stream",
     "text": [
      "Column is the same in both tables? False\n",
      "There are 1 records that don't match\n",
      "Null values in SQL: 265584 null values\n",
      "Null values in Redshift: 265585 null values\n"
     ]
    }
   ],
   "source": [
    "print(\"Column is the same in both tables? {}\".format(diff_order_created_at_inbound))\n",
    "print(\"There are {} records that don't match\".format(order_created_at_inbound_not_match))\n",
    "print(\"Null values in SQL: {} null values\".format(rds_df1_drop['order_created_at_inbound'].isnull().sum()))\n",
    "print(\"Null values in Redshift: {} null values\".format(red_df1_drop['order_created_at_inbound'].isnull().sum()))"
   ]
  },
  {
   "cell_type": "code",
   "execution_count": 77,
   "id": "f02b175f",
   "metadata": {},
   "outputs": [
    {
     "data": {
      "text/html": [
       "<div>\n",
       "<style scoped>\n",
       "    .dataframe tbody tr th:only-of-type {\n",
       "        vertical-align: middle;\n",
       "    }\n",
       "\n",
       "    .dataframe tbody tr th {\n",
       "        vertical-align: top;\n",
       "    }\n",
       "\n",
       "    .dataframe thead th {\n",
       "        text-align: right;\n",
       "    }\n",
       "</style>\n",
       "<table border=\"1\" class=\"dataframe\">\n",
       "  <thead>\n",
       "    <tr style=\"text-align: right;\">\n",
       "      <th></th>\n",
       "      <th>self</th>\n",
       "      <th>other</th>\n",
       "    </tr>\n",
       "    <tr>\n",
       "      <th>bi_shipment_id</th>\n",
       "      <th></th>\n",
       "      <th></th>\n",
       "    </tr>\n",
       "  </thead>\n",
       "  <tbody>\n",
       "    <tr>\n",
       "      <th>51801451928_104703744</th>\n",
       "      <td>2022-01-11 20:37:57.907</td>\n",
       "      <td>NaT</td>\n",
       "    </tr>\n",
       "  </tbody>\n",
       "</table>\n",
       "</div>"
      ],
      "text/plain": [
       "                                         self other\n",
       "bi_shipment_id                                     \n",
       "51801451928_104703744 2022-01-11 20:37:57.907   NaT"
      ]
     },
     "execution_count": 77,
     "metadata": {},
     "output_type": "execute_result"
    }
   ],
   "source": [
    "diff_order_created_at_inbound = rds_df1_drop['order_created_at_inbound'].compare(red_df1_drop['order_created_at_inbound'])\n",
    "diff_order_created_at_inbound.head()"
   ]
  },
  {
   "cell_type": "code",
   "execution_count": null,
   "id": "835ee87a",
   "metadata": {},
   "outputs": [],
   "source": []
  },
  {
   "cell_type": "code",
   "execution_count": null,
   "id": "98a637a5",
   "metadata": {},
   "outputs": [],
   "source": []
  },
  {
   "cell_type": "code",
   "execution_count": null,
   "id": "63530a98",
   "metadata": {},
   "outputs": [],
   "source": []
  }
 ],
 "metadata": {
  "kernelspec": {
   "display_name": "Python 3",
   "language": "python",
   "name": "python3"
  },
  "language_info": {
   "codemirror_mode": {
    "name": "ipython",
    "version": 3
   },
   "file_extension": ".py",
   "mimetype": "text/x-python",
   "name": "python",
   "nbconvert_exporter": "python",
   "pygments_lexer": "ipython3",
   "version": "3.8.8"
  }
 },
 "nbformat": 4,
 "nbformat_minor": 5
}
